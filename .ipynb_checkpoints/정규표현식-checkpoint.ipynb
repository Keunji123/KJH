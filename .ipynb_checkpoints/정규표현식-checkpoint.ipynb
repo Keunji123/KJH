{
 "cells": [
  {
   "cell_type": "code",
   "execution_count": 1,
   "id": "08bf7dba",
   "metadata": {},
   "outputs": [],
   "source": [
    "import re"
   ]
  },
  {
   "cell_type": "markdown",
   "id": "cca6b483",
   "metadata": {},
   "source": [
    "## 정규식\n",
    "* 특정 문자의 집합을 (컴퓨터과학자가)알기 쉽게 표현한 것\n",
    "1. 숫자 [0-9] : 숫자 전체 (단 , 1자리만)\n",
    "1. 숫자 [0-9]+ : 숫자 전체 (자릿수 제한 없음)\n",
    "1. 문자 [a-z] : 영어 소문자 전체 (단, 한 문자만)\n",
    "1. 문자 [a-z]+ : 영어 소문자 전체 (문자수 제한 없음)\n",
    "1. 문자 [A-Z] : 영어 대문자 전체 (단, 한 문자만)\n",
    "1. 문자 [A-Z]+ : 영어 대문자 전체 (문자수 제한 없음)\n",
    "1. 문자 [a-z|A-Z] : 알파벳 모두\n",
    "1. 문자 [ㄱ-ㅎ] : 한글 자음 전체 (단, 한 문자만)\n",
    "1. 문자 [ㄱ-ㅎ]+ : 한글 자음 전체 (문자수 제한 없음)\n",
    "1. 문자 [ㅏ-ㅣ] : 한글 모음 전체 (단, 한 문자만)\n",
    "1. 문자 [ㅏ-ㅣ]+ : 한글 모음 전체 (문자수 제한 없음)\n",
    "1. 문자 [가-힣] : 한글 전체 (단, 한 문자만)\n",
    "1. 문자 [가-힣]+ : 한글 전체 (문자수 제한 없음)\n",
    "1. 문자 [a-z|가-힣] : 영어 소문자, 또는 한글 전체(이런 식으로 |를 이용해 or 표현 가능)\n",
    "1. 특문 []+: 띄어쓰기 (문자수 제한 없음 , 다른 특수문자 조합 가능)(대괄호 안에다가 찾고싶은 특수문자 넣기)"
   ]
  },
  {
   "cell_type": "markdown",
   "id": "390f1c0f",
   "metadata": {},
   "source": [
    "* \\d - 숫자와 매치, [0-9]와 동일한 표현식이다.\n",
    "* \\D - 숫자가 아닌 것과 매치, [^0-9]와 동일한 표현식이다.\n",
    "* \\s - whitespace 문자와 매치, [ \\t\\n\\r\\f\\v]와 동일한 표현식이다. 맨 앞의 빈 칸은 공백문자(space)를 의미한다.\n",
    "* \\S - whitespace 문자가 아닌 것과 매치, [^ \\t\\n\\r\\f\\v]와 동일한 표현식이다.\n",
    "* \\w - 문자+숫자(alphanumeric)와 매치, [a-zA-Z0-9_]와 동일한 표현식이다.\n",
    "* \\W - 문자+숫자(alphanumeric)가 아닌 문자와 매치, [^a-zA-Z0-9_]와 동일한 표현식이다."
   ]
  },
  {
   "cell_type": "code",
   "execution_count": 2,
   "id": "e696f274",
   "metadata": {},
   "outputs": [],
   "source": [
    "# 정규식 중 대괄호 ([]) 인 문자클래스 안에 ^ 메타문자를 사용하면 not 의 의미가 된다. "
   ]
  },
  {
   "cell_type": "code",
   "execution_count": 8,
   "id": "7e459d4b",
   "metadata": {},
   "outputs": [
    {
     "data": {
      "text/plain": [
       "'가'"
      ]
     },
     "execution_count": 8,
     "metadata": {},
     "output_type": "execute_result"
    }
   ],
   "source": [
    "re.search('[^0-9]', '012가5rk6833').group()"
   ]
  },
  {
   "cell_type": "code",
   "execution_count": 9,
   "id": "5b6cc2be",
   "metadata": {},
   "outputs": [
    {
     "data": {
      "text/plain": [
       "'\\t'"
      ]
     },
     "execution_count": 9,
     "metadata": {},
     "output_type": "execute_result"
    }
   ],
   "source": [
    "re.search('\\s', '012가\\t833').group()"
   ]
  },
  {
   "cell_type": "code",
   "execution_count": 16,
   "id": "f8468f19",
   "metadata": {},
   "outputs": [
    {
     "data": {
      "text/plain": [
       "['**-', '**']"
      ]
     },
     "execution_count": 16,
     "metadata": {},
     "output_type": "execute_result"
    }
   ],
   "source": [
    "re.findall('\\W+', '0123**-456332**')"
   ]
  },
  {
   "cell_type": "code",
   "execution_count": 20,
   "id": "11fb0270",
   "metadata": {},
   "outputs": [
    {
     "data": {
      "text/plain": [
       "['1괅2', '1!2', '112', '1.2']"
      ]
     },
     "execution_count": 20,
     "metadata": {},
     "output_type": "execute_result"
    }
   ],
   "source": [
    "# dot은 줄바꿈인 \\n 을 제외한 모든 문자다.\n",
    "re.findall('1.2', 'sdfawf1괅2+331!2ㄱ112100021.2')"
   ]
  },
  {
   "cell_type": "code",
   "execution_count": 21,
   "id": "a56e15b9",
   "metadata": {},
   "outputs": [
    {
     "data": {
      "text/plain": [
       "['1.2']"
      ]
     },
     "execution_count": 21,
     "metadata": {},
     "output_type": "execute_result"
    }
   ],
   "source": [
    "# . 자체를 찾으려면 아래와 같이 하면 된다.\n",
    "re.findall('1[.]2', 'sdfawf1괅2+331!2ㄱ112100021.2')"
   ]
  },
  {
   "cell_type": "code",
   "execution_count": 25,
   "id": "ff01dfb2",
   "metadata": {},
   "outputs": [
    {
     "data": {
      "text/plain": [
       "['\\n']"
      ]
     },
     "execution_count": 25,
     "metadata": {},
     "output_type": "execute_result"
    }
   ],
   "source": [
    "# 그러면 이런 것도 될까?\n",
    "re.findall('[\\s]', '0123**-456332**\\n')\n",
    "# 이는 생각대로 작동하지 않는다. 그냥 위의 방식과 동일하게 작동한다. "
   ]
  },
  {
   "cell_type": "code",
   "execution_count": null,
   "id": "89f9e430",
   "metadata": {},
   "outputs": [],
   "source": []
  },
  {
   "cell_type": "code",
   "execution_count": 26,
   "id": "765c19e9",
   "metadata": {},
   "outputs": [
    {
     "data": {
      "text/plain": [
       "['a2', 'a2', 'a2', 'ac2', 'accccc2']"
      ]
     },
     "execution_count": 26,
     "metadata": {},
     "output_type": "execute_result"
    }
   ],
   "source": [
    "# 반복 *\n",
    "# 반복 * 은 해당 문자가 0번부터 무한번..까지 반복되는 것을 찾아준다.\n",
    "re.findall('ac*2','a2a2aa2asoidjios2ac2accccc2acccbcc2')"
   ]
  },
  {
   "cell_type": "code",
   "execution_count": 27,
   "id": "43a8436e",
   "metadata": {},
   "outputs": [
    {
     "data": {
      "text/plain": [
       "['ac2', 'accccc2']"
      ]
     },
     "execution_count": 27,
     "metadata": {},
     "output_type": "execute_result"
    }
   ],
   "source": [
    "# 반복 +\n",
    "# 반복 + 는 해당 문자가 최소 한번 이상 반복될 때 사용한다. \n",
    "re.findall('ac+2', 'a2a2aa2asoidjios2ac2accccc2acccbcc2')"
   ]
  },
  {
   "cell_type": "code",
   "execution_count": null,
   "id": "f36b335e",
   "metadata": {},
   "outputs": [],
   "source": []
  }
 ],
 "metadata": {
  "kernelspec": {
   "display_name": "Python 3 (ipykernel)",
   "language": "python",
   "name": "python3"
  },
  "language_info": {
   "codemirror_mode": {
    "name": "ipython",
    "version": 3
   },
   "file_extension": ".py",
   "mimetype": "text/x-python",
   "name": "python",
   "nbconvert_exporter": "python",
   "pygments_lexer": "ipython3",
   "version": "3.9.13"
  }
 },
 "nbformat": 4,
 "nbformat_minor": 5
}
