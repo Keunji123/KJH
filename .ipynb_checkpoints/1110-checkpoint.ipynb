{
 "cells": [
  {
   "cell_type": "markdown",
   "id": "e3991543",
   "metadata": {},
   "source": [
    "## 넘파이 패키지 이용하기\n",
    "* 배열 또는 벡터 계산을 위한 패키지\n",
    "* ndarray 자료형을 이용.\n",
    "* array = 리스트와 같은 개체 중 하나, 어레이는 배열 전체를 말한다. 파이썬은 배열이 없지만, 넘파이는 C로 돌아간다고 한다.\n",
    "* array([1, 2, 3, 6]) 이와 같이 표시한다.\n",
    "<br><br>\n",
    "* 배열 생성 : arr = np.randam.randin(5, 8) -> (5, 8) 배열이 만들어진다. 랜덤이므로 수는 무작위.\n",
    "* 배열 연산 : 일반 연산자 이용\n",
    "* 단, 행렬곱은 * (성분곱) 대신 arr1.dot(arr2) 이용\n",
    "* 판다스와 넘파이는 인덱싱 하는 순서가 서로 다르므로 주의해야 한다."
   ]
  },
  {
   "cell_type": "markdown",
   "id": "edd62881",
   "metadata": {},
   "source": [
    "## 넘파이 파일 처리\n",
    "* 판다스와는 다른 차이가 있다. \n",
    "* 판다스는 파일로 내보냈을 때 사람이 볼 수 있게끔 보여준다. 하지만 그렇게 하면 처리 속도에서 좋지 않다. 인코딩도 해야되고..\n",
    "* 넘파이는 컴퓨터가 처리하는 방식 그대로 저장한다. (바이너리 형식이어서 판다스의 테이블 파일보다는 경제적이다.)\n",
    "* 하지만 넘파이 파일이 압축을 하지 않기 때문에 용량이 좀 크다.\n",
    "* arr = np.load('filename.npy')\n"
   ]
  },
  {
   "cell_type": "code",
   "execution_count": 1,
   "id": "6db45158",
   "metadata": {},
   "outputs": [],
   "source": [
    "import numpy as np"
   ]
  },
  {
   "cell_type": "code",
   "execution_count": 3,
   "id": "7f8fbc6c",
   "metadata": {},
   "outputs": [],
   "source": [
    "arr = np.array([1, 2, 3, 4, 5, 6])"
   ]
  },
  {
   "cell_type": "code",
   "execution_count": 4,
   "id": "b06693df",
   "metadata": {},
   "outputs": [
    {
     "data": {
      "text/plain": [
       "4"
      ]
     },
     "execution_count": 4,
     "metadata": {},
     "output_type": "execute_result"
    }
   ],
   "source": [
    "arr[3]"
   ]
  },
  {
   "cell_type": "code",
   "execution_count": 7,
   "id": "ca1bee0e",
   "metadata": {},
   "outputs": [
    {
     "data": {
      "text/plain": [
       "array([1, 2, 3, 4, 5])"
      ]
     },
     "execution_count": 7,
     "metadata": {},
     "output_type": "execute_result"
    }
   ],
   "source": [
    "arr[-6:-1]"
   ]
  },
  {
   "cell_type": "code",
   "execution_count": 8,
   "id": "1a9b3a9c",
   "metadata": {},
   "outputs": [
    {
     "data": {
      "text/plain": [
       "array([1, 2, 3, 4, 5])"
      ]
     },
     "execution_count": 8,
     "metadata": {},
     "output_type": "execute_result"
    }
   ],
   "source": [
    "arr[-8:-1]"
   ]
  },
  {
   "cell_type": "code",
   "execution_count": 9,
   "id": "66e79ccd",
   "metadata": {},
   "outputs": [
    {
     "data": {
      "text/plain": [
       "array([1, 2, 3, 4, 5, 6])"
      ]
     },
     "execution_count": 9,
     "metadata": {},
     "output_type": "execute_result"
    }
   ],
   "source": [
    "arr[:99]"
   ]
  },
  {
   "cell_type": "code",
   "execution_count": 10,
   "id": "9576cc6e",
   "metadata": {},
   "outputs": [
    {
     "ename": "IndexError",
     "evalue": "index 99 is out of bounds for axis 0 with size 6",
     "output_type": "error",
     "traceback": [
      "\u001b[1;31m---------------------------------------------------------------------------\u001b[0m",
      "\u001b[1;31mIndexError\u001b[0m                                Traceback (most recent call last)",
      "\u001b[1;32m~\\AppData\\Local\\Temp\\ipykernel_11560\\3136098576.py\u001b[0m in \u001b[0;36m<module>\u001b[1;34m\u001b[0m\n\u001b[1;32m----> 1\u001b[1;33m \u001b[0marr\u001b[0m\u001b[1;33m[\u001b[0m\u001b[1;36m99\u001b[0m\u001b[1;33m]\u001b[0m\u001b[1;33m\u001b[0m\u001b[1;33m\u001b[0m\u001b[0m\n\u001b[0m",
      "\u001b[1;31mIndexError\u001b[0m: index 99 is out of bounds for axis 0 with size 6"
     ]
    }
   ],
   "source": [
    "arr[99]"
   ]
  },
  {
   "cell_type": "markdown",
   "id": "3c553bde",
   "metadata": {},
   "source": [
    "* 인덱싱을 하면 오류가 나는데 슬라이싱을 하면 뜬다! 왜 그럴까?\n",
    "* C 언어의 논리로 동작하기 때문인데..\n",
    "* 파이썬은 할당되지 않은 값은 취급하지 않으나\n",
    "* C 언어에서는 취급을 하게 된다."
   ]
  },
  {
   "cell_type": "code",
   "execution_count": 11,
   "id": "81436620",
   "metadata": {},
   "outputs": [
    {
     "data": {
      "text/plain": [
       "array([ True,  True,  True,  True,  True,  True])"
      ]
     },
     "execution_count": 11,
     "metadata": {},
     "output_type": "execute_result"
    }
   ],
   "source": [
    "# 어레이에서는 각자 값들을 비교하여 하나씩 결과가 나온다.\n",
    "# 어레이는 전체 묶음? 이 별로 의미가 없다. \n",
    "\n",
    "arr[-999:99] == arr"
   ]
  },
  {
   "cell_type": "code",
   "execution_count": 12,
   "id": "b0d04004",
   "metadata": {},
   "outputs": [
    {
     "data": {
      "text/plain": [
       "True"
      ]
     },
     "execution_count": 12,
     "metadata": {},
     "output_type": "execute_result"
    }
   ],
   "source": [
    "[1,2,3] == [1,2,3]"
   ]
  },
  {
   "cell_type": "code",
   "execution_count": 13,
   "id": "566eb583",
   "metadata": {},
   "outputs": [],
   "source": [
    "# 리스트에서는 전체 리스트가 맞는지 한번만 결과가 나온다.\n",
    "\n",
    "list1 = [1,2,3]"
   ]
  },
  {
   "cell_type": "code",
   "execution_count": 14,
   "id": "17f44a7f",
   "metadata": {},
   "outputs": [
    {
     "data": {
      "text/plain": [
       "True"
      ]
     },
     "execution_count": 14,
     "metadata": {},
     "output_type": "execute_result"
    }
   ],
   "source": [
    "list1[:] == list1"
   ]
  },
  {
   "cell_type": "code",
   "execution_count": 16,
   "id": "415cd972",
   "metadata": {},
   "outputs": [
    {
     "data": {
      "text/plain": [
       "True"
      ]
     },
     "execution_count": 16,
     "metadata": {},
     "output_type": "execute_result"
    }
   ],
   "source": [
    "# 어레이에서 전체가 일치하는지 확인하기 위해서는\n",
    "# 리스트를 씌워서 확인하는 방법을 사용할 수 있다.\n",
    "\n",
    "list(arr[-999:99]) == list(arr)"
   ]
  },
  {
   "cell_type": "code",
   "execution_count": 52,
   "id": "d82cd2bc",
   "metadata": {},
   "outputs": [
    {
     "data": {
      "text/plain": [
       "0"
      ]
     },
     "execution_count": 52,
     "metadata": {},
     "output_type": "execute_result"
    }
   ],
   "source": [
    "# 랜덤 어레이 생성.. 이는 인덱싱도 가능하다.\n",
    "\n",
    "np.random.randint([5,8])[0]\n"
   ]
  },
  {
   "cell_type": "code",
   "execution_count": 53,
   "id": "12c5fdaa",
   "metadata": {},
   "outputs": [
    {
     "data": {
      "text/plain": [
       "array([[0, 5],\n",
       "       [0, 5]])"
      ]
     },
     "execution_count": 53,
     "metadata": {},
     "output_type": "execute_result"
    }
   ],
   "source": [
    "np.random.randint([(1,6),(1,6)])"
   ]
  },
  {
   "cell_type": "markdown",
   "id": "a96d9ffc",
   "metadata": {},
   "source": [
    "## 실습 - 주사위 게임 만들기\n",
    "* numpy 패키지를 이용해 주사위 게임 만들기\n",
    "1. 컴퓨터는 두 숫자를 랜덤하게 받아낸다.\n",
    "1. 두 숫자는 육면체 주사위 눈의 그것과 같다.\n",
    "1. 처음에는 사용자에게 값을 알려주지 않고, 첫 번째 주사위가 두 번째 주사위의 눈보다 큰지 물어본다.\n",
    "1. 사용자에게 큰지, 작은지 응답을 받고, 맞췄는지 출력해준다.\n",
    "1. 해당 프로세스를 반복해서 할 수 있도록 한다.(입력에 따라 종료할 수도 있게 한다.)"
   ]
  },
  {
   "cell_type": "code",
   "execution_count": 59,
   "id": "6103113b",
   "metadata": {},
   "outputs": [
    {
     "name": "stdout",
     "output_type": "stream",
     "text": [
      "첫 번째 주사위가 두 번째 주사위의 눈보다 큽니까? Y / N  :  Y\n",
      "틀렸습니다.\n",
      "첫 번째 주사위 :  2\n",
      "두 번째 주사위 :  4\n",
      "\n",
      "다시 하시겠습니까? Y / N : dddddd\n",
      "잘못된 값을 입력했습니다. 종료합니다.\n"
     ]
    }
   ],
   "source": [
    "def 주사위게임():\n",
    "    a = np.random.randint(1,6)\n",
    "    b = np.random.randint(1,6)\n",
    "\n",
    "    ans = input('첫 번째 주사위가 두 번째 주사위의 눈보다 큽니까? Y / N  :  ')\n",
    "\n",
    "    if ans == 'Y':\n",
    "\n",
    "        if a > b:\n",
    "            print('맞았습니다.')\n",
    "            print('첫 번째 주사위 : ', a)\n",
    "            print('두 번째 주사위 : ', b)\n",
    "            print()\n",
    "        else:\n",
    "            print('틀렸습니다.')\n",
    "            print('첫 번째 주사위 : ', a)\n",
    "            print('두 번째 주사위 : ', b)\n",
    "            print()\n",
    "\n",
    "    if ans == 'N':\n",
    "\n",
    "        if a > b:\n",
    "            print('틀렸습니다.')\n",
    "            print('첫 번째 주사위 : ', a)\n",
    "            print('두 번째 주사위 : ', b)\n",
    "            print()\n",
    "        else:\n",
    "            print('맞았습니다.')\n",
    "            print('첫 번째 주사위 : ', a)\n",
    "            print('두 번째 주사위 : ', b)\n",
    "            print()\n",
    "\n",
    "\n",
    "ind = 0          \n",
    "            \n",
    "while ind == 0:\n",
    "    \n",
    "    주사위게임()\n",
    "    \n",
    "    restart = input('다시 하시겠습니까? Y / N : ')  \n",
    "    \n",
    "    if restart == 'Y':\n",
    "        continue\n",
    "        \n",
    "    elif restart == 'N':\n",
    "        print('종료합니다.')\n",
    "        ind += 1\n",
    "        \n",
    "    else:\n",
    "        print('잘못된 값을 입력했습니다. 종료합니다.')\n",
    "        ind += 1\n",
    "        \n",
    "\n",
    "        \n"
   ]
  },
  {
   "cell_type": "code",
   "execution_count": 72,
   "id": "5d06b12c",
   "metadata": {},
   "outputs": [
    {
     "data": {
      "text/plain": [
       "array([1, 6])"
      ]
     },
     "execution_count": 72,
     "metadata": {},
     "output_type": "execute_result"
    }
   ],
   "source": [
    "np.random.randint([6,6]) + 1"
   ]
  },
  {
   "cell_type": "code",
   "execution_count": null,
   "id": "f314c592",
   "metadata": {},
   "outputs": [],
   "source": [
    "def 주사위게임():\n",
    "    a = np.random.randint(1,6)\n",
    "    b = np.random.randint(1,6)\n",
    "\n",
    "    ans = input('첫 번째 주사위가 두 번째 주사위의 눈보다 큽니까? Y / N  :  ')\n",
    "\n",
    "    if ans == 'Y':\n",
    "\n",
    "        if a > b:\n",
    "            print('맞았습니다.')\n",
    "            print('첫 번째 주사위 : ', a)\n",
    "            print('두 번째 주사위 : ', b)\n",
    "            print()\n",
    "        else:\n",
    "            print('틀렸습니다.')\n",
    "            print('첫 번째 주사위 : ', a)\n",
    "            print('두 번째 주사위 : ', b)\n",
    "            print()\n",
    "\n",
    "    if ans == 'N':\n",
    "\n",
    "        if a > b:\n",
    "            print('틀렸습니다.')\n",
    "            print('첫 번째 주사위 : ', a)\n",
    "            print('두 번째 주사위 : ', b)\n",
    "            print()\n",
    "        else:\n",
    "            print('맞았습니다.')\n",
    "            print('첫 번째 주사위 : ', a)\n",
    "            print('두 번째 주사위 : ', b)\n",
    "            print()\n",
    "\n",
    "\n",
    "ind = 0          \n",
    "            \n",
    "while ind == 0:\n",
    "    \n",
    "    주사위게임()\n",
    "    \n",
    "    restart = input('다시 하시겠습니까? Y / N : ')  \n",
    "    \n",
    "    if restart == 'Y':\n",
    "        continue\n",
    "        \n",
    "    elif restart == 'N':\n",
    "        print('종료합니다.')\n",
    "        ind += 1\n",
    "        \n",
    "    else:\n",
    "        print('잘못된 값을 입력했습니다. 종료합니다.')\n",
    "        ind += 1\n",
    "        \n",
    "\n",
    "        \n"
   ]
  },
  {
   "cell_type": "code",
   "execution_count": 60,
   "id": "1263b06a",
   "metadata": {},
   "outputs": [
    {
     "name": "stdout",
     "output_type": "stream",
     "text": [
      "몇개의 주사위를 사용하겠나요?3\n"
     ]
    },
    {
     "data": {
      "text/plain": [
       "[1, 5, 1]"
      ]
     },
     "execution_count": 60,
     "metadata": {},
     "output_type": "execute_result"
    }
   ],
   "source": [
    "\n",
    "dice_num = int(input('몇개의 주사위를 사용하겠나요? : '))\n",
    "dice_li = []\n",
    "\n",
    "for i in range(dice_num):\n",
    "    a = np.random.randint(1,12)\n",
    "    dice_li.append(a)\n",
    "    \n",
    "dice_li\n",
    "    "
   ]
  },
  {
   "cell_type": "code",
   "execution_count": 73,
   "id": "d08640a6",
   "metadata": {},
   "outputs": [
    {
     "data": {
      "text/plain": [
       "\"hello,'world'\""
      ]
     },
     "execution_count": 73,
     "metadata": {},
     "output_type": "execute_result"
    }
   ],
   "source": [
    "\"hello,'world'\""
   ]
  },
  {
   "cell_type": "code",
   "execution_count": 74,
   "id": "f633ac33",
   "metadata": {},
   "outputs": [
    {
     "ename": "SyntaxError",
     "evalue": "invalid syntax (953303920.py, line 1)",
     "output_type": "error",
     "traceback": [
      "\u001b[1;36m  File \u001b[1;32m\"C:\\Users\\user\\AppData\\Local\\Temp\\ipykernel_11560\\953303920.py\"\u001b[1;36m, line \u001b[1;32m1\u001b[0m\n\u001b[1;33m    'hello'world''\u001b[0m\n\u001b[1;37m           ^\u001b[0m\n\u001b[1;31mSyntaxError\u001b[0m\u001b[1;31m:\u001b[0m invalid syntax\n"
     ]
    }
   ],
   "source": [
    "'hello'world''"
   ]
  },
  {
   "cell_type": "code",
   "execution_count": 75,
   "id": "3941ed7b",
   "metadata": {},
   "outputs": [
    {
     "data": {
      "text/plain": [
       "\"hello, 'world'\""
      ]
     },
     "execution_count": 75,
     "metadata": {},
     "output_type": "execute_result"
    }
   ],
   "source": [
    "# 작은 따옴표 안에 작은 따옴표를 넣고 싶을 때...\n",
    "'hello, \\'world\\''"
   ]
  },
  {
   "cell_type": "code",
   "execution_count": 79,
   "id": "10a5f54f",
   "metadata": {},
   "outputs": [
    {
     "name": "stdout",
     "output_type": "stream",
     "text": [
      "안\n",
      "녕\n",
      "'하'\n",
      "세\n",
      "요\n"
     ]
    }
   ],
   "source": [
    "# 작은따옴표 세 개로 줄바꿈 엔터를 허용할 수 있다.\n",
    "\n",
    "print('''안\n",
    "녕\n",
    "'하'\n",
    "세\n",
    "요''')"
   ]
  },
  {
   "cell_type": "code",
   "execution_count": null,
   "id": "f88316a6",
   "metadata": {},
   "outputs": [],
   "source": []
  },
  {
   "cell_type": "code",
   "execution_count": null,
   "id": "0c95266f",
   "metadata": {},
   "outputs": [],
   "source": []
  },
  {
   "cell_type": "code",
   "execution_count": 84,
   "id": "4f481a77",
   "metadata": {},
   "outputs": [],
   "source": [
    "arr_2d = np.array([[1,2,3],[4,5,6],[7,8,9]])"
   ]
  },
  {
   "cell_type": "code",
   "execution_count": 86,
   "id": "768b9441",
   "metadata": {},
   "outputs": [
    {
     "data": {
      "text/plain": [
       "[[1, 2, 3], [4, 5, 6], [7, 8, 9]]"
      ]
     },
     "execution_count": 86,
     "metadata": {},
     "output_type": "execute_result"
    }
   ],
   "source": [
    "# 원래 리스트는 아래와 같이 주르륵 나오지만...\n",
    "# 어레이의 경우 원래 행렬이기 때문에 행렬로 들어가게 된다.\n",
    "\n",
    "[[1,2,3],[4,5,6],[7,8,9]]"
   ]
  },
  {
   "cell_type": "code",
   "execution_count": 85,
   "id": "1d5dd1c6",
   "metadata": {},
   "outputs": [
    {
     "name": "stdout",
     "output_type": "stream",
     "text": [
      "[[1 2 3]\n",
      " [4 5 6]\n",
      " [7 8 9]]\n"
     ]
    }
   ],
   "source": [
    "# 괄호에 주의\n",
    "\n",
    "print(np.array([[1,2,3],[4,5,6],[7,8,9]]))"
   ]
  },
  {
   "cell_type": "code",
   "execution_count": 91,
   "id": "a3acfd8d",
   "metadata": {},
   "outputs": [
    {
     "data": {
      "text/plain": [
       "5"
      ]
     },
     "execution_count": 91,
     "metadata": {},
     "output_type": "execute_result"
    }
   ],
   "source": [
    "arr_2d[1,1]"
   ]
  },
  {
   "cell_type": "code",
   "execution_count": 92,
   "id": "f4712498",
   "metadata": {},
   "outputs": [
    {
     "data": {
      "text/plain": [
       "5"
      ]
     },
     "execution_count": 92,
     "metadata": {},
     "output_type": "execute_result"
    }
   ],
   "source": [
    "arr_2d[1][1]"
   ]
  },
  {
   "cell_type": "code",
   "execution_count": 100,
   "id": "b5366541",
   "metadata": {},
   "outputs": [
    {
     "data": {
      "text/plain": [
       "array([[1, 2]])"
      ]
     },
     "execution_count": 100,
     "metadata": {},
     "output_type": "execute_result"
    }
   ],
   "source": [
    "arr_2d[:1,:2]"
   ]
  },
  {
   "cell_type": "code",
   "execution_count": 97,
   "id": "15369a42",
   "metadata": {},
   "outputs": [],
   "source": [
    "import pandas as pd\n",
    "\n",
    "df = pd.DataFrame(arr_2d)"
   ]
  },
  {
   "cell_type": "code",
   "execution_count": 101,
   "id": "bd4e021c",
   "metadata": {},
   "outputs": [
    {
     "data": {
      "text/html": [
       "<div>\n",
       "<style scoped>\n",
       "    .dataframe tbody tr th:only-of-type {\n",
       "        vertical-align: middle;\n",
       "    }\n",
       "\n",
       "    .dataframe tbody tr th {\n",
       "        vertical-align: top;\n",
       "    }\n",
       "\n",
       "    .dataframe thead th {\n",
       "        text-align: right;\n",
       "    }\n",
       "</style>\n",
       "<table border=\"1\" class=\"dataframe\">\n",
       "  <thead>\n",
       "    <tr style=\"text-align: right;\">\n",
       "      <th></th>\n",
       "      <th>0</th>\n",
       "      <th>1</th>\n",
       "      <th>2</th>\n",
       "    </tr>\n",
       "  </thead>\n",
       "  <tbody>\n",
       "    <tr>\n",
       "      <th>0</th>\n",
       "      <td>1</td>\n",
       "      <td>2</td>\n",
       "      <td>3</td>\n",
       "    </tr>\n",
       "    <tr>\n",
       "      <th>1</th>\n",
       "      <td>4</td>\n",
       "      <td>5</td>\n",
       "      <td>6</td>\n",
       "    </tr>\n",
       "    <tr>\n",
       "      <th>2</th>\n",
       "      <td>7</td>\n",
       "      <td>8</td>\n",
       "      <td>9</td>\n",
       "    </tr>\n",
       "  </tbody>\n",
       "</table>\n",
       "</div>"
      ],
      "text/plain": [
       "   0  1  2\n",
       "0  1  2  3\n",
       "1  4  5  6\n",
       "2  7  8  9"
      ]
     },
     "execution_count": 101,
     "metadata": {},
     "output_type": "execute_result"
    }
   ],
   "source": [
    "df"
   ]
  },
  {
   "cell_type": "code",
   "execution_count": 99,
   "id": "b74a39a3",
   "metadata": {},
   "outputs": [
    {
     "data": {
      "text/html": [
       "<div>\n",
       "<style scoped>\n",
       "    .dataframe tbody tr th:only-of-type {\n",
       "        vertical-align: middle;\n",
       "    }\n",
       "\n",
       "    .dataframe tbody tr th {\n",
       "        vertical-align: top;\n",
       "    }\n",
       "\n",
       "    .dataframe thead th {\n",
       "        text-align: right;\n",
       "    }\n",
       "</style>\n",
       "<table border=\"1\" class=\"dataframe\">\n",
       "  <thead>\n",
       "    <tr style=\"text-align: right;\">\n",
       "      <th></th>\n",
       "      <th>0</th>\n",
       "      <th>1</th>\n",
       "    </tr>\n",
       "  </thead>\n",
       "  <tbody>\n",
       "    <tr>\n",
       "      <th>0</th>\n",
       "      <td>1</td>\n",
       "      <td>2</td>\n",
       "    </tr>\n",
       "  </tbody>\n",
       "</table>\n",
       "</div>"
      ],
      "text/plain": [
       "   0  1\n",
       "0  1  2"
      ]
     },
     "execution_count": 99,
     "metadata": {},
     "output_type": "execute_result"
    }
   ],
   "source": [
    "df.iloc[:1,:2]"
   ]
  },
  {
   "cell_type": "markdown",
   "id": "7bd2f349",
   "metadata": {},
   "source": [
    "* 아니 근데.. 넣었을때 결과값이 똑같이 나오는데 왜 방식이 완전히 다르대?\n",
    "* 라고 이야기하면.. 넘파이는 판다스를 Transform 한 것(1사분면 -> 3사분면)을 다시 1사분면에서 보는것 처럼 나타내주는 것이기 때문이다.\n",
    "* 실제로는 축이 완전히 반대임."
   ]
  },
  {
   "cell_type": "code",
   "execution_count": null,
   "id": "1c5bfe9e",
   "metadata": {},
   "outputs": [],
   "source": []
  },
  {
   "cell_type": "code",
   "execution_count": null,
   "id": "4f5c48c5",
   "metadata": {},
   "outputs": [],
   "source": []
  },
  {
   "cell_type": "markdown",
   "id": "11cefe67",
   "metadata": {},
   "source": [
    "---\n",
    "## 복습"
   ]
  },
  {
   "cell_type": "code",
   "execution_count": 102,
   "id": "475d3843",
   "metadata": {},
   "outputs": [],
   "source": [
    "def func1():\n",
    "    import math\n",
    "    print (math.log(4))\n",
    "    print (math.log(5))\n",
    "    print (math.log(6))"
   ]
  },
  {
   "cell_type": "code",
   "execution_count": 103,
   "id": "99efda7c",
   "metadata": {},
   "outputs": [
    {
     "name": "stdout",
     "output_type": "stream",
     "text": [
      "1.3862943611198906\n",
      "1.6094379124341003\n",
      "1.791759469228055\n"
     ]
    }
   ],
   "source": [
    "func1()"
   ]
  },
  {
   "cell_type": "code",
   "execution_count": null,
   "id": "fcec0336",
   "metadata": {},
   "outputs": [],
   "source": []
  }
 ],
 "metadata": {
  "kernelspec": {
   "display_name": "Python 3 (ipykernel)",
   "language": "python",
   "name": "python3"
  },
  "language_info": {
   "codemirror_mode": {
    "name": "ipython",
    "version": 3
   },
   "file_extension": ".py",
   "mimetype": "text/x-python",
   "name": "python",
   "nbconvert_exporter": "python",
   "pygments_lexer": "ipython3",
   "version": "3.9.13"
  }
 },
 "nbformat": 4,
 "nbformat_minor": 5
}
