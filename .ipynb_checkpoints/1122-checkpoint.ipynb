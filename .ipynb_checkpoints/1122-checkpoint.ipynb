{
 "cells": [
  {
   "cell_type": "code",
   "execution_count": 1,
   "id": "f0df69cb",
   "metadata": {},
   "outputs": [],
   "source": [
    "import pandas as pd\n",
    "import matplotlib.pyplot as plt\n",
    "import numpy as np\n",
    "import seaborn as sns\n",
    "from scipy import stats\n",
    "from scipy.stats import ks_2samp\n",
    "from statannot import add_stat_annotation"
   ]
  },
  {
   "cell_type": "code",
   "execution_count": 2,
   "id": "f399461c",
   "metadata": {},
   "outputs": [],
   "source": [
    "plt.rcParams['font.family'] = 'Malgun Gothic'"
   ]
  },
  {
   "cell_type": "code",
   "execution_count": 41,
   "id": "54629b88",
   "metadata": {},
   "outputs": [],
   "source": [
    "df = pd.read_excel('C:/Users/user/Desktop/lecfile/nov/221121/미니프로젝트/미니프로젝트-쇼핑몰 실습데이터.xlsx')"
   ]
  },
  {
   "cell_type": "code",
   "execution_count": 7,
   "id": "65560fc0",
   "metadata": {},
   "outputs": [],
   "source": [
    "charge = []\n",
    "\n",
    "for i in df['주문번호'].unique():\n",
    "    m = df['주문번호'] == i\n",
    "    df_mask = df[m]\n",
    "    \n",
    "    charge.append([i, df_mask['판매금액'].sum()])"
   ]
  },
  {
   "cell_type": "code",
   "execution_count": 8,
   "id": "11b166e1",
   "metadata": {},
   "outputs": [],
   "source": [
    "charge_res = pd.DataFrame(charge, columns = ['주문번호', '판매금액총계'])"
   ]
  },
  {
   "cell_type": "code",
   "execution_count": 9,
   "id": "5d8cb2cd",
   "metadata": {},
   "outputs": [
    {
     "data": {
      "text/html": [
       "<div>\n",
       "<style scoped>\n",
       "    .dataframe tbody tr th:only-of-type {\n",
       "        vertical-align: middle;\n",
       "    }\n",
       "\n",
       "    .dataframe tbody tr th {\n",
       "        vertical-align: top;\n",
       "    }\n",
       "\n",
       "    .dataframe thead th {\n",
       "        text-align: right;\n",
       "    }\n",
       "</style>\n",
       "<table border=\"1\" class=\"dataframe\">\n",
       "  <thead>\n",
       "    <tr style=\"text-align: right;\">\n",
       "      <th></th>\n",
       "      <th>주문번호</th>\n",
       "      <th>판매금액총계</th>\n",
       "    </tr>\n",
       "  </thead>\n",
       "  <tbody>\n",
       "    <tr>\n",
       "      <th>61755</th>\n",
       "      <td>211123163230446</td>\n",
       "      <td>19800000</td>\n",
       "    </tr>\n",
       "    <tr>\n",
       "      <th>22495</th>\n",
       "      <td>210207222549511</td>\n",
       "      <td>11130000</td>\n",
       "    </tr>\n",
       "    <tr>\n",
       "      <th>43106</th>\n",
       "      <td>210714183022909</td>\n",
       "      <td>9600000</td>\n",
       "    </tr>\n",
       "    <tr>\n",
       "      <th>42850</th>\n",
       "      <td>210713083310134</td>\n",
       "      <td>9600000</td>\n",
       "    </tr>\n",
       "    <tr>\n",
       "      <th>22505</th>\n",
       "      <td>210208073113749</td>\n",
       "      <td>9275000</td>\n",
       "    </tr>\n",
       "    <tr>\n",
       "      <th>...</th>\n",
       "      <td>...</td>\n",
       "      <td>...</td>\n",
       "    </tr>\n",
       "    <tr>\n",
       "      <th>6516</th>\n",
       "      <td>200624145106358</td>\n",
       "      <td>0</td>\n",
       "    </tr>\n",
       "    <tr>\n",
       "      <th>88</th>\n",
       "      <td>191223170919449</td>\n",
       "      <td>0</td>\n",
       "    </tr>\n",
       "    <tr>\n",
       "      <th>7411</th>\n",
       "      <td>200720110402271</td>\n",
       "      <td>0</td>\n",
       "    </tr>\n",
       "    <tr>\n",
       "      <th>27757</th>\n",
       "      <td>210319090937572</td>\n",
       "      <td>0</td>\n",
       "    </tr>\n",
       "    <tr>\n",
       "      <th>39640</th>\n",
       "      <td>210623091007594</td>\n",
       "      <td>0</td>\n",
       "    </tr>\n",
       "  </tbody>\n",
       "</table>\n",
       "<p>154795 rows × 2 columns</p>\n",
       "</div>"
      ],
      "text/plain": [
       "                  주문번호    판매금액총계\n",
       "61755  211123163230446  19800000\n",
       "22495  210207222549511  11130000\n",
       "43106  210714183022909   9600000\n",
       "42850  210713083310134   9600000\n",
       "22505  210208073113749   9275000\n",
       "...                ...       ...\n",
       "6516   200624145106358         0\n",
       "88     191223170919449         0\n",
       "7411   200720110402271         0\n",
       "27757  210319090937572         0\n",
       "39640  210623091007594         0\n",
       "\n",
       "[154795 rows x 2 columns]"
      ]
     },
     "execution_count": 9,
     "metadata": {},
     "output_type": "execute_result"
    }
   ],
   "source": [
    "charge_res.sort_values('판매금액총계', ascending = False)"
   ]
  },
  {
   "cell_type": "code",
   "execution_count": 58,
   "id": "522ab963",
   "metadata": {},
   "outputs": [],
   "source": [
    "df['월'] = df['주문일자'].apply(lambda x : str(x).split('-')[1])"
   ]
  },
  {
   "cell_type": "code",
   "execution_count": 15,
   "id": "0dd04cd5",
   "metadata": {},
   "outputs": [],
   "source": [
    "%matplotlib inline"
   ]
  },
  {
   "cell_type": "code",
   "execution_count": 16,
   "id": "7963d59c",
   "metadata": {},
   "outputs": [
    {
     "data": {
      "text/plain": [
       "<AxesSubplot:xlabel='월', ylabel='판매금액'>"
      ]
     },
     "execution_count": 16,
     "metadata": {},
     "output_type": "execute_result"
    },
    {
     "data": {
      "image/png": "[encoded data removed]",
      "text/plain": [
       "<Figure size 640x480 with 1 Axes>"
      ]
     },
     "metadata": {},
     "output_type": "display_data"
    }
   ],
   "source": [
    "sns.barplot(data = df, x = '월' , y = '판매금액')"
   ]
  },
  {
   "cell_type": "markdown",
   "id": "b4107733",
   "metadata": {},
   "source": [
    "# 할부기간 고려하는 법 1월 12만원 결제분 기준\n",
    "1. nan 값을 일시불로 처리한다.\n",
    "2. 6개월은 1 ~ 6월에 나눠 더한다.\n",
    "1. 12개월은 각 월별로 나눠 더한다.\n",
    "1. 24개월은 12월과 같이 처리한다.\n",
    "1. 18개월은 각 월별로 나눠 더한 뒤 1=6월에 나눠 한번 더 더한다"
   ]
  },
  {
   "cell_type": "code",
   "execution_count": 43,
   "id": "c066d6a6",
   "metadata": {},
   "outputs": [
    {
     "data": {
      "text/html": [
       "<div>\n",
       "<style scoped>\n",
       "    .dataframe tbody tr th:only-of-type {\n",
       "        vertical-align: middle;\n",
       "    }\n",
       "\n",
       "    .dataframe tbody tr th {\n",
       "        vertical-align: top;\n",
       "    }\n",
       "\n",
       "    .dataframe thead th {\n",
       "        text-align: right;\n",
       "    }\n",
       "</style>\n",
       "<table border=\"1\" class=\"dataframe\">\n",
       "  <thead>\n",
       "    <tr style=\"text-align: right;\">\n",
       "      <th></th>\n",
       "      <th>주문번호</th>\n",
       "      <th>업체명</th>\n",
       "      <th>상품명</th>\n",
       "      <th>제조사</th>\n",
       "      <th>주문수량</th>\n",
       "      <th>판매금액</th>\n",
       "      <th>결제방법</th>\n",
       "      <th>주문일자</th>\n",
       "      <th>처리상태</th>\n",
       "      <th>초도상품</th>\n",
       "      <th>제작문구 내역</th>\n",
       "      <th>할부기간</th>\n",
       "    </tr>\n",
       "  </thead>\n",
       "  <tbody>\n",
       "    <tr>\n",
       "      <th>0</th>\n",
       "      <td>191213170236874</td>\n",
       "      <td>지니</td>\n",
       "      <td>eHBM셀파수학교실 비닐봉투-1세트 100장입</td>\n",
       "      <td>HB</td>\n",
       "      <td>1</td>\n",
       "      <td>5000</td>\n",
       "      <td>신용카드</td>\n",
       "      <td>2019-12-13 17:03:37</td>\n",
       "      <td>구매확정</td>\n",
       "      <td>N</td>\n",
       "      <td>NaN</td>\n",
       "      <td>NaN</td>\n",
       "    </tr>\n",
       "    <tr>\n",
       "      <th>1</th>\n",
       "      <td>191216100347429</td>\n",
       "      <td>지니</td>\n",
       "      <td>eHBM셀파수학교실 비닐봉투-1세트 100장입</td>\n",
       "      <td>HB</td>\n",
       "      <td>1</td>\n",
       "      <td>5000</td>\n",
       "      <td>신용카드</td>\n",
       "      <td>2019-12-16 10:04:50</td>\n",
       "      <td>구매확정</td>\n",
       "      <td>N</td>\n",
       "      <td>NaN</td>\n",
       "      <td>NaN</td>\n",
       "    </tr>\n",
       "    <tr>\n",
       "      <th>2</th>\n",
       "      <td>191216100347429</td>\n",
       "      <td>지니</td>\n",
       "      <td>eHBM셀파수학교실 삼색볼펜-1세트 50개입</td>\n",
       "      <td>HB</td>\n",
       "      <td>3</td>\n",
       "      <td>67500</td>\n",
       "      <td>신용카드</td>\n",
       "      <td>2019-12-16 10:04:50</td>\n",
       "      <td>구매확정</td>\n",
       "      <td>N</td>\n",
       "      <td>NaN</td>\n",
       "      <td>NaN</td>\n",
       "    </tr>\n",
       "    <tr>\n",
       "      <th>3</th>\n",
       "      <td>191216173241622</td>\n",
       "      <td>지니</td>\n",
       "      <td>eHBM셀파수학교실 회원용 리플렛-1세트 50권입</td>\n",
       "      <td>HB</td>\n",
       "      <td>2</td>\n",
       "      <td>30000</td>\n",
       "      <td>신용카드</td>\n",
       "      <td>2019-12-16 17:33:43</td>\n",
       "      <td>구매확정</td>\n",
       "      <td>N</td>\n",
       "      <td>NaN</td>\n",
       "      <td>NaN</td>\n",
       "    </tr>\n",
       "    <tr>\n",
       "      <th>4</th>\n",
       "      <td>191216173241622</td>\n",
       "      <td>지니</td>\n",
       "      <td>eHBM셀파수학교실-학습계통도(중등 5종)</td>\n",
       "      <td>HB</td>\n",
       "      <td>1</td>\n",
       "      <td>750</td>\n",
       "      <td>신용카드</td>\n",
       "      <td>2019-12-16 17:33:43</td>\n",
       "      <td>구매확정</td>\n",
       "      <td>N</td>\n",
       "      <td>NaN</td>\n",
       "      <td>NaN</td>\n",
       "    </tr>\n",
       "    <tr>\n",
       "      <th>...</th>\n",
       "      <td>...</td>\n",
       "      <td>...</td>\n",
       "      <td>...</td>\n",
       "      <td>...</td>\n",
       "      <td>...</td>\n",
       "      <td>...</td>\n",
       "      <td>...</td>\n",
       "      <td>...</td>\n",
       "      <td>...</td>\n",
       "      <td>...</td>\n",
       "      <td>...</td>\n",
       "      <td>...</td>\n",
       "    </tr>\n",
       "    <tr>\n",
       "      <th>218596</th>\n",
       "      <td>221108104041264</td>\n",
       "      <td>에이스디포</td>\n",
       "      <td>[스마트 HBE*초도] 입체 액자형 현판</td>\n",
       "      <td>에이스디포</td>\n",
       "      <td>1</td>\n",
       "      <td>35000</td>\n",
       "      <td>웰컴마일</td>\n",
       "      <td>2022-11-08 10:38:21</td>\n",
       "      <td>결제완료</td>\n",
       "      <td>Y</td>\n",
       "      <td>NaN</td>\n",
       "      <td>NaN</td>\n",
       "    </tr>\n",
       "    <tr>\n",
       "      <th>218597</th>\n",
       "      <td>221108104041264</td>\n",
       "      <td>에이스디포</td>\n",
       "      <td>[스마트 HBE*초도] 아크릴 사인</td>\n",
       "      <td>HB</td>\n",
       "      <td>1</td>\n",
       "      <td>26900</td>\n",
       "      <td>웰컴마일</td>\n",
       "      <td>2022-11-08 10:38:21</td>\n",
       "      <td>결제완료</td>\n",
       "      <td>Y</td>\n",
       "      <td>NaN</td>\n",
       "      <td>NaN</td>\n",
       "    </tr>\n",
       "    <tr>\n",
       "      <th>218598</th>\n",
       "      <td>221108104536307</td>\n",
       "      <td>에이스디포</td>\n",
       "      <td>[스마트 HBM] 아크릴 사인</td>\n",
       "      <td>HB</td>\n",
       "      <td>1</td>\n",
       "      <td>26900</td>\n",
       "      <td>신 + 포</td>\n",
       "      <td>2022-11-08 10:43:15</td>\n",
       "      <td>배송준비</td>\n",
       "      <td>N</td>\n",
       "      <td>NaN</td>\n",
       "      <td>NaN</td>\n",
       "    </tr>\n",
       "    <tr>\n",
       "      <th>218599</th>\n",
       "      <td>221108104735216</td>\n",
       "      <td>다우기술</td>\n",
       "      <td>[스타벅스] 아이스 카페 아메리카노 T</td>\n",
       "      <td>스타벅스</td>\n",
       "      <td>1</td>\n",
       "      <td>4050</td>\n",
       "      <td>포인트</td>\n",
       "      <td>2022-11-08 10:45:14</td>\n",
       "      <td>배송완료</td>\n",
       "      <td>N</td>\n",
       "      <td>NaN</td>\n",
       "      <td>NaN</td>\n",
       "    </tr>\n",
       "    <tr>\n",
       "      <th>218600</th>\n",
       "      <td>221108105148171</td>\n",
       "      <td>다우기술</td>\n",
       "      <td>[특별한 크리스마스] 2차-신세계 상품권 모바일 교환권-1만원권</td>\n",
       "      <td>신세계</td>\n",
       "      <td>17</td>\n",
       "      <td>161500</td>\n",
       "      <td>신용카드</td>\n",
       "      <td>2022-11-08 10:49:28</td>\n",
       "      <td>배송완료</td>\n",
       "      <td>N</td>\n",
       "      <td>NaN</td>\n",
       "      <td>NaN</td>\n",
       "    </tr>\n",
       "  </tbody>\n",
       "</table>\n",
       "<p>218601 rows × 12 columns</p>\n",
       "</div>"
      ],
      "text/plain": [
       "                   주문번호    업체명                                  상품명    제조사  \\\n",
       "0       191213170236874     지니            eHBM셀파수학교실 비닐봉투-1세트 100장입     HB   \n",
       "1       191216100347429     지니            eHBM셀파수학교실 비닐봉투-1세트 100장입     HB   \n",
       "2       191216100347429     지니             eHBM셀파수학교실 삼색볼펜-1세트 50개입     HB   \n",
       "3       191216173241622     지니          eHBM셀파수학교실 회원용 리플렛-1세트 50권입     HB   \n",
       "4       191216173241622     지니              eHBM셀파수학교실-학습계통도(중등 5종)     HB   \n",
       "...                 ...    ...                                  ...    ...   \n",
       "218596  221108104041264  에이스디포               [스마트 HBE*초도] 입체 액자형 현판  에이스디포   \n",
       "218597  221108104041264  에이스디포                  [스마트 HBE*초도] 아크릴 사인     HB   \n",
       "218598  221108104536307  에이스디포                     [스마트 HBM] 아크릴 사인     HB   \n",
       "218599  221108104735216   다우기술                [스타벅스] 아이스 카페 아메리카노 T   스타벅스   \n",
       "218600  221108105148171   다우기술  [특별한 크리스마스] 2차-신세계 상품권 모바일 교환권-1만원권    신세계   \n",
       "\n",
       "        주문수량    판매금액   결제방법                주문일자  처리상태 초도상품 제작문구 내역 할부기간  \n",
       "0          1    5000   신용카드 2019-12-13 17:03:37  구매확정    N     NaN  NaN  \n",
       "1          1    5000   신용카드 2019-12-16 10:04:50  구매확정    N     NaN  NaN  \n",
       "2          3   67500   신용카드 2019-12-16 10:04:50  구매확정    N     NaN  NaN  \n",
       "3          2   30000   신용카드 2019-12-16 17:33:43  구매확정    N     NaN  NaN  \n",
       "4          1     750   신용카드 2019-12-16 17:33:43  구매확정    N     NaN  NaN  \n",
       "...      ...     ...    ...                 ...   ...  ...     ...  ...  \n",
       "218596     1   35000   웰컴마일 2022-11-08 10:38:21  결제완료    Y     NaN  NaN  \n",
       "218597     1   26900   웰컴마일 2022-11-08 10:38:21  결제완료    Y     NaN  NaN  \n",
       "218598     1   26900  신 + 포 2022-11-08 10:43:15  배송준비    N     NaN  NaN  \n",
       "218599     1    4050    포인트 2022-11-08 10:45:14  배송완료    N     NaN  NaN  \n",
       "218600    17  161500   신용카드 2022-11-08 10:49:28  배송완료    N     NaN  NaN  \n",
       "\n",
       "[218601 rows x 12 columns]"
      ]
     },
     "execution_count": 43,
     "metadata": {},
     "output_type": "execute_result"
    }
   ],
   "source": [
    "df"
   ]
  },
  {
   "cell_type": "code",
   "execution_count": 53,
   "id": "06a0e7e1",
   "metadata": {},
   "outputs": [],
   "source": [
    "# \"x != x\"는 nan 값을 확인하는 코드이다.\n",
    "def processing(x):\n",
    "    if x != x or x == '1개월':\n",
    "        return 1\n",
    "    \n",
    "    elif x == '6개월':\n",
    "        return 6\n",
    "    \n",
    "    else:\n",
    "        return int(x[:2])\n",
    "\n",
    "df['할부기간'] = df['할부기간'].apply(lambda x : processing(x))"
   ]
  },
  {
   "cell_type": "code",
   "execution_count": 54,
   "id": "517b482e",
   "metadata": {},
   "outputs": [
    {
     "data": {
      "text/plain": [
       "12"
      ]
     },
     "execution_count": 54,
     "metadata": {},
     "output_type": "execute_result"
    }
   ],
   "source": [
    "processing('12개월')"
   ]
  },
  {
   "cell_type": "code",
   "execution_count": 55,
   "id": "ae9f13c4",
   "metadata": {},
   "outputs": [
    {
     "data": {
      "text/html": [
       "<div>\n",
       "<style scoped>\n",
       "    .dataframe tbody tr th:only-of-type {\n",
       "        vertical-align: middle;\n",
       "    }\n",
       "\n",
       "    .dataframe tbody tr th {\n",
       "        vertical-align: top;\n",
       "    }\n",
       "\n",
       "    .dataframe thead th {\n",
       "        text-align: right;\n",
       "    }\n",
       "</style>\n",
       "<table border=\"1\" class=\"dataframe\">\n",
       "  <thead>\n",
       "    <tr style=\"text-align: right;\">\n",
       "      <th></th>\n",
       "      <th>주문번호</th>\n",
       "      <th>업체명</th>\n",
       "      <th>상품명</th>\n",
       "      <th>제조사</th>\n",
       "      <th>주문수량</th>\n",
       "      <th>판매금액</th>\n",
       "      <th>결제방법</th>\n",
       "      <th>주문일자</th>\n",
       "      <th>처리상태</th>\n",
       "      <th>초도상품</th>\n",
       "      <th>제작문구 내역</th>\n",
       "      <th>할부기간</th>\n",
       "    </tr>\n",
       "  </thead>\n",
       "  <tbody>\n",
       "    <tr>\n",
       "      <th>0</th>\n",
       "      <td>191213170236874</td>\n",
       "      <td>지니</td>\n",
       "      <td>eHBM셀파수학교실 비닐봉투-1세트 100장입</td>\n",
       "      <td>HB</td>\n",
       "      <td>1</td>\n",
       "      <td>5000</td>\n",
       "      <td>신용카드</td>\n",
       "      <td>2019-12-13 17:03:37</td>\n",
       "      <td>구매확정</td>\n",
       "      <td>N</td>\n",
       "      <td>NaN</td>\n",
       "      <td>1</td>\n",
       "    </tr>\n",
       "    <tr>\n",
       "      <th>1</th>\n",
       "      <td>191216100347429</td>\n",
       "      <td>지니</td>\n",
       "      <td>eHBM셀파수학교실 비닐봉투-1세트 100장입</td>\n",
       "      <td>HB</td>\n",
       "      <td>1</td>\n",
       "      <td>5000</td>\n",
       "      <td>신용카드</td>\n",
       "      <td>2019-12-16 10:04:50</td>\n",
       "      <td>구매확정</td>\n",
       "      <td>N</td>\n",
       "      <td>NaN</td>\n",
       "      <td>1</td>\n",
       "    </tr>\n",
       "    <tr>\n",
       "      <th>2</th>\n",
       "      <td>191216100347429</td>\n",
       "      <td>지니</td>\n",
       "      <td>eHBM셀파수학교실 삼색볼펜-1세트 50개입</td>\n",
       "      <td>HB</td>\n",
       "      <td>3</td>\n",
       "      <td>67500</td>\n",
       "      <td>신용카드</td>\n",
       "      <td>2019-12-16 10:04:50</td>\n",
       "      <td>구매확정</td>\n",
       "      <td>N</td>\n",
       "      <td>NaN</td>\n",
       "      <td>1</td>\n",
       "    </tr>\n",
       "    <tr>\n",
       "      <th>3</th>\n",
       "      <td>191216173241622</td>\n",
       "      <td>지니</td>\n",
       "      <td>eHBM셀파수학교실 회원용 리플렛-1세트 50권입</td>\n",
       "      <td>HB</td>\n",
       "      <td>2</td>\n",
       "      <td>30000</td>\n",
       "      <td>신용카드</td>\n",
       "      <td>2019-12-16 17:33:43</td>\n",
       "      <td>구매확정</td>\n",
       "      <td>N</td>\n",
       "      <td>NaN</td>\n",
       "      <td>1</td>\n",
       "    </tr>\n",
       "    <tr>\n",
       "      <th>4</th>\n",
       "      <td>191216173241622</td>\n",
       "      <td>지니</td>\n",
       "      <td>eHBM셀파수학교실-학습계통도(중등 5종)</td>\n",
       "      <td>HB</td>\n",
       "      <td>1</td>\n",
       "      <td>750</td>\n",
       "      <td>신용카드</td>\n",
       "      <td>2019-12-16 17:33:43</td>\n",
       "      <td>구매확정</td>\n",
       "      <td>N</td>\n",
       "      <td>NaN</td>\n",
       "      <td>1</td>\n",
       "    </tr>\n",
       "    <tr>\n",
       "      <th>...</th>\n",
       "      <td>...</td>\n",
       "      <td>...</td>\n",
       "      <td>...</td>\n",
       "      <td>...</td>\n",
       "      <td>...</td>\n",
       "      <td>...</td>\n",
       "      <td>...</td>\n",
       "      <td>...</td>\n",
       "      <td>...</td>\n",
       "      <td>...</td>\n",
       "      <td>...</td>\n",
       "      <td>...</td>\n",
       "    </tr>\n",
       "    <tr>\n",
       "      <th>218596</th>\n",
       "      <td>221108104041264</td>\n",
       "      <td>에이스디포</td>\n",
       "      <td>[스마트 HBE*초도] 입체 액자형 현판</td>\n",
       "      <td>에이스디포</td>\n",
       "      <td>1</td>\n",
       "      <td>35000</td>\n",
       "      <td>웰컴마일</td>\n",
       "      <td>2022-11-08 10:38:21</td>\n",
       "      <td>결제완료</td>\n",
       "      <td>Y</td>\n",
       "      <td>NaN</td>\n",
       "      <td>1</td>\n",
       "    </tr>\n",
       "    <tr>\n",
       "      <th>218597</th>\n",
       "      <td>221108104041264</td>\n",
       "      <td>에이스디포</td>\n",
       "      <td>[스마트 HBE*초도] 아크릴 사인</td>\n",
       "      <td>HB</td>\n",
       "      <td>1</td>\n",
       "      <td>26900</td>\n",
       "      <td>웰컴마일</td>\n",
       "      <td>2022-11-08 10:38:21</td>\n",
       "      <td>결제완료</td>\n",
       "      <td>Y</td>\n",
       "      <td>NaN</td>\n",
       "      <td>1</td>\n",
       "    </tr>\n",
       "    <tr>\n",
       "      <th>218598</th>\n",
       "      <td>221108104536307</td>\n",
       "      <td>에이스디포</td>\n",
       "      <td>[스마트 HBM] 아크릴 사인</td>\n",
       "      <td>HB</td>\n",
       "      <td>1</td>\n",
       "      <td>26900</td>\n",
       "      <td>신 + 포</td>\n",
       "      <td>2022-11-08 10:43:15</td>\n",
       "      <td>배송준비</td>\n",
       "      <td>N</td>\n",
       "      <td>NaN</td>\n",
       "      <td>1</td>\n",
       "    </tr>\n",
       "    <tr>\n",
       "      <th>218599</th>\n",
       "      <td>221108104735216</td>\n",
       "      <td>다우기술</td>\n",
       "      <td>[스타벅스] 아이스 카페 아메리카노 T</td>\n",
       "      <td>스타벅스</td>\n",
       "      <td>1</td>\n",
       "      <td>4050</td>\n",
       "      <td>포인트</td>\n",
       "      <td>2022-11-08 10:45:14</td>\n",
       "      <td>배송완료</td>\n",
       "      <td>N</td>\n",
       "      <td>NaN</td>\n",
       "      <td>1</td>\n",
       "    </tr>\n",
       "    <tr>\n",
       "      <th>218600</th>\n",
       "      <td>221108105148171</td>\n",
       "      <td>다우기술</td>\n",
       "      <td>[특별한 크리스마스] 2차-신세계 상품권 모바일 교환권-1만원권</td>\n",
       "      <td>신세계</td>\n",
       "      <td>17</td>\n",
       "      <td>161500</td>\n",
       "      <td>신용카드</td>\n",
       "      <td>2022-11-08 10:49:28</td>\n",
       "      <td>배송완료</td>\n",
       "      <td>N</td>\n",
       "      <td>NaN</td>\n",
       "      <td>1</td>\n",
       "    </tr>\n",
       "  </tbody>\n",
       "</table>\n",
       "<p>218601 rows × 12 columns</p>\n",
       "</div>"
      ],
      "text/plain": [
       "                   주문번호    업체명                                  상품명    제조사  \\\n",
       "0       191213170236874     지니            eHBM셀파수학교실 비닐봉투-1세트 100장입     HB   \n",
       "1       191216100347429     지니            eHBM셀파수학교실 비닐봉투-1세트 100장입     HB   \n",
       "2       191216100347429     지니             eHBM셀파수학교실 삼색볼펜-1세트 50개입     HB   \n",
       "3       191216173241622     지니          eHBM셀파수학교실 회원용 리플렛-1세트 50권입     HB   \n",
       "4       191216173241622     지니              eHBM셀파수학교실-학습계통도(중등 5종)     HB   \n",
       "...                 ...    ...                                  ...    ...   \n",
       "218596  221108104041264  에이스디포               [스마트 HBE*초도] 입체 액자형 현판  에이스디포   \n",
       "218597  221108104041264  에이스디포                  [스마트 HBE*초도] 아크릴 사인     HB   \n",
       "218598  221108104536307  에이스디포                     [스마트 HBM] 아크릴 사인     HB   \n",
       "218599  221108104735216   다우기술                [스타벅스] 아이스 카페 아메리카노 T   스타벅스   \n",
       "218600  221108105148171   다우기술  [특별한 크리스마스] 2차-신세계 상품권 모바일 교환권-1만원권    신세계   \n",
       "\n",
       "        주문수량    판매금액   결제방법                주문일자  처리상태 초도상품 제작문구 내역  할부기간  \n",
       "0          1    5000   신용카드 2019-12-13 17:03:37  구매확정    N     NaN     1  \n",
       "1          1    5000   신용카드 2019-12-16 10:04:50  구매확정    N     NaN     1  \n",
       "2          3   67500   신용카드 2019-12-16 10:04:50  구매확정    N     NaN     1  \n",
       "3          2   30000   신용카드 2019-12-16 17:33:43  구매확정    N     NaN     1  \n",
       "4          1     750   신용카드 2019-12-16 17:33:43  구매확정    N     NaN     1  \n",
       "...      ...     ...    ...                 ...   ...  ...     ...   ...  \n",
       "218596     1   35000   웰컴마일 2022-11-08 10:38:21  결제완료    Y     NaN     1  \n",
       "218597     1   26900   웰컴마일 2022-11-08 10:38:21  결제완료    Y     NaN     1  \n",
       "218598     1   26900  신 + 포 2022-11-08 10:43:15  배송준비    N     NaN     1  \n",
       "218599     1    4050    포인트 2022-11-08 10:45:14  배송완료    N     NaN     1  \n",
       "218600    17  161500   신용카드 2022-11-08 10:49:28  배송완료    N     NaN     1  \n",
       "\n",
       "[218601 rows x 12 columns]"
      ]
     },
     "execution_count": 55,
     "metadata": {},
     "output_type": "execute_result"
    }
   ],
   "source": [
    "df"
   ]
  },
  {
   "cell_type": "code",
   "execution_count": 56,
   "id": "6a032d28",
   "metadata": {},
   "outputs": [
    {
     "data": {
      "text/plain": [
       "array([ 1, 12, 24,  6, 18], dtype=int64)"
      ]
     },
     "execution_count": 56,
     "metadata": {},
     "output_type": "execute_result"
    }
   ],
   "source": [
    "df['할부기간'].unique()"
   ]
  },
  {
   "cell_type": "code",
   "execution_count": 71,
   "id": "104c635d",
   "metadata": {},
   "outputs": [],
   "source": [
    "charge_by_month = [0,0,0,0,0,0,0,0,0,0,0,0]\n",
    "\n",
    "for i in df.index:\n",
    "    charge = df.loc[i,'판매금액']\n",
    "    month = int(df.loc[i, '월'])\n",
    "    dividing = df.loc[i,'할부기간']\n",
    "    \n",
    "    \n",
    "    if dividing == 12:\n",
    "        charge_by_month = [c+(charge/12) for c in charge_by_month]\n",
    "        \n",
    "    elif dividing == 24:\n",
    "        charge_by_month = [c+(charge/12) for c in charge_by_month]\n",
    "        \n",
    "    elif dividing == 6:\n",
    "        if month < 8:\n",
    "            for j in range(6):\n",
    "                charge_by_month[month-1+j] += charge/6\n",
    "                \n",
    "        else:\n",
    "            for j in range(6):\n",
    "                a = month - 1 + j\n",
    "                \n",
    "                \n",
    "                if a < 12:\n",
    "                    charge_by_month[month-1+j] += charge/6\n",
    "\n",
    "                else:\n",
    "                    charge_by_month[month-13+j] += charge/6\n",
    "                    \n",
    "                    \n",
    "    elif dividing == 18:\n",
    "        charge_by_month = [c+(charge/18) for c in charge_by_month]\n",
    "        \n",
    "        if month < 8:\n",
    "            for j in range(6):\n",
    "                charge_by_month[month-1+j] += charge/18\n",
    "                \n",
    "        else:\n",
    "            for j in range(6):\n",
    "                a = month - 1 + j\n",
    "                \n",
    "                \n",
    "                if a < 12:\n",
    "                    charge_by_month[month-1+j] += charge/18\n",
    "\n",
    "                else:\n",
    "                    charge_by_month[month-13+j] += charge/18\n",
    "                    \n",
    "                    \n",
    "    else:\n",
    "        charge_by_month[month - 1] = charge\n",
    "        "
   ]
  },
  {
   "cell_type": "code",
   "execution_count": 72,
   "id": "f77467dd",
   "metadata": {},
   "outputs": [
    {
     "data": {
      "text/plain": [
       "[25858200.0,\n",
       " 21696400.0,\n",
       " 16007000.0,\n",
       " 12168000.0,\n",
       " 8503000.0,\n",
       " 6839900.0,\n",
       " 5076000.0,\n",
       " 3464800.0,\n",
       " 1350600.0,\n",
       " 320700.0,\n",
       " 161500,\n",
       " 29097000.0]"
      ]
     },
     "execution_count": 72,
     "metadata": {},
     "output_type": "execute_result"
    }
   ],
   "source": [
    "charge_by_month"
   ]
  },
  {
   "cell_type": "code",
   "execution_count": 74,
   "id": "94e67d44",
   "metadata": {},
   "outputs": [],
   "source": [
    "genie = df[df['업체명'] == '지니']['판매금액']\n",
    "ace = df[df['업체명'] == '에이스디포']['판매금액']"
   ]
  },
  {
   "cell_type": "code",
   "execution_count": 75,
   "id": "31b7b131",
   "metadata": {},
   "outputs": [],
   "source": [
    "genie = list(genie[:100])\n",
    "ace = list(ace[:100])"
   ]
  },
  {
   "cell_type": "code",
   "execution_count": 76,
   "id": "bdfbb00f",
   "metadata": {},
   "outputs": [
    {
     "data": {
      "text/plain": [
       "SpearmanrResult(correlation=-0.06588898718556489, pvalue=0.5148436221975197)"
      ]
     },
     "execution_count": 76,
     "metadata": {},
     "output_type": "execute_result"
    }
   ],
   "source": [
    "# |correlation| 이   >>>   (상관 없음) 0.1 (약한 상관관계) 0.3  (어느 정도의 상관관계) 0.7 (강한 상관관계)\n",
    "\n",
    "# +면 비례, -면 반비례\n",
    "\n",
    "stats.spearmanr(genie, ace)"
   ]
  },
  {
   "cell_type": "code",
   "execution_count": 79,
   "id": "42be3dfc",
   "metadata": {},
   "outputs": [
    {
     "data": {
      "text/plain": [
       "<AxesSubplot:>"
      ]
     },
     "execution_count": 79,
     "metadata": {},
     "output_type": "execute_result"
    },
    {
     "data": {
      "image/png": "[encoded data removed]",
      "text/plain": [
       "<Figure size 640x480 with 1 Axes>"
      ]
     },
     "metadata": {},
     "output_type": "display_data"
    }
   ],
   "source": [
    "# (유의수준) 파란 범위 안에 들어있을 확률이 95퍼센트.. 인데 전혀 상관 없다는 것을 알 수 있다.\n",
    "# 무질서한 관계\n",
    "\n",
    "sns.regplot(genie, ace)"
   ]
  },
  {
   "cell_type": "code",
   "execution_count": 83,
   "id": "fcd6a84e",
   "metadata": {},
   "outputs": [],
   "source": [
    "# 정비례관계시 이와 같이 나온다.\n",
    "\n",
    "list1 = list(range(100))\n",
    "list2 = list(range(0,200,2))"
   ]
  },
  {
   "cell_type": "code",
   "execution_count": 84,
   "id": "71d449d5",
   "metadata": {},
   "outputs": [
    {
     "data": {
      "text/plain": [
       "SpearmanrResult(correlation=0.9999999999999999, pvalue=0.0)"
      ]
     },
     "execution_count": 84,
     "metadata": {},
     "output_type": "execute_result"
    }
   ],
   "source": [
    "stats.spearmanr(list1, list2)"
   ]
  },
  {
   "cell_type": "code",
   "execution_count": null,
   "id": "9e620f7a",
   "metadata": {},
   "outputs": [],
   "source": [
    "sns.regplot(list1, list2)"
   ]
  },
  {
   "cell_type": "code",
   "execution_count": 90,
   "id": "82c32dff",
   "metadata": {},
   "outputs": [],
   "source": [
    "# 반비례관계시 이와 같이 나온다.\n",
    "\n",
    "list1 = list(range(0,100))\n",
    "list2 = list(range(200,0,-2))"
   ]
  },
  {
   "cell_type": "code",
   "execution_count": 91,
   "id": "23067759",
   "metadata": {},
   "outputs": [
    {
     "data": {
      "text/plain": [
       "SpearmanrResult(correlation=-0.9999999999999999, pvalue=0.0)"
      ]
     },
     "execution_count": 91,
     "metadata": {},
     "output_type": "execute_result"
    }
   ],
   "source": [
    "stats.spearmanr(list1, list2)"
   ]
  },
  {
   "cell_type": "code",
   "execution_count": 92,
   "id": "6e4336e5",
   "metadata": {},
   "outputs": [
    {
     "data": {
      "text/plain": [
       "<AxesSubplot:>"
      ]
     },
     "execution_count": 92,
     "metadata": {},
     "output_type": "execute_result"
    },
    {
     "data": {
      "image/png": "[encoded data removed]",
      "text/plain": [
       "<Figure size 640x480 with 1 Axes>"
      ]
     },
     "metadata": {},
     "output_type": "display_data"
    }
   ],
   "source": [
    "sns.regplot(list1, list2)"
   ]
  },
  {
   "cell_type": "markdown",
   "id": "1ee76adf",
   "metadata": {},
   "source": [
    "* 둘의 관계가 선형 상관관계일때만 관계가 있다고 나온다.\n",
    "* 다른 모양의 상관관계를 가지는 경우에는 (이차함수형이나, 원형이라던가) 스피어맨r로는 알 수 없다."
   ]
  },
  {
   "cell_type": "code",
   "execution_count": null,
   "id": "2b9a1544",
   "metadata": {},
   "outputs": [],
   "source": []
  }
 ],
 "metadata": {
  "kernelspec": {
   "display_name": "Python 3 (ipykernel)",
   "language": "python",
   "name": "python3"
  },
  "language_info": {
   "codemirror_mode": {
    "name": "ipython",
    "version": 3
   },
   "file_extension": ".py",
   "mimetype": "text/x-python",
   "name": "python",
   "nbconvert_exporter": "python",
   "pygments_lexer": "ipython3",
   "version": "3.9.13"
  }
 },
 "nbformat": 4,
 "nbformat_minor": 5
}
