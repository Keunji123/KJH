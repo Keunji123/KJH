{
 "cells": [
  {
   "cell_type": "markdown",
   "id": "9414b07f",
   "metadata": {},
   "source": [
    "## 주피터 경로 변경?\n",
    "* 아나콘다 프롬프트 실행\n",
    "* cd (경로) 이용해서 원하는 위치로 이동\n",
    "* 원하는 위치에서 jupiter notebook 쳐서 실행"
   ]
  },
  {
   "cell_type": "markdown",
   "id": "cee3ca87",
   "metadata": {},
   "source": [
    "## 함수"
   ]
  },
  {
   "cell_type": "raw",
   "id": "ff12cf9b",
   "metadata": {},
   "source": [
    "def ( 함수 이름 ) (input):\n",
    "    (코드)\n",
    "    return (리턴값)"
   ]
  },
  {
   "cell_type": "markdown",
   "id": "f3334f75",
   "metadata": {},
   "source": [
    "* 함수에 입력받는 값은 어떠한 형식이든 상관 없다. 변수 형식으로 넘겨줄 수 있다면.\n",
    "* 파이썬에서 변수 형식으로 넘겨 줄 수 없는 것은 거의 없으므로 사실상 거의 다 된다고 보면 된다.\n",
    "* 함수는 리턴을 한번 하게 되면 그 뒤에 어떠한 코드가 존재하던 간에 끝이 나게 된다.\n",
    "* 리턴을 여러 개 하고 싶다면? 여러개 묶을 수 있는 자료형을 사용해 한 덩어리로 리턴하면 된다.\n",
    "* 또는? 그냥 옆으로 늘여서 쓰면 된다. return x, y, z, w 이러한 식으로..\n"
   ]
  },
  {
   "cell_type": "code",
   "execution_count": 1,
   "id": "26b05929",
   "metadata": {},
   "outputs": [
    {
     "name": "stdout",
     "output_type": "stream",
     "text": [
      "3 5\n"
     ]
    },
    {
     "ename": "TypeError",
     "evalue": "cannot unpack non-iterable NoneType object",
     "output_type": "error",
     "traceback": [
      "\u001b[1;31m---------------------------------------------------------------------------\u001b[0m",
      "\u001b[1;31mTypeError\u001b[0m                                 Traceback (most recent call last)",
      "\u001b[1;32m~\\AppData\\Local\\Temp\\ipykernel_13516\\3693434840.py\u001b[0m in \u001b[0;36m<module>\u001b[1;34m\u001b[0m\n\u001b[0;32m      7\u001b[0m \u001b[1;33m\u001b[0m\u001b[0m\n\u001b[0;32m      8\u001b[0m \u001b[0ma\u001b[0m\u001b[1;33m,\u001b[0m \u001b[0mb\u001b[0m \u001b[1;33m=\u001b[0m \u001b[0mfunc2\u001b[0m\u001b[1;33m(\u001b[0m\u001b[1;36m2\u001b[0m\u001b[1;33m,\u001b[0m \u001b[1;36m3\u001b[0m\u001b[1;33m)\u001b[0m\u001b[1;33m\u001b[0m\u001b[1;33m\u001b[0m\u001b[0m\n\u001b[1;32m----> 9\u001b[1;33m \u001b[0mc\u001b[0m\u001b[1;33m,\u001b[0m \u001b[0md\u001b[0m \u001b[1;33m=\u001b[0m \u001b[0mfunc3\u001b[0m\u001b[1;33m(\u001b[0m\u001b[1;36m3\u001b[0m\u001b[1;33m,\u001b[0m \u001b[1;36m5\u001b[0m\u001b[1;33m)\u001b[0m\u001b[1;33m\u001b[0m\u001b[1;33m\u001b[0m\u001b[0m\n\u001b[0m",
      "\u001b[1;31mTypeError\u001b[0m: cannot unpack non-iterable NoneType object"
     ]
    }
   ],
   "source": [
    "# print 와 return 의 차이.\n",
    "\n",
    "def func2(x, y):\n",
    "    return x, y\n",
    "\n",
    "def func3(x, y):\n",
    "    print(x, y)\n",
    "    \n",
    "    \n",
    "a, b = func2(2, 3)\n",
    "c, d = func3(3, 5)"
   ]
  },
  {
   "cell_type": "markdown",
   "id": "9f8eb267",
   "metadata": {},
   "source": [
    "### 함수를 이용한 코드 작성 편의성 확인"
   ]
  },
  {
   "cell_type": "code",
   "execution_count": 3,
   "id": "63f97921",
   "metadata": {},
   "outputs": [
    {
     "data": {
      "text/plain": [
       "[3, 3, 3, 3, 3, 3, 3, 3, 3, 3]"
      ]
     },
     "execution_count": 3,
     "metadata": {},
     "output_type": "execute_result"
    }
   ],
   "source": [
    "# 리스트 컴프리헨션\n",
    "# 아무리 긴 코드라도 함수 안에 넣어서 리스트 컴프리헨션 실행 가능.\n",
    "\n",
    "def func4(i):\n",
    "    return i\n",
    "    \n",
    "[func4(3) for i in range(10)]"
   ]
  },
  {
   "cell_type": "code",
   "execution_count": 4,
   "id": "ff6ed3b3",
   "metadata": {},
   "outputs": [
    {
     "ename": "NameError",
     "evalue": "name 'df' is not defined",
     "output_type": "error",
     "traceback": [
      "\u001b[1;31m---------------------------------------------------------------------------\u001b[0m",
      "\u001b[1;31mNameError\u001b[0m                                 Traceback (most recent call last)",
      "\u001b[1;32m~\\AppData\\Local\\Temp\\ipykernel_13516\\1250276330.py\u001b[0m in \u001b[0;36m<module>\u001b[1;34m\u001b[0m\n\u001b[0;32m      2\u001b[0m \u001b[1;31m# 데이터프레임에서 apply 할 때 사용 가능\u001b[0m\u001b[1;33m\u001b[0m\u001b[1;33m\u001b[0m\u001b[0m\n\u001b[0;32m      3\u001b[0m \u001b[1;33m\u001b[0m\u001b[0m\n\u001b[1;32m----> 4\u001b[1;33m \u001b[0mdf\u001b[0m\u001b[1;33m[\u001b[0m\u001b[1;34m'col1'\u001b[0m\u001b[1;33m]\u001b[0m\u001b[1;33m.\u001b[0m\u001b[0mapply\u001b[0m\u001b[1;33m(\u001b[0m\u001b[1;32mlambda\u001b[0m \u001b[0mx\u001b[0m \u001b[1;33m:\u001b[0m \u001b[0mfn\u001b[0m\u001b[1;33m(\u001b[0m\u001b[0mx\u001b[0m\u001b[1;33m)\u001b[0m\u001b[1;33m)\u001b[0m\u001b[1;33m\u001b[0m\u001b[1;33m\u001b[0m\u001b[0m\n\u001b[0m",
      "\u001b[1;31mNameError\u001b[0m: name 'df' is not defined"
     ]
    }
   ],
   "source": [
    "# apply 함수 이용\n",
    "# 데이터프레임에서 apply 할 때 사용 가능\n",
    "\n",
    "df['col1'].apply(lambda x : fn(x))"
   ]
  },
  {
   "cell_type": "code",
   "execution_count": 5,
   "id": "cdd58432",
   "metadata": {},
   "outputs": [
    {
     "name": "stdout",
     "output_type": "stream",
     "text": [
      "0\n",
      "1\n",
      "2\n",
      "3\n",
      "4\n",
      "5\n",
      "6\n",
      "7\n",
      "8\n",
      "9\n"
     ]
    }
   ],
   "source": [
    "# 반복문에 활용\n",
    "# 함수의 중첩도 가능하다.\n",
    "\n",
    "for i in range(10):\n",
    "    print(func4(i))"
   ]
  },
  {
   "cell_type": "code",
   "execution_count": 6,
   "id": "650b6670",
   "metadata": {},
   "outputs": [
    {
     "name": "stdout",
     "output_type": "stream",
     "text": [
      "1\n",
      "12\n"
     ]
    }
   ],
   "source": [
    "# 파이썬 패키지 내 함수\n",
    "# time.sleep 과 같은 것..\n",
    "\n",
    "import time\n",
    "\n",
    "\n",
    "print(1)\n",
    "time.sleep(2)\n",
    "print(12)"
   ]
  },
  {
   "cell_type": "code",
   "execution_count": 7,
   "id": "dcfb2d08",
   "metadata": {},
   "outputs": [
    {
     "data": {
      "text/plain": [
       "'lello'"
      ]
     },
     "execution_count": 7,
     "metadata": {},
     "output_type": "execute_result"
    }
   ],
   "source": [
    "# 자료형에서 지원하는 함수\n",
    "# replace는 연산과 리턴을 모두 하는 함수이다.\n",
    "\n",
    "'hello'.replace('h','l')"
   ]
  },
  {
   "cell_type": "code",
   "execution_count": null,
   "id": "904228b0",
   "metadata": {},
   "outputs": [],
   "source": []
  },
  {
   "cell_type": "markdown",
   "id": "0fe05c26",
   "metadata": {},
   "source": [
    "## 실습"
   ]
  },
  {
   "cell_type": "code",
   "execution_count": 8,
   "id": "0c561670",
   "metadata": {},
   "outputs": [
    {
     "name": "stdout",
     "output_type": "stream",
     "text": [
      "function 1\n"
     ]
    }
   ],
   "source": [
    "def func1():\n",
    "    print('function 1')\n",
    "    \n",
    "func1()"
   ]
  },
  {
   "cell_type": "code",
   "execution_count": 9,
   "id": "29d64bca",
   "metadata": {},
   "outputs": [
    {
     "data": {
      "text/plain": [
       "'function 1'"
      ]
     },
     "execution_count": 9,
     "metadata": {},
     "output_type": "execute_result"
    }
   ],
   "source": [
    "def func1():\n",
    "    return 'function 1'\n",
    "    \n",
    "func1()"
   ]
  },
  {
   "cell_type": "code",
   "execution_count": 10,
   "id": "ce0ece2f",
   "metadata": {},
   "outputs": [],
   "source": [
    "# 이와 같이 리턴을 두번 써도 오류는 나지 않으나 최초의 하나만 리턴된다.\n",
    "\n",
    "def func1():\n",
    "    return 'function1'\n",
    "    return 'function2'"
   ]
  },
  {
   "cell_type": "code",
   "execution_count": 11,
   "id": "12541988",
   "metadata": {},
   "outputs": [
    {
     "data": {
      "text/plain": [
       "'function1'"
      ]
     },
     "execution_count": 11,
     "metadata": {},
     "output_type": "execute_result"
    }
   ],
   "source": [
    "func1()"
   ]
  },
  {
   "cell_type": "code",
   "execution_count": 14,
   "id": "e30f3805",
   "metadata": {},
   "outputs": [],
   "source": [
    "# 두 개로 나눠 받고 싶다면 아래와 같이 하면 된다.\n",
    "\n",
    "def func1(x):\n",
    "    if x == 1 :\n",
    "        return 'function1'\n",
    "    else:\n",
    "        return 'function2'\n"
   ]
  },
  {
   "cell_type": "code",
   "execution_count": 15,
   "id": "45aecdfc",
   "metadata": {},
   "outputs": [
    {
     "data": {
      "text/plain": [
       "'function1'"
      ]
     },
     "execution_count": 15,
     "metadata": {},
     "output_type": "execute_result"
    }
   ],
   "source": [
    "# 그런데 x 가 10인데 왜 함수가 function 2 로 리턴하지 않는 것인가.?\n",
    "\n",
    "x = 10\n",
    "a = 1\n",
    "\n",
    "\n",
    "func1(a)"
   ]
  },
  {
   "cell_type": "code",
   "execution_count": 16,
   "id": "eaa35281",
   "metadata": {},
   "outputs": [
    {
     "data": {
      "text/plain": [
       "10"
      ]
     },
     "execution_count": 16,
     "metadata": {},
     "output_type": "execute_result"
    }
   ],
   "source": [
    "x"
   ]
  },
  {
   "cell_type": "code",
   "execution_count": 34,
   "id": "1db0a801",
   "metadata": {},
   "outputs": [],
   "source": [
    "x = 10\n",
    "a = 1\n",
    "\n",
    "def func1(x):\n",
    "    x = 1\n",
    "    \n",
    "    if x == 1 :\n",
    "        return 'function1'\n",
    "    else:\n",
    "        return 'function2'\n",
    "    "
   ]
  },
  {
   "cell_type": "code",
   "execution_count": 41,
   "id": "96230454",
   "metadata": {},
   "outputs": [
    {
     "data": {
      "text/plain": [
       "'function1'"
      ]
     },
     "execution_count": 41,
     "metadata": {},
     "output_type": "execute_result"
    }
   ],
   "source": [
    "func1(2)"
   ]
  },
  {
   "cell_type": "code",
   "execution_count": 38,
   "id": "cc0bd505",
   "metadata": {},
   "outputs": [
    {
     "name": "stdout",
     "output_type": "stream",
     "text": [
      "1\n",
      "1\n",
      "1\n",
      "1\n",
      "1\n"
     ]
    },
    {
     "data": {
      "text/plain": [
       "4"
      ]
     },
     "execution_count": 38,
     "metadata": {},
     "output_type": "execute_result"
    }
   ],
   "source": [
    "x = 10\n",
    "\n",
    "for x in range(5):\n",
    "    print(1)\n",
    "    \n",
    "    \n",
    "x"
   ]
  },
  {
   "cell_type": "code",
   "execution_count": 39,
   "id": "b28277bd",
   "metadata": {},
   "outputs": [
    {
     "name": "stdout",
     "output_type": "stream",
     "text": [
      "1\n",
      "1\n",
      "1\n",
      "1\n",
      "1\n"
     ]
    }
   ],
   "source": [
    "def func2(x) : \n",
    "    for x in range(5):\n",
    "        print(1)\n",
    "        \n",
    "func2(10)"
   ]
  },
  {
   "cell_type": "code",
   "execution_count": 40,
   "id": "d54a355c",
   "metadata": {},
   "outputs": [
    {
     "data": {
      "text/plain": [
       "4"
      ]
     },
     "execution_count": 40,
     "metadata": {},
     "output_type": "execute_result"
    }
   ],
   "source": [
    "x "
   ]
  },
  {
   "cell_type": "code",
   "execution_count": 42,
   "id": "8b89902c",
   "metadata": {},
   "outputs": [
    {
     "ename": "NameError",
     "evalue": "name 'math' is not defined",
     "output_type": "error",
     "traceback": [
      "\u001b[1;31m---------------------------------------------------------------------------\u001b[0m",
      "\u001b[1;31mNameError\u001b[0m                                 Traceback (most recent call last)",
      "\u001b[1;32m~\\AppData\\Local\\Temp\\ipykernel_13516\\2061777469.py\u001b[0m in \u001b[0;36m<module>\u001b[1;34m\u001b[0m\n\u001b[1;32m----> 1\u001b[1;33m \u001b[0mmath\u001b[0m\u001b[1;33m.\u001b[0m\u001b[0msort\u001b[0m\u001b[1;33m(\u001b[0m\u001b[1;36m10\u001b[0m\u001b[1;33m)\u001b[0m\u001b[1;33m\u001b[0m\u001b[1;33m\u001b[0m\u001b[0m\n\u001b[0m",
      "\u001b[1;31mNameError\u001b[0m: name 'math' is not defined"
     ]
    }
   ],
   "source": [
    "math.sort(10)"
   ]
  },
  {
   "cell_type": "code",
   "execution_count": 43,
   "id": "45b5a58b",
   "metadata": {},
   "outputs": [],
   "source": [
    "# 함수는 내가 한 파일 안에 함수를 선언했더라도, 사실상 다른 파일이라고 봐도 무방하다. \n",
    "# 다른 패키지를 임포트 해서 사용하는 것 처럼 동작한다.\n",
    "# 함수 내의 변수를 지역 변수라고 하며, 함수 바깥의 변수를 전역 변수라고 부른다. "
   ]
  },
  {
   "cell_type": "code",
   "execution_count": 53,
   "id": "02352211",
   "metadata": {},
   "outputs": [],
   "source": [
    "def func2(input1) :\n",
    "    input3 = input1 + input2\n",
    "    \n",
    "    return input3"
   ]
  },
  {
   "cell_type": "code",
   "execution_count": 54,
   "id": "4daa433a",
   "metadata": {},
   "outputs": [],
   "source": [
    "# 전역변수\n",
    "input2 = 384"
   ]
  },
  {
   "cell_type": "code",
   "execution_count": 55,
   "id": "2ff75b18",
   "metadata": {},
   "outputs": [
    {
     "data": {
      "text/plain": [
       "1152"
      ]
     },
     "execution_count": 55,
     "metadata": {},
     "output_type": "execute_result"
    }
   ],
   "source": [
    "func2(768)"
   ]
  },
  {
   "cell_type": "markdown",
   "id": "cc9a5fa7",
   "metadata": {},
   "source": [
    "* 함수의 경우 전역변수는 안으로 들어갈 수 있고, 지역변수는 바깥으로 나올 수 없게 되어 있다."
   ]
  },
  {
   "cell_type": "code",
   "execution_count": 61,
   "id": "66a41597",
   "metadata": {},
   "outputs": [
    {
     "ename": "UnboundLocalError",
     "evalue": "local variable 'input2' referenced before assignment",
     "output_type": "error",
     "traceback": [
      "\u001b[1;31m---------------------------------------------------------------------------\u001b[0m",
      "\u001b[1;31mUnboundLocalError\u001b[0m                         Traceback (most recent call last)",
      "\u001b[1;32m~\\AppData\\Local\\Temp\\ipykernel_13516\\3253936809.py\u001b[0m in \u001b[0;36m<module>\u001b[1;34m\u001b[0m\n\u001b[0;32m      8\u001b[0m \u001b[1;33m\u001b[0m\u001b[0m\n\u001b[0;32m      9\u001b[0m \u001b[0minput2\u001b[0m \u001b[1;33m=\u001b[0m \u001b[1;36m384\u001b[0m\u001b[1;33m\u001b[0m\u001b[1;33m\u001b[0m\u001b[0m\n\u001b[1;32m---> 10\u001b[1;33m \u001b[0mfunc2\u001b[0m\u001b[1;33m(\u001b[0m\u001b[1;36m777\u001b[0m\u001b[1;33m)\u001b[0m\u001b[1;33m\u001b[0m\u001b[1;33m\u001b[0m\u001b[0m\n\u001b[0m",
      "\u001b[1;32m~\\AppData\\Local\\Temp\\ipykernel_13516\\3253936809.py\u001b[0m in \u001b[0;36mfunc2\u001b[1;34m(input1)\u001b[0m\n\u001b[0;32m      2\u001b[0m \u001b[1;33m\u001b[0m\u001b[0m\n\u001b[0;32m      3\u001b[0m \u001b[1;32mdef\u001b[0m \u001b[0mfunc2\u001b[0m\u001b[1;33m(\u001b[0m\u001b[0minput1\u001b[0m\u001b[1;33m)\u001b[0m \u001b[1;33m:\u001b[0m\u001b[1;33m\u001b[0m\u001b[1;33m\u001b[0m\u001b[0m\n\u001b[1;32m----> 4\u001b[1;33m     \u001b[0minput3\u001b[0m \u001b[1;33m=\u001b[0m \u001b[0minput1\u001b[0m \u001b[1;33m+\u001b[0m \u001b[0minput2\u001b[0m\u001b[1;33m\u001b[0m\u001b[1;33m\u001b[0m\u001b[0m\n\u001b[0m\u001b[0;32m      5\u001b[0m     \u001b[0minput2\u001b[0m \u001b[1;33m+=\u001b[0m \u001b[1;36m5\u001b[0m\u001b[1;33m\u001b[0m\u001b[1;33m\u001b[0m\u001b[0m\n\u001b[0;32m      6\u001b[0m \u001b[1;33m\u001b[0m\u001b[0m\n",
      "\u001b[1;31mUnboundLocalError\u001b[0m: local variable 'input2' referenced before assignment"
     ]
    }
   ],
   "source": [
    "# 이 코드는 에러가 난다. 왜 날까?\n",
    "\n",
    "def func2(input1) :\n",
    "    input3 = input1 + input2\n",
    "    input2 += 5\n",
    "    \n",
    "    return input3\n",
    "\n",
    "input2 = 384\n",
    "func2(777)"
   ]
  },
  {
   "cell_type": "code",
   "execution_count": null,
   "id": "5dd2f5da",
   "metadata": {},
   "outputs": [],
   "source": [
    "# global선언 없이 함수 내에서 전역변수를 사용할 경우\n",
    "# print(a) , if a == 1: 과 같이 조회하는 기능만 가능하다.\n",
    "\n",
    "# a값을 변경하는 것과 같이 \"할당\"을 해주려면 global선언이 필수적이다."
   ]
  },
  {
   "cell_type": "code",
   "execution_count": 58,
   "id": "c472bf9c",
   "metadata": {},
   "outputs": [
    {
     "data": {
      "text/plain": [
       "1161"
      ]
     },
     "execution_count": 58,
     "metadata": {},
     "output_type": "execute_result"
    }
   ],
   "source": [
    "def func2(input1) :\n",
    "    global input2\n",
    "    \n",
    "    input3 = input1 + input2\n",
    "    input2 += 5\n",
    "    \n",
    "    return input3\n",
    "\n",
    "input2 = 384\n",
    "func2(777)"
   ]
  },
  {
   "cell_type": "markdown",
   "id": "e53e981d",
   "metadata": {},
   "source": [
    "* 함수는 변수를 일단 로컬에서 먼저 찾고, 없을 경우 전역(글로벌) 에서 찾아 오게 된다.\n",
    "* 6번 줄에서 input2를 지역 변수로 선언하려고 시도하는데, 이미 같은 이름으로 5번 줄에서 전역 변수가 사용되기 때문에\n",
    "* 지역변수로는 어떻게 할 수 없다.\n",
    "* 해결법으로는 위의 2번 줄과 같이 input2를 지역변수처럼 쓰지만, 사실 전역변수라고 선언해주면 된다.\n",
    "* 이렇게 전역변수로 한번 함수 내에서 쓰이게 되면 그 값은 지역에서 수정이 불가하다."
   ]
  },
  {
   "cell_type": "code",
   "execution_count": 69,
   "id": "eacc1f81",
   "metadata": {},
   "outputs": [
    {
     "ename": "UnboundLocalError",
     "evalue": "local variable 'input2' referenced before assignment",
     "output_type": "error",
     "traceback": [
      "\u001b[1;31m---------------------------------------------------------------------------\u001b[0m",
      "\u001b[1;31mUnboundLocalError\u001b[0m                         Traceback (most recent call last)",
      "\u001b[1;32m~\\AppData\\Local\\Temp\\ipykernel_13516\\2308863853.py\u001b[0m in \u001b[0;36m<module>\u001b[1;34m\u001b[0m\n\u001b[0;32m     10\u001b[0m \u001b[1;33m\u001b[0m\u001b[0m\n\u001b[0;32m     11\u001b[0m \u001b[0minput2\u001b[0m \u001b[1;33m=\u001b[0m \u001b[1;36m384\u001b[0m\u001b[1;33m\u001b[0m\u001b[1;33m\u001b[0m\u001b[0m\n\u001b[1;32m---> 12\u001b[1;33m \u001b[0mfunc2\u001b[0m\u001b[1;33m(\u001b[0m\u001b[1;36m777\u001b[0m\u001b[1;33m)\u001b[0m\u001b[1;33m\u001b[0m\u001b[1;33m\u001b[0m\u001b[0m\n\u001b[0m",
      "\u001b[1;32m~\\AppData\\Local\\Temp\\ipykernel_13516\\2308863853.py\u001b[0m in \u001b[0;36mfunc2\u001b[1;34m(input1)\u001b[0m\n\u001b[0;32m      3\u001b[0m \u001b[1;32mdef\u001b[0m \u001b[0mfunc2\u001b[0m\u001b[1;33m(\u001b[0m\u001b[0minput1\u001b[0m\u001b[1;33m)\u001b[0m \u001b[1;33m:\u001b[0m\u001b[1;33m\u001b[0m\u001b[1;33m\u001b[0m\u001b[0m\n\u001b[0;32m      4\u001b[0m \u001b[1;33m\u001b[0m\u001b[0m\n\u001b[1;32m----> 5\u001b[1;33m     \u001b[0minput3\u001b[0m \u001b[1;33m=\u001b[0m \u001b[0minput1\u001b[0m \u001b[1;33m+\u001b[0m \u001b[0minput2\u001b[0m\u001b[1;33m\u001b[0m\u001b[1;33m\u001b[0m\u001b[0m\n\u001b[0m\u001b[0;32m      6\u001b[0m     \u001b[0minput2\u001b[0m \u001b[1;33m=\u001b[0m \u001b[1;36m999\u001b[0m\u001b[1;33m\u001b[0m\u001b[1;33m\u001b[0m\u001b[0m\n\u001b[0;32m      7\u001b[0m     \u001b[0minput2\u001b[0m \u001b[1;33m+=\u001b[0m \u001b[1;36m5\u001b[0m\u001b[1;33m\u001b[0m\u001b[1;33m\u001b[0m\u001b[0m\n",
      "\u001b[1;31mUnboundLocalError\u001b[0m: local variable 'input2' referenced before assignment"
     ]
    }
   ],
   "source": [
    "# 그래서 지역변수로 선언하는 부분을 넣어 보았다... 그런데 안된다? \n",
    "\n",
    "def func2(input1) :\n",
    "    \n",
    "    input3 = input1 + input2\n",
    "    input2 = 999\n",
    "    input2 += 5\n",
    "    \n",
    "    return input3\n",
    "\n",
    "input2 = 384\n",
    "func2(777)"
   ]
  },
  {
   "cell_type": "markdown",
   "id": "6dc02855",
   "metadata": {},
   "source": [
    "* 위의 해결법은 함수가 전역변수를 사용하기 전에 지역변수로 선언해야 한다는 것이다.\n",
    "* 아래와 같이 하면 된다."
   ]
  },
  {
   "cell_type": "code",
   "execution_count": 63,
   "id": "abe914d4",
   "metadata": {},
   "outputs": [
    {
     "data": {
      "text/plain": [
       "1776"
      ]
     },
     "execution_count": 63,
     "metadata": {},
     "output_type": "execute_result"
    }
   ],
   "source": [
    "def func2(input1) :\n",
    "    \n",
    "    input2 = 999\n",
    "    input3 = input1 + input2\n",
    "    input2 += 5\n",
    "    \n",
    "    return input3\n",
    "\n",
    "input2 = 384\n",
    "func2(777)"
   ]
  },
  {
   "cell_type": "markdown",
   "id": "7274b17f",
   "metadata": {},
   "source": [
    "---\n",
    "## 실습 : 함수를 이용한 반복문\n",
    "* func3 함수를 만든다.\n",
    "* 해당 함수는 입력된 두 수의 제곱을 각각 리턴한다.\n",
    "* 1-10 범위에서 해당 연산을 반복하고 출력하도록 구성한다."
   ]
  },
  {
   "cell_type": "code",
   "execution_count": 70,
   "id": "b567264f",
   "metadata": {},
   "outputs": [
    {
     "name": "stdout",
     "output_type": "stream",
     "text": [
      "첫 번째 수 : 2.55\n",
      "두 번째 수 : 6.4\n",
      "(6.5024999999999995, 40.96000000000001)\n",
      "(6.5024999999999995, 40.96000000000001)\n",
      "(6.5024999999999995, 40.96000000000001)\n",
      "(6.5024999999999995, 40.96000000000001)\n",
      "(6.5024999999999995, 40.96000000000001)\n",
      "(6.5024999999999995, 40.96000000000001)\n",
      "(6.5024999999999995, 40.96000000000001)\n",
      "(6.5024999999999995, 40.96000000000001)\n",
      "(6.5024999999999995, 40.96000000000001)\n",
      "(6.5024999999999995, 40.96000000000001)\n"
     ]
    }
   ],
   "source": [
    "def func3(x, y):\n",
    "    return x**2, y**2\n",
    "\n",
    "\n",
    "a = float(input(\"첫 번째 수 : \"))\n",
    "b = float(input(\"두 번째 수 : \"))\n",
    "\n",
    "\n",
    "for i in range(1, 11):\n",
    "    print(func3(a, b))"
   ]
  },
  {
   "cell_type": "code",
   "execution_count": 71,
   "id": "ae26574c",
   "metadata": {},
   "outputs": [
    {
     "ename": "NameError",
     "evalue": "name 'func_ex' is not defined",
     "output_type": "error",
     "traceback": [
      "\u001b[1;31m---------------------------------------------------------------------------\u001b[0m",
      "\u001b[1;31mNameError\u001b[0m                                 Traceback (most recent call last)",
      "\u001b[1;32m~\\AppData\\Local\\Temp\\ipykernel_13516\\3156139769.py\u001b[0m in \u001b[0;36m<module>\u001b[1;34m\u001b[0m\n\u001b[1;32m----> 1\u001b[1;33m \u001b[0mfunc_ex\u001b[0m\u001b[1;33m(\u001b[0m\u001b[1;36m2\u001b[0m\u001b[1;33m,\u001b[0m \u001b[1;36m9\u001b[0m\u001b[1;33m)\u001b[0m\u001b[1;33m\u001b[0m\u001b[1;33m\u001b[0m\u001b[0m\n\u001b[0m",
      "\u001b[1;31mNameError\u001b[0m: name 'func_ex' is not defined"
     ]
    }
   ],
   "source": [
    "# 함수가 선언되기 전에 사용하면 안된다.\n",
    "func_ex(2, 9)"
   ]
  },
  {
   "cell_type": "code",
   "execution_count": null,
   "id": "3cbfaf7f",
   "metadata": {},
   "outputs": [],
   "source": [
    "def func_ex(a, b):\n",
    "    print(a, b)"
   ]
  },
  {
   "cell_type": "code",
   "execution_count": null,
   "id": "3869500b",
   "metadata": {},
   "outputs": [],
   "source": [
    "# 같은 셀에 있더라도 먼저 사용하면 안된다. \n",
    "\n",
    "func_ex(2, 9)\n",
    "\n",
    "def func_ex(a, b):\n",
    "    print(a, b)"
   ]
  },
  {
   "cell_type": "code",
   "execution_count": null,
   "id": "4540214d",
   "metadata": {},
   "outputs": [],
   "source": []
  },
  {
   "cell_type": "code",
   "execution_count": null,
   "id": "243bbaa2",
   "metadata": {},
   "outputs": [],
   "source": []
  },
  {
   "cell_type": "code",
   "execution_count": 77,
   "id": "208849aa",
   "metadata": {},
   "outputs": [
    {
     "ename": "NameError",
     "evalue": "name 'numberA' is not defined",
     "output_type": "error",
     "traceback": [
      "\u001b[1;31m---------------------------------------------------------------------------\u001b[0m",
      "\u001b[1;31mNameError\u001b[0m                                 Traceback (most recent call last)",
      "\u001b[1;32m~\\AppData\\Local\\Temp\\ipykernel_13516\\2639816434.py\u001b[0m in \u001b[0;36m<module>\u001b[1;34m\u001b[0m\n\u001b[1;32m----> 1\u001b[1;33m \u001b[0mnumberA\u001b[0m\u001b[1;33m\u001b[0m\u001b[1;33m\u001b[0m\u001b[0m\n\u001b[0m",
      "\u001b[1;31mNameError\u001b[0m: name 'numberA' is not defined"
     ]
    }
   ],
   "source": [
    "numberA"
   ]
  },
  {
   "cell_type": "code",
   "execution_count": 90,
   "id": "1f9be2d3",
   "metadata": {},
   "outputs": [],
   "source": [
    "def func_ex():\n",
    "    print(numberA, numberB)"
   ]
  },
  {
   "cell_type": "code",
   "execution_count": 79,
   "id": "355db6a2",
   "metadata": {},
   "outputs": [
    {
     "ename": "TypeError",
     "evalue": "unsupported operand type(s) for //: 'str' and 'int'",
     "output_type": "error",
     "traceback": [
      "\u001b[1;31m---------------------------------------------------------------------------\u001b[0m",
      "\u001b[1;31mTypeError\u001b[0m                                 Traceback (most recent call last)",
      "\u001b[1;32m~\\AppData\\Local\\Temp\\ipykernel_13516\\3877377447.py\u001b[0m in \u001b[0;36m<module>\u001b[1;34m\u001b[0m\n\u001b[1;32m----> 1\u001b[1;33m \u001b[0mfunc_ex\u001b[0m\u001b[1;33m(\u001b[0m\u001b[1;33m)\u001b[0m\u001b[1;33m\u001b[0m\u001b[1;33m\u001b[0m\u001b[0m\n\u001b[0m",
      "\u001b[1;32m~\\AppData\\Local\\Temp\\ipykernel_13516\\3140340105.py\u001b[0m in \u001b[0;36mfunc_ex\u001b[1;34m()\u001b[0m\n\u001b[0;32m      1\u001b[0m \u001b[1;32mdef\u001b[0m \u001b[0mfunc_ex\u001b[0m\u001b[1;33m(\u001b[0m\u001b[1;33m)\u001b[0m\u001b[1;33m:\u001b[0m\u001b[1;33m\u001b[0m\u001b[1;33m\u001b[0m\u001b[0m\n\u001b[1;32m----> 2\u001b[1;33m     \u001b[1;34m\"hello\"\u001b[0m\u001b[1;33m//\u001b[0m\u001b[1;36m3\u001b[0m\u001b[1;33m\u001b[0m\u001b[1;33m\u001b[0m\u001b[0m\n\u001b[0m\u001b[0;32m      3\u001b[0m     \u001b[0mprint\u001b[0m\u001b[1;33m(\u001b[0m\u001b[0mnumberA\u001b[0m\u001b[1;33m,\u001b[0m \u001b[0mnumberB\u001b[0m\u001b[1;33m)\u001b[0m\u001b[1;33m\u001b[0m\u001b[1;33m\u001b[0m\u001b[0m\n",
      "\u001b[1;31mTypeError\u001b[0m: unsupported operand type(s) for //: 'str' and 'int'"
     ]
    }
   ],
   "source": [
    "func_ex()"
   ]
  },
  {
   "cell_type": "markdown",
   "id": "09e1d06b",
   "metadata": {},
   "source": [
    "* 왜 아래에 와서야 오류를 냈을까?\n",
    "* 선언 시에는 numberA가 선언되지 않았더라도 나중에 전역변수를 가져올 수도 있으니..\n",
    "* 그럼 아예 맞는지 체크도 안하는 것일까?"
   ]
  },
  {
   "cell_type": "code",
   "execution_count": 80,
   "id": "b88aaf1b",
   "metadata": {},
   "outputs": [],
   "source": [
    "# 그냥 들어간다?\n",
    "\n",
    "def func_ex():\n",
    "    \"hello\"//3\n",
    "    print(numberA, numberB)"
   ]
  },
  {
   "cell_type": "code",
   "execution_count": 82,
   "id": "811b0ad3",
   "metadata": {},
   "outputs": [
    {
     "ename": "TypeError",
     "evalue": "unsupported operand type(s) for //: 'str' and 'int'",
     "output_type": "error",
     "traceback": [
      "\u001b[1;31m---------------------------------------------------------------------------\u001b[0m",
      "\u001b[1;31mTypeError\u001b[0m                                 Traceback (most recent call last)",
      "\u001b[1;32m~\\AppData\\Local\\Temp\\ipykernel_13516\\3877377447.py\u001b[0m in \u001b[0;36m<module>\u001b[1;34m\u001b[0m\n\u001b[1;32m----> 1\u001b[1;33m \u001b[0mfunc_ex\u001b[0m\u001b[1;33m(\u001b[0m\u001b[1;33m)\u001b[0m\u001b[1;33m\u001b[0m\u001b[1;33m\u001b[0m\u001b[0m\n\u001b[0m",
      "\u001b[1;32m~\\AppData\\Local\\Temp\\ipykernel_13516\\3140340105.py\u001b[0m in \u001b[0;36mfunc_ex\u001b[1;34m()\u001b[0m\n\u001b[0;32m      1\u001b[0m \u001b[1;32mdef\u001b[0m \u001b[0mfunc_ex\u001b[0m\u001b[1;33m(\u001b[0m\u001b[1;33m)\u001b[0m\u001b[1;33m:\u001b[0m\u001b[1;33m\u001b[0m\u001b[1;33m\u001b[0m\u001b[0m\n\u001b[1;32m----> 2\u001b[1;33m     \u001b[1;34m\"hello\"\u001b[0m\u001b[1;33m//\u001b[0m\u001b[1;36m3\u001b[0m\u001b[1;33m\u001b[0m\u001b[1;33m\u001b[0m\u001b[0m\n\u001b[0m\u001b[0;32m      3\u001b[0m     \u001b[0mprint\u001b[0m\u001b[1;33m(\u001b[0m\u001b[0mnumberA\u001b[0m\u001b[1;33m,\u001b[0m \u001b[0mnumberB\u001b[0m\u001b[1;33m)\u001b[0m\u001b[1;33m\u001b[0m\u001b[1;33m\u001b[0m\u001b[0m\n",
      "\u001b[1;31mTypeError\u001b[0m: unsupported operand type(s) for //: 'str' and 'int'"
     ]
    }
   ],
   "source": [
    "# 여기도 이제서야 에러가 난다.\n",
    "\n",
    "func_ex()"
   ]
  },
  {
   "cell_type": "code",
   "execution_count": 86,
   "id": "7d7fa988",
   "metadata": {},
   "outputs": [],
   "source": [
    "# 철자도 틀려 보자.\n",
    "# 없는 함수도 일단은 선언된다... 그런데 이건 다른 함수가 있을 수도 있어서 되는 것이 아닌가?\n",
    "\n",
    "def func_ex():\n",
    "    [1,2,3].ppand(4)\n",
    "    print(numberA, numberB)"
   ]
  },
  {
   "cell_type": "code",
   "execution_count": 87,
   "id": "5aaa73aa",
   "metadata": {},
   "outputs": [
    {
     "ename": "AttributeError",
     "evalue": "'list' object has no attribute 'ppand'",
     "output_type": "error",
     "traceback": [
      "\u001b[1;31m---------------------------------------------------------------------------\u001b[0m",
      "\u001b[1;31mAttributeError\u001b[0m                            Traceback (most recent call last)",
      "\u001b[1;32m~\\AppData\\Local\\Temp\\ipykernel_13516\\3877377447.py\u001b[0m in \u001b[0;36m<module>\u001b[1;34m\u001b[0m\n\u001b[1;32m----> 1\u001b[1;33m \u001b[0mfunc_ex\u001b[0m\u001b[1;33m(\u001b[0m\u001b[1;33m)\u001b[0m\u001b[1;33m\u001b[0m\u001b[1;33m\u001b[0m\u001b[0m\n\u001b[0m",
      "\u001b[1;32m~\\AppData\\Local\\Temp\\ipykernel_13516\\2726874916.py\u001b[0m in \u001b[0;36mfunc_ex\u001b[1;34m()\u001b[0m\n\u001b[0;32m      2\u001b[0m \u001b[1;33m\u001b[0m\u001b[0m\n\u001b[0;32m      3\u001b[0m \u001b[1;32mdef\u001b[0m \u001b[0mfunc_ex\u001b[0m\u001b[1;33m(\u001b[0m\u001b[1;33m)\u001b[0m\u001b[1;33m:\u001b[0m\u001b[1;33m\u001b[0m\u001b[1;33m\u001b[0m\u001b[0m\n\u001b[1;32m----> 4\u001b[1;33m     \u001b[1;33m[\u001b[0m\u001b[1;36m1\u001b[0m\u001b[1;33m,\u001b[0m\u001b[1;36m2\u001b[0m\u001b[1;33m,\u001b[0m\u001b[1;36m3\u001b[0m\u001b[1;33m]\u001b[0m\u001b[1;33m.\u001b[0m\u001b[0mppand\u001b[0m\u001b[1;33m(\u001b[0m\u001b[1;36m4\u001b[0m\u001b[1;33m)\u001b[0m\u001b[1;33m\u001b[0m\u001b[1;33m\u001b[0m\u001b[0m\n\u001b[0m\u001b[0;32m      5\u001b[0m     \u001b[0mprint\u001b[0m\u001b[1;33m(\u001b[0m\u001b[0mnumberA\u001b[0m\u001b[1;33m,\u001b[0m \u001b[0mnumberB\u001b[0m\u001b[1;33m)\u001b[0m\u001b[1;33m\u001b[0m\u001b[1;33m\u001b[0m\u001b[0m\n",
      "\u001b[1;31mAttributeError\u001b[0m: 'list' object has no attribute 'ppand'"
     ]
    }
   ],
   "source": [
    "func_ex()"
   ]
  },
  {
   "cell_type": "code",
   "execution_count": null,
   "id": "3911e0d4",
   "metadata": {},
   "outputs": [],
   "source": []
  },
  {
   "cell_type": "code",
   "execution_count": 91,
   "id": "88776e06",
   "metadata": {},
   "outputs": [
    {
     "ename": "SyntaxError",
     "evalue": "unexpected EOF while parsing (281878824.py, line 2)",
     "output_type": "error",
     "traceback": [
      "\u001b[1;36m  File \u001b[1;32m\"C:\\Users\\user\\AppData\\Local\\Temp\\ipykernel_13516\\281878824.py\"\u001b[1;36m, line \u001b[1;32m2\u001b[0m\n\u001b[1;33m    print(numberA, numberB\u001b[0m\n\u001b[1;37m                          ^\u001b[0m\n\u001b[1;31mSyntaxError\u001b[0m\u001b[1;31m:\u001b[0m unexpected EOF while parsing\n"
     ]
    }
   ],
   "source": [
    "# 괄호를 안닫았더니 오류가 났다!\n",
    "\n",
    "def func_ex():\n",
    "    print(numberA, numberB"
   ]
  },
  {
   "cell_type": "code",
   "execution_count": 93,
   "id": "abddd6ad",
   "metadata": {},
   "outputs": [
    {
     "ename": "SyntaxError",
     "evalue": "unexpected character after line continuation character (4195843649.py, line 5)",
     "output_type": "error",
     "traceback": [
      "\u001b[1;36m  File \u001b[1;32m\"C:\\Users\\user\\AppData\\Local\\Temp\\ipykernel_13516\\4195843649.py\"\u001b[1;36m, line \u001b[1;32m5\u001b[0m\n\u001b[1;33m    \\\\\\\u001b[0m\n\u001b[1;37m     ^\u001b[0m\n\u001b[1;31mSyntaxError\u001b[0m\u001b[1;31m:\u001b[0m unexpected character after line continuation character\n"
     ]
    }
   ],
   "source": [
    "# 의미 없는 특수문자를 써 보았더니 오류가 났다!\n",
    "\n",
    "def func_ex():\n",
    "    print(numberA, numberB)\n",
    "    \\\\\\"
   ]
  },
  {
   "cell_type": "markdown",
   "id": "990b185e",
   "metadata": {},
   "source": [
    "* 함수를 선언할 때에는 실행을 하는 것이 아니므로, 변수 선언이 안됐더라도 함수 선언을 할 수 있다.\n",
    "* 불가능한 연산이 들어간 경우에는, 아예 실행을 해보지 못하기 때문에 체크하지 못하므로 그냥 선언된다.\n",
    "* 다만, 함수 내부에서 구조적인 문제가 있을 경우에는 무조건 에러가 나게 되어있다.\n",
    "* 괄호를 닫지 않거나, 의미없는 특수문자를 쓴다거나 하는 것..\n",
    "* 즉, 실행되지 않아도 발생하는 에러를 우선적으로 체크하는 것이다."
   ]
  },
  {
   "cell_type": "markdown",
   "id": "50e3c569",
   "metadata": {},
   "source": [
    "## 파이썬 중급 공부하기 "
   ]
  },
  {
   "cell_type": "markdown",
   "id": "728064a9",
   "metadata": {},
   "source": [
    "* 구글에 궁금한 기법 \"github\"\n",
    "* 구글 학술검색에서 지원하는 자료 찾기\n",
    "* 궁금한 내용은 추가 구글링"
   ]
  },
  {
   "cell_type": "code",
   "execution_count": null,
   "id": "4dd54903",
   "metadata": {},
   "outputs": [],
   "source": []
  },
  {
   "cell_type": "code",
   "execution_count": null,
   "id": "59cee6f7",
   "metadata": {},
   "outputs": [],
   "source": []
  },
  {
   "cell_type": "code",
   "execution_count": 94,
   "id": "ca63f77e",
   "metadata": {},
   "outputs": [],
   "source": [
    "def func1(x):\n",
    "    return x"
   ]
  },
  {
   "cell_type": "code",
   "execution_count": 99,
   "id": "c1fe37b9",
   "metadata": {},
   "outputs": [],
   "source": [
    "def func2(y):\n",
    "    return y"
   ]
  },
  {
   "cell_type": "code",
   "execution_count": 105,
   "id": "5f31a39b",
   "metadata": {},
   "outputs": [],
   "source": [
    "def func3(x):\n",
    "    def func6(x):\n",
    "        return x"
   ]
  },
  {
   "cell_type": "code",
   "execution_count": 106,
   "id": "f533bd27",
   "metadata": {},
   "outputs": [
    {
     "data": {
      "text/plain": [
       "1"
      ]
     },
     "execution_count": 106,
     "metadata": {},
     "output_type": "execute_result"
    }
   ],
   "source": [
    "func1(1)"
   ]
  },
  {
   "cell_type": "code",
   "execution_count": 107,
   "id": "fe79b6fb",
   "metadata": {},
   "outputs": [
    {
     "data": {
      "text/plain": [
       "2"
      ]
     },
     "execution_count": 107,
     "metadata": {},
     "output_type": "execute_result"
    }
   ],
   "source": [
    "func2(2)"
   ]
  },
  {
   "cell_type": "code",
   "execution_count": 103,
   "id": "3befec73",
   "metadata": {},
   "outputs": [],
   "source": [
    "func3(3)"
   ]
  },
  {
   "cell_type": "code",
   "execution_count": 109,
   "id": "5e7112ac",
   "metadata": {},
   "outputs": [
    {
     "ename": "NameError",
     "evalue": "name 'func6' is not defined",
     "output_type": "error",
     "traceback": [
      "\u001b[1;31m---------------------------------------------------------------------------\u001b[0m",
      "\u001b[1;31mNameError\u001b[0m                                 Traceback (most recent call last)",
      "\u001b[1;32m~\\AppData\\Local\\Temp\\ipykernel_13516\\2514089105.py\u001b[0m in \u001b[0;36m<module>\u001b[1;34m\u001b[0m\n\u001b[0;32m      1\u001b[0m \u001b[1;31m# 왜 func6 을 없다고 할까?\u001b[0m\u001b[1;33m\u001b[0m\u001b[1;33m\u001b[0m\u001b[0m\n\u001b[0;32m      2\u001b[0m \u001b[1;33m\u001b[0m\u001b[0m\n\u001b[1;32m----> 3\u001b[1;33m \u001b[0mfunc6\u001b[0m\u001b[1;33m(\u001b[0m\u001b[1;36m5\u001b[0m\u001b[1;33m)\u001b[0m\u001b[1;33m\u001b[0m\u001b[1;33m\u001b[0m\u001b[0m\n\u001b[0m",
      "\u001b[1;31mNameError\u001b[0m: name 'func6' is not defined"
     ]
    }
   ],
   "source": [
    "# 왜 func6 을 없다고 할까?\n",
    "# func6 이 실행되지 않았기 때문인가?\n",
    "\n",
    "func6(5)"
   ]
  },
  {
   "cell_type": "code",
   "execution_count": 112,
   "id": "9989432b",
   "metadata": {},
   "outputs": [],
   "source": [
    "# 이와 같이 해보아도 동작하지 않는다.\n",
    "\n",
    "def func3(x):\n",
    "    def func6(x):\n",
    "        return x\n",
    "    \n",
    "    func6(x)"
   ]
  },
  {
   "cell_type": "code",
   "execution_count": 113,
   "id": "b54f12a0",
   "metadata": {},
   "outputs": [],
   "source": [
    "func3(4)"
   ]
  },
  {
   "cell_type": "code",
   "execution_count": null,
   "id": "0ce05ddb",
   "metadata": {},
   "outputs": [],
   "source": []
  },
  {
   "cell_type": "code",
   "execution_count": 136,
   "id": "c67fb027",
   "metadata": {},
   "outputs": [],
   "source": [
    "# 함수 자체가 리턴되어서 나오는 순간 함수가 실행이 끝난다.\n",
    "# func6 함수는 func3 함수가 실행되는 중에만 정의되어 작동할 수 있다.\n",
    "# func3 함수가 마지막 줄에서 리턴해서 끝나는 순간 func6 함수는 다시 정의되지 않은 함수가 된다.\n",
    "# 라고 생각했다.\n",
    "\n",
    "def func3(x):\n",
    "    \n",
    "    def func6(x):\n",
    "        return x\n",
    "    \n",
    "    print(func6(55))\n",
    "    \n",
    "    print(1+1)\n",
    "    return x"
   ]
  },
  {
   "cell_type": "code",
   "execution_count": 137,
   "id": "e511b3cc",
   "metadata": {},
   "outputs": [
    {
     "name": "stdout",
     "output_type": "stream",
     "text": [
      "55\n",
      "2\n"
     ]
    },
    {
     "data": {
      "text/plain": [
       "4"
      ]
     },
     "execution_count": 137,
     "metadata": {},
     "output_type": "execute_result"
    }
   ],
   "source": [
    "func3(4)"
   ]
  },
  {
   "cell_type": "code",
   "execution_count": 138,
   "id": "3bdc1143",
   "metadata": {},
   "outputs": [
    {
     "ename": "NameError",
     "evalue": "name 'func6' is not defined",
     "output_type": "error",
     "traceback": [
      "\u001b[1;31m---------------------------------------------------------------------------\u001b[0m",
      "\u001b[1;31mNameError\u001b[0m                                 Traceback (most recent call last)",
      "\u001b[1;32m~\\AppData\\Local\\Temp\\ipykernel_13516\\3946629481.py\u001b[0m in \u001b[0;36m<module>\u001b[1;34m\u001b[0m\n\u001b[1;32m----> 1\u001b[1;33m \u001b[0mfunc6\u001b[0m\u001b[1;33m(\u001b[0m\u001b[1;36m3\u001b[0m\u001b[1;33m)\u001b[0m\u001b[1;33m\u001b[0m\u001b[1;33m\u001b[0m\u001b[0m\n\u001b[0m",
      "\u001b[1;31mNameError\u001b[0m: name 'func6' is not defined"
     ]
    }
   ],
   "source": [
    "func6(3)"
   ]
  },
  {
   "cell_type": "markdown",
   "id": "eb5b1e2a",
   "metadata": {},
   "source": [
    "* 함수 내부 함수의 지역변수를 메인함수의 변수로 쓸 수 없다. \n",
    "* 위와 같이 쓴다고 해서 4가 3안에 포함, 3은 메인 안에 포함 이런 식으로 된게 아니다.\n",
    "* 단순히 통신이 되는 것이라고 보면 좋다. <br><br>\n",
    "* 메인 - 3 - 4 \n",
    "* 3에서는 4로 인풋 가능, 4에서 3으로만 리턴 가능.\n",
    "* 메인에서 3으로 인풋 가능, 3에서 메인으로 리턴 가능.\n",
    "* 위 관계를 뛰어넘고 메인 - 4로 바로 왔다갔다 할 수는 없다."
   ]
  },
  {
   "cell_type": "code",
   "execution_count": null,
   "id": "66d68e29",
   "metadata": {},
   "outputs": [],
   "source": []
  },
  {
   "cell_type": "code",
   "execution_count": null,
   "id": "0bfd17c1",
   "metadata": {},
   "outputs": [],
   "source": []
  },
  {
   "cell_type": "markdown",
   "id": "51ec0fd4",
   "metadata": {},
   "source": [
    "---\n",
    "## 실습 : 함수 써보기"
   ]
  },
  {
   "cell_type": "code",
   "execution_count": 150,
   "id": "3f8d275e",
   "metadata": {},
   "outputs": [
    {
     "name": "stdout",
     "output_type": "stream",
     "text": [
      "Number 1 : 1\n",
      "Number 2 : 2\n",
      "Number 3 : 3\n",
      "Number 4 : 4\n",
      "60\n",
      "3600\n",
      "[63, 64, 65, 66, 67, 68, 69, 70, 71, 72, 73, 74, 75, 76, 77, 78, 79, 80, 81, 82, 83, 84, 85, 86, 87, 88, 89, 90, 91, 92, 93, 94, 95, 96, 97, 98, 99, 100, 101, 102, 103, 104, 105, 106, 107, 108, 109, 110, 111, 112, 113, 114, 115, 116, 117, 118, 119, 120, 121, 122]\n"
     ]
    }
   ],
   "source": [
    "def sum_all(x, y, z, w):\n",
    "    sum_1 = x + y        # 입력x + 입력y\n",
    "    sum_2 = sum_1 + z    # 입력x + 입력y + 입력z\n",
    "    sum_3 = sum_1 + z    # 입력x + 입력y + 입력z\n",
    "    sum_4 = sum_3 + sum_2 + sum_1   # 3 * (입력x + 입력y) + 2 * 입력z\n",
    "    \n",
    "    sum_5 = 0\n",
    "    for i in range(w):\n",
    "        sum_5 += sum_4      # sum_5 = 입력w * {3 * (입력x + 입력y) + 2 * 입력z}\n",
    "        \n",
    "    return sum_5\n",
    "\n",
    "def for_loop(x, y):     # for_loop(num1_res 계산값, 입력x)\n",
    "    res = 0\n",
    "    \n",
    "    for i in range(x):   #  for i in range(num1_res 계산값):\n",
    "        res += x              # res += num1_res 계산값\n",
    "        \n",
    "        for j in range(y):     # for j in range(입력x):\n",
    "            res -= j           # res -= j\n",
    "            \n",
    "    return res\n",
    "\n",
    "def list_return(x, y, z, w):                # list_return(num1_res값, num2_res값, 입력z, 입력w)\n",
    "    return [i + x + z for i in range(x)]   # return [i + num1_res값 + 입력z for i in range(num1_res값)]\n",
    "         \n",
    "    \n",
    "x = int(input(\"Number 1 : \"))\n",
    "y = int(input(\"Number 2 : \"))\n",
    "z = int(input(\"Number 3 : \"))\n",
    "w = int(input(\"Number 4 : \"))\n",
    "                    # [0+num1_res값+입력z, 1+num1_res값+입력z, ... , (num1_res값-1)+num1_res값+입력z]\n",
    "\n",
    "\n",
    "num1_res = sum_all(x, y, z, w)\n",
    "num2_res = for_loop(num1_res, x)\n",
    "num3_res = list_return(num1_res, num2_res, z, w)\n",
    "\n",
    "print(num1_res)\n",
    "print(num2_res)\n",
    "print(num3_res)"
   ]
  },
  {
   "cell_type": "code",
   "execution_count": 146,
   "id": "ece534d9",
   "metadata": {},
   "outputs": [
    {
     "data": {
      "text/plain": [
       "60"
      ]
     },
     "execution_count": 146,
     "metadata": {},
     "output_type": "execute_result"
    }
   ],
   "source": [
    "num1_res"
   ]
  },
  {
   "cell_type": "code",
   "execution_count": 147,
   "id": "a11e6d23",
   "metadata": {},
   "outputs": [
    {
     "data": {
      "text/plain": [
       "3600"
      ]
     },
     "execution_count": 147,
     "metadata": {},
     "output_type": "execute_result"
    }
   ],
   "source": [
    "num2_res"
   ]
  },
  {
   "cell_type": "code",
   "execution_count": 156,
   "id": "a9581bf2",
   "metadata": {},
   "outputs": [
    {
     "name": "stdout",
     "output_type": "stream",
     "text": [
      "Number 1 : 1\n",
      "Number 2 : 2\n",
      "Number 3 : \n"
     ]
    },
    {
     "ename": "ValueError",
     "evalue": "invalid literal for int() with base 10: ''",
     "output_type": "error",
     "traceback": [
      "\u001b[1;31m---------------------------------------------------------------------------\u001b[0m",
      "\u001b[1;31mValueError\u001b[0m                                Traceback (most recent call last)",
      "\u001b[1;32m~\\AppData\\Local\\Temp\\ipykernel_13516\\2341777178.py\u001b[0m in \u001b[0;36m<module>\u001b[1;34m\u001b[0m\n\u001b[0;32m     23\u001b[0m \u001b[0mx\u001b[0m \u001b[1;33m=\u001b[0m \u001b[0mint\u001b[0m\u001b[1;33m(\u001b[0m\u001b[0minput\u001b[0m\u001b[1;33m(\u001b[0m\u001b[1;34m\"Number 1 : \"\u001b[0m\u001b[1;33m)\u001b[0m\u001b[1;33m)\u001b[0m\u001b[1;33m\u001b[0m\u001b[1;33m\u001b[0m\u001b[0m\n\u001b[0;32m     24\u001b[0m \u001b[0my\u001b[0m \u001b[1;33m=\u001b[0m \u001b[0mint\u001b[0m\u001b[1;33m(\u001b[0m\u001b[0minput\u001b[0m\u001b[1;33m(\u001b[0m\u001b[1;34m\"Number 2 : \"\u001b[0m\u001b[1;33m)\u001b[0m\u001b[1;33m)\u001b[0m\u001b[1;33m\u001b[0m\u001b[1;33m\u001b[0m\u001b[0m\n\u001b[1;32m---> 25\u001b[1;33m \u001b[0mz\u001b[0m \u001b[1;33m=\u001b[0m \u001b[0mint\u001b[0m\u001b[1;33m(\u001b[0m\u001b[0minput\u001b[0m\u001b[1;33m(\u001b[0m\u001b[1;34m\"Number 3 : \"\u001b[0m\u001b[1;33m)\u001b[0m\u001b[1;33m)\u001b[0m\u001b[1;33m\u001b[0m\u001b[1;33m\u001b[0m\u001b[0m\n\u001b[0m\u001b[0;32m     26\u001b[0m \u001b[0mw\u001b[0m \u001b[1;33m=\u001b[0m \u001b[0mint\u001b[0m\u001b[1;33m(\u001b[0m\u001b[0minput\u001b[0m\u001b[1;33m(\u001b[0m\u001b[1;34m\"Number 4 : \"\u001b[0m\u001b[1;33m)\u001b[0m\u001b[1;33m)\u001b[0m\u001b[1;33m\u001b[0m\u001b[1;33m\u001b[0m\u001b[0m\n\u001b[0;32m     27\u001b[0m                     \u001b[1;31m# [0+num1_res값+입력z, 1+num1_res값+입력z, ... , (num1_res값-1)+num1_res값+입력z]\u001b[0m\u001b[1;33m\u001b[0m\u001b[1;33m\u001b[0m\u001b[0m\n",
      "\u001b[1;31mValueError\u001b[0m: invalid literal for int() with base 10: ''"
     ]
    }
   ],
   "source": [
    "def sum_all(x, y, z, w):\n",
    "    \n",
    "    sum_1 = x + y\n",
    "    sum_2 = 3 * sum_1 + 2 * z \n",
    "    sum_3 = sum_2 * w     # sum_5 = 입력w * {3 * (입력x + 입력y) + 2 * 입력z}\n",
    "        \n",
    "    return sum_3\n",
    "\n",
    "def for_loop(x, y):     # for_loop(num1_res 계산값, 입력x)\n",
    "    \n",
    "    Lo = 0   \n",
    "    for j in range(y):     # for j in range(입력x):\n",
    "        Lo += j           # res -= j    \n",
    "    \n",
    "    res = x**2 - Lo * x\n",
    "    \n",
    "    return res\n",
    "\n",
    "def list_return(a, z, w):                # list_return(num1_res값, num2_res값, 입력z, 입력w)\n",
    "    return [k + a + z for k in range(a)]   # return [i + num1_res값 + 입력z for i in range(num1_res값)]\n",
    "         \n",
    "    \n",
    "x = int(input(\"Number 1 : \"))\n",
    "y = int(input(\"Number 2 : \"))\n",
    "z = int(input(\"Number 3 : \"))\n",
    "w = int(input(\"Number 4 : \"))\n",
    "                    # [0+num1_res값+입력z, 1+num1_res값+입력z, ... , (num1_res값-1)+num1_res값+입력z]\n",
    "\n",
    "\n",
    "num1_res = sum_all(x, y, z, w)\n",
    "num2_res = for_loop(num1_res, x)\n",
    "num3_res = list_return(num1_res, z, w)\n",
    "\n",
    "print(num1_res)\n",
    "print(num2_res)\n",
    "print(num3_res)"
   ]
  },
  {
   "cell_type": "code",
   "execution_count": 157,
   "id": "7003aa3e",
   "metadata": {},
   "outputs": [],
   "source": [
    "import pandas as pd\n",
    "\n",
    "df = pd.read_excel('C:/Users/user/Desktop/lecfile/nov/221108/RNAseq_result.xlsx')"
   ]
  },
  {
   "cell_type": "code",
   "execution_count": 158,
   "id": "a7a0b6d8",
   "metadata": {},
   "outputs": [],
   "source": [
    "for i in df.index:\n",
    "    df.loc[i, \"WT1\"] += 1"
   ]
  },
  {
   "cell_type": "code",
   "execution_count": 159,
   "id": "f36bb5ef",
   "metadata": {},
   "outputs": [
    {
     "data": {
      "text/html": [
       "<div>\n",
       "<style scoped>\n",
       "    .dataframe tbody tr th:only-of-type {\n",
       "        vertical-align: middle;\n",
       "    }\n",
       "\n",
       "    .dataframe tbody tr th {\n",
       "        vertical-align: top;\n",
       "    }\n",
       "\n",
       "    .dataframe thead th {\n",
       "        text-align: right;\n",
       "    }\n",
       "</style>\n",
       "<table border=\"1\" class=\"dataframe\">\n",
       "  <thead>\n",
       "    <tr style=\"text-align: right;\">\n",
       "      <th></th>\n",
       "      <th>Unnamed: 0</th>\n",
       "      <th>target_id</th>\n",
       "      <th>WT1</th>\n",
       "      <th>WT2</th>\n",
       "      <th>WT3</th>\n",
       "      <th>Treat1</th>\n",
       "      <th>Treat2</th>\n",
       "      <th>Treat3</th>\n",
       "      <th>Treat4</th>\n",
       "      <th>Treat5</th>\n",
       "      <th>Treat6</th>\n",
       "    </tr>\n",
       "  </thead>\n",
       "  <tbody>\n",
       "    <tr>\n",
       "      <th>0</th>\n",
       "      <td>0</td>\n",
       "      <td>ENSMUST00000177564.1</td>\n",
       "      <td>1.0</td>\n",
       "      <td>0.0</td>\n",
       "      <td>0.0</td>\n",
       "      <td>0.0</td>\n",
       "      <td>0.0</td>\n",
       "      <td>0.0</td>\n",
       "      <td>0.0</td>\n",
       "      <td>0.0</td>\n",
       "      <td>0.0</td>\n",
       "    </tr>\n",
       "    <tr>\n",
       "      <th>1</th>\n",
       "      <td>1</td>\n",
       "      <td>ENSMUST00000196221.1</td>\n",
       "      <td>1.0</td>\n",
       "      <td>0.0</td>\n",
       "      <td>0.0</td>\n",
       "      <td>0.0</td>\n",
       "      <td>0.0</td>\n",
       "      <td>0.0</td>\n",
       "      <td>0.0</td>\n",
       "      <td>0.0</td>\n",
       "      <td>0.0</td>\n",
       "    </tr>\n",
       "    <tr>\n",
       "      <th>2</th>\n",
       "      <td>2</td>\n",
       "      <td>ENSMUST00000179664.1</td>\n",
       "      <td>1.0</td>\n",
       "      <td>0.0</td>\n",
       "      <td>0.0</td>\n",
       "      <td>0.0</td>\n",
       "      <td>0.0</td>\n",
       "      <td>0.0</td>\n",
       "      <td>0.0</td>\n",
       "      <td>0.0</td>\n",
       "      <td>0.0</td>\n",
       "    </tr>\n",
       "    <tr>\n",
       "      <th>3</th>\n",
       "      <td>3</td>\n",
       "      <td>ENSMUST00000178537.1</td>\n",
       "      <td>1.0</td>\n",
       "      <td>0.0</td>\n",
       "      <td>0.0</td>\n",
       "      <td>0.0</td>\n",
       "      <td>0.0</td>\n",
       "      <td>0.0</td>\n",
       "      <td>0.0</td>\n",
       "      <td>0.0</td>\n",
       "      <td>0.0</td>\n",
       "    </tr>\n",
       "    <tr>\n",
       "      <th>4</th>\n",
       "      <td>4</td>\n",
       "      <td>ENSMUST00000178862.1</td>\n",
       "      <td>1.0</td>\n",
       "      <td>0.0</td>\n",
       "      <td>0.0</td>\n",
       "      <td>0.0</td>\n",
       "      <td>0.0</td>\n",
       "      <td>0.0</td>\n",
       "      <td>0.0</td>\n",
       "      <td>0.0</td>\n",
       "      <td>0.0</td>\n",
       "    </tr>\n",
       "    <tr>\n",
       "      <th>...</th>\n",
       "      <td>...</td>\n",
       "      <td>...</td>\n",
       "      <td>...</td>\n",
       "      <td>...</td>\n",
       "      <td>...</td>\n",
       "      <td>...</td>\n",
       "      <td>...</td>\n",
       "      <td>...</td>\n",
       "      <td>...</td>\n",
       "      <td>...</td>\n",
       "      <td>...</td>\n",
       "    </tr>\n",
       "    <tr>\n",
       "      <th>109277</th>\n",
       "      <td>109277</td>\n",
       "      <td>ENSMUST00000181902.2</td>\n",
       "      <td>1.0</td>\n",
       "      <td>0.0</td>\n",
       "      <td>0.0</td>\n",
       "      <td>0.0</td>\n",
       "      <td>0.0</td>\n",
       "      <td>0.0</td>\n",
       "      <td>0.0</td>\n",
       "      <td>0.0</td>\n",
       "      <td>0.0</td>\n",
       "    </tr>\n",
       "    <tr>\n",
       "      <th>109278</th>\n",
       "      <td>109278</td>\n",
       "      <td>ENSMUST00000181878.2</td>\n",
       "      <td>1.0</td>\n",
       "      <td>0.0</td>\n",
       "      <td>0.0</td>\n",
       "      <td>0.0</td>\n",
       "      <td>0.0</td>\n",
       "      <td>0.0</td>\n",
       "      <td>0.0</td>\n",
       "      <td>0.0</td>\n",
       "      <td>0.0</td>\n",
       "    </tr>\n",
       "    <tr>\n",
       "      <th>109279</th>\n",
       "      <td>109279</td>\n",
       "      <td>ENSMUST00000201504.1</td>\n",
       "      <td>1.0</td>\n",
       "      <td>0.0</td>\n",
       "      <td>0.0</td>\n",
       "      <td>0.0</td>\n",
       "      <td>0.0</td>\n",
       "      <td>0.0</td>\n",
       "      <td>0.0</td>\n",
       "      <td>0.0</td>\n",
       "      <td>0.0</td>\n",
       "    </tr>\n",
       "    <tr>\n",
       "      <th>109280</th>\n",
       "      <td>109280</td>\n",
       "      <td>ENSMUST00000200975.1</td>\n",
       "      <td>1.0</td>\n",
       "      <td>0.0</td>\n",
       "      <td>0.0</td>\n",
       "      <td>0.0</td>\n",
       "      <td>0.0</td>\n",
       "      <td>0.0</td>\n",
       "      <td>0.0</td>\n",
       "      <td>0.0</td>\n",
       "      <td>0.0</td>\n",
       "    </tr>\n",
       "    <tr>\n",
       "      <th>109281</th>\n",
       "      <td>109281</td>\n",
       "      <td>ENSMUST00000202689.1</td>\n",
       "      <td>1.0</td>\n",
       "      <td>0.0</td>\n",
       "      <td>0.0</td>\n",
       "      <td>0.0</td>\n",
       "      <td>0.0</td>\n",
       "      <td>0.0</td>\n",
       "      <td>0.0</td>\n",
       "      <td>0.0</td>\n",
       "      <td>0.0</td>\n",
       "    </tr>\n",
       "  </tbody>\n",
       "</table>\n",
       "<p>109282 rows × 11 columns</p>\n",
       "</div>"
      ],
      "text/plain": [
       "        Unnamed: 0             target_id  WT1  WT2  WT3  Treat1  Treat2  \\\n",
       "0                0  ENSMUST00000177564.1  1.0  0.0  0.0     0.0     0.0   \n",
       "1                1  ENSMUST00000196221.1  1.0  0.0  0.0     0.0     0.0   \n",
       "2                2  ENSMUST00000179664.1  1.0  0.0  0.0     0.0     0.0   \n",
       "3                3  ENSMUST00000178537.1  1.0  0.0  0.0     0.0     0.0   \n",
       "4                4  ENSMUST00000178862.1  1.0  0.0  0.0     0.0     0.0   \n",
       "...            ...                   ...  ...  ...  ...     ...     ...   \n",
       "109277      109277  ENSMUST00000181902.2  1.0  0.0  0.0     0.0     0.0   \n",
       "109278      109278  ENSMUST00000181878.2  1.0  0.0  0.0     0.0     0.0   \n",
       "109279      109279  ENSMUST00000201504.1  1.0  0.0  0.0     0.0     0.0   \n",
       "109280      109280  ENSMUST00000200975.1  1.0  0.0  0.0     0.0     0.0   \n",
       "109281      109281  ENSMUST00000202689.1  1.0  0.0  0.0     0.0     0.0   \n",
       "\n",
       "        Treat3  Treat4  Treat5  Treat6  \n",
       "0          0.0     0.0     0.0     0.0  \n",
       "1          0.0     0.0     0.0     0.0  \n",
       "2          0.0     0.0     0.0     0.0  \n",
       "3          0.0     0.0     0.0     0.0  \n",
       "4          0.0     0.0     0.0     0.0  \n",
       "...        ...     ...     ...     ...  \n",
       "109277     0.0     0.0     0.0     0.0  \n",
       "109278     0.0     0.0     0.0     0.0  \n",
       "109279     0.0     0.0     0.0     0.0  \n",
       "109280     0.0     0.0     0.0     0.0  \n",
       "109281     0.0     0.0     0.0     0.0  \n",
       "\n",
       "[109282 rows x 11 columns]"
      ]
     },
     "execution_count": 159,
     "metadata": {},
     "output_type": "execute_result"
    }
   ],
   "source": [
    "df"
   ]
  },
  {
   "cell_type": "code",
   "execution_count": 160,
   "id": "f4931d0e",
   "metadata": {},
   "outputs": [
    {
     "data": {
      "text/html": [
       "<div>\n",
       "<style scoped>\n",
       "    .dataframe tbody tr th:only-of-type {\n",
       "        vertical-align: middle;\n",
       "    }\n",
       "\n",
       "    .dataframe tbody tr th {\n",
       "        vertical-align: top;\n",
       "    }\n",
       "\n",
       "    .dataframe thead th {\n",
       "        text-align: right;\n",
       "    }\n",
       "</style>\n",
       "<table border=\"1\" class=\"dataframe\">\n",
       "  <thead>\n",
       "    <tr style=\"text-align: right;\">\n",
       "      <th></th>\n",
       "      <th>Unnamed: 0</th>\n",
       "      <th>target_id</th>\n",
       "      <th>WT1</th>\n",
       "      <th>WT2</th>\n",
       "      <th>WT3</th>\n",
       "      <th>Treat1</th>\n",
       "      <th>Treat2</th>\n",
       "      <th>Treat3</th>\n",
       "      <th>Treat4</th>\n",
       "      <th>Treat5</th>\n",
       "      <th>Treat6</th>\n",
       "    </tr>\n",
       "  </thead>\n",
       "  <tbody>\n",
       "    <tr>\n",
       "      <th>0</th>\n",
       "      <td>0</td>\n",
       "      <td>ENSMUST00000177564.1</td>\n",
       "      <td>2.0</td>\n",
       "      <td>0.0</td>\n",
       "      <td>0.0</td>\n",
       "      <td>0.0</td>\n",
       "      <td>0.0</td>\n",
       "      <td>0.0</td>\n",
       "      <td>0.0</td>\n",
       "      <td>0.0</td>\n",
       "      <td>0.0</td>\n",
       "    </tr>\n",
       "    <tr>\n",
       "      <th>1</th>\n",
       "      <td>1</td>\n",
       "      <td>ENSMUST00000196221.1</td>\n",
       "      <td>2.0</td>\n",
       "      <td>0.0</td>\n",
       "      <td>0.0</td>\n",
       "      <td>0.0</td>\n",
       "      <td>0.0</td>\n",
       "      <td>0.0</td>\n",
       "      <td>0.0</td>\n",
       "      <td>0.0</td>\n",
       "      <td>0.0</td>\n",
       "    </tr>\n",
       "    <tr>\n",
       "      <th>2</th>\n",
       "      <td>2</td>\n",
       "      <td>ENSMUST00000179664.1</td>\n",
       "      <td>2.0</td>\n",
       "      <td>0.0</td>\n",
       "      <td>0.0</td>\n",
       "      <td>0.0</td>\n",
       "      <td>0.0</td>\n",
       "      <td>0.0</td>\n",
       "      <td>0.0</td>\n",
       "      <td>0.0</td>\n",
       "      <td>0.0</td>\n",
       "    </tr>\n",
       "    <tr>\n",
       "      <th>3</th>\n",
       "      <td>3</td>\n",
       "      <td>ENSMUST00000178537.1</td>\n",
       "      <td>2.0</td>\n",
       "      <td>0.0</td>\n",
       "      <td>0.0</td>\n",
       "      <td>0.0</td>\n",
       "      <td>0.0</td>\n",
       "      <td>0.0</td>\n",
       "      <td>0.0</td>\n",
       "      <td>0.0</td>\n",
       "      <td>0.0</td>\n",
       "    </tr>\n",
       "    <tr>\n",
       "      <th>4</th>\n",
       "      <td>4</td>\n",
       "      <td>ENSMUST00000178862.1</td>\n",
       "      <td>2.0</td>\n",
       "      <td>0.0</td>\n",
       "      <td>0.0</td>\n",
       "      <td>0.0</td>\n",
       "      <td>0.0</td>\n",
       "      <td>0.0</td>\n",
       "      <td>0.0</td>\n",
       "      <td>0.0</td>\n",
       "      <td>0.0</td>\n",
       "    </tr>\n",
       "    <tr>\n",
       "      <th>...</th>\n",
       "      <td>...</td>\n",
       "      <td>...</td>\n",
       "      <td>...</td>\n",
       "      <td>...</td>\n",
       "      <td>...</td>\n",
       "      <td>...</td>\n",
       "      <td>...</td>\n",
       "      <td>...</td>\n",
       "      <td>...</td>\n",
       "      <td>...</td>\n",
       "      <td>...</td>\n",
       "    </tr>\n",
       "    <tr>\n",
       "      <th>109277</th>\n",
       "      <td>109277</td>\n",
       "      <td>ENSMUST00000181902.2</td>\n",
       "      <td>2.0</td>\n",
       "      <td>0.0</td>\n",
       "      <td>0.0</td>\n",
       "      <td>0.0</td>\n",
       "      <td>0.0</td>\n",
       "      <td>0.0</td>\n",
       "      <td>0.0</td>\n",
       "      <td>0.0</td>\n",
       "      <td>0.0</td>\n",
       "    </tr>\n",
       "    <tr>\n",
       "      <th>109278</th>\n",
       "      <td>109278</td>\n",
       "      <td>ENSMUST00000181878.2</td>\n",
       "      <td>2.0</td>\n",
       "      <td>0.0</td>\n",
       "      <td>0.0</td>\n",
       "      <td>0.0</td>\n",
       "      <td>0.0</td>\n",
       "      <td>0.0</td>\n",
       "      <td>0.0</td>\n",
       "      <td>0.0</td>\n",
       "      <td>0.0</td>\n",
       "    </tr>\n",
       "    <tr>\n",
       "      <th>109279</th>\n",
       "      <td>109279</td>\n",
       "      <td>ENSMUST00000201504.1</td>\n",
       "      <td>2.0</td>\n",
       "      <td>0.0</td>\n",
       "      <td>0.0</td>\n",
       "      <td>0.0</td>\n",
       "      <td>0.0</td>\n",
       "      <td>0.0</td>\n",
       "      <td>0.0</td>\n",
       "      <td>0.0</td>\n",
       "      <td>0.0</td>\n",
       "    </tr>\n",
       "    <tr>\n",
       "      <th>109280</th>\n",
       "      <td>109280</td>\n",
       "      <td>ENSMUST00000200975.1</td>\n",
       "      <td>2.0</td>\n",
       "      <td>0.0</td>\n",
       "      <td>0.0</td>\n",
       "      <td>0.0</td>\n",
       "      <td>0.0</td>\n",
       "      <td>0.0</td>\n",
       "      <td>0.0</td>\n",
       "      <td>0.0</td>\n",
       "      <td>0.0</td>\n",
       "    </tr>\n",
       "    <tr>\n",
       "      <th>109281</th>\n",
       "      <td>109281</td>\n",
       "      <td>ENSMUST00000202689.1</td>\n",
       "      <td>2.0</td>\n",
       "      <td>0.0</td>\n",
       "      <td>0.0</td>\n",
       "      <td>0.0</td>\n",
       "      <td>0.0</td>\n",
       "      <td>0.0</td>\n",
       "      <td>0.0</td>\n",
       "      <td>0.0</td>\n",
       "      <td>0.0</td>\n",
       "    </tr>\n",
       "  </tbody>\n",
       "</table>\n",
       "<p>109282 rows × 11 columns</p>\n",
       "</div>"
      ],
      "text/plain": [
       "        Unnamed: 0             target_id  WT1  WT2  WT3  Treat1  Treat2  \\\n",
       "0                0  ENSMUST00000177564.1  2.0  0.0  0.0     0.0     0.0   \n",
       "1                1  ENSMUST00000196221.1  2.0  0.0  0.0     0.0     0.0   \n",
       "2                2  ENSMUST00000179664.1  2.0  0.0  0.0     0.0     0.0   \n",
       "3                3  ENSMUST00000178537.1  2.0  0.0  0.0     0.0     0.0   \n",
       "4                4  ENSMUST00000178862.1  2.0  0.0  0.0     0.0     0.0   \n",
       "...            ...                   ...  ...  ...  ...     ...     ...   \n",
       "109277      109277  ENSMUST00000181902.2  2.0  0.0  0.0     0.0     0.0   \n",
       "109278      109278  ENSMUST00000181878.2  2.0  0.0  0.0     0.0     0.0   \n",
       "109279      109279  ENSMUST00000201504.1  2.0  0.0  0.0     0.0     0.0   \n",
       "109280      109280  ENSMUST00000200975.1  2.0  0.0  0.0     0.0     0.0   \n",
       "109281      109281  ENSMUST00000202689.1  2.0  0.0  0.0     0.0     0.0   \n",
       "\n",
       "        Treat3  Treat4  Treat5  Treat6  \n",
       "0          0.0     0.0     0.0     0.0  \n",
       "1          0.0     0.0     0.0     0.0  \n",
       "2          0.0     0.0     0.0     0.0  \n",
       "3          0.0     0.0     0.0     0.0  \n",
       "4          0.0     0.0     0.0     0.0  \n",
       "...        ...     ...     ...     ...  \n",
       "109277     0.0     0.0     0.0     0.0  \n",
       "109278     0.0     0.0     0.0     0.0  \n",
       "109279     0.0     0.0     0.0     0.0  \n",
       "109280     0.0     0.0     0.0     0.0  \n",
       "109281     0.0     0.0     0.0     0.0  \n",
       "\n",
       "[109282 rows x 11 columns]"
      ]
     },
     "execution_count": 160,
     "metadata": {},
     "output_type": "execute_result"
    }
   ],
   "source": [
    "# apply 하면 시리즈가 리턴되며 , 아래의 방법은 시리즈를 다시 WT1에 재할당한다.\n",
    "# lambda 는 불특정 다수를 의미하게 된다. \n",
    "# 'WT1' 컬럼에 있는 불특정 다수 x 값을 x+1 한 값으로 적용해준다.\n",
    "\n",
    "df['WT1'] = df['WT1'].apply(lambda x: x+1)\n",
    "df"
   ]
  },
  {
   "cell_type": "code",
   "execution_count": 161,
   "id": "a8be1554",
   "metadata": {},
   "outputs": [],
   "source": [
    "# 시리즈는 리스트와 비슷한 특징을 많이 가진다. 리스트를 데이터프레임에 붙여도 동작한다.\n",
    "# 리스트 컴프리헨션은 C 를 이용한 것이어서, 다중코어를 사용하여 빠르게 연산 가능.\n",
    "\n",
    "df[\"WT1\"] = [i+1 for i in df[\"WT1\"]]"
   ]
  },
  {
   "cell_type": "code",
   "execution_count": 162,
   "id": "72d156f8",
   "metadata": {},
   "outputs": [
    {
     "data": {
      "text/html": [
       "<div>\n",
       "<style scoped>\n",
       "    .dataframe tbody tr th:only-of-type {\n",
       "        vertical-align: middle;\n",
       "    }\n",
       "\n",
       "    .dataframe tbody tr th {\n",
       "        vertical-align: top;\n",
       "    }\n",
       "\n",
       "    .dataframe thead th {\n",
       "        text-align: right;\n",
       "    }\n",
       "</style>\n",
       "<table border=\"1\" class=\"dataframe\">\n",
       "  <thead>\n",
       "    <tr style=\"text-align: right;\">\n",
       "      <th></th>\n",
       "      <th>Unnamed: 0</th>\n",
       "      <th>target_id</th>\n",
       "      <th>WT1</th>\n",
       "      <th>WT2</th>\n",
       "      <th>WT3</th>\n",
       "      <th>Treat1</th>\n",
       "      <th>Treat2</th>\n",
       "      <th>Treat3</th>\n",
       "      <th>Treat4</th>\n",
       "      <th>Treat5</th>\n",
       "      <th>Treat6</th>\n",
       "    </tr>\n",
       "  </thead>\n",
       "  <tbody>\n",
       "    <tr>\n",
       "      <th>0</th>\n",
       "      <td>0</td>\n",
       "      <td>ENSMUST00000177564.1</td>\n",
       "      <td>3.0</td>\n",
       "      <td>0.0</td>\n",
       "      <td>0.0</td>\n",
       "      <td>0.0</td>\n",
       "      <td>0.0</td>\n",
       "      <td>0.0</td>\n",
       "      <td>0.0</td>\n",
       "      <td>0.0</td>\n",
       "      <td>0.0</td>\n",
       "    </tr>\n",
       "    <tr>\n",
       "      <th>1</th>\n",
       "      <td>1</td>\n",
       "      <td>ENSMUST00000196221.1</td>\n",
       "      <td>3.0</td>\n",
       "      <td>0.0</td>\n",
       "      <td>0.0</td>\n",
       "      <td>0.0</td>\n",
       "      <td>0.0</td>\n",
       "      <td>0.0</td>\n",
       "      <td>0.0</td>\n",
       "      <td>0.0</td>\n",
       "      <td>0.0</td>\n",
       "    </tr>\n",
       "    <tr>\n",
       "      <th>2</th>\n",
       "      <td>2</td>\n",
       "      <td>ENSMUST00000179664.1</td>\n",
       "      <td>3.0</td>\n",
       "      <td>0.0</td>\n",
       "      <td>0.0</td>\n",
       "      <td>0.0</td>\n",
       "      <td>0.0</td>\n",
       "      <td>0.0</td>\n",
       "      <td>0.0</td>\n",
       "      <td>0.0</td>\n",
       "      <td>0.0</td>\n",
       "    </tr>\n",
       "    <tr>\n",
       "      <th>3</th>\n",
       "      <td>3</td>\n",
       "      <td>ENSMUST00000178537.1</td>\n",
       "      <td>3.0</td>\n",
       "      <td>0.0</td>\n",
       "      <td>0.0</td>\n",
       "      <td>0.0</td>\n",
       "      <td>0.0</td>\n",
       "      <td>0.0</td>\n",
       "      <td>0.0</td>\n",
       "      <td>0.0</td>\n",
       "      <td>0.0</td>\n",
       "    </tr>\n",
       "    <tr>\n",
       "      <th>4</th>\n",
       "      <td>4</td>\n",
       "      <td>ENSMUST00000178862.1</td>\n",
       "      <td>3.0</td>\n",
       "      <td>0.0</td>\n",
       "      <td>0.0</td>\n",
       "      <td>0.0</td>\n",
       "      <td>0.0</td>\n",
       "      <td>0.0</td>\n",
       "      <td>0.0</td>\n",
       "      <td>0.0</td>\n",
       "      <td>0.0</td>\n",
       "    </tr>\n",
       "    <tr>\n",
       "      <th>...</th>\n",
       "      <td>...</td>\n",
       "      <td>...</td>\n",
       "      <td>...</td>\n",
       "      <td>...</td>\n",
       "      <td>...</td>\n",
       "      <td>...</td>\n",
       "      <td>...</td>\n",
       "      <td>...</td>\n",
       "      <td>...</td>\n",
       "      <td>...</td>\n",
       "      <td>...</td>\n",
       "    </tr>\n",
       "    <tr>\n",
       "      <th>109277</th>\n",
       "      <td>109277</td>\n",
       "      <td>ENSMUST00000181902.2</td>\n",
       "      <td>3.0</td>\n",
       "      <td>0.0</td>\n",
       "      <td>0.0</td>\n",
       "      <td>0.0</td>\n",
       "      <td>0.0</td>\n",
       "      <td>0.0</td>\n",
       "      <td>0.0</td>\n",
       "      <td>0.0</td>\n",
       "      <td>0.0</td>\n",
       "    </tr>\n",
       "    <tr>\n",
       "      <th>109278</th>\n",
       "      <td>109278</td>\n",
       "      <td>ENSMUST00000181878.2</td>\n",
       "      <td>3.0</td>\n",
       "      <td>0.0</td>\n",
       "      <td>0.0</td>\n",
       "      <td>0.0</td>\n",
       "      <td>0.0</td>\n",
       "      <td>0.0</td>\n",
       "      <td>0.0</td>\n",
       "      <td>0.0</td>\n",
       "      <td>0.0</td>\n",
       "    </tr>\n",
       "    <tr>\n",
       "      <th>109279</th>\n",
       "      <td>109279</td>\n",
       "      <td>ENSMUST00000201504.1</td>\n",
       "      <td>3.0</td>\n",
       "      <td>0.0</td>\n",
       "      <td>0.0</td>\n",
       "      <td>0.0</td>\n",
       "      <td>0.0</td>\n",
       "      <td>0.0</td>\n",
       "      <td>0.0</td>\n",
       "      <td>0.0</td>\n",
       "      <td>0.0</td>\n",
       "    </tr>\n",
       "    <tr>\n",
       "      <th>109280</th>\n",
       "      <td>109280</td>\n",
       "      <td>ENSMUST00000200975.1</td>\n",
       "      <td>3.0</td>\n",
       "      <td>0.0</td>\n",
       "      <td>0.0</td>\n",
       "      <td>0.0</td>\n",
       "      <td>0.0</td>\n",
       "      <td>0.0</td>\n",
       "      <td>0.0</td>\n",
       "      <td>0.0</td>\n",
       "      <td>0.0</td>\n",
       "    </tr>\n",
       "    <tr>\n",
       "      <th>109281</th>\n",
       "      <td>109281</td>\n",
       "      <td>ENSMUST00000202689.1</td>\n",
       "      <td>3.0</td>\n",
       "      <td>0.0</td>\n",
       "      <td>0.0</td>\n",
       "      <td>0.0</td>\n",
       "      <td>0.0</td>\n",
       "      <td>0.0</td>\n",
       "      <td>0.0</td>\n",
       "      <td>0.0</td>\n",
       "      <td>0.0</td>\n",
       "    </tr>\n",
       "  </tbody>\n",
       "</table>\n",
       "<p>109282 rows × 11 columns</p>\n",
       "</div>"
      ],
      "text/plain": [
       "        Unnamed: 0             target_id  WT1  WT2  WT3  Treat1  Treat2  \\\n",
       "0                0  ENSMUST00000177564.1  3.0  0.0  0.0     0.0     0.0   \n",
       "1                1  ENSMUST00000196221.1  3.0  0.0  0.0     0.0     0.0   \n",
       "2                2  ENSMUST00000179664.1  3.0  0.0  0.0     0.0     0.0   \n",
       "3                3  ENSMUST00000178537.1  3.0  0.0  0.0     0.0     0.0   \n",
       "4                4  ENSMUST00000178862.1  3.0  0.0  0.0     0.0     0.0   \n",
       "...            ...                   ...  ...  ...  ...     ...     ...   \n",
       "109277      109277  ENSMUST00000181902.2  3.0  0.0  0.0     0.0     0.0   \n",
       "109278      109278  ENSMUST00000181878.2  3.0  0.0  0.0     0.0     0.0   \n",
       "109279      109279  ENSMUST00000201504.1  3.0  0.0  0.0     0.0     0.0   \n",
       "109280      109280  ENSMUST00000200975.1  3.0  0.0  0.0     0.0     0.0   \n",
       "109281      109281  ENSMUST00000202689.1  3.0  0.0  0.0     0.0     0.0   \n",
       "\n",
       "        Treat3  Treat4  Treat5  Treat6  \n",
       "0          0.0     0.0     0.0     0.0  \n",
       "1          0.0     0.0     0.0     0.0  \n",
       "2          0.0     0.0     0.0     0.0  \n",
       "3          0.0     0.0     0.0     0.0  \n",
       "4          0.0     0.0     0.0     0.0  \n",
       "...        ...     ...     ...     ...  \n",
       "109277     0.0     0.0     0.0     0.0  \n",
       "109278     0.0     0.0     0.0     0.0  \n",
       "109279     0.0     0.0     0.0     0.0  \n",
       "109280     0.0     0.0     0.0     0.0  \n",
       "109281     0.0     0.0     0.0     0.0  \n",
       "\n",
       "[109282 rows x 11 columns]"
      ]
     },
     "execution_count": 162,
     "metadata": {},
     "output_type": "execute_result"
    }
   ],
   "source": [
    "df"
   ]
  },
  {
   "cell_type": "code",
   "execution_count": null,
   "id": "29ad5c7a",
   "metadata": {},
   "outputs": [],
   "source": []
  },
  {
   "cell_type": "markdown",
   "id": "9a3d0e35",
   "metadata": {},
   "source": [
    "## 람다"
   ]
  },
  {
   "cell_type": "code",
   "execution_count": 163,
   "id": "b5f9055a",
   "metadata": {},
   "outputs": [
    {
     "ename": "TypeError",
     "evalue": "can only concatenate list (not \"int\") to list",
     "output_type": "error",
     "traceback": [
      "\u001b[1;31m---------------------------------------------------------------------------\u001b[0m",
      "\u001b[1;31mTypeError\u001b[0m                                 Traceback (most recent call last)",
      "\u001b[1;32m~\\AppData\\Local\\Temp\\ipykernel_13516\\1582384813.py\u001b[0m in \u001b[0;36m<module>\u001b[1;34m\u001b[0m\n\u001b[1;32m----> 1\u001b[1;33m \u001b[1;33m(\u001b[0m\u001b[1;32mlambda\u001b[0m \u001b[0mx\u001b[0m \u001b[1;33m:\u001b[0m \u001b[0mx\u001b[0m\u001b[1;33m+\u001b[0m\u001b[1;36m1\u001b[0m\u001b[1;33m)\u001b[0m \u001b[1;33m(\u001b[0m\u001b[1;33m[\u001b[0m\u001b[1;36m1\u001b[0m\u001b[1;33m,\u001b[0m\u001b[1;36m3\u001b[0m\u001b[1;33m,\u001b[0m\u001b[1;36m4\u001b[0m\u001b[1;33m,\u001b[0m\u001b[1;36m5\u001b[0m\u001b[1;33m,\u001b[0m\u001b[1;36m6\u001b[0m\u001b[1;33m]\u001b[0m\u001b[1;33m)\u001b[0m\u001b[1;33m\u001b[0m\u001b[1;33m\u001b[0m\u001b[0m\n\u001b[0m",
      "\u001b[1;32m~\\AppData\\Local\\Temp\\ipykernel_13516\\1582384813.py\u001b[0m in \u001b[0;36m<lambda>\u001b[1;34m(x)\u001b[0m\n\u001b[1;32m----> 1\u001b[1;33m \u001b[1;33m(\u001b[0m\u001b[1;32mlambda\u001b[0m \u001b[0mx\u001b[0m \u001b[1;33m:\u001b[0m \u001b[0mx\u001b[0m\u001b[1;33m+\u001b[0m\u001b[1;36m1\u001b[0m\u001b[1;33m)\u001b[0m \u001b[1;33m(\u001b[0m\u001b[1;33m[\u001b[0m\u001b[1;36m1\u001b[0m\u001b[1;33m,\u001b[0m\u001b[1;36m3\u001b[0m\u001b[1;33m,\u001b[0m\u001b[1;36m4\u001b[0m\u001b[1;33m,\u001b[0m\u001b[1;36m5\u001b[0m\u001b[1;33m,\u001b[0m\u001b[1;36m6\u001b[0m\u001b[1;33m]\u001b[0m\u001b[1;33m)\u001b[0m\u001b[1;33m\u001b[0m\u001b[1;33m\u001b[0m\u001b[0m\n\u001b[0m",
      "\u001b[1;31mTypeError\u001b[0m: can only concatenate list (not \"int\") to list"
     ]
    }
   ],
   "source": [
    "# 람다를 단독으로 쓸 수는 없을까?\n",
    "\n",
    "(lambda x : x+1) ([1,3,4,5,6])"
   ]
  },
  {
   "cell_type": "code",
   "execution_count": 166,
   "id": "eb21628f",
   "metadata": {},
   "outputs": [
    {
     "ename": "TypeError",
     "evalue": "can only concatenate list (not \"int\") to list",
     "output_type": "error",
     "traceback": [
      "\u001b[1;31m---------------------------------------------------------------------------\u001b[0m",
      "\u001b[1;31mTypeError\u001b[0m                                 Traceback (most recent call last)",
      "\u001b[1;32m~\\AppData\\Local\\Temp\\ipykernel_13516\\3290155608.py\u001b[0m in \u001b[0;36m<module>\u001b[1;34m\u001b[0m\n\u001b[1;32m----> 1\u001b[1;33m \u001b[1;33m(\u001b[0m\u001b[1;32mlambda\u001b[0m \u001b[0mx\u001b[0m \u001b[1;33m:\u001b[0m \u001b[0mx\u001b[0m\u001b[1;33m+\u001b[0m\u001b[1;36m1\u001b[0m\u001b[1;33m)\u001b[0m \u001b[1;33m(\u001b[0m\u001b[1;33m[\u001b[0m\u001b[1;34m\"1\"\u001b[0m\u001b[1;33m,\u001b[0m \u001b[1;34m\"3\"\u001b[0m\u001b[1;33m,\u001b[0m \u001b[1;34m\"4\"\u001b[0m\u001b[1;33m,\u001b[0m \u001b[1;34m\"5\"\u001b[0m\u001b[1;33m,\u001b[0m \u001b[1;34m\"6\"\u001b[0m\u001b[1;33m]\u001b[0m\u001b[1;33m)\u001b[0m\u001b[1;33m\u001b[0m\u001b[1;33m\u001b[0m\u001b[0m\n\u001b[0m",
      "\u001b[1;32m~\\AppData\\Local\\Temp\\ipykernel_13516\\3290155608.py\u001b[0m in \u001b[0;36m<lambda>\u001b[1;34m(x)\u001b[0m\n\u001b[1;32m----> 1\u001b[1;33m \u001b[1;33m(\u001b[0m\u001b[1;32mlambda\u001b[0m \u001b[0mx\u001b[0m \u001b[1;33m:\u001b[0m \u001b[0mx\u001b[0m\u001b[1;33m+\u001b[0m\u001b[1;36m1\u001b[0m\u001b[1;33m)\u001b[0m \u001b[1;33m(\u001b[0m\u001b[1;33m[\u001b[0m\u001b[1;34m\"1\"\u001b[0m\u001b[1;33m,\u001b[0m \u001b[1;34m\"3\"\u001b[0m\u001b[1;33m,\u001b[0m \u001b[1;34m\"4\"\u001b[0m\u001b[1;33m,\u001b[0m \u001b[1;34m\"5\"\u001b[0m\u001b[1;33m,\u001b[0m \u001b[1;34m\"6\"\u001b[0m\u001b[1;33m]\u001b[0m\u001b[1;33m)\u001b[0m\u001b[1;33m\u001b[0m\u001b[1;33m\u001b[0m\u001b[0m\n\u001b[0m",
      "\u001b[1;31mTypeError\u001b[0m: can only concatenate list (not \"int\") to list"
     ]
    }
   ],
   "source": [
    "(lambda x : x+1) ([\"1\", \"3\", \"4\", \"5\", \"6\"])"
   ]
  },
  {
   "cell_type": "markdown",
   "id": "59353cce",
   "metadata": {},
   "source": [
    "---\n",
    "### 람다 함수\n",
    "* lambda x: 형식으로 이용\n",
    "* df[\"WT1\"].apply(lambda x: x+1) 식으로 사용할 경우 pandas Serial 로 반환됨\n",
    "* (lambda x: x+1)(456) 식으로 사용할 경우 int로 반환됨\n",
    "* 위 예시를 제외한 방법으로 list-like-object를 만들어보자."
   ]
  },
  {
   "cell_type": "code",
   "execution_count": 190,
   "id": "ac3055e2",
   "metadata": {},
   "outputs": [
    {
     "data": {
      "text/plain": [
       "[2, 4, 5, 6, 7]"
      ]
     },
     "execution_count": 190,
     "metadata": {},
     "output_type": "execute_result"
    }
   ],
   "source": [
    "# map 함수를 써 볼 수 있다.\n",
    "# 리스트로부터 원소를 하나씩 꺼내서 함수를 적용시킨 다음, 그 결과를 새로운 리스트에 담아준다. \n",
    "\n",
    "A = [1, 3, 4, 5, 6]\n",
    "\n",
    "list(map(lambda x : x + 1, A))\n"
   ]
  },
  {
   "cell_type": "code",
   "execution_count": 191,
   "id": "5a066587",
   "metadata": {},
   "outputs": [
    {
     "data": {
      "text/plain": [
       "[0, 1, 2, 3, 4]"
      ]
     },
     "execution_count": 191,
     "metadata": {},
     "output_type": "execute_result"
    }
   ],
   "source": [
    "# filter 함수도 있다.\n",
    "# 리스트에 들어있는 원소들을 함수에 적용시켜서 결과가 참인 값들로 새로운 리스트를 만들어준다.\n",
    "\n",
    "list(filter(lambda x: x < 5, range(10))) "
   ]
  },
  {
   "cell_type": "code",
   "execution_count": 192,
   "id": "059e5e6d",
   "metadata": {},
   "outputs": [],
   "source": [
    "# for 문\n",
    "\n",
    "res = []\n",
    "\n",
    "for i in range(10):\n",
    "    res.append((lambda x: x+1)(i))"
   ]
  },
  {
   "cell_type": "code",
   "execution_count": 193,
   "id": "60cb270b",
   "metadata": {},
   "outputs": [
    {
     "data": {
      "text/plain": [
       "[1, 2, 3, 4, 5, 6, 7, 8, 9, 10]"
      ]
     },
     "execution_count": 193,
     "metadata": {},
     "output_type": "execute_result"
    }
   ],
   "source": [
    "res"
   ]
  },
  {
   "cell_type": "code",
   "execution_count": 194,
   "id": "84134656",
   "metadata": {},
   "outputs": [
    {
     "data": {
      "text/plain": [
       "[1, 2, 3, 4, 5, 6, 7, 8, 9, 10]"
      ]
     },
     "execution_count": 194,
     "metadata": {},
     "output_type": "execute_result"
    }
   ],
   "source": [
    "# 리스트 컴프리헨션\n",
    "\n",
    "[(lambda x : x + 1)(i) for i in range(10)]"
   ]
  },
  {
   "cell_type": "markdown",
   "id": "8708756e",
   "metadata": {},
   "source": [
    "* 람다는 점형식 데이터를 취급.\n",
    "* 임의의 점 형식 데이터를 해당하는 작업을 해서 반환"
   ]
  },
  {
   "cell_type": "code",
   "execution_count": 217,
   "id": "92c23cac",
   "metadata": {},
   "outputs": [
    {
     "data": {
      "text/plain": [
       "[0, 1, 1, 1, 1, 1, 1, 1, 1, 1]"
      ]
     },
     "execution_count": 217,
     "metadata": {},
     "output_type": "execute_result"
    }
   ],
   "source": [
    "# 람다 안에 if else 문을 집어넣을 수도 있다. \n",
    "\n",
    "[(lambda x: 1 if x>0 else 0)(i) for i in range(10)]"
   ]
  },
  {
   "cell_type": "code",
   "execution_count": 218,
   "id": "ea52b7f6",
   "metadata": {},
   "outputs": [
    {
     "name": "stdout",
     "output_type": "stream",
     "text": [
      "1\n",
      "1\n",
      "1\n",
      "1\n",
      "1\n",
      "1\n",
      "1\n",
      "1\n",
      "1\n"
     ]
    },
    {
     "data": {
      "text/plain": [
       "[0, None, None, None, None, None, None, None, None, None]"
      ]
     },
     "execution_count": 218,
     "metadata": {},
     "output_type": "execute_result"
    }
   ],
   "source": [
    "[(lambda x: print(1) if x>0 else 0)(i) for i in range(10)]"
   ]
  },
  {
   "cell_type": "code",
   "execution_count": 219,
   "id": "d436f5e2",
   "metadata": {},
   "outputs": [],
   "source": [
    "def func_apply(x):\n",
    "    if x > 0:\n",
    "        return 123\n",
    "    else:\n",
    "        return 456"
   ]
  },
  {
   "cell_type": "code",
   "execution_count": 220,
   "id": "34f5cf5e",
   "metadata": {},
   "outputs": [
    {
     "data": {
      "text/plain": [
       "0         123\n",
       "1         123\n",
       "2         123\n",
       "3         123\n",
       "4         123\n",
       "         ... \n",
       "109277    123\n",
       "109278    123\n",
       "109279    123\n",
       "109280    123\n",
       "109281    123\n",
       "Name: WT1, Length: 109282, dtype: int64"
      ]
     },
     "execution_count": 220,
     "metadata": {},
     "output_type": "execute_result"
    }
   ],
   "source": [
    "# apply 함수에 대해 알아보자.\n",
    "# lambda 함수는 특정한 기능을 하는 것이 아니라, 선형 데이터를 점형 데이터로 만들어주는 도구인 것.\n",
    "\n",
    "df['WT1'].apply(lambda x : func_apply(x))"
   ]
  },
  {
   "cell_type": "code",
   "execution_count": null,
   "id": "2c00cc2f",
   "metadata": {},
   "outputs": [],
   "source": []
  },
  {
   "cell_type": "code",
   "execution_count": 221,
   "id": "081ca795",
   "metadata": {},
   "outputs": [
    {
     "data": {
      "text/plain": [
       "Index(['Unnamed: 0', 'target_id', 'WT1', 'WT2', 'WT3', 'Treat1', 'Treat2',\n",
       "       'Treat3', 'Treat4', 'Treat5', 'Treat6'],\n",
       "      dtype='object')"
      ]
     },
     "execution_count": 221,
     "metadata": {},
     "output_type": "execute_result"
    }
   ],
   "source": [
    "# 컬럼은 리스트 연산 작업이 먹히지 않는다. \n",
    "\n",
    "df.columns "
   ]
  },
  {
   "cell_type": "code",
   "execution_count": 222,
   "id": "e0fbf738",
   "metadata": {},
   "outputs": [
    {
     "ename": "TypeError",
     "evalue": "Index does not support mutable operations",
     "output_type": "error",
     "traceback": [
      "\u001b[1;31m---------------------------------------------------------------------------\u001b[0m",
      "\u001b[1;31mTypeError\u001b[0m                                 Traceback (most recent call last)",
      "\u001b[1;32m~\\AppData\\Local\\Temp\\ipykernel_13516\\345598167.py\u001b[0m in \u001b[0;36m<module>\u001b[1;34m\u001b[0m\n\u001b[0;32m      2\u001b[0m \u001b[1;31m# 컬럼은 순서 정보를 가지고 있다.\u001b[0m\u001b[1;33m\u001b[0m\u001b[1;33m\u001b[0m\u001b[0m\n\u001b[0;32m      3\u001b[0m \u001b[1;33m\u001b[0m\u001b[0m\n\u001b[1;32m----> 4\u001b[1;33m \u001b[0mdf\u001b[0m\u001b[1;33m.\u001b[0m\u001b[0mcolumns\u001b[0m\u001b[1;33m[\u001b[0m\u001b[1;36m1\u001b[0m\u001b[1;33m]\u001b[0m \u001b[1;33m=\u001b[0m \u001b[1;34m'asdf'\u001b[0m\u001b[1;33m\u001b[0m\u001b[1;33m\u001b[0m\u001b[0m\n\u001b[0m",
      "\u001b[1;32mC:\\ProgramData\\Anaconda3\\lib\\site-packages\\pandas\\core\\indexes\\base.py\u001b[0m in \u001b[0;36m__setitem__\u001b[1;34m(self, key, value)\u001b[0m\n\u001b[0;32m   5033\u001b[0m     \u001b[1;33m@\u001b[0m\u001b[0mfinal\u001b[0m\u001b[1;33m\u001b[0m\u001b[1;33m\u001b[0m\u001b[0m\n\u001b[0;32m   5034\u001b[0m     \u001b[1;32mdef\u001b[0m \u001b[0m__setitem__\u001b[0m\u001b[1;33m(\u001b[0m\u001b[0mself\u001b[0m\u001b[1;33m,\u001b[0m \u001b[0mkey\u001b[0m\u001b[1;33m,\u001b[0m \u001b[0mvalue\u001b[0m\u001b[1;33m)\u001b[0m\u001b[1;33m:\u001b[0m\u001b[1;33m\u001b[0m\u001b[1;33m\u001b[0m\u001b[0m\n\u001b[1;32m-> 5035\u001b[1;33m         \u001b[1;32mraise\u001b[0m \u001b[0mTypeError\u001b[0m\u001b[1;33m(\u001b[0m\u001b[1;34m\"Index does not support mutable operations\"\u001b[0m\u001b[1;33m)\u001b[0m\u001b[1;33m\u001b[0m\u001b[1;33m\u001b[0m\u001b[0m\n\u001b[0m\u001b[0;32m   5036\u001b[0m \u001b[1;33m\u001b[0m\u001b[0m\n\u001b[0;32m   5037\u001b[0m     \u001b[1;32mdef\u001b[0m \u001b[0m__getitem__\u001b[0m\u001b[1;33m(\u001b[0m\u001b[0mself\u001b[0m\u001b[1;33m,\u001b[0m \u001b[0mkey\u001b[0m\u001b[1;33m)\u001b[0m\u001b[1;33m:\u001b[0m\u001b[1;33m\u001b[0m\u001b[1;33m\u001b[0m\u001b[0m\n",
      "\u001b[1;31mTypeError\u001b[0m: Index does not support mutable operations"
     ]
    }
   ],
   "source": [
    "# 컬럼은 인덱싱이 가능하기는 하지만, 그것을 수정할 수는 없다.\n",
    "# 컬럼은 순서 정보를 가지고 있다.\n",
    "\n",
    "df.columns[1] = 'asdf'"
   ]
  },
  {
   "cell_type": "code",
   "execution_count": null,
   "id": "0259b794",
   "metadata": {},
   "outputs": [],
   "source": []
  },
  {
   "cell_type": "code",
   "execution_count": 224,
   "id": "bf8a8cc5",
   "metadata": {},
   "outputs": [],
   "source": [
    "# 컬럼을 바꾸는 것은 불가.\n",
    "# 컬럼을 들어내고 다시 새로 추가해 넣는 것은 가능."
   ]
  },
  {
   "cell_type": "code",
   "execution_count": 226,
   "id": "6d037131",
   "metadata": {},
   "outputs": [
    {
     "data": {
      "text/plain": [
       "'Treat3'"
      ]
     },
     "execution_count": 226,
     "metadata": {},
     "output_type": "execute_result"
    }
   ],
   "source": [
    "df.columns[7]"
   ]
  },
  {
   "cell_type": "code",
   "execution_count": 229,
   "id": "e61d44b1",
   "metadata": {},
   "outputs": [
    {
     "data": {
      "text/plain": [
       "[0.0,\n",
       " 0.0,\n",
       " 0.0,\n",
       " 0.0,\n",
       " 0.0,\n",
       " 0.0,\n",
       " 0.0,\n",
       " 0.0,\n",
       " 0.0,\n",
       " 0.0,\n",
       " 0.0,\n",
       " 0.0,\n",
       " 0.0,\n",
       " 0.0,\n",
       " 0.0,\n",
       " 0.0,\n",
       " 0.0,\n",
       " 0.0,\n",
       " 0.0,\n",
       " 0.0,\n",
       " 0.0,\n",
       " 0.0,\n",
       " 0.0,\n",
       " 0.0,\n",
       " 0.0,\n",
       " 0.0,\n",
       " 0.0,\n",
       " 0.0,\n",
       " 0.0,\n",
       " 0.0,\n",
       " 0.0,\n",
       " 0.0,\n",
       " 0.0,\n",
       " 0.0,\n",
       " 0.0,\n",
       " 0.0,\n",
       " 0.0,\n",
       " 0.0,\n",
       " 0.0,\n",
       " 0.0,\n",
       " 0.0,\n",
       " 0.0,\n",
       " 0.0,\n",
       " 0.0,\n",
       " 0.0,\n",
       " 0.0,\n",
       " 0.0,\n",
       " 0.0,\n",
       " 0.0,\n",
       " 0.0,\n",
       " 0.0,\n",
       " 0.0,\n",
       " 0.0,\n",
       " 0.0,\n",
       " 0.0,\n",
       " 0.0,\n",
       " 0.0,\n",
       " 0.0,\n",
       " 0.0,\n",
       " 0.0,\n",
       " 0.0,\n",
       " 0.672287,\n",
       " 0.0,\n",
       " 0.0,\n",
       " 0.0,\n",
       " 0.0,\n",
       " 0.0,\n",
       " 0.0,\n",
       " 0.0,\n",
       " 0.0,\n",
       " 0.0,\n",
       " 0.0,\n",
       " 0.0,\n",
       " 0.0,\n",
       " 0.0,\n",
       " 0.0,\n",
       " 0.0,\n",
       " 0.0,\n",
       " 0.0,\n",
       " 0.0,\n",
       " 0.0,\n",
       " 0.0,\n",
       " 0.0,\n",
       " 0.0,\n",
       " 0.0,\n",
       " 0.0,\n",
       " 0.0,\n",
       " 0.0,\n",
       " 0.0,\n",
       " 0.0,\n",
       " 0.0,\n",
       " 0.0,\n",
       " 0.0,\n",
       " 0.0,\n",
       " 0.0,\n",
       " 0.0,\n",
       " 0.0,\n",
       " 0.0,\n",
       " 0.0,\n",
       " 0.0,\n",
       " 0.0,\n",
       " 0.0,\n",
       " 0.0,\n",
       " 0.0,\n",
       " 0.0,\n",
       " 0.0,\n",
       " 0.0,\n",
       " 0.0,\n",
       " 0.0,\n",
       " 0.0,\n",
       " 0.0,\n",
       " 0.0,\n",
       " 0.0,\n",
       " 0.0,\n",
       " 0.0,\n",
       " 0.0,\n",
       " 0.0,\n",
       " 0.0,\n",
       " 0.0,\n",
       " 0.0,\n",
       " 0.0,\n",
       " 0.0,\n",
       " 0.0,\n",
       " 0.0,\n",
       " 0.0,\n",
       " 0.0,\n",
       " 0.0,\n",
       " 0.0,\n",
       " 0.0,\n",
       " 0.0,\n",
       " 0.0,\n",
       " 0.0,\n",
       " 0.0,\n",
       " 0.0,\n",
       " 0.0,\n",
       " 0.0,\n",
       " 0.0,\n",
       " 0.0,\n",
       " 0.0,\n",
       " 0.0,\n",
       " 0.0,\n",
       " 0.0,\n",
       " 0.0,\n",
       " 0.0,\n",
       " 0.0,\n",
       " 0.0,\n",
       " 0.0,\n",
       " 0.0,\n",
       " 0.0,\n",
       " 0.0,\n",
       " 0.0,\n",
       " 0.0,\n",
       " 0.0,\n",
       " 0.0,\n",
       " 0.0,\n",
       " 0.0,\n",
       " 0.0,\n",
       " 0.0,\n",
       " 0.0,\n",
       " 0.0,\n",
       " 0.0,\n",
       " 0.0,\n",
       " 0.0,\n",
       " 0.0,\n",
       " 0.0,\n",
       " 0.0,\n",
       " 0.0,\n",
       " 0.0,\n",
       " 0.0,\n",
       " 0.0,\n",
       " 0.0,\n",
       " 0.0,\n",
       " 0.0,\n",
       " 0.0,\n",
       " 0.0,\n",
       " 0.0,\n",
       " 0.0,\n",
       " 0.0,\n",
       " 0.0,\n",
       " 0.0,\n",
       " 0.0,\n",
       " 0.0,\n",
       " 0.0,\n",
       " 0.0,\n",
       " 0.0,\n",
       " 0.0,\n",
       " 0.0,\n",
       " 0.0,\n",
       " 0.0,\n",
       " 0.0,\n",
       " 0.0,\n",
       " 0.0,\n",
       " 3.88839,\n",
       " 0.0,\n",
       " 0.0,\n",
       " 0.0,\n",
       " 0.305121,\n",
       " 0.0,\n",
       " 0.0,\n",
       " 0.0,\n",
       " 0.0,\n",
       " 0.0,\n",
       " 0.0,\n",
       " 0.0,\n",
       " 0.0,\n",
       " 0.0,\n",
       " 0.0,\n",
       " 0.0,\n",
       " 0.0,\n",
       " 0.0,\n",
       " 0.0,\n",
       " 0.0,\n",
       " 0.0,\n",
       " 0.0,\n",
       " 0.0,\n",
       " 0.0,\n",
       " 0.0,\n",
       " 0.0,\n",
       " 0.0,\n",
       " 0.0,\n",
       " 0.0459764,\n",
       " 0.0,\n",
       " 0.052856,\n",
       " 0.0,\n",
       " 0.108489,\n",
       " 0.91293,\n",
       " 0.181806,\n",
       " 0.60545,\n",
       " 0.0,\n",
       " 0.0,\n",
       " 0.0,\n",
       " 0.0,\n",
       " 0.0,\n",
       " 0.0,\n",
       " 0.0,\n",
       " 0.0,\n",
       " 0.0,\n",
       " 0.0,\n",
       " 0.348942,\n",
       " 0.0,\n",
       " 0.0,\n",
       " 0.0,\n",
       " 0.0,\n",
       " 0.0,\n",
       " 0.0,\n",
       " 0.0,\n",
       " 0.0,\n",
       " 0.0,\n",
       " 0.0,\n",
       " 0.0,\n",
       " 0.0,\n",
       " 0.0,\n",
       " 0.0,\n",
       " 0.0,\n",
       " 0.0,\n",
       " 0.0,\n",
       " 0.0,\n",
       " 0.0,\n",
       " 0.0,\n",
       " 0.0770857,\n",
       " 0.0,\n",
       " 0.0,\n",
       " 0.0,\n",
       " 0.0,\n",
       " 0.0,\n",
       " 0.0,\n",
       " 0.0,\n",
       " 0.0,\n",
       " 0.0,\n",
       " 0.0,\n",
       " 0.171062,\n",
       " 0.0,\n",
       " 0.0,\n",
       " 0.0,\n",
       " 0.0,\n",
       " 0.0,\n",
       " 0.0,\n",
       " 0.0,\n",
       " 0.0,\n",
       " 0.0,\n",
       " 0.0,\n",
       " 0.0,\n",
       " 0.0,\n",
       " 0.0,\n",
       " 0.0,\n",
       " 0.0,\n",
       " 0.0,\n",
       " 0.0,\n",
       " 0.0,\n",
       " 0.0984075,\n",
       " 0.0,\n",
       " 0.0,\n",
       " 0.0294949,\n",
       " 0.0,\n",
       " 0.0,\n",
       " 0.0,\n",
       " 0.0,\n",
       " 0.705068,\n",
       " 2.40925,\n",
       " 0.0,\n",
       " 0.0,\n",
       " 0.0,\n",
       " 0.640232,\n",
       " 0.0739736,\n",
       " 0.0,\n",
       " 0.155827,\n",
       " 0.931587,\n",
       " 0.0,\n",
       " 0.0,\n",
       " 0.0,\n",
       " 0.0,\n",
       " 0.0,\n",
       " 0.0,\n",
       " 0.39668,\n",
       " 0.0,\n",
       " 0.0,\n",
       " 0.0,\n",
       " 0.0,\n",
       " 0.0,\n",
       " 0.0,\n",
       " 0.0,\n",
       " 0.0,\n",
       " 0.0,\n",
       " 0.0326081,\n",
       " 0.0,\n",
       " 0.0142298,\n",
       " 0.0,\n",
       " 0.0,\n",
       " 0.0,\n",
       " 0.0,\n",
       " 0.0,\n",
       " 0.0,\n",
       " 0.0,\n",
       " 0.0,\n",
       " 0.0,\n",
       " 0.0,\n",
       " 0.0,\n",
       " 0.0,\n",
       " 0.0,\n",
       " 0.0,\n",
       " 0.0,\n",
       " 0.464558,\n",
       " 0.0627206,\n",
       " 0.0,\n",
       " 2.12518,\n",
       " 10.6283,\n",
       " 1.02749,\n",
       " 0.0,\n",
       " 0.0,\n",
       " 0.0,\n",
       " 0.0,\n",
       " 0.0,\n",
       " 0.0,\n",
       " 0.0,\n",
       " 0.0,\n",
       " 0.0,\n",
       " 0.52794,\n",
       " 0.0,\n",
       " 0.0908702,\n",
       " 0.0,\n",
       " 0.0,\n",
       " 0.0,\n",
       " 0.0,\n",
       " 0.0,\n",
       " 0.0,\n",
       " 0.0,\n",
       " 0.0,\n",
       " 0.0,\n",
       " 0.0,\n",
       " 0.0,\n",
       " 0.0,\n",
       " 0.0,\n",
       " 0.0,\n",
       " 0.0,\n",
       " 0.0,\n",
       " 0.0,\n",
       " 0.0,\n",
       " 0.0,\n",
       " 0.0,\n",
       " 0.0,\n",
       " 0.0,\n",
       " 0.0,\n",
       " 0.0,\n",
       " 0.0,\n",
       " 0.0,\n",
       " 0.0,\n",
       " 0.0,\n",
       " 0.0,\n",
       " 0.0,\n",
       " 0.0,\n",
       " 0.0,\n",
       " 0.0,\n",
       " 0.0,\n",
       " 0.0,\n",
       " 1.42447,\n",
       " 6.25816,\n",
       " 0.136594,\n",
       " 0.0,\n",
       " 0.0,\n",
       " 0.0,\n",
       " 0.0,\n",
       " 0.0,\n",
       " 0.0,\n",
       " 0.0,\n",
       " 0.0,\n",
       " 0.0,\n",
       " 0.0,\n",
       " 0.0,\n",
       " 0.0,\n",
       " 0.0,\n",
       " 0.0,\n",
       " 0.0,\n",
       " 0.0,\n",
       " 0.0,\n",
       " 0.0,\n",
       " 0.0,\n",
       " 0.0,\n",
       " 0.0,\n",
       " 0.0,\n",
       " 0.0,\n",
       " 0.0,\n",
       " 0.0,\n",
       " 0.0,\n",
       " 0.0,\n",
       " 0.0,\n",
       " 0.0,\n",
       " 0.0,\n",
       " 0.0,\n",
       " 0.0,\n",
       " 0.0,\n",
       " 0.0,\n",
       " 0.0,\n",
       " 0.0,\n",
       " 0.0,\n",
       " 0.0,\n",
       " 0.0,\n",
       " 0.0,\n",
       " 0.0,\n",
       " 0.0,\n",
       " 0.0,\n",
       " 0.0,\n",
       " 0.0,\n",
       " 0.0,\n",
       " 0.0,\n",
       " 0.0,\n",
       " 0.0,\n",
       " 0.0,\n",
       " 0.0,\n",
       " 0.0,\n",
       " 0.0,\n",
       " 0.0,\n",
       " 0.0,\n",
       " 0.0,\n",
       " 0.0,\n",
       " 0.0,\n",
       " 0.0,\n",
       " 0.0,\n",
       " 0.0,\n",
       " 0.0,\n",
       " 0.0,\n",
       " 0.0,\n",
       " 0.0,\n",
       " 0.0,\n",
       " 0.0,\n",
       " 0.0,\n",
       " 0.0,\n",
       " 0.0,\n",
       " 0.0,\n",
       " 0.0,\n",
       " 0.0,\n",
       " 0.0,\n",
       " 0.0,\n",
       " 0.0,\n",
       " 0.0,\n",
       " 0.0,\n",
       " 0.0,\n",
       " 0.0,\n",
       " 0.0,\n",
       " 0.0,\n",
       " 0.0,\n",
       " 0.0,\n",
       " 0.0,\n",
       " 0.0,\n",
       " 0.0,\n",
       " 0.0,\n",
       " 0.0,\n",
       " 0.0,\n",
       " 0.0,\n",
       " 0.0,\n",
       " 0.0,\n",
       " 0.0,\n",
       " 0.0,\n",
       " 0.0,\n",
       " 0.0,\n",
       " 0.0,\n",
       " 0.0,\n",
       " 0.0,\n",
       " 0.0,\n",
       " 0.0,\n",
       " 0.0,\n",
       " 0.0,\n",
       " 0.0,\n",
       " 0.0,\n",
       " 0.0,\n",
       " 0.0,\n",
       " 0.0,\n",
       " 0.0,\n",
       " 0.0,\n",
       " 0.0,\n",
       " 0.0,\n",
       " 0.0,\n",
       " 0.0,\n",
       " 0.0,\n",
       " 0.0,\n",
       " 0.0,\n",
       " 0.0,\n",
       " 0.0,\n",
       " 0.0,\n",
       " 0.0,\n",
       " 0.0,\n",
       " 0.0,\n",
       " 0.0,\n",
       " 0.0,\n",
       " 0.0,\n",
       " 0.0,\n",
       " 0.0,\n",
       " 0.0,\n",
       " 0.0,\n",
       " 0.0,\n",
       " 0.0,\n",
       " 0.0,\n",
       " 0.0,\n",
       " 0.0,\n",
       " 0.0,\n",
       " 0.0,\n",
       " 0.0,\n",
       " 0.0,\n",
       " 0.0,\n",
       " 0.0,\n",
       " 0.0,\n",
       " 0.0,\n",
       " 0.0,\n",
       " 0.0,\n",
       " 0.0,\n",
       " 0.0,\n",
       " 0.0,\n",
       " 0.0,\n",
       " 0.0,\n",
       " 0.0,\n",
       " 0.0,\n",
       " 0.0,\n",
       " 0.0,\n",
       " 0.0,\n",
       " 0.0,\n",
       " 0.0,\n",
       " 0.0,\n",
       " 0.0,\n",
       " 0.0,\n",
       " 0.0,\n",
       " 0.0,\n",
       " 0.0,\n",
       " 0.0,\n",
       " 0.0,\n",
       " 0.0,\n",
       " 0.0,\n",
       " 0.0,\n",
       " 0.0,\n",
       " 0.0,\n",
       " 0.0,\n",
       " 0.0,\n",
       " 0.0,\n",
       " 0.0,\n",
       " 0.0,\n",
       " 0.0,\n",
       " 0.0,\n",
       " 0.0,\n",
       " 0.0,\n",
       " 0.0,\n",
       " 0.0,\n",
       " 0.0,\n",
       " 0.0,\n",
       " 0.0,\n",
       " 0.0,\n",
       " 0.0,\n",
       " 0.0,\n",
       " 0.0,\n",
       " 0.0,\n",
       " 0.0,\n",
       " 0.0,\n",
       " 0.0,\n",
       " 0.0,\n",
       " 0.0,\n",
       " 0.0,\n",
       " 0.0,\n",
       " 0.0,\n",
       " 0.0,\n",
       " 0.0,\n",
       " 0.0,\n",
       " 0.0,\n",
       " 0.0,\n",
       " 0.0,\n",
       " 0.0,\n",
       " 0.0,\n",
       " 0.0,\n",
       " 0.0,\n",
       " 0.0,\n",
       " 0.0,\n",
       " 0.0,\n",
       " 0.0,\n",
       " 0.0,\n",
       " 0.0,\n",
       " 0.0,\n",
       " 0.0,\n",
       " 0.0,\n",
       " 0.0,\n",
       " 0.0,\n",
       " 0.0,\n",
       " 0.0,\n",
       " 0.0,\n",
       " 0.0,\n",
       " 0.0,\n",
       " 0.0,\n",
       " 0.0,\n",
       " 0.0,\n",
       " 0.0,\n",
       " 0.0,\n",
       " 0.0,\n",
       " 0.0,\n",
       " 0.0,\n",
       " 0.0,\n",
       " 0.0,\n",
       " 0.0,\n",
       " 0.0,\n",
       " 0.0,\n",
       " 0.0,\n",
       " 0.0,\n",
       " 0.0,\n",
       " 0.0,\n",
       " 0.0,\n",
       " 0.0,\n",
       " 0.0,\n",
       " 0.0,\n",
       " 0.0,\n",
       " 0.0,\n",
       " 0.0,\n",
       " 0.0,\n",
       " 0.0,\n",
       " 0.0,\n",
       " 0.0,\n",
       " 0.0,\n",
       " 0.0,\n",
       " 0.0,\n",
       " 0.0,\n",
       " 0.0,\n",
       " 0.0,\n",
       " 0.0,\n",
       " 0.0,\n",
       " 0.0,\n",
       " 0.0,\n",
       " 0.0,\n",
       " 0.0,\n",
       " 0.0,\n",
       " 0.0,\n",
       " 0.0,\n",
       " 0.0,\n",
       " 0.0,\n",
       " 0.0,\n",
       " 0.0,\n",
       " 0.0,\n",
       " 0.0,\n",
       " 0.0,\n",
       " 0.0,\n",
       " 0.0,\n",
       " 0.0,\n",
       " 0.0,\n",
       " 0.0,\n",
       " 0.0,\n",
       " 0.0,\n",
       " 0.0,\n",
       " 0.0,\n",
       " 0.0,\n",
       " 0.0,\n",
       " 0.0,\n",
       " 0.0,\n",
       " 0.0,\n",
       " 0.0,\n",
       " 0.0,\n",
       " 0.0,\n",
       " 0.0,\n",
       " 0.0,\n",
       " 0.0,\n",
       " 0.0,\n",
       " 0.0,\n",
       " 0.0,\n",
       " 0.0,\n",
       " 0.0,\n",
       " 0.0,\n",
       " 0.0,\n",
       " 0.0,\n",
       " 0.0,\n",
       " 0.0,\n",
       " 0.0,\n",
       " 0.0,\n",
       " 0.0,\n",
       " 0.0,\n",
       " 0.0,\n",
       " 0.0,\n",
       " 0.0,\n",
       " 0.0,\n",
       " 0.0,\n",
       " 0.0,\n",
       " 0.0,\n",
       " 0.0,\n",
       " 0.0,\n",
       " 0.0,\n",
       " 0.0,\n",
       " 0.0,\n",
       " 0.0,\n",
       " 0.0,\n",
       " 0.0,\n",
       " 0.0,\n",
       " 0.0,\n",
       " 0.0,\n",
       " 0.0,\n",
       " 0.0,\n",
       " 0.0,\n",
       " 0.0,\n",
       " 0.0,\n",
       " 0.0,\n",
       " 0.0,\n",
       " 0.0,\n",
       " 0.0,\n",
       " 0.0,\n",
       " 0.0,\n",
       " 0.0,\n",
       " 0.0,\n",
       " 0.0,\n",
       " 0.0,\n",
       " 0.0,\n",
       " 0.0,\n",
       " 0.0,\n",
       " 0.0,\n",
       " 0.0,\n",
       " 0.0,\n",
       " 0.0,\n",
       " 0.0,\n",
       " 0.0,\n",
       " 0.0,\n",
       " 0.0,\n",
       " 0.0,\n",
       " 0.0,\n",
       " 0.0,\n",
       " 0.0,\n",
       " 0.0,\n",
       " 0.0,\n",
       " 0.0,\n",
       " 0.0,\n",
       " 0.0,\n",
       " 0.0,\n",
       " 0.0,\n",
       " 0.0,\n",
       " 0.0,\n",
       " 0.0,\n",
       " 0.0,\n",
       " 0.0,\n",
       " 0.0,\n",
       " 0.0,\n",
       " 0.0,\n",
       " 0.0,\n",
       " 0.0,\n",
       " 0.0,\n",
       " 0.0,\n",
       " 0.0,\n",
       " 0.0,\n",
       " 0.0,\n",
       " 0.0,\n",
       " 0.0,\n",
       " 0.0,\n",
       " 0.0,\n",
       " 0.0,\n",
       " 0.0,\n",
       " 0.0,\n",
       " 0.0,\n",
       " 0.0,\n",
       " 0.0,\n",
       " 0.0,\n",
       " 0.0,\n",
       " 0.0,\n",
       " 0.0,\n",
       " 0.0,\n",
       " 0.0,\n",
       " 0.0,\n",
       " 0.0,\n",
       " 0.0,\n",
       " 0.0,\n",
       " 0.0,\n",
       " 0.0,\n",
       " 0.0,\n",
       " 4677.71,\n",
       " 967.986,\n",
       " 2067.52,\n",
       " 1913.07,\n",
       " 13998.4,\n",
       " 381.214,\n",
       " 3822.59,\n",
       " 3322.86,\n",
       " 1865.91,\n",
       " 2099.59,\n",
       " 8024.18,\n",
       " 1110.32,\n",
       " 2720.62,\n",
       " 51.8493,\n",
       " 4.01244,\n",
       " 183.745,\n",
       " 97.635,\n",
       " 15.1604,\n",
       " 14.1633,\n",
       " 12.5443,\n",
       " 4.54048,\n",
       " 31.1885,\n",
       " 0.0,\n",
       " 0.0,\n",
       " 0.0,\n",
       " 0.0,\n",
       " 0.0,\n",
       " 0.0,\n",
       " 0.0,\n",
       " 0.0,\n",
       " 0.0,\n",
       " 0.0,\n",
       " 0.0,\n",
       " 2.46642,\n",
       " 0.169774,\n",
       " 1.47893,\n",
       " 0.280779,\n",
       " 0.0,\n",
       " 0.0,\n",
       " 0.0,\n",
       " 2.93988,\n",
       " 0.0,\n",
       " 0.0,\n",
       " 0.0,\n",
       " 0.0,\n",
       " 0.0,\n",
       " 0.298793,\n",
       " 0.561287,\n",
       " 0.0,\n",
       " 0.0,\n",
       " 2.59567,\n",
       " 0.0,\n",
       " 0.147046,\n",
       " 40.129,\n",
       " 0.460864,\n",
       " 0.878875,\n",
       " 2.70635,\n",
       " 0.27023,\n",
       " 23.5984,\n",
       " 1.65857,\n",
       " 0.22824,\n",
       " 3.13911,\n",
       " 0.0,\n",
       " 0.360642,\n",
       " 0.0492399,\n",
       " 0.00351893,\n",
       " 0.0,\n",
       " 0.0881346,\n",
       " 0.0,\n",
       " 1.00739,\n",
       " 104.12,\n",
       " 5.79105,\n",
       " 21.4524,\n",
       " 0.0947004,\n",
       " 1.47795,\n",
       " 37.6653,\n",
       " 0.766009,\n",
       " 9.65891,\n",
       " 23.6462,\n",
       " 25.3276,\n",
       " 37.4762,\n",
       " 0.0,\n",
       " 0.0,\n",
       " 0.0,\n",
       " 0.298876,\n",
       " 0.322235,\n",
       " 0.0,\n",
       " 0.291901,\n",
       " 0.0,\n",
       " 0.527482,\n",
       " 0.0,\n",
       " 0.30862,\n",
       " 0.171661,\n",
       " 0.0,\n",
       " 0.0,\n",
       " 1.46454,\n",
       " 4.27901,\n",
       " 0.744359,\n",
       " 1.18134,\n",
       " 1.3583,\n",
       " 0.329407,\n",
       " 1.90685,\n",
       " 0.0,\n",
       " 0.0,\n",
       " 13.8748,\n",
       " 7.3889,\n",
       " 223.076,\n",
       " 32.2892,\n",
       " 12.5078,\n",
       " 0.0,\n",
       " 13.5727,\n",
       " 6.188,\n",
       " 18.1515,\n",
       " 5.93382,\n",
       " 3.92455,\n",
       " 36.92,\n",
       " 0.0,\n",
       " 0.138313,\n",
       " 0.147299,\n",
       " 0.0,\n",
       " 0.0,\n",
       " 0.0,\n",
       " 39.4866,\n",
       " 14.175,\n",
       " 2.24137,\n",
       " 0.0,\n",
       " 6.5427,\n",
       " 0.0,\n",
       " 0.0,\n",
       " 0.0,\n",
       " 0.0,\n",
       " 0.0,\n",
       " 105.275,\n",
       " 164.716,\n",
       " 7.49432,\n",
       " 0.665015,\n",
       " 20.7103,\n",
       " 42.3325,\n",
       " 5.10804,\n",
       " 0.0,\n",
       " 0.0,\n",
       " 0.791306,\n",
       " 0.512513,\n",
       " 0.0,\n",
       " 0.0,\n",
       " 0.0,\n",
       " 0.0,\n",
       " 0.0,\n",
       " 0.0,\n",
       " 0.0,\n",
       " 0.0,\n",
       " 0.0,\n",
       " 0.0,\n",
       " 0.00868841,\n",
       " 0.0,\n",
       " 0.0,\n",
       " 5.17194,\n",
       " 15.7937,\n",
       " 0.0,\n",
       " 4.38124,\n",
       " 0.0,\n",
       " 0.596736,\n",
       " 0.0,\n",
       " 0.0,\n",
       " 11.1933,\n",
       " 1.0922,\n",
       " 0.0,\n",
       " 0.0,\n",
       " 7.33128,\n",
       " 0.161972,\n",
       " 0.534367,\n",
       " 0.0,\n",
       " 4.8901,\n",
       " 81.1015,\n",
       " 133.96,\n",
       " 2.5535,\n",
       " 4.37102,\n",
       " 0.212855,\n",
       " 0.642467,\n",
       " 0.0,\n",
       " 2.86962,\n",
       " 4.33861,\n",
       " 2.60214,\n",
       " 0.785491,\n",
       " 15.3951,\n",
       " 0.660345,\n",
       " 6.74923,\n",
       " 0.0,\n",
       " 3.25688,\n",
       " 2.91549,\n",
       " 19.6527,\n",
       " 0.0,\n",
       " 21.1701,\n",
       " 8.18242,\n",
       " 0.0,\n",
       " 1.51888e-08,\n",
       " 3.47988,\n",
       " 0.0,\n",
       " 15.8778,\n",
       " 0.705719,\n",
       " 0.757302,\n",
       " 0.0,\n",
       " ...]"
      ]
     },
     "execution_count": 229,
     "metadata": {},
     "output_type": "execute_result"
    }
   ],
   "source": [
    "list(df['Treat3'])"
   ]
  },
  {
   "cell_type": "code",
   "execution_count": 244,
   "id": "ed563d15",
   "metadata": {},
   "outputs": [],
   "source": [
    "A = list(df.columns)"
   ]
  },
  {
   "cell_type": "code",
   "execution_count": 246,
   "id": "01c5b35a",
   "metadata": {},
   "outputs": [],
   "source": [
    "A[7] = 'Treat30'"
   ]
  },
  {
   "cell_type": "code",
   "execution_count": 247,
   "id": "3c9d5da2",
   "metadata": {},
   "outputs": [
    {
     "data": {
      "text/plain": [
       "['Unnamed: 0',\n",
       " 'target_id',\n",
       " 'WT1',\n",
       " 'WT2',\n",
       " 'WT3',\n",
       " 'Treat1',\n",
       " 'Treat2',\n",
       " 'Treat30',\n",
       " 'Treat4',\n",
       " 'Treat5',\n",
       " 'Treat6']"
      ]
     },
     "execution_count": 247,
     "metadata": {},
     "output_type": "execute_result"
    }
   ],
   "source": [
    "A"
   ]
  },
  {
   "cell_type": "code",
   "execution_count": 251,
   "id": "43e3fe24",
   "metadata": {},
   "outputs": [],
   "source": [
    "df.columns = A"
   ]
  },
  {
   "cell_type": "code",
   "execution_count": 252,
   "id": "d347fed8",
   "metadata": {},
   "outputs": [
    {
     "data": {
      "text/plain": [
       "Index(['Unnamed: 0', 'target_id', 'WT1', 'WT2', 'WT3', 'Treat1', 'Treat2',\n",
       "       'Treat30', 'Treat4', 'Treat5', 'Treat6'],\n",
       "      dtype='object')"
      ]
     },
     "execution_count": 252,
     "metadata": {},
     "output_type": "execute_result"
    }
   ],
   "source": [
    "df.columns"
   ]
  },
  {
   "cell_type": "code",
   "execution_count": 253,
   "id": "9ff17b47",
   "metadata": {},
   "outputs": [
    {
     "data": {
      "text/html": [
       "<div>\n",
       "<style scoped>\n",
       "    .dataframe tbody tr th:only-of-type {\n",
       "        vertical-align: middle;\n",
       "    }\n",
       "\n",
       "    .dataframe tbody tr th {\n",
       "        vertical-align: top;\n",
       "    }\n",
       "\n",
       "    .dataframe thead th {\n",
       "        text-align: right;\n",
       "    }\n",
       "</style>\n",
       "<table border=\"1\" class=\"dataframe\">\n",
       "  <thead>\n",
       "    <tr style=\"text-align: right;\">\n",
       "      <th></th>\n",
       "      <th>Unnamed: 0</th>\n",
       "      <th>target_id</th>\n",
       "      <th>WT1</th>\n",
       "      <th>WT2</th>\n",
       "      <th>WT3</th>\n",
       "      <th>Treat1</th>\n",
       "      <th>Treat2</th>\n",
       "      <th>Treat30</th>\n",
       "      <th>Treat4</th>\n",
       "      <th>Treat5</th>\n",
       "      <th>Treat6</th>\n",
       "    </tr>\n",
       "  </thead>\n",
       "  <tbody>\n",
       "    <tr>\n",
       "      <th>0</th>\n",
       "      <td>0</td>\n",
       "      <td>ENSMUST00000177564.1</td>\n",
       "      <td>3.0</td>\n",
       "      <td>0.0</td>\n",
       "      <td>0.0</td>\n",
       "      <td>0.0</td>\n",
       "      <td>0.0</td>\n",
       "      <td>0.0</td>\n",
       "      <td>0.0</td>\n",
       "      <td>0.0</td>\n",
       "      <td>0.0</td>\n",
       "    </tr>\n",
       "    <tr>\n",
       "      <th>1</th>\n",
       "      <td>1</td>\n",
       "      <td>ENSMUST00000196221.1</td>\n",
       "      <td>3.0</td>\n",
       "      <td>0.0</td>\n",
       "      <td>0.0</td>\n",
       "      <td>0.0</td>\n",
       "      <td>0.0</td>\n",
       "      <td>0.0</td>\n",
       "      <td>0.0</td>\n",
       "      <td>0.0</td>\n",
       "      <td>0.0</td>\n",
       "    </tr>\n",
       "    <tr>\n",
       "      <th>2</th>\n",
       "      <td>2</td>\n",
       "      <td>ENSMUST00000179664.1</td>\n",
       "      <td>3.0</td>\n",
       "      <td>0.0</td>\n",
       "      <td>0.0</td>\n",
       "      <td>0.0</td>\n",
       "      <td>0.0</td>\n",
       "      <td>0.0</td>\n",
       "      <td>0.0</td>\n",
       "      <td>0.0</td>\n",
       "      <td>0.0</td>\n",
       "    </tr>\n",
       "    <tr>\n",
       "      <th>3</th>\n",
       "      <td>3</td>\n",
       "      <td>ENSMUST00000178537.1</td>\n",
       "      <td>3.0</td>\n",
       "      <td>0.0</td>\n",
       "      <td>0.0</td>\n",
       "      <td>0.0</td>\n",
       "      <td>0.0</td>\n",
       "      <td>0.0</td>\n",
       "      <td>0.0</td>\n",
       "      <td>0.0</td>\n",
       "      <td>0.0</td>\n",
       "    </tr>\n",
       "    <tr>\n",
       "      <th>4</th>\n",
       "      <td>4</td>\n",
       "      <td>ENSMUST00000178862.1</td>\n",
       "      <td>3.0</td>\n",
       "      <td>0.0</td>\n",
       "      <td>0.0</td>\n",
       "      <td>0.0</td>\n",
       "      <td>0.0</td>\n",
       "      <td>0.0</td>\n",
       "      <td>0.0</td>\n",
       "      <td>0.0</td>\n",
       "      <td>0.0</td>\n",
       "    </tr>\n",
       "    <tr>\n",
       "      <th>...</th>\n",
       "      <td>...</td>\n",
       "      <td>...</td>\n",
       "      <td>...</td>\n",
       "      <td>...</td>\n",
       "      <td>...</td>\n",
       "      <td>...</td>\n",
       "      <td>...</td>\n",
       "      <td>...</td>\n",
       "      <td>...</td>\n",
       "      <td>...</td>\n",
       "      <td>...</td>\n",
       "    </tr>\n",
       "    <tr>\n",
       "      <th>109277</th>\n",
       "      <td>109277</td>\n",
       "      <td>ENSMUST00000181902.2</td>\n",
       "      <td>3.0</td>\n",
       "      <td>0.0</td>\n",
       "      <td>0.0</td>\n",
       "      <td>0.0</td>\n",
       "      <td>0.0</td>\n",
       "      <td>0.0</td>\n",
       "      <td>0.0</td>\n",
       "      <td>0.0</td>\n",
       "      <td>0.0</td>\n",
       "    </tr>\n",
       "    <tr>\n",
       "      <th>109278</th>\n",
       "      <td>109278</td>\n",
       "      <td>ENSMUST00000181878.2</td>\n",
       "      <td>3.0</td>\n",
       "      <td>0.0</td>\n",
       "      <td>0.0</td>\n",
       "      <td>0.0</td>\n",
       "      <td>0.0</td>\n",
       "      <td>0.0</td>\n",
       "      <td>0.0</td>\n",
       "      <td>0.0</td>\n",
       "      <td>0.0</td>\n",
       "    </tr>\n",
       "    <tr>\n",
       "      <th>109279</th>\n",
       "      <td>109279</td>\n",
       "      <td>ENSMUST00000201504.1</td>\n",
       "      <td>3.0</td>\n",
       "      <td>0.0</td>\n",
       "      <td>0.0</td>\n",
       "      <td>0.0</td>\n",
       "      <td>0.0</td>\n",
       "      <td>0.0</td>\n",
       "      <td>0.0</td>\n",
       "      <td>0.0</td>\n",
       "      <td>0.0</td>\n",
       "    </tr>\n",
       "    <tr>\n",
       "      <th>109280</th>\n",
       "      <td>109280</td>\n",
       "      <td>ENSMUST00000200975.1</td>\n",
       "      <td>3.0</td>\n",
       "      <td>0.0</td>\n",
       "      <td>0.0</td>\n",
       "      <td>0.0</td>\n",
       "      <td>0.0</td>\n",
       "      <td>0.0</td>\n",
       "      <td>0.0</td>\n",
       "      <td>0.0</td>\n",
       "      <td>0.0</td>\n",
       "    </tr>\n",
       "    <tr>\n",
       "      <th>109281</th>\n",
       "      <td>109281</td>\n",
       "      <td>ENSMUST00000202689.1</td>\n",
       "      <td>3.0</td>\n",
       "      <td>0.0</td>\n",
       "      <td>0.0</td>\n",
       "      <td>0.0</td>\n",
       "      <td>0.0</td>\n",
       "      <td>0.0</td>\n",
       "      <td>0.0</td>\n",
       "      <td>0.0</td>\n",
       "      <td>0.0</td>\n",
       "    </tr>\n",
       "  </tbody>\n",
       "</table>\n",
       "<p>109282 rows × 11 columns</p>\n",
       "</div>"
      ],
      "text/plain": [
       "        Unnamed: 0             target_id  WT1  WT2  WT3  Treat1  Treat2  \\\n",
       "0                0  ENSMUST00000177564.1  3.0  0.0  0.0     0.0     0.0   \n",
       "1                1  ENSMUST00000196221.1  3.0  0.0  0.0     0.0     0.0   \n",
       "2                2  ENSMUST00000179664.1  3.0  0.0  0.0     0.0     0.0   \n",
       "3                3  ENSMUST00000178537.1  3.0  0.0  0.0     0.0     0.0   \n",
       "4                4  ENSMUST00000178862.1  3.0  0.0  0.0     0.0     0.0   \n",
       "...            ...                   ...  ...  ...  ...     ...     ...   \n",
       "109277      109277  ENSMUST00000181902.2  3.0  0.0  0.0     0.0     0.0   \n",
       "109278      109278  ENSMUST00000181878.2  3.0  0.0  0.0     0.0     0.0   \n",
       "109279      109279  ENSMUST00000201504.1  3.0  0.0  0.0     0.0     0.0   \n",
       "109280      109280  ENSMUST00000200975.1  3.0  0.0  0.0     0.0     0.0   \n",
       "109281      109281  ENSMUST00000202689.1  3.0  0.0  0.0     0.0     0.0   \n",
       "\n",
       "        Treat30  Treat4  Treat5  Treat6  \n",
       "0           0.0     0.0     0.0     0.0  \n",
       "1           0.0     0.0     0.0     0.0  \n",
       "2           0.0     0.0     0.0     0.0  \n",
       "3           0.0     0.0     0.0     0.0  \n",
       "4           0.0     0.0     0.0     0.0  \n",
       "...         ...     ...     ...     ...  \n",
       "109277      0.0     0.0     0.0     0.0  \n",
       "109278      0.0     0.0     0.0     0.0  \n",
       "109279      0.0     0.0     0.0     0.0  \n",
       "109280      0.0     0.0     0.0     0.0  \n",
       "109281      0.0     0.0     0.0     0.0  \n",
       "\n",
       "[109282 rows x 11 columns]"
      ]
     },
     "execution_count": 253,
     "metadata": {},
     "output_type": "execute_result"
    }
   ],
   "source": [
    "df"
   ]
  },
  {
   "cell_type": "code",
   "execution_count": 261,
   "id": "61f1aced",
   "metadata": {},
   "outputs": [
    {
     "data": {
      "text/html": [
       "<div>\n",
       "<style scoped>\n",
       "    .dataframe tbody tr th:only-of-type {\n",
       "        vertical-align: middle;\n",
       "    }\n",
       "\n",
       "    .dataframe tbody tr th {\n",
       "        vertical-align: top;\n",
       "    }\n",
       "\n",
       "    .dataframe thead th {\n",
       "        text-align: right;\n",
       "    }\n",
       "</style>\n",
       "<table border=\"1\" class=\"dataframe\">\n",
       "  <thead>\n",
       "    <tr style=\"text-align: right;\">\n",
       "      <th></th>\n",
       "      <th>Unnamed: 0</th>\n",
       "      <th>target_id</th>\n",
       "      <th>WT1</th>\n",
       "      <th>WT2</th>\n",
       "      <th>WT3</th>\n",
       "      <th>Treat1</th>\n",
       "      <th>Treat2</th>\n",
       "      <th>Treat3</th>\n",
       "      <th>Treat4</th>\n",
       "      <th>Treat5</th>\n",
       "      <th>Treat6</th>\n",
       "    </tr>\n",
       "  </thead>\n",
       "  <tbody>\n",
       "    <tr>\n",
       "      <th>0</th>\n",
       "      <td>0</td>\n",
       "      <td>ENSMUST00000177564.1</td>\n",
       "      <td>3.0</td>\n",
       "      <td>0.0</td>\n",
       "      <td>0.0</td>\n",
       "      <td>0.0</td>\n",
       "      <td>0.0</td>\n",
       "      <td>0.0</td>\n",
       "      <td>0.0</td>\n",
       "      <td>0.0</td>\n",
       "      <td>0.0</td>\n",
       "    </tr>\n",
       "    <tr>\n",
       "      <th>1</th>\n",
       "      <td>1</td>\n",
       "      <td>ENSMUST00000196221.1</td>\n",
       "      <td>3.0</td>\n",
       "      <td>0.0</td>\n",
       "      <td>0.0</td>\n",
       "      <td>0.0</td>\n",
       "      <td>0.0</td>\n",
       "      <td>0.0</td>\n",
       "      <td>0.0</td>\n",
       "      <td>0.0</td>\n",
       "      <td>0.0</td>\n",
       "    </tr>\n",
       "    <tr>\n",
       "      <th>2</th>\n",
       "      <td>2</td>\n",
       "      <td>ENSMUST00000179664.1</td>\n",
       "      <td>3.0</td>\n",
       "      <td>0.0</td>\n",
       "      <td>0.0</td>\n",
       "      <td>0.0</td>\n",
       "      <td>0.0</td>\n",
       "      <td>0.0</td>\n",
       "      <td>0.0</td>\n",
       "      <td>0.0</td>\n",
       "      <td>0.0</td>\n",
       "    </tr>\n",
       "    <tr>\n",
       "      <th>3</th>\n",
       "      <td>3</td>\n",
       "      <td>ENSMUST00000178537.1</td>\n",
       "      <td>3.0</td>\n",
       "      <td>0.0</td>\n",
       "      <td>0.0</td>\n",
       "      <td>0.0</td>\n",
       "      <td>0.0</td>\n",
       "      <td>0.0</td>\n",
       "      <td>0.0</td>\n",
       "      <td>0.0</td>\n",
       "      <td>0.0</td>\n",
       "    </tr>\n",
       "    <tr>\n",
       "      <th>4</th>\n",
       "      <td>4</td>\n",
       "      <td>ENSMUST00000178862.1</td>\n",
       "      <td>3.0</td>\n",
       "      <td>0.0</td>\n",
       "      <td>0.0</td>\n",
       "      <td>0.0</td>\n",
       "      <td>0.0</td>\n",
       "      <td>0.0</td>\n",
       "      <td>0.0</td>\n",
       "      <td>0.0</td>\n",
       "      <td>0.0</td>\n",
       "    </tr>\n",
       "    <tr>\n",
       "      <th>...</th>\n",
       "      <td>...</td>\n",
       "      <td>...</td>\n",
       "      <td>...</td>\n",
       "      <td>...</td>\n",
       "      <td>...</td>\n",
       "      <td>...</td>\n",
       "      <td>...</td>\n",
       "      <td>...</td>\n",
       "      <td>...</td>\n",
       "      <td>...</td>\n",
       "      <td>...</td>\n",
       "    </tr>\n",
       "    <tr>\n",
       "      <th>109277</th>\n",
       "      <td>109277</td>\n",
       "      <td>ENSMUST00000181902.2</td>\n",
       "      <td>3.0</td>\n",
       "      <td>0.0</td>\n",
       "      <td>0.0</td>\n",
       "      <td>0.0</td>\n",
       "      <td>0.0</td>\n",
       "      <td>0.0</td>\n",
       "      <td>0.0</td>\n",
       "      <td>0.0</td>\n",
       "      <td>0.0</td>\n",
       "    </tr>\n",
       "    <tr>\n",
       "      <th>109278</th>\n",
       "      <td>109278</td>\n",
       "      <td>ENSMUST00000181878.2</td>\n",
       "      <td>3.0</td>\n",
       "      <td>0.0</td>\n",
       "      <td>0.0</td>\n",
       "      <td>0.0</td>\n",
       "      <td>0.0</td>\n",
       "      <td>0.0</td>\n",
       "      <td>0.0</td>\n",
       "      <td>0.0</td>\n",
       "      <td>0.0</td>\n",
       "    </tr>\n",
       "    <tr>\n",
       "      <th>109279</th>\n",
       "      <td>109279</td>\n",
       "      <td>ENSMUST00000201504.1</td>\n",
       "      <td>3.0</td>\n",
       "      <td>0.0</td>\n",
       "      <td>0.0</td>\n",
       "      <td>0.0</td>\n",
       "      <td>0.0</td>\n",
       "      <td>0.0</td>\n",
       "      <td>0.0</td>\n",
       "      <td>0.0</td>\n",
       "      <td>0.0</td>\n",
       "    </tr>\n",
       "    <tr>\n",
       "      <th>109280</th>\n",
       "      <td>109280</td>\n",
       "      <td>ENSMUST00000200975.1</td>\n",
       "      <td>3.0</td>\n",
       "      <td>0.0</td>\n",
       "      <td>0.0</td>\n",
       "      <td>0.0</td>\n",
       "      <td>0.0</td>\n",
       "      <td>0.0</td>\n",
       "      <td>0.0</td>\n",
       "      <td>0.0</td>\n",
       "      <td>0.0</td>\n",
       "    </tr>\n",
       "    <tr>\n",
       "      <th>109281</th>\n",
       "      <td>109281</td>\n",
       "      <td>ENSMUST00000202689.1</td>\n",
       "      <td>3.0</td>\n",
       "      <td>0.0</td>\n",
       "      <td>0.0</td>\n",
       "      <td>0.0</td>\n",
       "      <td>0.0</td>\n",
       "      <td>0.0</td>\n",
       "      <td>0.0</td>\n",
       "      <td>0.0</td>\n",
       "      <td>0.0</td>\n",
       "    </tr>\n",
       "  </tbody>\n",
       "</table>\n",
       "<p>109282 rows × 11 columns</p>\n",
       "</div>"
      ],
      "text/plain": [
       "        Unnamed: 0             target_id  WT1  WT2  WT3  Treat1  Treat2  \\\n",
       "0                0  ENSMUST00000177564.1  3.0  0.0  0.0     0.0     0.0   \n",
       "1                1  ENSMUST00000196221.1  3.0  0.0  0.0     0.0     0.0   \n",
       "2                2  ENSMUST00000179664.1  3.0  0.0  0.0     0.0     0.0   \n",
       "3                3  ENSMUST00000178537.1  3.0  0.0  0.0     0.0     0.0   \n",
       "4                4  ENSMUST00000178862.1  3.0  0.0  0.0     0.0     0.0   \n",
       "...            ...                   ...  ...  ...  ...     ...     ...   \n",
       "109277      109277  ENSMUST00000181902.2  3.0  0.0  0.0     0.0     0.0   \n",
       "109278      109278  ENSMUST00000181878.2  3.0  0.0  0.0     0.0     0.0   \n",
       "109279      109279  ENSMUST00000201504.1  3.0  0.0  0.0     0.0     0.0   \n",
       "109280      109280  ENSMUST00000200975.1  3.0  0.0  0.0     0.0     0.0   \n",
       "109281      109281  ENSMUST00000202689.1  3.0  0.0  0.0     0.0     0.0   \n",
       "\n",
       "        Treat3  Treat4  Treat5  Treat6  \n",
       "0          0.0     0.0     0.0     0.0  \n",
       "1          0.0     0.0     0.0     0.0  \n",
       "2          0.0     0.0     0.0     0.0  \n",
       "3          0.0     0.0     0.0     0.0  \n",
       "4          0.0     0.0     0.0     0.0  \n",
       "...        ...     ...     ...     ...  \n",
       "109277     0.0     0.0     0.0     0.0  \n",
       "109278     0.0     0.0     0.0     0.0  \n",
       "109279     0.0     0.0     0.0     0.0  \n",
       "109280     0.0     0.0     0.0     0.0  \n",
       "109281     0.0     0.0     0.0     0.0  \n",
       "\n",
       "[109282 rows x 11 columns]"
      ]
     },
     "execution_count": 261,
     "metadata": {},
     "output_type": "execute_result"
    }
   ],
   "source": [
    "# rename 함수가 있다. axis 는 축방향이며, 0은 아래로 내려가는 방향, 1은 오른쪽으로 가는 방향.\n",
    "# 자세한 내용은 판다스 공식홈에 있다...\n",
    "\n",
    "df.rename({'Treat30': 'Treat3'}, axis = 1)"
   ]
  },
  {
   "cell_type": "code",
   "execution_count": 262,
   "id": "a2ff662c",
   "metadata": {},
   "outputs": [
    {
     "data": {
      "text/plain": [
       "RangeIndex(start=0, stop=109282, step=1)"
      ]
     },
     "execution_count": 262,
     "metadata": {},
     "output_type": "execute_result"
    }
   ],
   "source": [
    "# range(시작, 끝, 스텝) 와 형태가 비슷하다. \n",
    "\n",
    "df.index"
   ]
  },
  {
   "cell_type": "code",
   "execution_count": 263,
   "id": "809d37f6",
   "metadata": {},
   "outputs": [
    {
     "data": {
      "text/plain": [
       "pandas.core.indexes.range.RangeIndex"
      ]
     },
     "execution_count": 263,
     "metadata": {},
     "output_type": "execute_result"
    }
   ],
   "source": [
    "type(df.index)"
   ]
  },
  {
   "cell_type": "code",
   "execution_count": 269,
   "id": "0c7c5b02",
   "metadata": {},
   "outputs": [
    {
     "data": {
      "text/plain": [
       "RangeIndex(start=2, stop=52, step=1)"
      ]
     },
     "execution_count": 269,
     "metadata": {},
     "output_type": "execute_result"
    }
   ],
   "source": [
    "df.index[2:52]"
   ]
  },
  {
   "cell_type": "code",
   "execution_count": 270,
   "id": "cc7ba394",
   "metadata": {},
   "outputs": [],
   "source": [
    "# 레인지 편집 불가, 레인지인덱스도 편집은 불가.\n",
    "# 하지만, 리스트형이므로, 리스트로 변환할 경우 편집할 수 있다."
   ]
  },
  {
   "cell_type": "code",
   "execution_count": null,
   "id": "b8d25485",
   "metadata": {},
   "outputs": [],
   "source": []
  }
 ],
 "metadata": {
  "kernelspec": {
   "display_name": "Python 3 (ipykernel)",
   "language": "python",
   "name": "python3"
  },
  "language_info": {
   "codemirror_mode": {
    "name": "ipython",
    "version": 3
   },
   "file_extension": ".py",
   "mimetype": "text/x-python",
   "name": "python",
   "nbconvert_exporter": "python",
   "pygments_lexer": "ipython3",
   "version": "3.9.13"
  }
 },
 "nbformat": 4,
 "nbformat_minor": 5
}
