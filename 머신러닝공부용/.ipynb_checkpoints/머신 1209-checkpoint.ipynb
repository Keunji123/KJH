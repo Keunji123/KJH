{
 "cells": [
  {
   "cell_type": "markdown",
   "id": "bd9f045f",
   "metadata": {},
   "source": [
    "## 선형회귀\n",
    "* k-최근접 이웃 회귀와 선형 회귀 알고리즘의 차이를 이해하고, 사이킷런을 사용해 여러 가지 선형 회귀 모델을 만들어본다."
   ]
  },
  {
   "cell_type": "code",
   "execution_count": 1,
   "id": "dad41e61",
   "metadata": {},
   "outputs": [],
   "source": [
    "import pandas as pd\n",
    "import matplotlib.pyplot as plt\n",
    "import numpy as np\n",
    "import seaborn as sns\n",
    "from scipy import stats\n",
    "from scipy.stats import ks_2samp\n",
    "from statannot import add_stat_annotation\n",
    "import plotly.express as px\n",
    "import plotly.graph_objects as go\n",
    "from sklearn.model_selection import train_test_split\n",
    "sns.set(font_scale = 0.9)\n",
    "\n",
    "plt.rcParams['font.family'] = 'Malgun Gothic'\n",
    "plt.rcParams['axes.unicode_minus'] = False"
   ]
  },
  {
   "cell_type": "code",
   "execution_count": 2,
   "id": "f583ac52",
   "metadata": {},
   "outputs": [],
   "source": [
    "df = pd.read_csv('C:/Users/user/Desktop/lecfile/의문의머신러닝/1201/fish.csv')"
   ]
  },
  {
   "cell_type": "code",
   "execution_count": 3,
   "id": "4bb2e309",
   "metadata": {},
   "outputs": [],
   "source": [
    "perch_length = np.array(df[df[\"Species\"] == \"Perch\"][\"Length2\"])"
   ]
  },
  {
   "cell_type": "code",
   "execution_count": 4,
   "id": "64fd8fbf",
   "metadata": {},
   "outputs": [
    {
     "data": {
      "text/plain": [
       "array([ 8.4, 13.7, 15. , 16.2, 17.4, 18. , 18.7, 19. , 19.6, 20. , 21. ,\n",
       "       21. , 21. , 21.3, 22. , 22. , 22. , 22. , 22. , 22.5, 22.5, 22.7,\n",
       "       23. , 23.5, 24. , 24. , 24.6, 25. , 25.6, 26.5, 27.3, 27.5, 27.5,\n",
       "       27.5, 28. , 28.7, 30. , 32.8, 34.5, 35. , 36.5, 36. , 37. , 37. ,\n",
       "       39. , 39. , 39. , 40. , 40. , 40. , 40. , 42. , 43. , 43. , 43.5,\n",
       "       44. ])"
      ]
     },
     "execution_count": 4,
     "metadata": {},
     "output_type": "execute_result"
    }
   ],
   "source": [
    "perch_length"
   ]
  },
  {
   "cell_type": "code",
   "execution_count": 5,
   "id": "99847fe0",
   "metadata": {},
   "outputs": [],
   "source": [
    "perch_weight = np.array(df[df[\"Species\"] == \"Perch\"][\"Weight\"])"
   ]
  },
  {
   "cell_type": "code",
   "execution_count": 6,
   "id": "b3c1b187",
   "metadata": {},
   "outputs": [
    {
     "data": {
      "text/plain": [
       "array([   5.9,   32. ,   40. ,   51.5,   70. ,  100. ,   78. ,   80. ,\n",
       "         85. ,   85. ,  110. ,  115. ,  125. ,  130. ,  120. ,  120. ,\n",
       "        130. ,  135. ,  110. ,  130. ,  150. ,  145. ,  150. ,  170. ,\n",
       "        225. ,  145. ,  188. ,  180. ,  197. ,  218. ,  300. ,  260. ,\n",
       "        265. ,  250. ,  250. ,  300. ,  320. ,  514. ,  556. ,  840. ,\n",
       "        685. ,  700. ,  700. ,  690. ,  900. ,  650. ,  820. ,  850. ,\n",
       "        900. , 1015. ,  820. , 1100. , 1000. , 1100. , 1000. , 1000. ])"
      ]
     },
     "execution_count": 6,
     "metadata": {},
     "output_type": "execute_result"
    }
   ],
   "source": [
    "perch_weight"
   ]
  },
  {
   "cell_type": "code",
   "execution_count": 7,
   "id": "dc8eb701",
   "metadata": {},
   "outputs": [],
   "source": [
    "train_input, test_input, train_target, test_target = train_test_split(perch_length, perch_weight)"
   ]
  },
  {
   "cell_type": "code",
   "execution_count": 8,
   "id": "519aaafd",
   "metadata": {},
   "outputs": [],
   "source": [
    "train_input = train_input.reshape(-1,1)\n",
    "test_input = test_input.reshape(-1,1)"
   ]
  },
  {
   "cell_type": "code",
   "execution_count": 9,
   "id": "b99db80f",
   "metadata": {},
   "outputs": [
    {
     "data": {
      "text/plain": [
       "KNeighborsRegressor(n_neighbors=3)"
      ]
     },
     "execution_count": 9,
     "metadata": {},
     "output_type": "execute_result"
    }
   ],
   "source": [
    "from sklearn.neighbors import KNeighborsRegressor\n",
    "\n",
    "knr = KNeighborsRegressor(n_neighbors=3)\n",
    "\n",
    "# k- 최근접이웃회귀 모델 훈련\n",
    "knr.fit(train_input, train_target)"
   ]
  },
  {
   "cell_type": "code",
   "execution_count": 10,
   "id": "d8c25b18",
   "metadata": {},
   "outputs": [
    {
     "name": "stdout",
     "output_type": "stream",
     "text": [
      "[1000.]\n"
     ]
    }
   ],
   "source": [
    "# 이제 이 모델로 길이가 50인 농어의 무게를 예측해 보자.\n",
    "print(knr.predict([[50]]))"
   ]
  },
  {
   "cell_type": "markdown",
   "id": "dbb8c484",
   "metadata": {},
   "source": [
    "* 이 모델은 50cm의 농어의 무게를 1066g 정도로 예측하고 있다..(이건 돌릴떄마다 다르다). 하지만 이 농어의 무게는 훨씬 더 많이 나간다고 한다."
   ]
  },
  {
   "cell_type": "code",
   "execution_count": 11,
   "id": "25c68383",
   "metadata": {},
   "outputs": [
    {
     "data": {
      "image/png": "[encoded data removed]",
      "text/plain": [
       "<Figure size 640x480 with 1 Axes>"
      ]
     },
     "metadata": {},
     "output_type": "display_data"
    }
   ],
   "source": [
    "# 50cm 농어의 이웃을 구해보자.\n",
    "distances, indexes = knr.kneighbors([[50]])\n",
    "\n",
    "# 훈련 세트의 산점도를 그려 보자.\n",
    "plt.scatter(train_input, train_target)\n",
    "\n",
    "# 훈련 세트 중에서 이웃인 샘플만 다시 그려 보자.\n",
    "plt.scatter(train_input[indexes], train_target[indexes], marker = 'D')\n",
    "\n",
    "# 50cm 농어의 데이터...\n",
    "plt.scatter(50, 1066, marker = \"^\")\n",
    "\n",
    "\n",
    "plt.xlabel('length')\n",
    "plt.ylabel('weight')\n",
    "plt.show()"
   ]
  },
  {
   "cell_type": "code",
   "execution_count": 12,
   "id": "5a7d0130",
   "metadata": {},
   "outputs": [
    {
     "data": {
      "text/plain": [
       "array([[ 7.,  7., 10.]])"
      ]
     },
     "execution_count": 12,
     "metadata": {},
     "output_type": "execute_result"
    }
   ],
   "source": [
    "distances"
   ]
  },
  {
   "cell_type": "code",
   "execution_count": 13,
   "id": "0a93c3c3",
   "metadata": {},
   "outputs": [
    {
     "data": {
      "text/plain": [
       "array([[11, 22,  2]], dtype=int64)"
      ]
     },
     "execution_count": 13,
     "metadata": {},
     "output_type": "execute_result"
    }
   ],
   "source": [
    "indexes"
   ]
  },
  {
   "cell_type": "code",
   "execution_count": 14,
   "id": "85e759c3",
   "metadata": {},
   "outputs": [
    {
     "data": {
      "text/plain": [
       "1000.0"
      ]
     },
     "execution_count": 14,
     "metadata": {},
     "output_type": "execute_result"
    }
   ],
   "source": [
    "# 정확히 확인해보기 위해 이웃 샘플 타깃의 평균을 구해 보자. \n",
    "\n",
    "np.mean(train_target[indexes])"
   ]
  },
  {
   "cell_type": "code",
   "execution_count": 18,
   "id": "d5280d64",
   "metadata": {},
   "outputs": [
    {
     "data": {
      "text/plain": [
       "array([1000.])"
      ]
     },
     "execution_count": 18,
     "metadata": {},
     "output_type": "execute_result"
    }
   ],
   "source": [
    "# 이렇게 농어가 100cm 여도 여전히 무게는 1000g 정도로만 나온다.\n",
    "knr.predict([[100]])"
   ]
  },
  {
   "cell_type": "code",
   "execution_count": 15,
   "id": "d1de81e0",
   "metadata": {},
   "outputs": [],
   "source": [
    "# 모델 상에서는 문제가 없었다고 하지만... 샘플 자체가 훈련 세트의 범위를 벗어나 버린다면 엉뚱한 값을 예측할 수 있다."
   ]
  },
  {
   "cell_type": "code",
   "execution_count": 20,
   "id": "0d055739",
   "metadata": {},
   "outputs": [
    {
     "data": {
      "image/png": "[encoded data removed]",
      "text/plain": [
       "<Figure size 640x480 with 1 Axes>"
      ]
     },
     "metadata": {},
     "output_type": "display_data"
    }
   ],
   "source": [
    "# 100cm 농어의 이웃을 구해보자.\n",
    "distances, indexes = knr.kneighbors([[100]])\n",
    "\n",
    "# 훈련 세트의 산점도를 그려 보자.\n",
    "plt.scatter(train_input, train_target)\n",
    "\n",
    "# 훈련 세트 중에서 이웃인 샘플만 다시 그려 보자.\n",
    "plt.scatter(train_input[indexes], train_target[indexes], marker = 'D')\n",
    "\n",
    "# 100cm 농어의 데이터...\n",
    "plt.scatter(100, 1000, marker = \"^\")\n",
    "\n",
    "\n",
    "plt.xlabel('length')\n",
    "plt.ylabel('weight')\n",
    "plt.show()"
   ]
  },
  {
   "cell_type": "markdown",
   "id": "f24e4902",
   "metadata": {},
   "source": [
    "* 위와 같이 훈련 셋의 범위를 벗어나면 아무리 큰 길이를 넣어도 무게가 더 올라가지는 않는다....\n",
    "* 이를 처리하기 위한 다른 알고리즘이 있다."
   ]
  },
  {
   "cell_type": "markdown",
   "id": "00efe531",
   "metadata": {},
   "source": [
    "## 선형 회귀"
   ]
  },
  {
   "cell_type": "code",
   "execution_count": 21,
   "id": "b84924aa",
   "metadata": {},
   "outputs": [],
   "source": [
    "# 사이킷런에서는 LinearRegression 을 지원...\n",
    "from sklearn.linear_model import LinearRegression\n",
    "lr = LinearRegression()"
   ]
  },
  {
   "cell_type": "code",
   "execution_count": 22,
   "id": "6aaf83ca",
   "metadata": {},
   "outputs": [
    {
     "data": {
      "text/plain": [
       "LinearRegression()"
      ]
     },
     "execution_count": 22,
     "metadata": {},
     "output_type": "execute_result"
    }
   ],
   "source": [
    "# 선형 회귀 모델을 훈련해보자.\n",
    "lr.fit(train_input, train_target)"
   ]
  },
  {
   "cell_type": "code",
   "execution_count": 23,
   "id": "152d4906",
   "metadata": {},
   "outputs": [
    {
     "data": {
      "text/plain": [
       "array([1197.13658443])"
      ]
     },
     "execution_count": 23,
     "metadata": {},
     "output_type": "execute_result"
    }
   ],
   "source": [
    "# 50cm 농어에 대해 예측해보자.\n",
    "lr.predict([[50]])"
   ]
  },
  {
   "cell_type": "markdown",
   "id": "ece67365",
   "metadata": {},
   "source": [
    "* 오..! 1197이다!\n",
    "* 선형 회귀는 학습한 값들로 하나의 직선을 그려 주고, 그를 통해 값을 예측한다.\n",
    "* y = ax + b의 그래프를 가진다... 여기 들어갈 a와 b는 각각 다음과 같이 확인할 수 있다."
   ]
  },
  {
   "cell_type": "code",
   "execution_count": 24,
   "id": "802f93f7",
   "metadata": {},
   "outputs": [
    {
     "name": "stdout",
     "output_type": "stream",
     "text": [
      "[37.5741348] -681.5701554589123\n"
     ]
    }
   ],
   "source": [
    "print(lr.coef_, lr.intercept_)"
   ]
  },
  {
   "cell_type": "markdown",
   "id": "3a44e0a7",
   "metadata": {},
   "source": [
    "* coef 는 coefficient (계수) 의 약자.. 이것이 위에서 a에 해당한다.\n",
    "* intercept 가 절편에 해당.\n",
    "* 이렇게 머신러닝 알고리즘이 찾은 기울기, 절편 등의 값을 모델 파라미터 라고 부른다. \n",
    "* 이러한 머신러닝 알고리즘의 훈련 과정은 최적의 모델 파라미터를 찾는 것이다.\n",
    "* 이를 모델 기반 학습이라고 부른다."
   ]
  },
  {
   "cell_type": "markdown",
   "id": "79cac774",
   "metadata": {},
   "source": [
    "* 한편 k-최근접 이웃에서는 모델 파라미터가 없고, 훈련 셋을 저장하는 것이 훈련의 전부였다.\n",
    "* 이를 사례 기반 학습이라고 부른다."
   ]
  },
  {
   "cell_type": "code",
   "execution_count": 38,
   "id": "a70babf0",
   "metadata": {},
   "outputs": [
    {
     "data": {
      "image/png": "[encoded data removed]",
      "text/plain": [
       "<Figure size 640x480 with 1 Axes>"
      ]
     },
     "metadata": {},
     "output_type": "display_data"
    }
   ],
   "source": [
    "# 이제 위에서 구한 값을 활용해서 선형회귀 그래프를 그려 보자.\n",
    "# 책에서 seaborn을 쓰지 않아서 매우 힘들게 그리길래 바꿔놨다. \n",
    "\n",
    "plt.scatter(train_input, train_target)\n",
    "plt.scatter(50, 1197.13, marker = \"^\")\n",
    "\n",
    "# plt.plot([15,50], [15*lr.coef_+lr.intercept_, 50*lr.coef_+lr.intercept_])\n",
    "sns.regplot(train_input, train_target, truncate = False, ci = False)\n",
    "\n",
    "plt.xlabel('length')\n",
    "plt.ylabel('weight')\n",
    "plt.show()"
   ]
  },
  {
   "cell_type": "markdown",
   "id": "4b3283a3",
   "metadata": {},
   "source": [
    "* 그러면 이제서야 비로소 훈련 세트와 테스트 세트의 결정계수를 확인해 보자."
   ]
  },
  {
   "cell_type": "code",
   "execution_count": 39,
   "id": "071f0056",
   "metadata": {},
   "outputs": [
    {
     "name": "stdout",
     "output_type": "stream",
     "text": [
      "0.9311696888653194\n",
      "0.8840040821754998\n"
     ]
    }
   ],
   "source": [
    "print(lr.score(train_input,train_target))\n",
    "print(lr.score(test_input,test_target))"
   ]
  },
  {
   "cell_type": "markdown",
   "id": "b8111478",
   "metadata": {},
   "source": [
    "* 음... 훈련 셋과 테스트 셋의 차이가 조금 난다...\n",
    "* 일단 형상 상으로는 과대적합같은데 애초에 트레인셋에서도 썩 높게 나오지는 않는다. \n",
    "* 오히려 전체적으로 안나오니까 과소적합이라고 보는게 나을지도 모르겠다."
   ]
  },
  {
   "cell_type": "code",
   "execution_count": null,
   "id": "c075d356",
   "metadata": {},
   "outputs": [],
   "source": []
  }
 ],
 "metadata": {
  "kernelspec": {
   "display_name": "Python 3 (ipykernel)",
   "language": "python",
   "name": "python3"
  },
  "language_info": {
   "codemirror_mode": {
    "name": "ipython",
    "version": 3
   },
   "file_extension": ".py",
   "mimetype": "text/x-python",
   "name": "python",
   "nbconvert_exporter": "python",
   "pygments_lexer": "ipython3",
   "version": "3.9.13"
  }
 },
 "nbformat": 4,
 "nbformat_minor": 5
}
