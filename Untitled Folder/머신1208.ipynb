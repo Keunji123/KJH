{
 "cells": [
  {
   "cell_type": "markdown",
   "id": "d2c66c64",
   "metadata": {},
   "source": [
    "# k- 최근접 이웃 회귀"
   ]
  },
  {
   "cell_type": "code",
   "execution_count": 1,
   "id": "42feb83c",
   "metadata": {},
   "outputs": [],
   "source": [
    "# 이제 농어를 무게 단위로 판다!\n",
    "# 근데 무게를.. 잘못쟀다!\n",
    "# 길이, 높이, 두께 데이터로 무게를 예측하는 모델을 만들자. "
   ]
  },
  {
   "cell_type": "code",
   "execution_count": 3,
   "id": "31cb9290",
   "metadata": {},
   "outputs": [],
   "source": [
    "import numpy as np\n",
    "\n",
    "perch_length = np.array([8.4, 13.7, 15.0, 16.2, 17.4, 18.0, 18.7, 19.0, 19.6, 20.0, 21.0,\n",
    "       21.0, 21.0, 21.3, 22.0, 22.0, 22.0, 22.0, 22.0, 22.5, 22.5, 22.7,\n",
    "       23.0, 23.5, 24.0, 24.0, 24.6, 25.0, 25.6, 26.5, 27.3, 27.5, 27.5,\n",
    "       27.5, 28.0, 28.7, 30.0, 32.8, 34.5, 35.0, 36.5, 36.0, 37.0, 37.0,\n",
    "       39.0, 39.0, 39.0, 40.0, 40.0, 40.0, 40.0, 42.0, 43.0, 43.0, 43.5,\n",
    "       44.0])\n",
    "perch_weight = np.array([5.9, 32.0, 40.0, 51.5, 70.0, 100.0, 78.0, 80.0, 85.0, 85.0, 110.0,\n",
    "       115.0, 125.0, 130.0, 120.0, 120.0, 130.0, 135.0, 110.0, 130.0,\n",
    "       150.0, 145.0, 150.0, 170.0, 225.0, 145.0, 188.0, 180.0, 197.0,\n",
    "       218.0, 300.0, 260.0, 265.0, 250.0, 250.0, 300.0, 320.0, 514.0,\n",
    "       556.0, 840.0, 685.0, 700.0, 700.0, 690.0, 900.0, 650.0, 820.0,\n",
    "       850.0, 900.0, 1015.0, 820.0, 1100.0, 1000.0, 1100.0, 1000.0,\n",
    "       1000.0])"
   ]
  },
  {
   "cell_type": "code",
   "execution_count": 5,
   "id": "7328103c",
   "metadata": {},
   "outputs": [
    {
     "data": {
      "image/png": "[encoded data removed]",
      "text/plain": [
       "<Figure size 640x480 with 1 Axes>"
      ]
     },
     "metadata": {},
     "output_type": "display_data"
    }
   ],
   "source": [
    "import matplotlib.pyplot as plt\n",
    "plt.scatter(perch_length, perch_weight)\n",
    "plt.xlabel('length')\n",
    "plt.ylabel('weight')\n",
    "plt.show()"
   ]
  },
  {
   "cell_type": "code",
   "execution_count": 6,
   "id": "3ca422b5",
   "metadata": {},
   "outputs": [],
   "source": [
    "from sklearn.model_selection import train_test_split\n",
    "train_input, test_input, train_target, test_target = train_test_split(perch_length, perch_weight)"
   ]
  },
  {
   "cell_type": "code",
   "execution_count": 7,
   "id": "a65dbcdd",
   "metadata": {},
   "outputs": [
    {
     "data": {
      "text/plain": [
       "array([39. , 27.3, 35. , 36.5, 39. , 21. , 24. , 22.5, 22. , 34.5,  8.4,\n",
       "       22. , 39. , 43. , 21. , 22. , 30. , 21. , 23. , 24. , 37. , 19. ,\n",
       "       40. , 17.4, 16.2, 21.3, 22.5, 37. , 28. , 22. , 27.5, 22.7, 40. ,\n",
       "       40. , 15. , 28.7, 18.7, 19.6, 24.6, 42. , 26.5, 27.5])"
      ]
     },
     "execution_count": 7,
     "metadata": {},
     "output_type": "execute_result"
    }
   ],
   "source": [
    "train_input"
   ]
  },
  {
   "cell_type": "markdown",
   "id": "966d4f26",
   "metadata": {},
   "source": [
    "* 현재 input으로 넣을 데이터의 형태를 보면 알겠지만, 이는 1차원 배열이다.\n",
    "* 아래의 방식으로 배열의 상태를 확인할 수 있다."
   ]
  },
  {
   "cell_type": "code",
   "execution_count": 8,
   "id": "f2d0496f",
   "metadata": {},
   "outputs": [
    {
     "name": "stdout",
     "output_type": "stream",
     "text": [
      "(42,)\n"
     ]
    }
   ],
   "source": [
    "print(train_input.shape)"
   ]
  },
  {
   "cell_type": "markdown",
   "id": "6bf26a9c",
   "metadata": {},
   "source": [
    "* 위를 보면 1차원 배열이어서 콤마 뒤에 숫자가 없다는 것을 볼 수 있다.\n",
    "* 사이킷런에 넣는 배열은 2차원이어야 하므로, 강제로 2차원배열로 만들어주도록 하자."
   ]
  },
  {
   "cell_type": "code",
   "execution_count": 9,
   "id": "25a6a51e",
   "metadata": {},
   "outputs": [
    {
     "name": "stdout",
     "output_type": "stream",
     "text": [
      "(2, 2)\n"
     ]
    }
   ],
   "source": [
    "# 이럴 떄는 reshape를 사용할 수 있다.\n",
    "test_array = np.array([1,2,3,4])\n",
    "test_array = test_array.reshape(2,2)\n",
    "print(test_array.shape)"
   ]
  },
  {
   "cell_type": "code",
   "execution_count": 10,
   "id": "8b37393c",
   "metadata": {},
   "outputs": [
    {
     "data": {
      "text/plain": [
       "array([[1, 2],\n",
       "       [3, 4]])"
      ]
     },
     "execution_count": 10,
     "metadata": {},
     "output_type": "execute_result"
    }
   ],
   "source": [
    "test_array"
   ]
  },
  {
   "cell_type": "code",
   "execution_count": 11,
   "id": "8fd3f34c",
   "metadata": {},
   "outputs": [
    {
     "data": {
      "text/plain": [
       "array([[39. ],\n",
       "       [27.3],\n",
       "       [35. ],\n",
       "       [36.5],\n",
       "       [39. ],\n",
       "       [21. ],\n",
       "       [24. ],\n",
       "       [22.5],\n",
       "       [22. ],\n",
       "       [34.5],\n",
       "       [ 8.4],\n",
       "       [22. ],\n",
       "       [39. ],\n",
       "       [43. ],\n",
       "       [21. ],\n",
       "       [22. ],\n",
       "       [30. ],\n",
       "       [21. ],\n",
       "       [23. ],\n",
       "       [24. ],\n",
       "       [37. ],\n",
       "       [19. ],\n",
       "       [40. ],\n",
       "       [17.4],\n",
       "       [16.2],\n",
       "       [21.3],\n",
       "       [22.5],\n",
       "       [37. ],\n",
       "       [28. ],\n",
       "       [22. ],\n",
       "       [27.5],\n",
       "       [22.7],\n",
       "       [40. ],\n",
       "       [40. ],\n",
       "       [15. ],\n",
       "       [28.7],\n",
       "       [18.7],\n",
       "       [19.6],\n",
       "       [24.6],\n",
       "       [42. ],\n",
       "       [26.5],\n",
       "       [27.5]])"
      ]
     },
     "execution_count": 11,
     "metadata": {},
     "output_type": "execute_result"
    }
   ],
   "source": [
    "# 이를 활용해 train input과 test input 을 reshape 하면 된다. 직접 찍어보면 원소가 42개인것을 알 수 있다.\n",
    "train_input.reshape(42,1)"
   ]
  },
  {
   "cell_type": "code",
   "execution_count": 12,
   "id": "abef7cc7",
   "metadata": {},
   "outputs": [
    {
     "name": "stdout",
     "output_type": "stream",
     "text": [
      "(42, 1) (14, 1)\n"
     ]
    }
   ],
   "source": [
    "# 하지만, 직접 확인하고 42개구나~ 하고 찍지 않아도 -1을 넣어주면 자동으로 찍어준다.\n",
    "# 잘 되었음을 알 수 있다. \n",
    "train_input = train_input.reshape(-1,1)\n",
    "test_input = test_input.reshape(-1,1)\n",
    "print(train_input.shape, test_input.shape)"
   ]
  },
  {
   "cell_type": "markdown",
   "id": "e08d3e09",
   "metadata": {},
   "source": [
    "### 결정계수..?\n",
    "* 사이킷런에서 k-최근접 이웃 회귀 알고리즘을 구현한 클래스는 KNeighborsRegressor 이다. "
   ]
  },
  {
   "cell_type": "code",
   "execution_count": 13,
   "id": "cec2fd47",
   "metadata": {},
   "outputs": [
    {
     "data": {
      "text/plain": [
       "KNeighborsRegressor()"
      ]
     },
     "execution_count": 13,
     "metadata": {},
     "output_type": "execute_result"
    }
   ],
   "source": [
    "# k- 최근접 이웃 회귀 알고리즘으로 트레인 셋을 학습시켰다. \n",
    "\n",
    "from sklearn.neighbors import KNeighborsRegressor\n",
    "\n",
    "knr = KNeighborsRegressor()\n",
    "\n",
    "knr.fit(train_input, train_target)"
   ]
  },
  {
   "cell_type": "code",
   "execution_count": 14,
   "id": "f113fd5a",
   "metadata": {},
   "outputs": [
    {
     "data": {
      "text/plain": [
       "0.978224096186441"
      ]
     },
     "execution_count": 14,
     "metadata": {},
     "output_type": "execute_result"
    }
   ],
   "source": [
    "knr.score(test_input, test_target)"
   ]
  },
  {
   "cell_type": "markdown",
   "id": "9f127f01",
   "metadata": {},
   "source": [
    "* 일단 점수는 나오는데.. 이 점수는 무슨 점수인가? 회귀에서는 정답을 맞췄다는 것이 없다... \n",
    "* 여기 나오는 이 점수를 바로 결정계수 (R^2) 라고 한다. \n",
    "* 모델이 타깃의 평균 정도 예측하는 수준이면 결정계수는 낮아진다.\n",
    "* 모델의 예측이 타깃에 매우 가까워지면 1에 가까워진다. "
   ]
  },
  {
   "cell_type": "code",
   "execution_count": 15,
   "id": "79787cda",
   "metadata": {},
   "outputs": [
    {
     "name": "stdout",
     "output_type": "stream",
     "text": [
      "33.65571428571428\n"
     ]
    }
   ],
   "source": [
    "# mean_absolute_error 는 타겟과 예측의 절댓값 오차를 평균해 반환한다.\n",
    "\n",
    "from sklearn.metrics import mean_absolute_error\n",
    "\n",
    "# 테스트 셋에 대한 예측을 만든다.\n",
    "test_prediction = knr.predict(test_input)\n",
    "\n",
    "# 테스트 셋에 대한 평균 절댓값 오차를 계싼한다.\n",
    "\n",
    "mae = mean_absolute_error(test_target, test_prediction)\n",
    "\n",
    "print(mae)"
   ]
  },
  {
   "cell_type": "code",
   "execution_count": 16,
   "id": "08b7aa8c",
   "metadata": {},
   "outputs": [],
   "source": [
    "# 위의 결과를 통해 예측이 평균적으로 33g 정도 타깃과 다르다는 것을 알 수 있다. "
   ]
  },
  {
   "cell_type": "code",
   "execution_count": 17,
   "id": "4d675a8b",
   "metadata": {},
   "outputs": [
    {
     "data": {
      "text/plain": [
       "0.9669253864326516"
      ]
     },
     "execution_count": 17,
     "metadata": {},
     "output_type": "execute_result"
    }
   ],
   "source": [
    "# 그런데 여기서 기존 훈련세트로 평가를 해 보면 어떨까? score에 테스트 말고 트레인셋도 넣어보자.\n",
    "knr.score(train_input, train_target)"
   ]
  },
  {
   "cell_type": "markdown",
   "id": "9f5ab5f0",
   "metadata": {},
   "source": [
    "* 뭔가 이상하다. 훈련셋으로 훈련을 시켜놓았는데, 테스트셋보다 훈련셋으로 돌렸을 때 결정계수가 더 낮게 나와버린다.\n",
    "* 이러한 상태를 과소적합되었다고 말할 수 있다.\n",
    "* 훈련셋에서 점수가 좋았는데, 테스트셋에서 점수가 나쁘다면 그것은 과대적합.\n",
    "* 훈련셋보다 테스트셋의 점수가 더 높아버리거나, 두 점수가 모두 너무 낮은 경우 과소적합.\n",
    "* 과소적합은 훈련셋과 테스트셋의 크기가 매우 작아서 일어날 수 있다고 한다."
   ]
  },
  {
   "cell_type": "markdown",
   "id": "39556f1c",
   "metadata": {},
   "source": [
    "* 이러한 과소적합 문제를 해결하기 위해서는 모델을 조금 더 복잡하게 만들면 된다고 한다.\n",
    "* k-최근접 이웃 알고리즘으로 모델을 더 복잡하게 만들려면 이웃 k의 갯수를 줄이면 된다고 한다. \n",
    "* 기본값은 5이므로 3으로 낮춰 보자"
   ]
  },
  {
   "cell_type": "code",
   "execution_count": 26,
   "id": "65378a16",
   "metadata": {},
   "outputs": [],
   "source": [
    "knr.n_neighbors = 3"
   ]
  },
  {
   "cell_type": "code",
   "execution_count": 27,
   "id": "f2c8be18",
   "metadata": {},
   "outputs": [
    {
     "data": {
      "text/plain": [
       "KNeighborsRegressor(n_neighbors=3)"
      ]
     },
     "execution_count": 27,
     "metadata": {},
     "output_type": "execute_result"
    }
   ],
   "source": [
    "# 모델 재훈련\n",
    "knr.fit(train_input, train_target)"
   ]
  },
  {
   "cell_type": "code",
   "execution_count": 28,
   "id": "fb3e861a",
   "metadata": {},
   "outputs": [
    {
     "data": {
      "text/plain": [
       "0.9787630770219441"
      ]
     },
     "execution_count": 28,
     "metadata": {},
     "output_type": "execute_result"
    }
   ],
   "source": [
    "knr.score(train_input, train_target)"
   ]
  },
  {
   "cell_type": "code",
   "execution_count": 29,
   "id": "d7b1a410",
   "metadata": {},
   "outputs": [
    {
     "data": {
      "text/plain": [
       "0.9828040455772086"
      ]
     },
     "execution_count": 29,
     "metadata": {},
     "output_type": "execute_result"
    }
   ],
   "source": [
    "knr.score(test_input, test_target)"
   ]
  },
  {
   "cell_type": "code",
   "execution_count": 30,
   "id": "17171c1d",
   "metadata": {},
   "outputs": [],
   "source": [
    "# 아직 과소적합 상태이므로 2로 줄어보자..."
   ]
  },
  {
   "cell_type": "code",
   "execution_count": 31,
   "id": "c0db5773",
   "metadata": {},
   "outputs": [],
   "source": [
    "knr.n_neighbors = 2"
   ]
  },
  {
   "cell_type": "code",
   "execution_count": 32,
   "id": "cbd49471",
   "metadata": {},
   "outputs": [
    {
     "data": {
      "text/plain": [
       "KNeighborsRegressor(n_neighbors=2)"
      ]
     },
     "execution_count": 32,
     "metadata": {},
     "output_type": "execute_result"
    }
   ],
   "source": [
    "# 모델 재훈련\n",
    "knr.fit(train_input, train_target)"
   ]
  },
  {
   "cell_type": "code",
   "execution_count": 33,
   "id": "43fc2b3c",
   "metadata": {},
   "outputs": [
    {
     "data": {
      "text/plain": [
       "0.9809317978360508"
      ]
     },
     "execution_count": 33,
     "metadata": {},
     "output_type": "execute_result"
    }
   ],
   "source": [
    "knr.score(train_input, train_target)"
   ]
  },
  {
   "cell_type": "code",
   "execution_count": 34,
   "id": "89a76b92",
   "metadata": {},
   "outputs": [
    {
     "data": {
      "text/plain": [
       "0.955048251768517"
      ]
     },
     "execution_count": 34,
     "metadata": {},
     "output_type": "execute_result"
    }
   ],
   "source": [
    "knr.score(test_input, test_target)"
   ]
  },
  {
   "cell_type": "markdown",
   "id": "678ca8be",
   "metadata": {},
   "source": [
    "* 이제 과소적합 문제는 해결되었다.. 하지만 두 점수 차가 좀 큰 것 같지 않은가..? \n",
    "* 책에서는 랜덤스테이트42를 줬기때문에 일정 값으로 나와있다. 일단은 최적의 n_neighbors 를 찾는 방법이 나중에 소개된다 한다."
   ]
  },
  {
   "cell_type": "code",
   "execution_count": 35,
   "id": "d4f84432",
   "metadata": {},
   "outputs": [],
   "source": [
    "# 과대적합, 과소적합에 대해 조금 더 이해해보자.\n",
    "\n",
    "knr = KNeighborsRegressor()\n",
    "\n",
    "# 5에서 45까지 x 좌표를 만든다.\n",
    "\n",
    "x = np.arange(5,45).reshape(-1,1)"
   ]
  },
  {
   "cell_type": "code",
   "execution_count": 39,
   "id": "20108d6b",
   "metadata": {},
   "outputs": [
    {
     "data": {
      "image/png": "[encoded data removed]",
      "text/plain": [
       "<Figure size 640x480 with 1 Axes>"
      ]
     },
     "metadata": {},
     "output_type": "display_data"
    },
    {
     "data": {
      "image/png": "[encoded data removed]",
      "text/plain": [
       "<Figure size 640x480 with 1 Axes>"
      ]
     },
     "metadata": {},
     "output_type": "display_data"
    },
    {
     "data": {
      "image/png": "[encoded data removed]",
      "text/plain": [
       "<Figure size 640x480 with 1 Axes>"
      ]
     },
     "metadata": {},
     "output_type": "display_data"
    }
   ],
   "source": [
    "# n = 1, 5, 10일떄 예측 결과를 그래프로 그리기\n",
    "# n이 커짐에 따라 모델이 점점 단순해진다..\n",
    "\n",
    "for n in [1,5,10]:\n",
    "    knr.n_neighbors = n\n",
    "    knr.fit(train_input, train_target)\n",
    "    prediction = knr.predict(x)\n",
    "    \n",
    "    plt.scatter(train_input, train_target)\n",
    "    plt.plot(x, prediction)\n",
    "    plt.show()"
   ]
  },
  {
   "cell_type": "code",
   "execution_count": null,
   "id": "87dd7ed0",
   "metadata": {},
   "outputs": [],
   "source": []
  }
 ],
 "metadata": {
  "kernelspec": {
   "display_name": "Python 3 (ipykernel)",
   "language": "python",
   "name": "python3"
  },
  "language_info": {
   "codemirror_mode": {
    "name": "ipython",
    "version": 3
   },
   "file_extension": ".py",
   "mimetype": "text/x-python",
   "name": "python",
   "nbconvert_exporter": "python",
   "pygments_lexer": "ipython3",
   "version": "3.9.13"
  }
 },
 "nbformat": 4,
 "nbformat_minor": 5
}
