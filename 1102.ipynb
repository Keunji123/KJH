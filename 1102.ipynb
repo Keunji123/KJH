{
 "cells": [
  {
   "cell_type": "code",
   "execution_count": 1,
   "id": "0e012372",
   "metadata": {},
   "outputs": [
    {
     "name": "stdout",
     "output_type": "stream",
     "text": [
      "Hello world!\n"
     ]
    }
   ],
   "source": [
    "print(\"Hello world!\") # 출력값 - 어떤 환경에서든지 이렇게 동작한다."
   ]
  },
  {
   "cell_type": "code",
   "execution_count": 2,
   "id": "4af20761",
   "metadata": {},
   "outputs": [
    {
     "data": {
      "text/plain": [
       "'Hello world!'"
      ]
     },
     "execution_count": 2,
     "metadata": {},
     "output_type": "execute_result"
    }
   ],
   "source": [
    "\"Hello world!\" # 리턴값 - 사용자가 확인하라고 보여줄 뿐, 다른 환경에서는 보이지 않을 수 있다."
   ]
  },
  {
   "cell_type": "code",
   "execution_count": 3,
   "id": "62e74166",
   "metadata": {},
   "outputs": [
    {
     "data": {
      "text/plain": [
       "2"
      ]
     },
     "execution_count": 3,
     "metadata": {},
     "output_type": "execute_result"
    }
   ],
   "source": [
    "1+1"
   ]
  },
  {
   "cell_type": "code",
   "execution_count": 4,
   "id": "55573f1d",
   "metadata": {},
   "outputs": [
    {
     "name": "stdout",
     "output_type": "stream",
     "text": [
      "2\n"
     ]
    }
   ],
   "source": [
    "print(1+1)"
   ]
  },
  {
   "cell_type": "code",
   "execution_count": null,
   "id": "100b7b48",
   "metadata": {},
   "outputs": [],
   "source": []
  },
  {
   "cell_type": "code",
   "execution_count": null,
   "id": "6410c892",
   "metadata": {},
   "outputs": [],
   "source": []
  },
  {
   "cell_type": "raw",
   "id": "0b184551",
   "metadata": {},
   "source": [
    "1차시 과제 계산기 프로그램\n",
    "\n",
    "1. 덧셈, 뺄셈 프로그램을 이용해서 기능을 구현한다.\n",
    "2. 곱셈, 나눗셈 프로그램을 이용해서 기능을 더한다.\n",
    "3. 사용자가 연산을 선택할 수 있도록 한다.\n",
    "4. 논리적으로 문제가 없는지 확인한다. "
   ]
  },
  {
   "cell_type": "raw",
   "id": "3622080d",
   "metadata": {},
   "source": [
    "1. 사용자에게 연산자를 물어본다.\n",
    "2. 사용자에게 첫 번째 숫자를 "
   ]
  },
  {
   "cell_type": "raw",
   "id": "ad7c2563",
   "metadata": {},
   "source": [
    "1. input: a\n",
    "2. input: b\n",
    "3. input: c = +(덧셈) or -(뺼셈) or *(곱셈) or /(나눗셈)\n",
    "4. if c = +:\n",
    "    \n",
    "      x = a + b\n",
    "    \n",
    "5. if c = -:\n",
    "    \n",
    "      x = a - b\n",
    "    \n",
    "6. if c = *:\n",
    "    \n",
    "      x = a * b\n",
    "    \n",
    "7. if c = /: \n",
    "    \n",
    "      x = a / b\n",
    "    \n",
    "8. else:\n",
    "    \n",
    "      print( “원하는 기능이 정확히 입력되지 않았습니다.”)\n",
    "    \n",
    "9. print x"
   ]
  },
  {
   "cell_type": "code",
   "execution_count": null,
   "id": "6b69909e",
   "metadata": {},
   "outputs": [],
   "source": []
  },
  {
   "cell_type": "code",
   "execution_count": null,
   "id": "2e2fcb92",
   "metadata": {},
   "outputs": [],
   "source": []
  },
  {
   "cell_type": "code",
   "execution_count": null,
   "id": "2827a3d2",
   "metadata": {},
   "outputs": [],
   "source": [
    "# 연산자 알아보기\n",
    "# 1. 덧셈 (+)"
   ]
  },
  {
   "cell_type": "code",
   "execution_count": 5,
   "id": "5b45592c",
   "metadata": {},
   "outputs": [
    {
     "data": {
      "text/plain": [
       "68"
      ]
     },
     "execution_count": 5,
     "metadata": {},
     "output_type": "execute_result"
    }
   ],
   "source": [
    "23+45"
   ]
  },
  {
   "cell_type": "code",
   "execution_count": 6,
   "id": "255062ba",
   "metadata": {},
   "outputs": [
    {
     "data": {
      "text/plain": [
       "'HelloHello'"
      ]
     },
     "execution_count": 6,
     "metadata": {},
     "output_type": "execute_result"
    }
   ],
   "source": [
    "\"Hello\"+\"Hello\""
   ]
  },
  {
   "cell_type": "code",
   "execution_count": 7,
   "id": "38973f33",
   "metadata": {},
   "outputs": [
    {
     "name": "stdout",
     "output_type": "stream",
     "text": [
      "HelloHello\n"
     ]
    }
   ],
   "source": [
    "print(\"Hello\"+\"Hello\")"
   ]
  },
  {
   "cell_type": "code",
   "execution_count": 8,
   "id": "9dc9345d",
   "metadata": {},
   "outputs": [
    {
     "data": {
      "text/plain": [
       "[1, 2, 3, 4, 5, 6]"
      ]
     },
     "execution_count": 8,
     "metadata": {},
     "output_type": "execute_result"
    }
   ],
   "source": [
    "[1,2,3]+[4,5,6]#리스트도 덧셈이 된다. 문자열도 리스트의 일종이라고 했으므로 같은 처리가 되는 것"
   ]
  },
  {
   "cell_type": "code",
   "execution_count": 9,
   "id": "b5a262f0",
   "metadata": {},
   "outputs": [
    {
     "data": {
      "text/plain": [
       "(1, 2, 3, 4, 5, 6)"
      ]
     },
     "execution_count": 9,
     "metadata": {},
     "output_type": "execute_result"
    }
   ],
   "source": [
    "(1,2,3)+(4,5,6) #튜플도 가능하다."
   ]
  },
  {
   "cell_type": "code",
   "execution_count": 10,
   "id": "28cc8355",
   "metadata": {},
   "outputs": [
    {
     "ename": "TypeError",
     "evalue": "unsupported operand type(s) for +: 'dict' and 'dict'",
     "output_type": "error",
     "traceback": [
      "\u001b[1;31m---------------------------------------------------------------------------\u001b[0m",
      "\u001b[1;31mTypeError\u001b[0m                                 Traceback (most recent call last)",
      "\u001b[1;32m~\\AppData\\Local\\Temp\\ipykernel_10068\\1836604616.py\u001b[0m in \u001b[0;36m<module>\u001b[1;34m\u001b[0m\n\u001b[1;32m----> 1\u001b[1;33m \u001b[1;33m{\u001b[0m\u001b[1;34m'Hong'\u001b[0m\u001b[1;33m:\u001b[0m\u001b[1;36m123\u001b[0m\u001b[1;33m,\u001b[0m\u001b[1;34m\"kim\"\u001b[0m\u001b[1;33m:\u001b[0m\u001b[1;36m456\u001b[0m\u001b[1;33m}\u001b[0m\u001b[1;33m+\u001b[0m\u001b[1;33m{\u001b[0m\u001b[1;34m\"park\"\u001b[0m\u001b[1;33m:\u001b[0m\u001b[1;36m345\u001b[0m\u001b[1;33m,\u001b[0m\u001b[1;34m\"lee\"\u001b[0m\u001b[1;33m:\u001b[0m\u001b[1;36m789\u001b[0m\u001b[1;33m}\u001b[0m\u001b[1;33m\u001b[0m\u001b[1;33m\u001b[0m\u001b[0m\n\u001b[0m",
      "\u001b[1;31mTypeError\u001b[0m: unsupported operand type(s) for +: 'dict' and 'dict'"
     ]
    }
   ],
   "source": [
    "{'Hong':123,\"kim\":456}+{\"park\":345,\"lee\":789} # 딕셔너리는 덧셈을 할 수 없다. "
   ]
  },
  {
   "cell_type": "code",
   "execution_count": 11,
   "id": "bb8c4356",
   "metadata": {},
   "outputs": [
    {
     "data": {
      "text/plain": [
       "1"
      ]
     },
     "execution_count": 11,
     "metadata": {},
     "output_type": "execute_result"
    }
   ],
   "source": [
    "1+0 "
   ]
  },
  {
   "cell_type": "code",
   "execution_count": 12,
   "id": "56253458",
   "metadata": {},
   "outputs": [
    {
     "data": {
      "text/plain": [
       "1"
      ]
     },
     "execution_count": 12,
     "metadata": {},
     "output_type": "execute_result"
    }
   ],
   "source": [
    "True + False #불 연산자 간의 덧셈이 된다."
   ]
  },
  {
   "cell_type": "code",
   "execution_count": 13,
   "id": "32cabecc",
   "metadata": {},
   "outputs": [
    {
     "data": {
      "text/plain": [
       "True"
      ]
     },
     "execution_count": 13,
     "metadata": {},
     "output_type": "execute_result"
    }
   ],
   "source": [
    "True + False == True"
   ]
  },
  {
   "cell_type": "code",
   "execution_count": 14,
   "id": "88f6c539",
   "metadata": {},
   "outputs": [],
   "source": [
    "#연산자 알아보기\n",
    "#2. 뺄셈"
   ]
  },
  {
   "cell_type": "code",
   "execution_count": 15,
   "id": "616fde1d",
   "metadata": {},
   "outputs": [
    {
     "data": {
      "text/plain": [
       "19"
      ]
     },
     "execution_count": 15,
     "metadata": {},
     "output_type": "execute_result"
    }
   ],
   "source": [
    "23-4"
   ]
  },
  {
   "cell_type": "code",
   "execution_count": 16,
   "id": "166b123f",
   "metadata": {},
   "outputs": [
    {
     "data": {
      "text/plain": [
       "0"
      ]
     },
     "execution_count": 16,
     "metadata": {},
     "output_type": "execute_result"
    }
   ],
   "source": [
    "2-2"
   ]
  },
  {
   "cell_type": "code",
   "execution_count": 17,
   "id": "c8613319",
   "metadata": {},
   "outputs": [
    {
     "ename": "TypeError",
     "evalue": "unsupported operand type(s) for -: 'str' and 'str'",
     "output_type": "error",
     "traceback": [
      "\u001b[1;31m---------------------------------------------------------------------------\u001b[0m",
      "\u001b[1;31mTypeError\u001b[0m                                 Traceback (most recent call last)",
      "\u001b[1;32m~\\AppData\\Local\\Temp\\ipykernel_10068\\3784112208.py\u001b[0m in \u001b[0;36m<module>\u001b[1;34m\u001b[0m\n\u001b[1;32m----> 1\u001b[1;33m \u001b[1;34m\"Hello\"\u001b[0m\u001b[1;33m-\u001b[0m\u001b[1;34m\"o\"\u001b[0m\u001b[1;33m\u001b[0m\u001b[1;33m\u001b[0m\u001b[0m\n\u001b[0m",
      "\u001b[1;31mTypeError\u001b[0m: unsupported operand type(s) for -: 'str' and 'str'"
     ]
    }
   ],
   "source": [
    "\"Hello\"-\"o\" #문자열의 뺄셈은 지원하지 않는다."
   ]
  },
  {
   "cell_type": "code",
   "execution_count": 18,
   "id": "bb3503ba",
   "metadata": {},
   "outputs": [
    {
     "ename": "TypeError",
     "evalue": "unsupported operand type(s) for -: 'list' and 'list'",
     "output_type": "error",
     "traceback": [
      "\u001b[1;31m---------------------------------------------------------------------------\u001b[0m",
      "\u001b[1;31mTypeError\u001b[0m                                 Traceback (most recent call last)",
      "\u001b[1;32m~\\AppData\\Local\\Temp\\ipykernel_10068\\2544859753.py\u001b[0m in \u001b[0;36m<module>\u001b[1;34m\u001b[0m\n\u001b[1;32m----> 1\u001b[1;33m \u001b[1;33m[\u001b[0m\u001b[1;36m1\u001b[0m\u001b[1;33m,\u001b[0m\u001b[1;36m2\u001b[0m\u001b[1;33m,\u001b[0m\u001b[1;36m3\u001b[0m\u001b[1;33m]\u001b[0m\u001b[1;33m-\u001b[0m\u001b[1;33m[\u001b[0m\u001b[1;36m2\u001b[0m\u001b[1;33m]\u001b[0m\u001b[1;33m\u001b[0m\u001b[1;33m\u001b[0m\u001b[0m\n\u001b[0m",
      "\u001b[1;31mTypeError\u001b[0m: unsupported operand type(s) for -: 'list' and 'list'"
     ]
    }
   ],
   "source": [
    "[1,2,3]-[2] # 리스트 사이에서는 뺄셈을 지원하지 않는다."
   ]
  },
  {
   "cell_type": "code",
   "execution_count": 19,
   "id": "ac21f687",
   "metadata": {},
   "outputs": [
    {
     "ename": "TypeError",
     "evalue": "unsupported operand type(s) for -: 'tuple' and 'int'",
     "output_type": "error",
     "traceback": [
      "\u001b[1;31m---------------------------------------------------------------------------\u001b[0m",
      "\u001b[1;31mTypeError\u001b[0m                                 Traceback (most recent call last)",
      "\u001b[1;32m~\\AppData\\Local\\Temp\\ipykernel_10068\\83427923.py\u001b[0m in \u001b[0;36m<module>\u001b[1;34m\u001b[0m\n\u001b[1;32m----> 1\u001b[1;33m \u001b[1;33m(\u001b[0m\u001b[1;36m1\u001b[0m\u001b[1;33m,\u001b[0m\u001b[1;36m2\u001b[0m\u001b[1;33m,\u001b[0m\u001b[1;36m3\u001b[0m\u001b[1;33m)\u001b[0m \u001b[1;33m-\u001b[0m \u001b[1;33m(\u001b[0m\u001b[1;36m2\u001b[0m\u001b[1;33m)\u001b[0m\u001b[1;33m\u001b[0m\u001b[1;33m\u001b[0m\u001b[0m\n\u001b[0m",
      "\u001b[1;31mTypeError\u001b[0m: unsupported operand type(s) for -: 'tuple' and 'int'"
     ]
    }
   ],
   "source": [
    "(1,2,3) - (2) #튜플과 인티저는 뺄 수 없다."
   ]
  },
  {
   "cell_type": "code",
   "execution_count": 20,
   "id": "98e8687c",
   "metadata": {},
   "outputs": [
    {
     "ename": "TypeError",
     "evalue": "unsupported operand type(s) for -: 'tuple' and 'tuple'",
     "output_type": "error",
     "traceback": [
      "\u001b[1;31m---------------------------------------------------------------------------\u001b[0m",
      "\u001b[1;31mTypeError\u001b[0m                                 Traceback (most recent call last)",
      "\u001b[1;32m~\\AppData\\Local\\Temp\\ipykernel_10068\\1051712008.py\u001b[0m in \u001b[0;36m<module>\u001b[1;34m\u001b[0m\n\u001b[1;32m----> 1\u001b[1;33m \u001b[1;33m(\u001b[0m\u001b[1;36m1\u001b[0m\u001b[1;33m,\u001b[0m\u001b[1;36m2\u001b[0m\u001b[1;33m,\u001b[0m\u001b[1;36m3\u001b[0m\u001b[1;33m)\u001b[0m\u001b[1;33m-\u001b[0m\u001b[1;33m(\u001b[0m\u001b[1;36m2\u001b[0m\u001b[1;33m,\u001b[0m\u001b[1;36m3\u001b[0m\u001b[1;33m)\u001b[0m\u001b[1;33m\u001b[0m\u001b[1;33m\u001b[0m\u001b[0m\n\u001b[0m",
      "\u001b[1;31mTypeError\u001b[0m: unsupported operand type(s) for -: 'tuple' and 'tuple'"
     ]
    }
   ],
   "source": [
    "(1,2,3)-(2,3) # 튜플끼리도 뺄 수 없다."
   ]
  },
  {
   "cell_type": "code",
   "execution_count": 21,
   "id": "cfe6aab1",
   "metadata": {},
   "outputs": [
    {
     "ename": "TypeError",
     "evalue": "unsupported operand type(s) for +: 'dict' and 'dict'",
     "output_type": "error",
     "traceback": [
      "\u001b[1;31m---------------------------------------------------------------------------\u001b[0m",
      "\u001b[1;31mTypeError\u001b[0m                                 Traceback (most recent call last)",
      "\u001b[1;32m~\\AppData\\Local\\Temp\\ipykernel_10068\\3048060565.py\u001b[0m in \u001b[0;36m<module>\u001b[1;34m\u001b[0m\n\u001b[1;32m----> 1\u001b[1;33m \u001b[1;33m{\u001b[0m\u001b[1;34m'Hong'\u001b[0m\u001b[1;33m:\u001b[0m\u001b[1;36m123\u001b[0m\u001b[1;33m,\u001b[0m\u001b[1;34m\"kim\"\u001b[0m\u001b[1;33m:\u001b[0m\u001b[1;36m456\u001b[0m\u001b[1;33m}\u001b[0m\u001b[1;33m+\u001b[0m\u001b[1;33m{\u001b[0m\u001b[1;34m\"kim\"\u001b[0m\u001b[1;33m:\u001b[0m\u001b[1;36m456\u001b[0m\u001b[1;33m}\u001b[0m\u001b[1;33m\u001b[0m\u001b[1;33m\u001b[0m\u001b[0m\n\u001b[0m",
      "\u001b[1;31mTypeError\u001b[0m: unsupported operand type(s) for +: 'dict' and 'dict'"
     ]
    }
   ],
   "source": [
    "{'Hong':123,\"kim\":456}+{\"kim\":456} # 딕셔너리도 뺼 수 없다."
   ]
  },
  {
   "cell_type": "code",
   "execution_count": 22,
   "id": "43a7a6d2",
   "metadata": {},
   "outputs": [],
   "source": [
    "#연산자 알아보기\n",
    "#3. 곱셈"
   ]
  },
  {
   "cell_type": "code",
   "execution_count": 23,
   "id": "150b38e7",
   "metadata": {},
   "outputs": [
    {
     "data": {
      "text/plain": [
       "21"
      ]
     },
     "execution_count": 23,
     "metadata": {},
     "output_type": "execute_result"
    }
   ],
   "source": [
    "7*3"
   ]
  },
  {
   "cell_type": "code",
   "execution_count": 24,
   "id": "a14daf2c",
   "metadata": {},
   "outputs": [
    {
     "data": {
      "text/plain": [
       "8"
      ]
     },
     "execution_count": 24,
     "metadata": {},
     "output_type": "execute_result"
    }
   ],
   "source": [
    "2*2*2"
   ]
  },
  {
   "cell_type": "code",
   "execution_count": 25,
   "id": "dc4307ad",
   "metadata": {},
   "outputs": [
    {
     "data": {
      "text/plain": [
       "-2"
      ]
     },
     "execution_count": 25,
     "metadata": {},
     "output_type": "execute_result"
    }
   ],
   "source": [
    "2-2*2 # 덧셈 뺄셈과 곱셈 나눗셈의 우선순위가 제대로 작동한다."
   ]
  },
  {
   "cell_type": "code",
   "execution_count": 26,
   "id": "08640e9f",
   "metadata": {},
   "outputs": [
    {
     "data": {
      "text/plain": [
       "0"
      ]
     },
     "execution_count": 26,
     "metadata": {},
     "output_type": "execute_result"
    }
   ],
   "source": [
    "(2-2)*2 # 우선순위를 괄호로 지정하면 파이썬도 똑같이 따라할 수 있다."
   ]
  },
  {
   "cell_type": "code",
   "execution_count": 27,
   "id": "ec1b9e22",
   "metadata": {},
   "outputs": [
    {
     "data": {
      "text/plain": [
       "'hellohellohello'"
      ]
     },
     "execution_count": 27,
     "metadata": {},
     "output_type": "execute_result"
    }
   ],
   "source": [
    "\"hello\"*3 # 문자열과 숫자의 곱은 가능하다."
   ]
  },
  {
   "cell_type": "code",
   "execution_count": 28,
   "id": "ac101b69",
   "metadata": {},
   "outputs": [
    {
     "ename": "TypeError",
     "evalue": "can't multiply sequence by non-int of type 'str'",
     "output_type": "error",
     "traceback": [
      "\u001b[1;31m---------------------------------------------------------------------------\u001b[0m",
      "\u001b[1;31mTypeError\u001b[0m                                 Traceback (most recent call last)",
      "\u001b[1;32m~\\AppData\\Local\\Temp\\ipykernel_10068\\981004769.py\u001b[0m in \u001b[0;36m<module>\u001b[1;34m\u001b[0m\n\u001b[1;32m----> 1\u001b[1;33m \u001b[1;34m\"hello\"\u001b[0m\u001b[1;33m*\u001b[0m\u001b[1;34m\"3\"\u001b[0m\u001b[1;33m\u001b[0m\u001b[1;33m\u001b[0m\u001b[0m\n\u001b[0m",
      "\u001b[1;31mTypeError\u001b[0m: can't multiply sequence by non-int of type 'str'"
     ]
    }
   ],
   "source": [
    "\"hello\"*\"3\" # 문자열과 문자열은 곱할 수 없다."
   ]
  },
  {
   "cell_type": "code",
   "execution_count": 29,
   "id": "441cb273",
   "metadata": {},
   "outputs": [
    {
     "ename": "TypeError",
     "evalue": "can't multiply sequence by non-int of type 'float'",
     "output_type": "error",
     "traceback": [
      "\u001b[1;31m---------------------------------------------------------------------------\u001b[0m",
      "\u001b[1;31mTypeError\u001b[0m                                 Traceback (most recent call last)",
      "\u001b[1;32m~\\AppData\\Local\\Temp\\ipykernel_10068\\3870414732.py\u001b[0m in \u001b[0;36m<module>\u001b[1;34m\u001b[0m\n\u001b[1;32m----> 1\u001b[1;33m \u001b[1;34m\"hello\"\u001b[0m\u001b[1;33m*\u001b[0m\u001b[1;36m3.1\u001b[0m\u001b[1;33m\u001b[0m\u001b[1;33m\u001b[0m\u001b[0m\n\u001b[0m",
      "\u001b[1;31mTypeError\u001b[0m: can't multiply sequence by non-int of type 'float'"
     ]
    }
   ],
   "source": [
    "\"hello\"*3.1 #int 가 아닌 수와는 리스트와 곱할 수 없다."
   ]
  },
  {
   "cell_type": "code",
   "execution_count": 30,
   "id": "566966f2",
   "metadata": {},
   "outputs": [
    {
     "data": {
      "text/plain": [
       "8.959999999999999"
      ]
     },
     "execution_count": 30,
     "metadata": {},
     "output_type": "execute_result"
    }
   ],
   "source": [
    "3.2*2.8"
   ]
  },
  {
   "cell_type": "code",
   "execution_count": 31,
   "id": "71dc9d9d",
   "metadata": {},
   "outputs": [
    {
     "data": {
      "text/plain": [
       "[1, 2, 3, 1, 2, 3, 1, 2, 3, 1, 2, 3]"
      ]
     },
     "execution_count": 31,
     "metadata": {},
     "output_type": "execute_result"
    }
   ],
   "source": [
    "[1,2,3]*4 # 리스트와 숫자의 곱셈은 가능하다."
   ]
  },
  {
   "cell_type": "code",
   "execution_count": 32,
   "id": "6eea8b25",
   "metadata": {},
   "outputs": [
    {
     "ename": "TypeError",
     "evalue": "can't multiply sequence by non-int of type 'list'",
     "output_type": "error",
     "traceback": [
      "\u001b[1;31m---------------------------------------------------------------------------\u001b[0m",
      "\u001b[1;31mTypeError\u001b[0m                                 Traceback (most recent call last)",
      "\u001b[1;32m~\\AppData\\Local\\Temp\\ipykernel_10068\\3115212383.py\u001b[0m in \u001b[0;36m<module>\u001b[1;34m\u001b[0m\n\u001b[1;32m----> 1\u001b[1;33m \u001b[1;33m[\u001b[0m\u001b[1;36m1\u001b[0m\u001b[1;33m,\u001b[0m\u001b[1;36m2\u001b[0m\u001b[1;33m,\u001b[0m\u001b[1;36m3\u001b[0m\u001b[1;33m]\u001b[0m\u001b[1;33m*\u001b[0m\u001b[1;33m[\u001b[0m\u001b[1;36m4\u001b[0m\u001b[1;33m]\u001b[0m\u001b[1;33m\u001b[0m\u001b[1;33m\u001b[0m\u001b[0m\n\u001b[0m",
      "\u001b[1;31mTypeError\u001b[0m: can't multiply sequence by non-int of type 'list'"
     ]
    }
   ],
   "source": [
    "[1,2,3]*[4] # 리스트와 리스트의 곱은 불가능하다."
   ]
  },
  {
   "cell_type": "code",
   "execution_count": 33,
   "id": "841f6d7c",
   "metadata": {},
   "outputs": [
    {
     "data": {
      "text/plain": [
       "(1, 2, 3, 1, 2, 3, 1, 2, 3, 1, 2, 3)"
      ]
     },
     "execution_count": 33,
     "metadata": {},
     "output_type": "execute_result"
    }
   ],
   "source": [
    "(1,2,3)*4 #튜플과 정수형은 곱할 수 있다."
   ]
  },
  {
   "cell_type": "code",
   "execution_count": 34,
   "id": "c1abf91c",
   "metadata": {},
   "outputs": [
    {
     "data": {
      "text/plain": [
       "(1, 2, 3, 1, 2, 3, 1, 2, 3, 1, 2, 3)"
      ]
     },
     "execution_count": 34,
     "metadata": {},
     "output_type": "execute_result"
    }
   ],
   "source": [
    "(1,2,3)*(4) # 뒤의 (4)는 정수형이다."
   ]
  },
  {
   "cell_type": "code",
   "execution_count": 35,
   "id": "160e8d49",
   "metadata": {},
   "outputs": [
    {
     "ename": "TypeError",
     "evalue": "can't multiply sequence by non-int of type 'tuple'",
     "output_type": "error",
     "traceback": [
      "\u001b[1;31m---------------------------------------------------------------------------\u001b[0m",
      "\u001b[1;31mTypeError\u001b[0m                                 Traceback (most recent call last)",
      "\u001b[1;32m~\\AppData\\Local\\Temp\\ipykernel_10068\\2900473487.py\u001b[0m in \u001b[0;36m<module>\u001b[1;34m\u001b[0m\n\u001b[1;32m----> 1\u001b[1;33m \u001b[1;33m(\u001b[0m\u001b[1;36m1\u001b[0m\u001b[1;33m,\u001b[0m\u001b[1;36m2\u001b[0m\u001b[1;33m,\u001b[0m\u001b[1;36m3\u001b[0m\u001b[1;33m)\u001b[0m\u001b[1;33m*\u001b[0m\u001b[1;33m(\u001b[0m\u001b[1;36m2\u001b[0m\u001b[1;33m,\u001b[0m\u001b[1;36m3\u001b[0m\u001b[1;33m)\u001b[0m\u001b[1;33m\u001b[0m\u001b[1;33m\u001b[0m\u001b[0m\n\u001b[0m",
      "\u001b[1;31mTypeError\u001b[0m: can't multiply sequence by non-int of type 'tuple'"
     ]
    }
   ],
   "source": [
    "(1,2,3)*(2,3) # 튜플과 튜플은 곱할 수 없다."
   ]
  },
  {
   "cell_type": "code",
   "execution_count": 36,
   "id": "de2150d1",
   "metadata": {},
   "outputs": [
    {
     "data": {
      "text/plain": [
       "(1, 2, 3, 1, 2, 3, 1, 2, 3)"
      ]
     },
     "execution_count": 36,
     "metadata": {},
     "output_type": "execute_result"
    }
   ],
   "source": [
    "3*(1,2,3) # 파이썬은 교환 법칙이 성립한다."
   ]
  },
  {
   "cell_type": "code",
   "execution_count": 37,
   "id": "037944f6",
   "metadata": {},
   "outputs": [
    {
     "ename": "TypeError",
     "evalue": "unsupported operand type(s) for *: 'dict' and 'dict'",
     "output_type": "error",
     "traceback": [
      "\u001b[1;31m---------------------------------------------------------------------------\u001b[0m",
      "\u001b[1;31mTypeError\u001b[0m                                 Traceback (most recent call last)",
      "\u001b[1;32m~\\AppData\\Local\\Temp\\ipykernel_10068\\2392179176.py\u001b[0m in \u001b[0;36m<module>\u001b[1;34m\u001b[0m\n\u001b[1;32m----> 1\u001b[1;33m \u001b[1;33m{\u001b[0m\u001b[1;34m'Hong'\u001b[0m\u001b[1;33m:\u001b[0m\u001b[1;36m123\u001b[0m\u001b[1;33m,\u001b[0m\u001b[1;34m\"kim\"\u001b[0m\u001b[1;33m:\u001b[0m\u001b[1;36m456\u001b[0m\u001b[1;33m}\u001b[0m\u001b[1;33m*\u001b[0m\u001b[1;33m{\u001b[0m\u001b[1;34m\"kim\"\u001b[0m\u001b[1;33m:\u001b[0m\u001b[1;36m456\u001b[0m\u001b[1;33m}\u001b[0m\u001b[1;33m\u001b[0m\u001b[1;33m\u001b[0m\u001b[0m\n\u001b[0m",
      "\u001b[1;31mTypeError\u001b[0m: unsupported operand type(s) for *: 'dict' and 'dict'"
     ]
    }
   ],
   "source": [
    "{'Hong':123,\"kim\":456}*{\"kim\":456} # 딕셔너리와 딕셔너리를 곱할 수 없다. 정수형과도 실수형과도 곱할 수 없다."
   ]
  },
  {
   "cell_type": "code",
   "execution_count": 38,
   "id": "9b4c2158",
   "metadata": {},
   "outputs": [],
   "source": [
    "#연산자 알아보기\n",
    "#4. 나눗셈"
   ]
  },
  {
   "cell_type": "code",
   "execution_count": 39,
   "id": "2dde8863",
   "metadata": {},
   "outputs": [
    {
     "data": {
      "text/plain": [
       "0.25"
      ]
     },
     "execution_count": 39,
     "metadata": {},
     "output_type": "execute_result"
    }
   ],
   "source": [
    "1/4 # 파이썬 구버전 중에서는 이를 0으로 리턴하는 경우가 있으므로, 아래와 같이 플로트값임을 명시할 필요가 있다."
   ]
  },
  {
   "cell_type": "code",
   "execution_count": 40,
   "id": "5f25be2e",
   "metadata": {},
   "outputs": [
    {
     "data": {
      "text/plain": [
       "0.25"
      ]
     },
     "execution_count": 40,
     "metadata": {},
     "output_type": "execute_result"
    }
   ],
   "source": [
    "1.0/4.0"
   ]
  },
  {
   "cell_type": "code",
   "execution_count": 41,
   "id": "68ad27be",
   "metadata": {},
   "outputs": [
    {
     "data": {
      "text/plain": [
       "4.666666666666667"
      ]
     },
     "execution_count": 41,
     "metadata": {},
     "output_type": "execute_result"
    }
   ],
   "source": [
    "42/9 # 파이썬은 무한소수를 전부 계산하지 않고, 반올림해서 끝낸다."
   ]
  },
  {
   "cell_type": "code",
   "execution_count": 42,
   "id": "6f847da1",
   "metadata": {},
   "outputs": [
    {
     "ename": "TypeError",
     "evalue": "unsupported operand type(s) for /: 'str' and 'int'",
     "output_type": "error",
     "traceback": [
      "\u001b[1;31m---------------------------------------------------------------------------\u001b[0m",
      "\u001b[1;31mTypeError\u001b[0m                                 Traceback (most recent call last)",
      "\u001b[1;32m~\\AppData\\Local\\Temp\\ipykernel_10068\\2342921359.py\u001b[0m in \u001b[0;36m<module>\u001b[1;34m\u001b[0m\n\u001b[1;32m----> 1\u001b[1;33m \u001b[1;34m\"hello\"\u001b[0m\u001b[1;33m/\u001b[0m\u001b[1;36m2\u001b[0m\u001b[1;33m\u001b[0m\u001b[1;33m\u001b[0m\u001b[0m\n\u001b[0m",
      "\u001b[1;31mTypeError\u001b[0m: unsupported operand type(s) for /: 'str' and 'int'"
     ]
    }
   ],
   "source": [
    "\"hello\"/2 # 나눗셈은 불가능하다. 위에서 시도했던 것 전부 불가능하다."
   ]
  },
  {
   "cell_type": "code",
   "execution_count": 43,
   "id": "7c0c7d85",
   "metadata": {},
   "outputs": [],
   "source": [
    "#연산자 알아보기\n",
    "#5. 몫 반환 연산자 "
   ]
  },
  {
   "cell_type": "code",
   "execution_count": 44,
   "id": "50af1080",
   "metadata": {},
   "outputs": [
    {
     "data": {
      "text/plain": [
       "17"
      ]
     },
     "execution_count": 44,
     "metadata": {},
     "output_type": "execute_result"
    }
   ],
   "source": [
    "123//7 # 몫 값만을 반환한다."
   ]
  },
  {
   "cell_type": "code",
   "execution_count": 45,
   "id": "b563ec8e",
   "metadata": {},
   "outputs": [
    {
     "data": {
      "text/plain": [
       "1.0"
      ]
     },
     "execution_count": 45,
     "metadata": {},
     "output_type": "execute_result"
    }
   ],
   "source": [
    "77.9//45"
   ]
  },
  {
   "cell_type": "code",
   "execution_count": 46,
   "id": "f207e2a1",
   "metadata": {},
   "outputs": [],
   "source": [
    "#연산자 알아보기\n",
    "#6. 나머지 반환 연산자"
   ]
  },
  {
   "cell_type": "code",
   "execution_count": 47,
   "id": "3ca2c0a6",
   "metadata": {},
   "outputs": [
    {
     "data": {
      "text/plain": [
       "4"
      ]
     },
     "execution_count": 47,
     "metadata": {},
     "output_type": "execute_result"
    }
   ],
   "source": [
    "49%5 # 나머지를 반환하는 연산자"
   ]
  },
  {
   "cell_type": "raw",
   "id": "35e7dd74",
   "metadata": {},
   "source": [
    "그렇다면 나눴을 때 몫과 나머지를 각각 알려주는 의사코드를 만들어보자.\n",
    "\n",
    "실습) 46/9의 몫과 나머지를 출력하는 의사코드 만들어보기\n",
    "\n",
    "1. 46/9의 몫을 출력한다.\n",
    "2. 46/9의 나머지를 출력한다."
   ]
  },
  {
   "cell_type": "code",
   "execution_count": 51,
   "id": "41eb375e",
   "metadata": {},
   "outputs": [
    {
     "name": "stdout",
     "output_type": "stream",
     "text": [
      "몫: 5 나머지: 1\n"
     ]
    }
   ],
   "source": [
    "print(\"몫:\",46//9,\"나머지:\",46%9)"
   ]
  },
  {
   "cell_type": "code",
   "execution_count": 52,
   "id": "cb32ff65",
   "metadata": {},
   "outputs": [],
   "source": [
    "#연산자 알아보기\n",
    "#7. 지수 연산자"
   ]
  },
  {
   "cell_type": "code",
   "execution_count": 53,
   "id": "7e699d4d",
   "metadata": {},
   "outputs": [
    {
     "data": {
      "text/plain": [
       "64"
      ]
     },
     "execution_count": 53,
     "metadata": {},
     "output_type": "execute_result"
    }
   ],
   "source": [
    "2**6"
   ]
  },
  {
   "cell_type": "code",
   "execution_count": 54,
   "id": "451519f1",
   "metadata": {},
   "outputs": [
    {
     "data": {
      "text/plain": [
       "85.76612100000003"
      ]
     },
     "execution_count": 54,
     "metadata": {},
     "output_type": "execute_result"
    }
   ],
   "source": [
    "2.1**6"
   ]
  },
  {
   "cell_type": "code",
   "execution_count": 55,
   "id": "f1b477cd",
   "metadata": {},
   "outputs": [
    {
     "data": {
      "text/plain": [
       "5.670000000000001"
      ]
     },
     "execution_count": 55,
     "metadata": {},
     "output_type": "execute_result"
    }
   ],
   "source": [
    "2.1*2.7"
   ]
  },
  {
   "cell_type": "code",
   "execution_count": 56,
   "id": "ec9a78cd",
   "metadata": {},
   "outputs": [],
   "source": [
    "# 변수 알아보기"
   ]
  },
  {
   "cell_type": "code",
   "execution_count": 57,
   "id": "36d8a66a",
   "metadata": {},
   "outputs": [],
   "source": [
    "# 개념적으로 변수는 어떤 값이 들어갈 수 있는 공간. 하지만 컴퓨터에서는 조금 다르다."
   ]
  },
  {
   "cell_type": "code",
   "execution_count": 58,
   "id": "e5e6a96e",
   "metadata": {},
   "outputs": [],
   "source": [
    "# 메모리에 대이터를 불러오거나, 편집하거나, 저장하게 된다."
   ]
  },
  {
   "cell_type": "code",
   "execution_count": 61,
   "id": "c5ea2e47",
   "metadata": {},
   "outputs": [],
   "source": [
    "a=1"
   ]
  },
  {
   "cell_type": "code",
   "execution_count": 60,
   "id": "fff3e65e",
   "metadata": {},
   "outputs": [],
   "source": [
    "# a에 1을 집어넣은게 컴퓨터 입장에서는 맞지 않다. "
   ]
  },
  {
   "cell_type": "raw",
   "id": "bacc3a0f",
   "metadata": {},
   "source": [
    "mem: 004x899() 주소가 하나 있다고 가정\n",
    "\n",
    "a=1을 했을 때\n",
    "\n",
    "mem: 004x899(1) 이렇게 할당된다고 볼 수 있다."
   ]
  },
  {
   "cell_type": "code",
   "execution_count": 62,
   "id": "eb0cc10d",
   "metadata": {},
   "outputs": [
    {
     "data": {
      "text/plain": [
       "1"
      ]
     },
     "execution_count": 62,
     "metadata": {},
     "output_type": "execute_result"
    }
   ],
   "source": [
    "a"
   ]
  },
  {
   "cell_type": "code",
   "execution_count": 63,
   "id": "c4f04ca1",
   "metadata": {},
   "outputs": [
    {
     "data": {
      "text/plain": [
       "1"
      ]
     },
     "execution_count": 63,
     "metadata": {},
     "output_type": "execute_result"
    }
   ],
   "source": [
    "1"
   ]
  },
  {
   "cell_type": "code",
   "execution_count": 64,
   "id": "25e26209",
   "metadata": {},
   "outputs": [],
   "source": [
    "a = a + 1 # 실제로는 a의 값이 바뀐 것이 아니고, 그 위치에 있는.."
   ]
  },
  {
   "cell_type": "code",
   "execution_count": 65,
   "id": "1cf5d913",
   "metadata": {},
   "outputs": [
    {
     "data": {
      "text/plain": [
       "2"
      ]
     },
     "execution_count": 65,
     "metadata": {},
     "output_type": "execute_result"
    }
   ],
   "source": [
    "a"
   ]
  },
  {
   "cell_type": "code",
   "execution_count": 66,
   "id": "a50f3d19",
   "metadata": {},
   "outputs": [],
   "source": [
    "a =4566"
   ]
  },
  {
   "cell_type": "code",
   "execution_count": 67,
   "id": "c52b3715",
   "metadata": {},
   "outputs": [],
   "source": [
    "b=123"
   ]
  },
  {
   "cell_type": "code",
   "execution_count": 68,
   "id": "e40a6cab",
   "metadata": {},
   "outputs": [
    {
     "data": {
      "text/plain": [
       "37.1219512195122"
      ]
     },
     "execution_count": 68,
     "metadata": {},
     "output_type": "execute_result"
    }
   ],
   "source": [
    "a/b"
   ]
  },
  {
   "cell_type": "code",
   "execution_count": 69,
   "id": "f8e86a89",
   "metadata": {},
   "outputs": [],
   "source": [
    "a=\"hello\" # 숫자만 넣을 수 있는 것이 아니다. "
   ]
  },
  {
   "cell_type": "code",
   "execution_count": 70,
   "id": "815223f7",
   "metadata": {},
   "outputs": [
    {
     "data": {
      "text/plain": [
       "'hello'"
      ]
     },
     "execution_count": 70,
     "metadata": {},
     "output_type": "execute_result"
    }
   ],
   "source": [
    "a"
   ]
  },
  {
   "cell_type": "code",
   "execution_count": 71,
   "id": "56cfd89a",
   "metadata": {},
   "outputs": [],
   "source": [
    "X=1"
   ]
  },
  {
   "cell_type": "code",
   "execution_count": 72,
   "id": "f2582f62",
   "metadata": {},
   "outputs": [],
   "source": [
    "x=3"
   ]
  },
  {
   "cell_type": "code",
   "execution_count": 74,
   "id": "137fbf52",
   "metadata": {},
   "outputs": [
    {
     "data": {
      "text/plain": [
       "False"
      ]
     },
     "execution_count": 74,
     "metadata": {},
     "output_type": "execute_result"
    }
   ],
   "source": [
    "X==x # 변수는 소문자와 대문자가 다르다."
   ]
  },
  {
   "cell_type": "code",
   "execution_count": 75,
   "id": "04863dba",
   "metadata": {},
   "outputs": [],
   "source": [
    "a123 = 1"
   ]
  },
  {
   "cell_type": "code",
   "execution_count": 77,
   "id": "7d5373c8",
   "metadata": {},
   "outputs": [
    {
     "data": {
      "text/plain": [
       "1"
      ]
     },
     "execution_count": 77,
     "metadata": {},
     "output_type": "execute_result"
    }
   ],
   "source": [
    "a123 # 숫자를 붙여서 변수를 지정할 수 있다."
   ]
  },
  {
   "cell_type": "code",
   "execution_count": 78,
   "id": "004a3203",
   "metadata": {},
   "outputs": [
    {
     "ename": "SyntaxError",
     "evalue": "invalid syntax (3574143542.py, line 1)",
     "output_type": "error",
     "traceback": [
      "\u001b[1;36m  File \u001b[1;32m\"C:\\Users\\user\\AppData\\Local\\Temp\\ipykernel_10068\\3574143542.py\"\u001b[1;36m, line \u001b[1;32m1\u001b[0m\n\u001b[1;33m    45e=1\u001b[0m\n\u001b[1;37m      ^\u001b[0m\n\u001b[1;31mSyntaxError\u001b[0m\u001b[1;31m:\u001b[0m invalid syntax\n"
     ]
    }
   ],
   "source": [
    "45e=1 # 하지만 앞에 숫자가 오게끔 변수를 지정할 수는 없다."
   ]
  },
  {
   "cell_type": "code",
   "execution_count": 80,
   "id": "63ce993c",
   "metadata": {},
   "outputs": [],
   "source": [
    "a_11 = 2"
   ]
  },
  {
   "cell_type": "code",
   "execution_count": 81,
   "id": "ca79648d",
   "metadata": {},
   "outputs": [
    {
     "data": {
      "text/plain": [
       "2"
      ]
     },
     "execution_count": 81,
     "metadata": {},
     "output_type": "execute_result"
    }
   ],
   "source": [
    "a_11 # 언더바도 사용할 수 있다. "
   ]
  },
  {
   "cell_type": "code",
   "execution_count": 82,
   "id": "c04ea07d",
   "metadata": {},
   "outputs": [],
   "source": [
    "_max11 = 1 # 이와 같이 언더바가 앞에 오게 지정할 수는 있지만 하지 않는 것이 현명하다."
   ]
  },
  {
   "cell_type": "code",
   "execution_count": 83,
   "id": "ea246ef2",
   "metadata": {},
   "outputs": [
    {
     "name": "stdout",
     "output_type": "stream",
     "text": [
      "345\n"
     ]
    }
   ],
   "source": [
    "print(345)"
   ]
  },
  {
   "cell_type": "code",
   "execution_count": 84,
   "id": "2426ca77",
   "metadata": {},
   "outputs": [],
   "source": [
    "# print=123 이와 같이 기존에 있는 함수에 값을 지정해버리면 쓸 수는 있지만 더이상 기존 기능을 사용할 수 없으므로, 하지 않는 것이 좋다."
   ]
  },
  {
   "cell_type": "code",
   "execution_count": null,
   "id": "ffe547e3",
   "metadata": {},
   "outputs": [],
   "source": []
  },
  {
   "cell_type": "code",
   "execution_count": null,
   "id": "f3121070",
   "metadata": {},
   "outputs": [],
   "source": []
  },
  {
   "cell_type": "raw",
   "id": "bb1c2602",
   "metadata": {},
   "source": [
    "x라는 변수에 임의의 값, y라는 변수에 임의의 값(이는 코드상에서 고쳐 적을 수 있게 만들면 된다.) 입력 후 해당 값을 더해서 출력하는 프로그램 만들기 "
   ]
  },
  {
   "cell_type": "code",
   "execution_count": 87,
   "id": "ac2f93dd",
   "metadata": {},
   "outputs": [
    {
     "name": "stdout",
     "output_type": "stream",
     "text": [
      "9\n"
     ]
    }
   ],
   "source": [
    "x=4\n",
    "y=5\n",
    "print(x+y)"
   ]
  },
  {
   "cell_type": "code",
   "execution_count": 1,
   "id": "9e1f0864",
   "metadata": {},
   "outputs": [
    {
     "name": "stdout",
     "output_type": "stream",
     "text": [
      "첫 번쨰 숫자를 입력하시오3\n",
      "두 번쨰 숫자를 입력하시오4\n",
      "7\n"
     ]
    }
   ],
   "source": [
    "x=int(input(\"첫 번쨰 숫자를 입력하시오\"))\n",
    "y=int(input(\"두 번쨰 숫자를 입력하시오\"))\n",
    "print(x+y)"
   ]
  },
  {
   "cell_type": "code",
   "execution_count": null,
   "id": "12c7b361",
   "metadata": {},
   "outputs": [],
   "source": []
  },
  {
   "cell_type": "code",
   "execution_count": null,
   "id": "b00f2861",
   "metadata": {},
   "outputs": [],
   "source": []
  },
  {
   "cell_type": "code",
   "execution_count": 2,
   "id": "1e92ec1d",
   "metadata": {},
   "outputs": [],
   "source": [
    "# input() 함수를 알아보기\n",
    "# input 함수는 프로그램 사용자가 값을 입력할 수 있도록 한다."
   ]
  },
  {
   "cell_type": "code",
   "execution_count": 3,
   "id": "59a818d4",
   "metadata": {},
   "outputs": [
    {
     "name": "stdout",
     "output_type": "stream",
     "text": [
      "값을 입력하세요.매ㅑㅓㄴㅇ러ㅑㄴ앨\n"
     ]
    },
    {
     "data": {
      "text/plain": [
       "'매ㅑㅓㄴㅇ러ㅑㄴ앨'"
      ]
     },
     "execution_count": 3,
     "metadata": {},
     "output_type": "execute_result"
    }
   ],
   "source": [
    "input(\"값을 입력하세요.\")"
   ]
  },
  {
   "cell_type": "code",
   "execution_count": 5,
   "id": "520dc6f2",
   "metadata": {},
   "outputs": [
    {
     "name": "stdout",
     "output_type": "stream",
     "text": [
      "값을 입력하세요520\n"
     ]
    }
   ],
   "source": [
    "# 입력된 값을 x로 집어넣기\n",
    "x = input('값을 입력하세요')"
   ]
  },
  {
   "cell_type": "code",
   "execution_count": 6,
   "id": "994d269d",
   "metadata": {},
   "outputs": [
    {
     "data": {
      "text/plain": [
       "'520'"
      ]
     },
     "execution_count": 6,
     "metadata": {},
     "output_type": "execute_result"
    }
   ],
   "source": [
    "x # input은 항상 문자열로 받는다."
   ]
  },
  {
   "cell_type": "code",
   "execution_count": 8,
   "id": "a5212ab1",
   "metadata": {},
   "outputs": [
    {
     "ename": "TypeError",
     "evalue": "can only concatenate str (not \"int\") to str",
     "output_type": "error",
     "traceback": [
      "\u001b[1;31m---------------------------------------------------------------------------\u001b[0m",
      "\u001b[1;31mTypeError\u001b[0m                                 Traceback (most recent call last)",
      "\u001b[1;32m~\\AppData\\Local\\Temp\\ipykernel_14888\\3359934522.py\u001b[0m in \u001b[0;36m<module>\u001b[1;34m\u001b[0m\n\u001b[1;32m----> 1\u001b[1;33m \u001b[0mx\u001b[0m\u001b[1;33m+\u001b[0m\u001b[1;36m1\u001b[0m\u001b[1;33m\u001b[0m\u001b[1;33m\u001b[0m\u001b[0m\n\u001b[0m",
      "\u001b[1;31mTypeError\u001b[0m: can only concatenate str (not \"int\") to str"
     ]
    }
   ],
   "source": [
    "x+1"
   ]
  },
  {
   "cell_type": "code",
   "execution_count": 9,
   "id": "edee055d",
   "metadata": {},
   "outputs": [],
   "source": [
    "# 파이썬의 형변환"
   ]
  },
  {
   "cell_type": "code",
   "execution_count": 10,
   "id": "fabdb9e7",
   "metadata": {},
   "outputs": [
    {
     "data": {
      "text/plain": [
       "520"
      ]
     },
     "execution_count": 10,
     "metadata": {},
     "output_type": "execute_result"
    }
   ],
   "source": [
    "int(x) # 이와 같이 형변환을 시켜 주면 된다."
   ]
  },
  {
   "cell_type": "code",
   "execution_count": 13,
   "id": "f84f5782",
   "metadata": {},
   "outputs": [
    {
     "data": {
      "text/plain": [
       "'520'"
      ]
     },
     "execution_count": 13,
     "metadata": {},
     "output_type": "execute_result"
    }
   ],
   "source": [
    "x # 원래 값은 변형시키지 않는다."
   ]
  },
  {
   "cell_type": "code",
   "execution_count": 14,
   "id": "5dd5fa2c",
   "metadata": {},
   "outputs": [],
   "source": [
    "x= int(x) # 이와 같이 저장할 시에는 x 값이 int 값으로 다시 저장된다."
   ]
  },
  {
   "cell_type": "code",
   "execution_count": 15,
   "id": "9b60f8fb",
   "metadata": {},
   "outputs": [
    {
     "data": {
      "text/plain": [
       "520"
      ]
     },
     "execution_count": 15,
     "metadata": {},
     "output_type": "execute_result"
    }
   ],
   "source": [
    "x"
   ]
  },
  {
   "cell_type": "raw",
   "id": "d80c1624",
   "metadata": {},
   "source": [
    "실습) x와 y 값을 사용자에게 입력받은 뒤, 두 값을 곱해서 출력하는 프로그램을 만들어보자."
   ]
  },
  {
   "cell_type": "code",
   "execution_count": 18,
   "id": "6b29801a",
   "metadata": {},
   "outputs": [
    {
     "name": "stdout",
     "output_type": "stream",
     "text": [
      "첫 번째 숫자 = 8494\n",
      "두 번째 숫자 = 5664\n",
      "두 수를 곱한 값은  48110016  입니다.\n"
     ]
    }
   ],
   "source": [
    "x=int(input(\"첫 번째 숫자 = \"))\n",
    "y=int(input(\"두 번째 숫자 = \"))\n",
    "print(\"두 수를 곱한 값은 \",x*y,\" 입니다.\")"
   ]
  },
  {
   "cell_type": "code",
   "execution_count": null,
   "id": "d919fb26",
   "metadata": {},
   "outputs": [],
   "source": []
  },
  {
   "cell_type": "code",
   "execution_count": 19,
   "id": "a959d14d",
   "metadata": {},
   "outputs": [
    {
     "data": {
      "text/plain": [
       "[4, 5, 6]"
      ]
     },
     "execution_count": 19,
     "metadata": {},
     "output_type": "execute_result"
    }
   ],
   "source": [
    "# fltmxm\n",
    "[4,5,6]"
   ]
  },
  {
   "cell_type": "code",
   "execution_count": 20,
   "id": "4375f2ab",
   "metadata": {},
   "outputs": [],
   "source": [
    "x = [4,5,6]"
   ]
  },
  {
   "cell_type": "code",
   "execution_count": 21,
   "id": "0550ef39",
   "metadata": {},
   "outputs": [
    {
     "data": {
      "text/plain": [
       "4"
      ]
     },
     "execution_count": 21,
     "metadata": {},
     "output_type": "execute_result"
    }
   ],
   "source": [
    "x[0] # 인덱싱 . 리스트는 옆에 대괄호로 몇 번째인지 지정이 가능하다."
   ]
  },
  {
   "cell_type": "code",
   "execution_count": 22,
   "id": "c8c5cbdc",
   "metadata": {},
   "outputs": [],
   "source": [
    "x = [4,5,6,5,6,3,8,2,88,1,8]"
   ]
  },
  {
   "cell_type": "code",
   "execution_count": 23,
   "id": "735a7f68",
   "metadata": {},
   "outputs": [
    {
     "data": {
      "text/plain": [
       "3"
      ]
     },
     "execution_count": 23,
     "metadata": {},
     "output_type": "execute_result"
    }
   ],
   "source": [
    "x[5]"
   ]
  },
  {
   "cell_type": "code",
   "execution_count": 24,
   "id": "30720408",
   "metadata": {},
   "outputs": [
    {
     "data": {
      "text/plain": [
       "1"
      ]
     },
     "execution_count": 24,
     "metadata": {},
     "output_type": "execute_result"
    }
   ],
   "source": [
    "x[-2]"
   ]
  },
  {
   "cell_type": "code",
   "execution_count": 25,
   "id": "d97f5ee2",
   "metadata": {},
   "outputs": [
    {
     "ename": "IndexError",
     "evalue": "list index out of range",
     "output_type": "error",
     "traceback": [
      "\u001b[1;31m---------------------------------------------------------------------------\u001b[0m",
      "\u001b[1;31mIndexError\u001b[0m                                Traceback (most recent call last)",
      "\u001b[1;32m~\\AppData\\Local\\Temp\\ipykernel_14888\\1758294207.py\u001b[0m in \u001b[0;36m<module>\u001b[1;34m\u001b[0m\n\u001b[1;32m----> 1\u001b[1;33m \u001b[0mx\u001b[0m\u001b[1;33m[\u001b[0m\u001b[1;36m11\u001b[0m\u001b[1;33m]\u001b[0m\u001b[1;33m\u001b[0m\u001b[1;33m\u001b[0m\u001b[0m\n\u001b[0m",
      "\u001b[1;31mIndexError\u001b[0m: list index out of range"
     ]
    }
   ],
   "source": [
    "x[11] #길이 이상의 숫자를 지정하면 에러가 난다."
   ]
  },
  {
   "cell_type": "code",
   "execution_count": 26,
   "id": "0ebc74ee",
   "metadata": {},
   "outputs": [
    {
     "data": {
      "text/plain": [
       "[6, 5, 6, 3, 8, 2, 88, 1, 8]"
      ]
     },
     "execution_count": 26,
     "metadata": {},
     "output_type": "execute_result"
    }
   ],
   "source": [
    "x[2:] #뒤에 콜론을 찍으면 범위를 나타낸다."
   ]
  },
  {
   "cell_type": "code",
   "execution_count": 27,
   "id": "ad22f46b",
   "metadata": {},
   "outputs": [
    {
     "data": {
      "text/plain": [
       "[4, 5]"
      ]
     },
     "execution_count": 27,
     "metadata": {},
     "output_type": "execute_result"
    }
   ],
   "source": [
    "x[:2] # 앞에도 찍어봤는데, 그 번째 전까지만 찍어준다."
   ]
  },
  {
   "cell_type": "code",
   "execution_count": 28,
   "id": "e63d2274",
   "metadata": {},
   "outputs": [],
   "source": [
    "# x=[(시작할 자리):(끝날 자리 +1)]"
   ]
  },
  {
   "cell_type": "code",
   "execution_count": 29,
   "id": "89af0841",
   "metadata": {},
   "outputs": [
    {
     "data": {
      "text/plain": [
       "[6, 5, 6, 3, 8, 2]"
      ]
     },
     "execution_count": 29,
     "metadata": {},
     "output_type": "execute_result"
    }
   ],
   "source": [
    "x[2:-3] # 위에 보고 잘 비교해보세요."
   ]
  },
  {
   "cell_type": "code",
   "execution_count": 30,
   "id": "24ee8bad",
   "metadata": {},
   "outputs": [],
   "source": [
    "x = [4,5,6,5,6,'숫자 3',8,2,88,1,8]"
   ]
  },
  {
   "cell_type": "code",
   "execution_count": 32,
   "id": "f85c7189",
   "metadata": {},
   "outputs": [
    {
     "data": {
      "text/plain": [
       "'숫자 322'"
      ]
     },
     "execution_count": 32,
     "metadata": {},
     "output_type": "execute_result"
    }
   ],
   "source": [
    "x[5] + '22' # 연산은 가능하다.  이상태에서도 기존 값이 바뀌는 것은 아니므로"
   ]
  },
  {
   "cell_type": "code",
   "execution_count": 33,
   "id": "61446646",
   "metadata": {},
   "outputs": [],
   "source": [
    "x[5]= x[5] + '22' # 이와 같이 저장해주어야 한다."
   ]
  },
  {
   "cell_type": "code",
   "execution_count": 34,
   "id": "867b0803",
   "metadata": {},
   "outputs": [
    {
     "data": {
      "text/plain": [
       "[4, 5, 6, 5, 6, '숫자 322', 8, 2, 88, 1, 8]"
      ]
     },
     "execution_count": 34,
     "metadata": {},
     "output_type": "execute_result"
    }
   ],
   "source": [
    "x"
   ]
  },
  {
   "cell_type": "code",
   "execution_count": null,
   "id": "392a3603",
   "metadata": {},
   "outputs": [],
   "source": []
  },
  {
   "cell_type": "raw",
   "id": "66571f44",
   "metadata": {},
   "source": [
    "실습) 리스트 x 를 만드세요.\n",
    "x 에는 각 원소로 49,96 \"안녕하세요\",77,3.44 이 다섯가지가 들어가 있어야 합니다. \n",
    "\n",
    "1. 리스트 x의 3번째 원소는 어떤 값일까요?\n",
    "2. 리스트 x의 0번째 값에 70을 더해 저장하세요.\n",
    "3. 리스트 x의 -2번째 값과 3번째 값이 같은지 체크해 보세요."
   ]
  },
  {
   "cell_type": "code",
   "execution_count": 35,
   "id": "6111a743",
   "metadata": {},
   "outputs": [],
   "source": [
    "x=[49,96,\"안녕하세요\",77,3.44]"
   ]
  },
  {
   "cell_type": "code",
   "execution_count": 36,
   "id": "8559a02b",
   "metadata": {},
   "outputs": [
    {
     "data": {
      "text/plain": [
       "77"
      ]
     },
     "execution_count": 36,
     "metadata": {},
     "output_type": "execute_result"
    }
   ],
   "source": [
    "x[3] # 1번"
   ]
  },
  {
   "cell_type": "code",
   "execution_count": 37,
   "id": "992b1ac6",
   "metadata": {},
   "outputs": [],
   "source": [
    "x[0] = x[0]+70 # 2번"
   ]
  },
  {
   "cell_type": "code",
   "execution_count": 38,
   "id": "36170439",
   "metadata": {},
   "outputs": [
    {
     "data": {
      "text/plain": [
       "True"
      ]
     },
     "execution_count": 38,
     "metadata": {},
     "output_type": "execute_result"
    }
   ],
   "source": [
    "x[-2]==x[3] # 3번"
   ]
  },
  {
   "cell_type": "code",
   "execution_count": 39,
   "id": "5ee90641",
   "metadata": {},
   "outputs": [
    {
     "data": {
      "text/plain": [
       "[119, 96, '안녕하세요', 77, 3.44]"
      ]
     },
     "execution_count": 39,
     "metadata": {},
     "output_type": "execute_result"
    }
   ],
   "source": [
    "x # 최종 리스트 x"
   ]
  },
  {
   "cell_type": "code",
   "execution_count": null,
   "id": "62e48297",
   "metadata": {},
   "outputs": [],
   "source": []
  },
  {
   "cell_type": "code",
   "execution_count": null,
   "id": "c520819f",
   "metadata": {},
   "outputs": [],
   "source": []
  },
  {
   "cell_type": "code",
   "execution_count": 40,
   "id": "06d9038c",
   "metadata": {},
   "outputs": [
    {
     "data": {
      "text/plain": [
       "[119, 96, '안녕하세요', 77, 3.44]"
      ]
     },
     "execution_count": 40,
     "metadata": {},
     "output_type": "execute_result"
    }
   ],
   "source": [
    "x"
   ]
  },
  {
   "cell_type": "code",
   "execution_count": 41,
   "id": "15851e5e",
   "metadata": {},
   "outputs": [
    {
     "ename": "TypeError",
     "evalue": "can only concatenate list (not \"int\") to list",
     "output_type": "error",
     "traceback": [
      "\u001b[1;31m---------------------------------------------------------------------------\u001b[0m",
      "\u001b[1;31mTypeError\u001b[0m                                 Traceback (most recent call last)",
      "\u001b[1;32m~\\AppData\\Local\\Temp\\ipykernel_14888\\3897945710.py\u001b[0m in \u001b[0;36m<module>\u001b[1;34m\u001b[0m\n\u001b[1;32m----> 1\u001b[1;33m \u001b[0mx\u001b[0m\u001b[1;33m+\u001b[0m\u001b[1;36m46\u001b[0m\u001b[1;33m\u001b[0m\u001b[1;33m\u001b[0m\u001b[0m\n\u001b[0m",
      "\u001b[1;31mTypeError\u001b[0m: can only concatenate list (not \"int\") to list"
     ]
    }
   ],
   "source": [
    "x+46 # 뒤에 46을 붙이고 싶다면 ?"
   ]
  },
  {
   "cell_type": "code",
   "execution_count": 42,
   "id": "899ecea3",
   "metadata": {},
   "outputs": [
    {
     "data": {
      "text/plain": [
       "[119, 96, '안녕하세요', 77, 3.44, 46]"
      ]
     },
     "execution_count": 42,
     "metadata": {},
     "output_type": "execute_result"
    }
   ],
   "source": [
    "x+[46] # 이렇게 붙일 수 있으나, 기본 x는 변화가 되는 것이 아니다."
   ]
  },
  {
   "cell_type": "code",
   "execution_count": 43,
   "id": "ad64ac7b",
   "metadata": {},
   "outputs": [],
   "source": [
    "x = x +[46]"
   ]
  },
  {
   "cell_type": "code",
   "execution_count": 44,
   "id": "7e755c87",
   "metadata": {},
   "outputs": [
    {
     "data": {
      "text/plain": [
       "[119, 96, '안녕하세요', 77, 3.44, 46]"
      ]
     },
     "execution_count": 44,
     "metadata": {},
     "output_type": "execute_result"
    }
   ],
   "source": [
    "x"
   ]
  },
  {
   "cell_type": "code",
   "execution_count": 45,
   "id": "7a4903d0",
   "metadata": {},
   "outputs": [],
   "source": [
    "x.append(46) # append를 사용하여 리스트 내 요소를 추가할 수 있다."
   ]
  },
  {
   "cell_type": "code",
   "execution_count": 46,
   "id": "e0eb9966",
   "metadata": {},
   "outputs": [
    {
     "data": {
      "text/plain": [
       "[119, 96, '안녕하세요', 77, 3.44, 46, 46]"
      ]
     },
     "execution_count": 46,
     "metadata": {},
     "output_type": "execute_result"
    }
   ],
   "source": [
    "x"
   ]
  },
  {
   "cell_type": "code",
   "execution_count": 47,
   "id": "b25659b4",
   "metadata": {},
   "outputs": [],
   "source": [
    "x.append(\"hello\") # 문자도 넣을 수 있다."
   ]
  },
  {
   "cell_type": "code",
   "execution_count": 48,
   "id": "2b51f5dd",
   "metadata": {},
   "outputs": [
    {
     "data": {
      "text/plain": [
       "[119, 96, '안녕하세요', 77, 3.44, 46, 46, 'hello']"
      ]
     },
     "execution_count": 48,
     "metadata": {},
     "output_type": "execute_result"
    }
   ],
   "source": [
    "x"
   ]
  },
  {
   "cell_type": "code",
   "execution_count": 49,
   "id": "bfa12631",
   "metadata": {},
   "outputs": [],
   "source": [
    "x.append([46]) # 리스트로 넣어버리면 리스트 안에 리스트가 들어간다."
   ]
  },
  {
   "cell_type": "code",
   "execution_count": 50,
   "id": "6e6e7f2b",
   "metadata": {},
   "outputs": [
    {
     "data": {
      "text/plain": [
       "[119, 96, '안녕하세요', 77, 3.44, 46, 46, 'hello', [46]]"
      ]
     },
     "execution_count": 50,
     "metadata": {},
     "output_type": "execute_result"
    }
   ],
   "source": [
    "x"
   ]
  },
  {
   "cell_type": "code",
   "execution_count": 57,
   "id": "d985fb66",
   "metadata": {},
   "outputs": [],
   "source": [
    "x.append(\"asdff\")"
   ]
  },
  {
   "cell_type": "code",
   "execution_count": 56,
   "id": "6276216c",
   "metadata": {},
   "outputs": [
    {
     "data": {
      "text/plain": [
       "[119, 96, '안녕하세요', 77, 3.44, 46, 46, 'hello', [46]]"
      ]
     },
     "execution_count": 56,
     "metadata": {},
     "output_type": "execute_result"
    }
   ],
   "source": [
    "x"
   ]
  },
  {
   "cell_type": "code",
   "execution_count": 58,
   "id": "cc4050a2",
   "metadata": {},
   "outputs": [],
   "source": [
    "x.remove('asdff')"
   ]
  },
  {
   "cell_type": "code",
   "execution_count": 59,
   "id": "1f1e2be5",
   "metadata": {},
   "outputs": [
    {
     "data": {
      "text/plain": [
       "[119, 96, '안녕하세요', 77, 3.44, 46, 46, 'hello', [46]]"
      ]
     },
     "execution_count": 59,
     "metadata": {},
     "output_type": "execute_result"
    }
   ],
   "source": [
    "x"
   ]
  },
  {
   "cell_type": "code",
   "execution_count": 61,
   "id": "d6b6bfcf",
   "metadata": {},
   "outputs": [],
   "source": [
    "y=[1,2,1,4,1,6]\n",
    "y.remove(1)"
   ]
  },
  {
   "cell_type": "code",
   "execution_count": 62,
   "id": "4987cf60",
   "metadata": {},
   "outputs": [
    {
     "data": {
      "text/plain": [
       "[2, 1, 4, 1, 6]"
      ]
     },
     "execution_count": 62,
     "metadata": {},
     "output_type": "execute_result"
    }
   ],
   "source": [
    "y # 같은 수가 여럿 있을 때 앞에부터 지워진다."
   ]
  },
  {
   "cell_type": "raw",
   "id": "4b892496",
   "metadata": {},
   "source": [
    "얕은 복사와 깊은 복사\n",
    "\n",
    "얕은 복사 : 두 변수가 같은 주소를 향하게 한다.\n",
    "\n",
    "예를 들어, 컴퓨터 메모리에 0x44 주소가 있다고 가정을 한다.\n",
    "a= [1]을 할 경우\n",
    "0x44주소에 [1]이 저장되고, a 는 0x44 주소를 나타내게 된다.\n",
    "b = a 이렇게 할 경우\n",
    "a와 b는 모두 0x44 주소를 나타내게 된다.\n",
    "\n",
    "a또는 b 중 하나만 수정하여도 두 변수 모두 바뀌게 된다.\n",
    "\n",
    "\n",
    "깊은 복사 : 두 변수가 다른 주소를 향한다.\n",
    "\n",
    "예를 들어, 컴퓨터 메모리에 0x44 주소가 있다고 가정을 한다.\n",
    "a= [1]을 할 경우\n",
    "0x44주소에 [1]이 저장되고, a 는 0x44 주소를 나타내게 된다.\n",
    "b=a.copy() 이렇게 할 경우\n",
    "08c9 주소에 [1]이 저장되고,\n",
    "a는 0x44 주소, b는 08c9 주소를 나타내게 된다.\n",
    "\n",
    "a와 b 각각을 수정하더라도 서로에게 영향을 주지 않는다."
   ]
  },
  {
   "cell_type": "code",
   "execution_count": 63,
   "id": "00134a8d",
   "metadata": {},
   "outputs": [],
   "source": [
    "a=1"
   ]
  },
  {
   "cell_type": "code",
   "execution_count": 64,
   "id": "a01d796a",
   "metadata": {},
   "outputs": [],
   "source": [
    "b=a"
   ]
  },
  {
   "cell_type": "code",
   "execution_count": 65,
   "id": "3bf3a9f2",
   "metadata": {},
   "outputs": [
    {
     "data": {
      "text/plain": [
       "1"
      ]
     },
     "execution_count": 65,
     "metadata": {},
     "output_type": "execute_result"
    }
   ],
   "source": [
    "b"
   ]
  },
  {
   "cell_type": "code",
   "execution_count": 66,
   "id": "79de472d",
   "metadata": {},
   "outputs": [],
   "source": [
    "a = a+1"
   ]
  },
  {
   "cell_type": "code",
   "execution_count": 67,
   "id": "1cd9e0ae",
   "metadata": {},
   "outputs": [
    {
     "data": {
      "text/plain": [
       "1"
      ]
     },
     "execution_count": 67,
     "metadata": {},
     "output_type": "execute_result"
    }
   ],
   "source": [
    "b # 정수형에서는 얕은복사를 사용하지 않는다. "
   ]
  },
  {
   "cell_type": "code",
   "execution_count": 68,
   "id": "ffd6cf88",
   "metadata": {},
   "outputs": [],
   "source": [
    "# 정수형은 a. +tab 을 해 봤을 때 copy가 없으므로 깊은복사만 있다."
   ]
  },
  {
   "cell_type": "code",
   "execution_count": 69,
   "id": "4df5e223",
   "metadata": {},
   "outputs": [],
   "source": [
    "a=[566]"
   ]
  },
  {
   "cell_type": "code",
   "execution_count": 70,
   "id": "14685d96",
   "metadata": {},
   "outputs": [],
   "source": [
    "# 리스트는 a.+tab 눌렀을 때 copy가 생겼으므로 신경을 써야 한다. 대부분의 리스트형식\n",
    "# 자료형의 경우에는 깊은 복사와 얕은 복사를 지원한다."
   ]
  },
  {
   "cell_type": "code",
   "execution_count": 72,
   "id": "e928f7e8",
   "metadata": {},
   "outputs": [
    {
     "name": "stdout",
     "output_type": "stream",
     "text": [
      "()\n"
     ]
    }
   ],
   "source": [
    "print((1,2,3)*-4)"
   ]
  },
  {
   "cell_type": "code",
   "execution_count": 73,
   "id": "6683cf1b",
   "metadata": {},
   "outputs": [
    {
     "data": {
      "text/plain": [
       "[]"
      ]
     },
     "execution_count": 73,
     "metadata": {},
     "output_type": "execute_result"
    }
   ],
   "source": [
    "[1,2,3]*-5"
   ]
  },
  {
   "cell_type": "code",
   "execution_count": null,
   "id": "e5b6f160",
   "metadata": {},
   "outputs": [],
   "source": []
  },
  {
   "cell_type": "raw",
   "id": "5dbccf0f",
   "metadata": {},
   "source": [
    "# 리스트의 특징\n",
    "1. 인덱싱이 가능하다.\n",
    "2. 슬라이싱이 가능하다."
   ]
  },
  {
   "cell_type": "code",
   "execution_count": 74,
   "id": "497e627f",
   "metadata": {},
   "outputs": [],
   "source": [
    "x=[1,2,3,4,5]"
   ]
  },
  {
   "cell_type": "code",
   "execution_count": 75,
   "id": "0c3cd0a6",
   "metadata": {},
   "outputs": [
    {
     "data": {
      "text/plain": [
       "4"
      ]
     },
     "execution_count": 75,
     "metadata": {},
     "output_type": "execute_result"
    }
   ],
   "source": [
    "x[3]# 인덱싱"
   ]
  },
  {
   "cell_type": "code",
   "execution_count": 76,
   "id": "1a11f111",
   "metadata": {},
   "outputs": [
    {
     "data": {
      "text/plain": [
       "[4, 5]"
      ]
     },
     "execution_count": 76,
     "metadata": {},
     "output_type": "execute_result"
    }
   ],
   "source": [
    "x[3:] # 슬라이싱"
   ]
  },
  {
   "cell_type": "markdown",
   "id": "b24ac584",
   "metadata": {},
   "source": [
    "* 리스트는 2차원 배열(겹배열) 이 가능하다."
   ]
  },
  {
   "cell_type": "code",
   "execution_count": 77,
   "id": "383eab0c",
   "metadata": {},
   "outputs": [],
   "source": [
    "x=[[1,2,3],[4,5,6],[7,8,9]]"
   ]
  },
  {
   "cell_type": "code",
   "execution_count": 78,
   "id": "3ae2f5f5",
   "metadata": {},
   "outputs": [
    {
     "data": {
      "text/plain": [
       "[[1, 2, 3], [4, 5, 6], [7, 8, 9]]"
      ]
     },
     "execution_count": 78,
     "metadata": {},
     "output_type": "execute_result"
    }
   ],
   "source": [
    "x"
   ]
  },
  {
   "cell_type": "code",
   "execution_count": 79,
   "id": "870112ed",
   "metadata": {},
   "outputs": [
    {
     "data": {
      "text/plain": [
       "[1, 2, 3]"
      ]
     },
     "execution_count": 79,
     "metadata": {},
     "output_type": "execute_result"
    }
   ],
   "source": [
    "[1,2,3] # 일차원 데이터"
   ]
  },
  {
   "cell_type": "code",
   "execution_count": 80,
   "id": "e3d57512",
   "metadata": {},
   "outputs": [
    {
     "name": "stdout",
     "output_type": "stream",
     "text": [
      "[1, 2, 3]\n",
      "[4, 5, 6]\n",
      "[7, 8, 9]\n"
     ]
    }
   ],
   "source": [
    "for i in x:    # 아래와 같다면 2차원 표현이 가능하다. \n",
    "    print(i)"
   ]
  },
  {
   "cell_type": "code",
   "execution_count": 81,
   "id": "3156f74b",
   "metadata": {},
   "outputs": [],
   "source": [
    "x=[[[1,2],[2,3],[3,4]],[[4,5],[5,6],[6,7]],[[7,8],[8,9],[9,9]]] # 3차원 가능?"
   ]
  },
  {
   "cell_type": "code",
   "execution_count": 82,
   "id": "ccee2d00",
   "metadata": {},
   "outputs": [
    {
     "name": "stdout",
     "output_type": "stream",
     "text": [
      "[[1, 2], [2, 3], [3, 4]]\n",
      "[[4, 5], [5, 6], [6, 7]]\n",
      "[[7, 8], [8, 9], [9, 9]]\n"
     ]
    }
   ],
   "source": [
    "for i in x:\n",
    "    print(i)"
   ]
  },
  {
   "cell_type": "code",
   "execution_count": 84,
   "id": "376b7242",
   "metadata": {},
   "outputs": [
    {
     "name": "stdout",
     "output_type": "stream",
     "text": [
      "[1, 2]\n",
      "[2, 3]\n",
      "[3, 4]\n",
      "[4, 5]\n",
      "[5, 6]\n",
      "[6, 7]\n",
      "[7, 8]\n",
      "[8, 9]\n",
      "[9, 9]\n"
     ]
    }
   ],
   "source": [
    "for i in x:  # 2차원 배열을 모아서 3차원 배열을 만들 수 있다. \n",
    "    for j in i:\n",
    "        print(j)"
   ]
  },
  {
   "cell_type": "markdown",
   "id": "2321cfbe",
   "metadata": {},
   "source": [
    "튜플"
   ]
  },
  {
   "cell_type": "code",
   "execution_count": 85,
   "id": "8a79e303",
   "metadata": {},
   "outputs": [],
   "source": [
    "t=(1,2,3)"
   ]
  },
  {
   "cell_type": "code",
   "execution_count": 86,
   "id": "e2dbd8aa",
   "metadata": {},
   "outputs": [
    {
     "data": {
      "text/plain": [
       "tuple"
      ]
     },
     "execution_count": 86,
     "metadata": {},
     "output_type": "execute_result"
    }
   ],
   "source": [
    "type(t)"
   ]
  },
  {
   "cell_type": "code",
   "execution_count": 87,
   "id": "185dc7af",
   "metadata": {},
   "outputs": [
    {
     "data": {
      "text/plain": [
       "list"
      ]
     },
     "execution_count": 87,
     "metadata": {},
     "output_type": "execute_result"
    }
   ],
   "source": [
    "type([1,2,3])"
   ]
  },
  {
   "cell_type": "code",
   "execution_count": 88,
   "id": "a80453aa",
   "metadata": {},
   "outputs": [
    {
     "data": {
      "text/plain": [
       "1"
      ]
     },
     "execution_count": 88,
     "metadata": {},
     "output_type": "execute_result"
    }
   ],
   "source": [
    "t[0] # 인덱싱도 된다.."
   ]
  },
  {
   "cell_type": "code",
   "execution_count": 89,
   "id": "172c291c",
   "metadata": {},
   "outputs": [
    {
     "data": {
      "text/plain": [
       "(1, 2)"
      ]
     },
     "execution_count": 89,
     "metadata": {},
     "output_type": "execute_result"
    }
   ],
   "source": [
    "t[:2] # 슬라이싱도 된다. 그런데 이럴거면 튜플은 왜 있는가?"
   ]
  },
  {
   "cell_type": "code",
   "execution_count": 90,
   "id": "6531b59a",
   "metadata": {},
   "outputs": [
    {
     "data": {
      "text/plain": [
       "1"
      ]
     },
     "execution_count": 90,
     "metadata": {},
     "output_type": "execute_result"
    }
   ],
   "source": [
    "t[0]"
   ]
  },
  {
   "cell_type": "code",
   "execution_count": 91,
   "id": "198d40ce",
   "metadata": {},
   "outputs": [
    {
     "data": {
      "text/plain": [
       "2"
      ]
     },
     "execution_count": 91,
     "metadata": {},
     "output_type": "execute_result"
    }
   ],
   "source": [
    "t[0]+1"
   ]
  },
  {
   "cell_type": "code",
   "execution_count": 92,
   "id": "cddb744d",
   "metadata": {},
   "outputs": [
    {
     "ename": "TypeError",
     "evalue": "'tuple' object does not support item assignment",
     "output_type": "error",
     "traceback": [
      "\u001b[1;31m---------------------------------------------------------------------------\u001b[0m",
      "\u001b[1;31mTypeError\u001b[0m                                 Traceback (most recent call last)",
      "\u001b[1;32m~\\AppData\\Local\\Temp\\ipykernel_14888\\2083139604.py\u001b[0m in \u001b[0;36m<module>\u001b[1;34m\u001b[0m\n\u001b[1;32m----> 1\u001b[1;33m \u001b[0mt\u001b[0m\u001b[1;33m[\u001b[0m\u001b[1;36m0\u001b[0m\u001b[1;33m]\u001b[0m\u001b[1;33m=\u001b[0m\u001b[0mt\u001b[0m\u001b[1;33m[\u001b[0m\u001b[1;36m0\u001b[0m\u001b[1;33m]\u001b[0m \u001b[1;33m+\u001b[0m \u001b[1;36m1\u001b[0m\u001b[1;33m\u001b[0m\u001b[1;33m\u001b[0m\u001b[0m\n\u001b[0m",
      "\u001b[1;31mTypeError\u001b[0m: 'tuple' object does not support item assignment"
     ]
    }
   ],
   "source": [
    "t[0]=t[0] + 1  # 튜플은 일반적으로는 요소를 바꿀 수 없다. "
   ]
  },
  {
   "cell_type": "code",
   "execution_count": null,
   "id": "f2740d6d",
   "metadata": {},
   "outputs": [],
   "source": []
  },
  {
   "cell_type": "markdown",
   "id": "1db9bc9f",
   "metadata": {},
   "source": [
    "## 딕셔너리"
   ]
  },
  {
   "cell_type": "code",
   "execution_count": 96,
   "id": "c404dcad",
   "metadata": {},
   "outputs": [],
   "source": [
    "d = {\"home\":\"02-3142-6668\",\"office\":\"02-123-2345\"} "
   ]
  },
  {
   "cell_type": "code",
   "execution_count": 97,
   "id": "b024f967",
   "metadata": {},
   "outputs": [
    {
     "data": {
      "text/plain": [
       "{'home': '02-3142-6668', 'office': '02-123-2345'}"
      ]
     },
     "execution_count": 97,
     "metadata": {},
     "output_type": "execute_result"
    }
   ],
   "source": [
    "d"
   ]
  },
  {
   "cell_type": "code",
   "execution_count": 95,
   "id": "5ca52357",
   "metadata": {},
   "outputs": [],
   "source": [
    "# d의 key는\"home\"\n",
    "# d의 value는 \"02-3142-6668\""
   ]
  },
  {
   "cell_type": "code",
   "execution_count": 98,
   "id": "a05ff7f2",
   "metadata": {},
   "outputs": [
    {
     "ename": "KeyError",
     "evalue": "1",
     "output_type": "error",
     "traceback": [
      "\u001b[1;31m---------------------------------------------------------------------------\u001b[0m",
      "\u001b[1;31mKeyError\u001b[0m                                  Traceback (most recent call last)",
      "\u001b[1;32m~\\AppData\\Local\\Temp\\ipykernel_14888\\708413107.py\u001b[0m in \u001b[0;36m<module>\u001b[1;34m\u001b[0m\n\u001b[1;32m----> 1\u001b[1;33m \u001b[0md\u001b[0m\u001b[1;33m[\u001b[0m\u001b[1;36m1\u001b[0m\u001b[1;33m]\u001b[0m\u001b[1;33m\u001b[0m\u001b[1;33m\u001b[0m\u001b[0m\n\u001b[0m",
      "\u001b[1;31mKeyError\u001b[0m: 1"
     ]
    }
   ],
   "source": [
    "d[1] # 딕셔너리는 인덱싱이 불가능하다. 하지만."
   ]
  },
  {
   "cell_type": "code",
   "execution_count": 99,
   "id": "8131560d",
   "metadata": {},
   "outputs": [
    {
     "data": {
      "text/plain": [
       "'02-3142-6668'"
      ]
     },
     "execution_count": 99,
     "metadata": {},
     "output_type": "execute_result"
    }
   ],
   "source": [
    "d[\"home\"] # key-value 관계를 이용한 인덱싱은 가능하다. "
   ]
  },
  {
   "cell_type": "code",
   "execution_count": 100,
   "id": "0c28b558",
   "metadata": {},
   "outputs": [],
   "source": [
    "d2 = {\"korea\":[\"seoul\",\"busan\",\"gwangju\"],\"Usa\":[\"la\",\"ny\",\"san francisco\"]}"
   ]
  },
  {
   "cell_type": "code",
   "execution_count": 101,
   "id": "d3aa0c25",
   "metadata": {},
   "outputs": [
    {
     "data": {
      "text/plain": [
       "{'korea': ['seoul', 'busan', 'gwangju'], 'Usa': ['la', 'ny', 'san francisco']}"
      ]
     },
     "execution_count": 101,
     "metadata": {},
     "output_type": "execute_result"
    }
   ],
   "source": [
    "d2"
   ]
  },
  {
   "cell_type": "code",
   "execution_count": 102,
   "id": "ec5adcbe",
   "metadata": {},
   "outputs": [
    {
     "data": {
      "text/plain": [
       "['seoul', 'busan', 'gwangju']"
      ]
     },
     "execution_count": 102,
     "metadata": {},
     "output_type": "execute_result"
    }
   ],
   "source": [
    "d2[\"korea\"]"
   ]
  },
  {
   "cell_type": "code",
   "execution_count": 103,
   "id": "e56a6ad1",
   "metadata": {},
   "outputs": [
    {
     "data": {
      "text/plain": [
       "'busan'"
      ]
     },
     "execution_count": 103,
     "metadata": {},
     "output_type": "execute_result"
    }
   ],
   "source": [
    "d2[\"korea\"][1] # 이와 같이 찾아 볼 수 있다."
   ]
  },
  {
   "cell_type": "code",
   "execution_count": 104,
   "id": "79afa926",
   "metadata": {},
   "outputs": [],
   "source": [
    "# 만약 여기 데이터를 추가하고 싶다면?"
   ]
  },
  {
   "cell_type": "code",
   "execution_count": 105,
   "id": "934bba11",
   "metadata": {},
   "outputs": [],
   "source": [
    "d2[\"korea\"].append(\"daejeon\")"
   ]
  },
  {
   "cell_type": "code",
   "execution_count": 106,
   "id": "df38b5e5",
   "metadata": {},
   "outputs": [
    {
     "data": {
      "text/plain": [
       "{'korea': ['seoul', 'busan', 'gwangju', 'daejeon'],\n",
       " 'Usa': ['la', 'ny', 'san francisco']}"
      ]
     },
     "execution_count": 106,
     "metadata": {},
     "output_type": "execute_result"
    }
   ],
   "source": [
    "d2"
   ]
  },
  {
   "cell_type": "markdown",
   "id": "306c6ccd",
   "metadata": {},
   "source": [
    "set(집합)"
   ]
  },
  {
   "cell_type": "code",
   "execution_count": 108,
   "id": "35749155",
   "metadata": {},
   "outputs": [
    {
     "data": {
      "text/plain": [
       "{1, 2, 3, 4, 5}"
      ]
     },
     "execution_count": 108,
     "metadata": {},
     "output_type": "execute_result"
    }
   ],
   "source": [
    "{1,2,3,4,5} # 집합이라고는 거의 부르지 않는다."
   ]
  },
  {
   "cell_type": "code",
   "execution_count": 109,
   "id": "344271d2",
   "metadata": {},
   "outputs": [],
   "source": [
    "s = {1,2,3,4,5}"
   ]
  },
  {
   "cell_type": "code",
   "execution_count": 110,
   "id": "1a657507",
   "metadata": {},
   "outputs": [
    {
     "data": {
      "text/plain": [
       "set"
      ]
     },
     "execution_count": 110,
     "metadata": {},
     "output_type": "execute_result"
    }
   ],
   "source": [
    "type(s)"
   ]
  },
  {
   "cell_type": "code",
   "execution_count": 111,
   "id": "fe8e0c6f",
   "metadata": {},
   "outputs": [],
   "source": [
    "s = {1,2,5,7,8,4,7} # set은 중복을 허용하지 않고, 데이터를 모두 오름차순 정렬"
   ]
  },
  {
   "cell_type": "code",
   "execution_count": 112,
   "id": "a4d8dd9c",
   "metadata": {},
   "outputs": [
    {
     "data": {
      "text/plain": [
       "{1, 2, 4, 5, 7, 8}"
      ]
     },
     "execution_count": 112,
     "metadata": {},
     "output_type": "execute_result"
    }
   ],
   "source": [
    "s # 중복이 있는 데이터를 없앨 때 set에 넣었다가 다시 빼는 방식으로 많이 사용"
   ]
  },
  {
   "cell_type": "markdown",
   "id": "05fb9c70",
   "metadata": {},
   "source": [
    "실습"
   ]
  },
  {
   "cell_type": "markdown",
   "id": "43b2cde2",
   "metadata": {},
   "source": [
    "- 리스트 하나를 오름차순으로 정렬하고 중복된 값을 제거해보자"
   ]
  },
  {
   "cell_type": "code",
   "execution_count": 116,
   "id": "4cac6379",
   "metadata": {},
   "outputs": [],
   "source": [
    "l = [89,62,4,3,3,5,6,8,7,8,9]"
   ]
  },
  {
   "cell_type": "code",
   "execution_count": 117,
   "id": "b05f8798",
   "metadata": {},
   "outputs": [
    {
     "data": {
      "text/plain": [
       "[89, 62, 4, 3, 3, 5, 6, 8, 7, 8, 9]"
      ]
     },
     "execution_count": 117,
     "metadata": {},
     "output_type": "execute_result"
    }
   ],
   "source": [
    "l"
   ]
  },
  {
   "cell_type": "code",
   "execution_count": 118,
   "id": "960a3d79",
   "metadata": {},
   "outputs": [
    {
     "data": {
      "text/plain": [
       "{3, 4, 5, 6, 7, 8, 9, 62, 89}"
      ]
     },
     "execution_count": 118,
     "metadata": {},
     "output_type": "execute_result"
    }
   ],
   "source": [
    "set(l)"
   ]
  },
  {
   "cell_type": "code",
   "execution_count": 119,
   "id": "811c6882",
   "metadata": {},
   "outputs": [
    {
     "data": {
      "text/plain": [
       "[3, 4, 5, 6, 7, 8, 9, 89, 62]"
      ]
     },
     "execution_count": 119,
     "metadata": {},
     "output_type": "execute_result"
    }
   ],
   "source": [
    "list(set(l)) # list 로 돌릴 때 다시 정렬이 풀려버린다."
   ]
  },
  {
   "cell_type": "code",
   "execution_count": 128,
   "id": "b29734e4",
   "metadata": {},
   "outputs": [],
   "source": [
    "l = list(set(l))"
   ]
  },
  {
   "cell_type": "code",
   "execution_count": 126,
   "id": "f582f515",
   "metadata": {},
   "outputs": [],
   "source": [
    "l.sort() # 이 함수는 독특하게 l값 자체가 바뀌게끔 설계되어 있다. "
   ]
  },
  {
   "cell_type": "code",
   "execution_count": 127,
   "id": "4f419a32",
   "metadata": {},
   "outputs": [
    {
     "data": {
      "text/plain": [
       "[3, 4, 5, 6, 7, 8, 9, 62, 89]"
      ]
     },
     "execution_count": 127,
     "metadata": {},
     "output_type": "execute_result"
    }
   ],
   "source": [
    "l"
   ]
  },
  {
   "cell_type": "code",
   "execution_count": 130,
   "id": "6edac1fd",
   "metadata": {},
   "outputs": [],
   "source": [
    "# 만약 내림차순을 하고싶다면?\n",
    "l.sort(reverse=True)"
   ]
  },
  {
   "cell_type": "code",
   "execution_count": 131,
   "id": "9ed7fb1e",
   "metadata": {},
   "outputs": [
    {
     "data": {
      "text/plain": [
       "[89, 62, 9, 8, 7, 6, 5, 4, 3]"
      ]
     },
     "execution_count": 131,
     "metadata": {},
     "output_type": "execute_result"
    }
   ],
   "source": [
    "l"
   ]
  },
  {
   "cell_type": "markdown",
   "id": "25eabfe9",
   "metadata": {},
   "source": [
    "------\n",
    "##bool(불, 부울)"
   ]
  },
  {
   "cell_type": "code",
   "execution_count": 132,
   "id": "e680874d",
   "metadata": {},
   "outputs": [
    {
     "data": {
      "text/plain": [
       "True"
      ]
     },
     "execution_count": 132,
     "metadata": {},
     "output_type": "execute_result"
    }
   ],
   "source": [
    "True"
   ]
  },
  {
   "cell_type": "code",
   "execution_count": 133,
   "id": "e838b84e",
   "metadata": {},
   "outputs": [
    {
     "data": {
      "text/plain": [
       "False"
      ]
     },
     "execution_count": 133,
     "metadata": {},
     "output_type": "execute_result"
    }
   ],
   "source": [
    "False"
   ]
  },
  {
   "cell_type": "code",
   "execution_count": 134,
   "id": "92328792",
   "metadata": {},
   "outputs": [
    {
     "data": {
      "text/plain": [
       "bool"
      ]
     },
     "execution_count": 134,
     "metadata": {},
     "output_type": "execute_result"
    }
   ],
   "source": [
    "type(True)"
   ]
  },
  {
   "cell_type": "code",
   "execution_count": 135,
   "id": "8592fbae",
   "metadata": {},
   "outputs": [
    {
     "data": {
      "text/plain": [
       "bool"
      ]
     },
     "execution_count": 135,
     "metadata": {},
     "output_type": "execute_result"
    }
   ],
   "source": [
    "type(False)"
   ]
  },
  {
   "cell_type": "code",
   "execution_count": 136,
   "id": "adc62049",
   "metadata": {},
   "outputs": [
    {
     "data": {
      "text/plain": [
       "True"
      ]
     },
     "execution_count": 136,
     "metadata": {},
     "output_type": "execute_result"
    }
   ],
   "source": [
    "True == True"
   ]
  },
  {
   "cell_type": "code",
   "execution_count": 137,
   "id": "b8061d38",
   "metadata": {},
   "outputs": [
    {
     "data": {
      "text/plain": [
       "False"
      ]
     },
     "execution_count": 137,
     "metadata": {},
     "output_type": "execute_result"
    }
   ],
   "source": [
    "True != True # 다른가? 를 묻는 !="
   ]
  },
  {
   "cell_type": "code",
   "execution_count": 138,
   "id": "bb774a2b",
   "metadata": {},
   "outputs": [
    {
     "data": {
      "text/plain": [
       "True"
      ]
     },
     "execution_count": 138,
     "metadata": {},
     "output_type": "execute_result"
    }
   ],
   "source": [
    "False == False"
   ]
  },
  {
   "cell_type": "code",
   "execution_count": 139,
   "id": "5e6be43e",
   "metadata": {},
   "outputs": [
    {
     "data": {
      "text/plain": [
       "False"
      ]
     },
     "execution_count": 139,
     "metadata": {},
     "output_type": "execute_result"
    }
   ],
   "source": [
    "False != False # "
   ]
  },
  {
   "cell_type": "code",
   "execution_count": 140,
   "id": "33b49145",
   "metadata": {},
   "outputs": [
    {
     "data": {
      "text/plain": [
       "True"
      ]
     },
     "execution_count": 140,
     "metadata": {},
     "output_type": "execute_result"
    }
   ],
   "source": [
    "True>False"
   ]
  },
  {
   "cell_type": "code",
   "execution_count": 141,
   "id": "d12b0bc7",
   "metadata": {},
   "outputs": [
    {
     "data": {
      "text/plain": [
       "True"
      ]
     },
     "execution_count": 141,
     "metadata": {},
     "output_type": "execute_result"
    }
   ],
   "source": [
    "1>0"
   ]
  },
  {
   "cell_type": "code",
   "execution_count": 142,
   "id": "2cb8927f",
   "metadata": {},
   "outputs": [
    {
     "data": {
      "text/plain": [
       "True"
      ]
     },
     "execution_count": 142,
     "metadata": {},
     "output_type": "execute_result"
    }
   ],
   "source": [
    "True == 1"
   ]
  },
  {
   "cell_type": "code",
   "execution_count": 143,
   "id": "0ca4921b",
   "metadata": {},
   "outputs": [
    {
     "data": {
      "text/plain": [
       "True"
      ]
     },
     "execution_count": 143,
     "metadata": {},
     "output_type": "execute_result"
    }
   ],
   "source": [
    "False == 0"
   ]
  },
  {
   "cell_type": "code",
   "execution_count": 144,
   "id": "50152b9f",
   "metadata": {},
   "outputs": [
    {
     "data": {
      "text/plain": [
       "False"
      ]
     },
     "execution_count": 144,
     "metadata": {},
     "output_type": "execute_result"
    }
   ],
   "source": [
    "True ==2   # True 는 2가 아니다."
   ]
  },
  {
   "cell_type": "code",
   "execution_count": 145,
   "id": "deec7ede",
   "metadata": {},
   "outputs": [
    {
     "name": "stdout",
     "output_type": "stream",
     "text": [
      "1\n"
     ]
    }
   ],
   "source": [
    "if 2:   # if는 if 옆이 True일때 실행된다. \n",
    "    print(1)"
   ]
  },
  {
   "cell_type": "code",
   "execution_count": 146,
   "id": "6d18fc05",
   "metadata": {},
   "outputs": [],
   "source": [
    "# 하지만 실행이 되는 이유는 if문 옆이 값이 False가 아닐 때\n",
    "# 실행되는 것이기 때문이다. 위에서 2는 True는 아니지만 False도 아니다."
   ]
  },
  {
   "cell_type": "code",
   "execution_count": 147,
   "id": "052e097a",
   "metadata": {},
   "outputs": [
    {
     "data": {
      "text/plain": [
       "0.0"
      ]
     },
     "execution_count": 147,
     "metadata": {},
     "output_type": "execute_result"
    }
   ],
   "source": [
    "0.0"
   ]
  },
  {
   "cell_type": "code",
   "execution_count": 148,
   "id": "4182bc75",
   "metadata": {},
   "outputs": [
    {
     "data": {
      "text/plain": [
       "True"
      ]
     },
     "execution_count": 148,
     "metadata": {},
     "output_type": "execute_result"
    }
   ],
   "source": [
    "0==0.0"
   ]
  },
  {
   "cell_type": "code",
   "execution_count": 149,
   "id": "6632dfbb",
   "metadata": {},
   "outputs": [
    {
     "data": {
      "text/plain": [
       "True"
      ]
     },
     "execution_count": 149,
     "metadata": {},
     "output_type": "execute_result"
    }
   ],
   "source": [
    "False==0.0"
   ]
  },
  {
   "cell_type": "code",
   "execution_count": 150,
   "id": "d7b03bd3",
   "metadata": {},
   "outputs": [
    {
     "data": {
      "text/plain": [
       "[]"
      ]
     },
     "execution_count": 150,
     "metadata": {},
     "output_type": "execute_result"
    }
   ],
   "source": [
    "[]"
   ]
  },
  {
   "cell_type": "code",
   "execution_count": 151,
   "id": "0a1a42a0",
   "metadata": {},
   "outputs": [
    {
     "data": {
      "text/plain": [
       "False"
      ]
     },
     "execution_count": 151,
     "metadata": {},
     "output_type": "execute_result"
    }
   ],
   "source": [
    "[] == False #위의 비어있는 것은 0을 나타내긴 하지만, False는 아니다."
   ]
  },
  {
   "cell_type": "markdown",
   "id": "ae78bbd6",
   "metadata": {},
   "source": [
    "- False는 0과 0.0 단 두 가지로만 대체할 수 있다."
   ]
  },
  {
   "cell_type": "code",
   "execution_count": 153,
   "id": "284e2ad1",
   "metadata": {},
   "outputs": [
    {
     "name": "stdout",
     "output_type": "stream",
     "text": [
      "1\n"
     ]
    }
   ],
   "source": [
    "if True:\n",
    "    print(1)"
   ]
  },
  {
   "cell_type": "code",
   "execution_count": 154,
   "id": "c225f412",
   "metadata": {},
   "outputs": [],
   "source": [
    "## 위의 코드가 쓰이는 경우 1. 마음 가는대로 쓰다 보니 썼다. 2. 이 부분을 더이상 확인할 필요가 없어졌다.\n",
    "## 이 경우에는 이 줄은 생략하고 지나가면 된다."
   ]
  },
  {
   "cell_type": "code",
   "execution_count": 155,
   "id": "9e86dab6",
   "metadata": {},
   "outputs": [],
   "source": [
    "a= False"
   ]
  },
  {
   "cell_type": "code",
   "execution_count": 156,
   "id": "d0bd4255",
   "metadata": {},
   "outputs": [
    {
     "name": "stdout",
     "output_type": "stream",
     "text": [
      "1\n"
     ]
    }
   ],
   "source": [
    "if not a:\n",
    "    print(1)"
   ]
  },
  {
   "cell_type": "code",
   "execution_count": 157,
   "id": "a80eba54",
   "metadata": {},
   "outputs": [],
   "source": [
    "# 이 상황에 a를 바꾸면?"
   ]
  },
  {
   "cell_type": "code",
   "execution_count": 158,
   "id": "7b3fb359",
   "metadata": {},
   "outputs": [],
   "source": [
    "a= 123"
   ]
  },
  {
   "cell_type": "code",
   "execution_count": 159,
   "id": "cdef4d18",
   "metadata": {},
   "outputs": [],
   "source": [
    "if not a:   # 실행이 되지 않는다.\n",
    "    print(1)"
   ]
  },
  {
   "cell_type": "code",
   "execution_count": 160,
   "id": "af5de8b7",
   "metadata": {},
   "outputs": [],
   "source": [
    "# 이 경우는 두 가지이다. 1. 남을 기분 안좋게 만들고 싶을 때. 2. 하나의 조건이 여러 if문에 작용해야 할 때. 단, 이 때는 반드시 \n",
    "# a의 위치를 주석으로 꼭 표기해 주어야 한다."
   ]
  },
  {
   "cell_type": "markdown",
   "id": "e5aa2a70",
   "metadata": {},
   "source": [
    "## Type ERROR"
   ]
  },
  {
   "cell_type": "code",
   "execution_count": 161,
   "id": "605de631",
   "metadata": {
    "scrolled": true
   },
   "outputs": [
    {
     "ename": "TypeError",
     "evalue": "unsupported operand type(s) for +: 'int' and 'str'",
     "output_type": "error",
     "traceback": [
      "\u001b[1;31m---------------------------------------------------------------------------\u001b[0m",
      "\u001b[1;31mTypeError\u001b[0m                                 Traceback (most recent call last)",
      "\u001b[1;32m~\\AppData\\Local\\Temp\\ipykernel_14888\\4238157745.py\u001b[0m in \u001b[0;36m<module>\u001b[1;34m\u001b[0m\n\u001b[1;32m----> 1\u001b[1;33m \u001b[1;36m1\u001b[0m\u001b[1;33m+\u001b[0m\u001b[1;36m22\u001b[0m\u001b[1;33m+\u001b[0m\u001b[1;34m'ㅁㄴㅇㄹ'\u001b[0m\u001b[1;33m\u001b[0m\u001b[1;33m\u001b[0m\u001b[0m\n\u001b[0m",
      "\u001b[1;31mTypeError\u001b[0m: unsupported operand type(s) for +: 'int' and 'str'"
     ]
    }
   ],
   "source": [
    "1+22+'ㅁㄴㅇㄹ' # 에러가 일어난 위치는 조금만 복잡해져도 틀릴 수 있다. 약간 흘려들을 필요가 있다."
   ]
  },
  {
   "cell_type": "code",
   "execution_count": 162,
   "id": "95e24e94",
   "metadata": {},
   "outputs": [],
   "source": [
    "# 타입 에러는 타입을 틀렸을 때 발생"
   ]
  },
  {
   "cell_type": "code",
   "execution_count": 163,
   "id": "20efad68",
   "metadata": {},
   "outputs": [],
   "source": [
    "a = [1,2,3,57,4]"
   ]
  },
  {
   "cell_type": "code",
   "execution_count": 165,
   "id": "0c03fe36",
   "metadata": {},
   "outputs": [
    {
     "ename": "NameError",
     "evalue": "name 'sort' is not defined",
     "output_type": "error",
     "traceback": [
      "\u001b[1;31m---------------------------------------------------------------------------\u001b[0m",
      "\u001b[1;31mNameError\u001b[0m                                 Traceback (most recent call last)",
      "\u001b[1;32m~\\AppData\\Local\\Temp\\ipykernel_14888\\924151518.py\u001b[0m in \u001b[0;36m<module>\u001b[1;34m\u001b[0m\n\u001b[1;32m----> 1\u001b[1;33m \u001b[0ma\u001b[0m\u001b[1;33m,\u001b[0m\u001b[0msort\u001b[0m\u001b[1;33m(\u001b[0m\u001b[1;33m)\u001b[0m   \u001b[1;31m# 이 경우는 못 잡아내는 경우인데, sort는 이미 정의되어 있지만, sort가 정의되지 않았다고 한다. 그렇다면 함수로 인식을\u001b[0m\u001b[1;33m\u001b[0m\u001b[1;33m\u001b[0m\u001b[0m\n\u001b[0m",
      "\u001b[1;31mNameError\u001b[0m: name 'sort' is not defined"
     ]
    }
   ],
   "source": [
    "a,sort()   # 이 경우는 못 잡아내는 경우인데, sort는 이미 정의되어 있지만, sort가 정의되지 않았다고 한다. 그렇다면 함수로 인식을\n",
    "# 못한다는 의미이다. 에러 메시지를 완전히 신용하지는 말되, 완전히 무시하지도 말도록 한다."
   ]
  },
  {
   "cell_type": "code",
   "execution_count": null,
   "id": "6e66b32d",
   "metadata": {},
   "outputs": [],
   "source": []
  },
  {
   "cell_type": "markdown",
   "id": "6e217009",
   "metadata": {},
   "source": [
    "## 실습 : 변수를 이용한 연산\n",
    "- 변수 세 개를 입력받은 뒤, 해당 세 숫자의 합과 차, 곱을 출력하는 프로그램 만들기"
   ]
  },
  {
   "cell_type": "code",
   "execution_count": 171,
   "id": "d6583e2d",
   "metadata": {},
   "outputs": [
    {
     "name": "stdout",
     "output_type": "stream",
     "text": [
      "첫 번째 숫자 : 5\n",
      "두 번째 숫자 : 8\n",
      "세 번째 숫자 : 77\n",
      "합은 90\n",
      "차는 -80\n",
      "곱은 3080\n"
     ]
    }
   ],
   "source": [
    "a = int(input(\"첫 번째 숫자 : \")) # 너무 옆으로 늘어지지 않게끔 코드를 보이게 만드는 것도 좋다.\n",
    "b = int(input(\"두 번째 숫자 : \"))\n",
    "c = int(input(\"세 번째 숫자 : \"))\n",
    "\n",
    "print(\"합은\",a+b+c)\n",
    "print(\"차는\",a-b-c)\n",
    "print(\"곱은\",a*b*c)"
   ]
  },
  {
   "cell_type": "code",
   "execution_count": null,
   "id": "9570408d",
   "metadata": {},
   "outputs": [],
   "source": []
  },
  {
   "cell_type": "markdown",
   "id": "fc2b69d8",
   "metadata": {},
   "source": [
    "## if를 이용한 조건문"
   ]
  },
  {
   "cell_type": "code",
   "execution_count": 172,
   "id": "56c9a64e",
   "metadata": {},
   "outputs": [
    {
     "name": "stdout",
     "output_type": "stream",
     "text": [
      "22\n",
      "33\n",
      "4\n"
     ]
    }
   ],
   "source": [
    "if 22==22:\n",
    "    print(22)\n",
    "    print(33)\n",
    "print(4)"
   ]
  },
  {
   "cell_type": "code",
   "execution_count": 173,
   "id": "c3feed0b",
   "metadata": {},
   "outputs": [
    {
     "name": "stdout",
     "output_type": "stream",
     "text": [
      "4\n"
     ]
    }
   ],
   "source": [
    "if 22!=22:\n",
    "    print(22)\n",
    "    print(33)\n",
    "print(4)"
   ]
  },
  {
   "cell_type": "code",
   "execution_count": 175,
   "id": "b3926dc8",
   "metadata": {},
   "outputs": [
    {
     "name": "stdout",
     "output_type": "stream",
     "text": [
      "number=234\n"
     ]
    }
   ],
   "source": [
    "x = input(\"number=\")"
   ]
  },
  {
   "cell_type": "code",
   "execution_count": 177,
   "id": "f30a93be",
   "metadata": {},
   "outputs": [
    {
     "name": "stdout",
     "output_type": "stream",
     "text": [
      "ok\n"
     ]
    }
   ],
   "source": [
    "if x == '234':\n",
    "    print(\"ok\")"
   ]
  },
  {
   "cell_type": "markdown",
   "id": "0e4cc1c9",
   "metadata": {},
   "source": [
    "### 실습: if 문을 이용한 코드 만들기\n",
    "- 숫자 하나를 입력받은 뒤, 그 숫자에 50,100,150을 뺀 숫자를 각각 출력하기\n",
    "- 이 때, 숫자 출력마다 줄바꿈이 되어야 한다."
   ]
  },
  {
   "cell_type": "code",
   "execution_count": 184,
   "id": "a7941b0a",
   "metadata": {},
   "outputs": [
    {
     "name": "stdout",
     "output_type": "stream",
     "text": [
      "입력 숫자 : 345\n",
      "295\n",
      "245\n",
      "195\n"
     ]
    }
   ],
   "source": [
    "a = input(\"입력 숫자 : \")\n",
    "\n",
    "if type(a)==str :\n",
    "    a=int(a)\n",
    "    print(a-50)\n",
    "    print(a-100)\n",
    "    print(a-150)\n"
   ]
  },
  {
   "cell_type": "code",
   "execution_count": 185,
   "id": "3fc86dff",
   "metadata": {},
   "outputs": [
    {
     "name": "stdout",
     "output_type": "stream",
     "text": [
      "숫자 하나를 입력하세요.4\n",
      "-46\n",
      "-96\n",
      "-146\n"
     ]
    }
   ],
   "source": [
    "a = int(input(\"숫자 하나를 입력하세요.\"))\n",
    "\n",
    "if -10<a<10:\n",
    "    print(a-50)\n",
    "    print(a-100)\n",
    "    print(a-150)"
   ]
  },
  {
   "cell_type": "code",
   "execution_count": 187,
   "id": "5150208c",
   "metadata": {},
   "outputs": [
    {
     "name": "stdout",
     "output_type": "stream",
     "text": [
      "숫자 하나를 입력하세요.4\n",
      "-46\n",
      "-96\n",
      "-146\n"
     ]
    }
   ],
   "source": [
    "a = int(input(\"숫자 하나를 입력하세요.\"))\n",
    "\n",
    "if -10<a<10:\n",
    "    print(a-50)\n",
    "    print(a-100)\n",
    "    print(a-150)"
   ]
  },
  {
   "cell_type": "markdown",
   "id": "d8241afb",
   "metadata": {},
   "source": [
    "## 실습 : if 문을 이용한 코드 만들기\n",
    "-숫자를 입력받고, 그 숫자의 조건에 따라 다른 안내문을 출력하세요.\n",
    "\n",
    "1. 숫자가 양수인지\n",
    "2. 숫자가 음수인지\n",
    "3. 숫자가 100 초과인지"
   ]
  },
  {
   "cell_type": "code",
   "execution_count": 192,
   "id": "da58adea",
   "metadata": {},
   "outputs": [
    {
     "name": "stdout",
     "output_type": "stream",
     "text": [
      "여기에 숫자 입력 : 49\n",
      "49 은/는 양수입니다.\n"
     ]
    }
   ],
   "source": [
    "a = int(input(\"여기에 숫자 입력 : \"))\n",
    "\n",
    "if 0<a<=100:\n",
    "    print(a,\"은/는 양수입니다.\")\n",
    "    \n",
    "elif a<0:\n",
    "    print(a,\"은/는 음수입니다.\")\n",
    "    \n",
    "elif a==0:\n",
    "    print(a, \"입력한 숫자는 0 입니다.\")\n",
    "    \n",
    "else:\n",
    "    print(a,\"100 초과입니다.\")\n",
    "    "
   ]
  },
  {
   "cell_type": "markdown",
   "id": "03e53626",
   "metadata": {},
   "source": [
    "## 실습\n",
    "- if, elif , else 구문을 모두 사용한 논리를 만들어보기\n",
    "- 나눗셈 프로그램 만들기\n",
    "- 숫자 두 개(x,y)를 받습니다.\n",
    "- x/y가 나누어 떨어질 경우 나누어 떨어진다고 표현합니다.\n",
    "- 나누어 떨어지지 않지만, 몫이 1 이상인 경우 몫을 출력합니다.\n",
    "- 몫이 1 이상이 아닌 경우 나머지를 출력합니다."
   ]
  },
  {
   "cell_type": "code",
   "execution_count": 205,
   "id": "a649e9d4",
   "metadata": {},
   "outputs": [
    {
     "name": "stdout",
     "output_type": "stream",
     "text": [
      "첫 번째 숫자 입력:510\n",
      "두 번째 숫자 입력:840\n",
      "510\n"
     ]
    }
   ],
   "source": [
    "x = int(input(\"첫 번째 숫자 입력:\"))\n",
    "y = int(input(\"두 번째 숫자 입력:\"))\n",
    "\n",
    "\n",
    "if x%y==0:\n",
    "    print(\"나누어 떨어진다.\")\n",
    "elif x//y>=1:\n",
    "    print(x//y)\n",
    "else:\n",
    "    print(x%y)"
   ]
  },
  {
   "cell_type": "markdown",
   "id": "bc487d3a",
   "metadata": {},
   "source": [
    "## type 체크해서 조건문으로 받는 방법"
   ]
  },
  {
   "cell_type": "code",
   "execution_count": 206,
   "id": "23c5084a",
   "metadata": {},
   "outputs": [
    {
     "name": "stdout",
     "output_type": "stream",
     "text": [
      "입력하세요.1\n",
      "문자열입니다.\n"
     ]
    }
   ],
   "source": [
    "x = input(\"입력하세요.\")   # 하이라이팅이 되는 것은 함수나 패키지 등이다.\n",
    "\n",
    "if type(x)==str:\n",
    "    print(\"문자열입니다.\")"
   ]
  },
  {
   "cell_type": "code",
   "execution_count": 208,
   "id": "fc017373",
   "metadata": {},
   "outputs": [
    {
     "name": "stdout",
     "output_type": "stream",
     "text": [
      "입력하세요.6\n"
     ]
    }
   ],
   "source": [
    "# 스트링이면 스트링으로 처리, 스트링이 아니면 스트링으로 변환\n",
    "x = int(input(\"입력하세요.\"))\n",
    "\n",
    "if type(x)==str:\n",
    "    print(\"문자열입니다.\")\n",
    "    \n",
    "else:\n",
    "    x = str(x)"
   ]
  },
  {
   "cell_type": "code",
   "execution_count": 209,
   "id": "fed3fd22",
   "metadata": {},
   "outputs": [
    {
     "data": {
      "text/plain": [
       "'6'"
      ]
     },
     "execution_count": 209,
     "metadata": {},
     "output_type": "execute_result"
    }
   ],
   "source": [
    "x"
   ]
  },
  {
   "cell_type": "code",
   "execution_count": 210,
   "id": "12f513fc",
   "metadata": {},
   "outputs": [
    {
     "data": {
      "text/plain": [
       "99"
      ]
     },
     "execution_count": 210,
     "metadata": {},
     "output_type": "execute_result"
    }
   ],
   "source": [
    "int('99') # 문자열과 int로 감싸면 int로 변환 가능."
   ]
  },
  {
   "cell_type": "code",
   "execution_count": 211,
   "id": "e8589731",
   "metadata": {},
   "outputs": [
    {
     "data": {
      "text/plain": [
       "99.0"
      ]
     },
     "execution_count": 211,
     "metadata": {},
     "output_type": "execute_result"
    }
   ],
   "source": [
    "float(\"99\")"
   ]
  },
  {
   "cell_type": "code",
   "execution_count": 212,
   "id": "478aa221",
   "metadata": {},
   "outputs": [
    {
     "data": {
      "text/plain": [
       "['9', '9']"
      ]
     },
     "execution_count": 212,
     "metadata": {},
     "output_type": "execute_result"
    }
   ],
   "source": [
    "list(\"99\")"
   ]
  },
  {
   "cell_type": "code",
   "execution_count": 213,
   "id": "4feafe25",
   "metadata": {},
   "outputs": [
    {
     "data": {
      "text/plain": [
       "('9', '9')"
      ]
     },
     "execution_count": 213,
     "metadata": {},
     "output_type": "execute_result"
    }
   ],
   "source": [
    "tuple(\"99\")"
   ]
  },
  {
   "cell_type": "code",
   "execution_count": 214,
   "id": "551f2a32",
   "metadata": {},
   "outputs": [
    {
     "ename": "ValueError",
     "evalue": "invalid literal for int() with base 10: '99.0'",
     "output_type": "error",
     "traceback": [
      "\u001b[1;31m---------------------------------------------------------------------------\u001b[0m",
      "\u001b[1;31mValueError\u001b[0m                                Traceback (most recent call last)",
      "\u001b[1;32m~\\AppData\\Local\\Temp\\ipykernel_14888\\3987664853.py\u001b[0m in \u001b[0;36m<module>\u001b[1;34m\u001b[0m\n\u001b[1;32m----> 1\u001b[1;33m \u001b[0mint\u001b[0m\u001b[1;33m(\u001b[0m\u001b[1;34m\"99.0\"\u001b[0m\u001b[1;33m)\u001b[0m\u001b[1;33m\u001b[0m\u001b[1;33m\u001b[0m\u001b[0m\n\u001b[0m",
      "\u001b[1;31mValueError\u001b[0m: invalid literal for int() with base 10: '99.0'"
     ]
    }
   ],
   "source": [
    "int(\"99.0\") # 이 경우는 활용 불가능. 만약 99.0인 문자열을 int 처리 해야 한다면?"
   ]
  },
  {
   "cell_type": "code",
   "execution_count": 215,
   "id": "399e3f2a",
   "metadata": {},
   "outputs": [
    {
     "data": {
      "text/plain": [
       "99"
      ]
     },
     "execution_count": 215,
     "metadata": {},
     "output_type": "execute_result"
    }
   ],
   "source": [
    "int(float(\"99.0\")) # 이와 같이 처리해야 함. 단 이 경우 소수점 아래 자리는 무조건 버린다는 것을 알아야 함."
   ]
  },
  {
   "cell_type": "code",
   "execution_count": 216,
   "id": "573dd98b",
   "metadata": {},
   "outputs": [
    {
     "data": {
      "text/plain": [
       "['[', '9', '9', ',', '8', '8', ']']"
      ]
     },
     "execution_count": 216,
     "metadata": {},
     "output_type": "execute_result"
    }
   ],
   "source": [
    "list(\"[99,88]\")"
   ]
  },
  {
   "cell_type": "code",
   "execution_count": 219,
   "id": "63f4d935",
   "metadata": {},
   "outputs": [
    {
     "data": {
      "text/plain": [
       "99.0"
      ]
     },
     "execution_count": 219,
     "metadata": {},
     "output_type": "execute_result"
    }
   ],
   "source": [
    "float(int(float(\"99.9\"))) # 이미 한번 손실이 일어난 데이터는 어떻게 해도 그대로라는 것을 알아두어야 한다."
   ]
  },
  {
   "cell_type": "markdown",
   "id": "1e2f4e49",
   "metadata": {},
   "source": [
    "## 문자열 나누기, 붙이기"
   ]
  },
  {
   "cell_type": "code",
   "execution_count": 220,
   "id": "d5b46f96",
   "metadata": {},
   "outputs": [],
   "source": [
    "board = 'abcdefghijklmnopqrstuvwxyz'"
   ]
  },
  {
   "cell_type": "code",
   "execution_count": 221,
   "id": "ff5b9fe2",
   "metadata": {},
   "outputs": [
    {
     "data": {
      "text/plain": [
       "'hi'"
      ]
     },
     "execution_count": 221,
     "metadata": {},
     "output_type": "execute_result"
    }
   ],
   "source": [
    "\"hi\""
   ]
  },
  {
   "cell_type": "code",
   "execution_count": 222,
   "id": "8ee52f4d",
   "metadata": {},
   "outputs": [
    {
     "data": {
      "text/plain": [
       "'hi'"
      ]
     },
     "execution_count": 222,
     "metadata": {},
     "output_type": "execute_result"
    }
   ],
   "source": [
    "board[7]+board[8]"
   ]
  },
  {
   "cell_type": "markdown",
   "id": "952f1d04",
   "metadata": {},
   "source": [
    "# 실습: 'hi'를 기준으로 board의 앞뒤를 나눠서 출력해 보자"
   ]
  },
  {
   "cell_type": "code",
   "execution_count": 228,
   "id": "d32aa11e",
   "metadata": {},
   "outputs": [
    {
     "name": "stdout",
     "output_type": "stream",
     "text": [
      "abcdefg jklmnopqrstuvwxyz\n"
     ]
    }
   ],
   "source": [
    "print(board[:7],board[9:]) # 그런데 이 방식은 조금만 길어져도 사용하기 힘들다."
   ]
  },
  {
   "cell_type": "code",
   "execution_count": 231,
   "id": "fa5e29b9",
   "metadata": {},
   "outputs": [
    {
     "name": "stdout",
     "output_type": "stream",
     "text": [
      "abcdefg jklmnopqrstuvwxyz\n"
     ]
    }
   ],
   "source": [
    "print(board.split(\"hi\")[0],board.split(\"hi\")[1]) # 이렇게 하면 위치를 몰라도 됨"
   ]
  },
  {
   "cell_type": "code",
   "execution_count": 232,
   "id": "712cc134",
   "metadata": {},
   "outputs": [],
   "source": [
    "board = 'abcdefghijklmnopqhirstuvwxyz'"
   ]
  },
  {
   "cell_type": "code",
   "execution_count": 233,
   "id": "ed1dd534",
   "metadata": {},
   "outputs": [
    {
     "data": {
      "text/plain": [
       "['abcdefg', 'jklmnopq', 'rstuvwxyz']"
      ]
     },
     "execution_count": 233,
     "metadata": {},
     "output_type": "execute_result"
    }
   ],
   "source": [
    "board.split(\"hi\")"
   ]
  },
  {
   "cell_type": "code",
   "execution_count": 234,
   "id": "d66b3078",
   "metadata": {},
   "outputs": [
    {
     "name": "stdout",
     "output_type": "stream",
     "text": [
      "rstuvwxyz\n"
     ]
    }
   ],
   "source": [
    "print(board.split(\"hi\")[-1])"
   ]
  },
  {
   "cell_type": "code",
   "execution_count": 235,
   "id": "daf71bb4",
   "metadata": {},
   "outputs": [
    {
     "data": {
      "text/plain": [
       "'abcdefghijklmnopqhirstuvwxyz,end'"
      ]
     },
     "execution_count": 235,
     "metadata": {},
     "output_type": "execute_result"
    }
   ],
   "source": [
    "board + ',' + \"end\""
   ]
  },
  {
   "cell_type": "code",
   "execution_count": 237,
   "id": "15eb17fb",
   "metadata": {},
   "outputs": [
    {
     "data": {
      "text/plain": [
       "'abcdefghijklmnopqhirstuvwxyzcccend'"
      ]
     },
     "execution_count": 237,
     "metadata": {},
     "output_type": "execute_result"
    }
   ],
   "source": [
    "\"ccc\".join([board,\"end\"]) # join 함수는 구분자가 주체가 되어 작용함."
   ]
  },
  {
   "cell_type": "markdown",
   "id": "c53d6684",
   "metadata": {},
   "source": [
    "실습: split, join 사용해보기\n",
    "- board = 'abcdefghijklmnopqrstuvwxyz'문자열 이용한다.\n",
    "- board에 있는 i 글자를 A글자로 바꾼다."
   ]
  },
  {
   "cell_type": "code",
   "execution_count": 238,
   "id": "8ea40d8d",
   "metadata": {},
   "outputs": [],
   "source": [
    "board = 'abcdefghijklmnopqrstuvwxyz'"
   ]
  },
  {
   "cell_type": "code",
   "execution_count": 241,
   "id": "d2eb87f6",
   "metadata": {},
   "outputs": [
    {
     "data": {
      "text/plain": [
       "['abcdefgh', 'jklmnopqrstuvwxyz']"
      ]
     },
     "execution_count": 241,
     "metadata": {},
     "output_type": "execute_result"
    }
   ],
   "source": [
    "board.split(\"i\")"
   ]
  },
  {
   "cell_type": "code",
   "execution_count": 242,
   "id": "8d20c9d2",
   "metadata": {},
   "outputs": [
    {
     "data": {
      "text/plain": [
       "'abcdefghAjklmnopqrstuvwxyz'"
      ]
     },
     "execution_count": 242,
     "metadata": {},
     "output_type": "execute_result"
    }
   ],
   "source": [
    "\"A\".join([board.split(\"i\")[0],board.split(\"i\")[1]]) # 이미 split된 값이 리스트"
   ]
  },
  {
   "cell_type": "code",
   "execution_count": 243,
   "id": "b9503da4",
   "metadata": {},
   "outputs": [
    {
     "data": {
      "text/plain": [
       "'abcdefghAjklmnopqrstuvwxyz'"
      ]
     },
     "execution_count": 243,
     "metadata": {},
     "output_type": "execute_result"
    }
   ],
   "source": [
    "\"A\".join(board.split(\"i\"))"
   ]
  },
  {
   "cell_type": "code",
   "execution_count": 244,
   "id": "0e2b59da",
   "metadata": {},
   "outputs": [
    {
     "data": {
      "text/plain": [
       "'abcdefghAjklmnopqrstuvwxyz'"
      ]
     },
     "execution_count": 244,
     "metadata": {},
     "output_type": "execute_result"
    }
   ],
   "source": [
    "# 만약 replace를 사용한다면? 위의 결과와 같게 나온다.\n",
    "board.replace(\"i\",\"A\")"
   ]
  },
  {
   "cell_type": "code",
   "execution_count": 245,
   "id": "3bad4d05",
   "metadata": {},
   "outputs": [
    {
     "data": {
      "text/plain": [
       "'ㅜㅜㅜasdfㅜㅜㅜㅜdfdㅜㅜㅜㅜㅜdㅜdsㅜd'"
      ]
     },
     "execution_count": 245,
     "metadata": {},
     "output_type": "execute_result"
    }
   ],
   "source": [
    "\"iiiasdfiiiidfdiiiiididsid\".replace(\"i\",\"ㅜ\") # 전부 바뀐다. "
   ]
  },
  {
   "cell_type": "code",
   "execution_count": 246,
   "id": "014e8f04",
   "metadata": {},
   "outputs": [
    {
     "data": {
      "text/plain": [
       "'ㅜasdfㅜidfdㅜiididsid'"
      ]
     },
     "execution_count": 246,
     "metadata": {},
     "output_type": "execute_result"
    }
   ],
   "source": [
    "\"iiiasdfiiiidfdiiiiididsid\".replace(\"iii\",\"ㅜ\") # 전일치로 바꿀 수 있다.."
   ]
  },
  {
   "cell_type": "code",
   "execution_count": 247,
   "id": "5c029bcb",
   "metadata": {},
   "outputs": [
    {
     "data": {
      "text/plain": [
       "'ull oou uee'"
      ]
     },
     "execution_count": 247,
     "metadata": {},
     "output_type": "execute_result"
    }
   ],
   "source": [
    "\" ull oou uee \".strip(\" \")"
   ]
  },
  {
   "cell_type": "code",
   "execution_count": 248,
   "id": "24a7776a",
   "metadata": {},
   "outputs": [
    {
     "name": "stdout",
     "output_type": "stream",
     "text": [
      " ull oou uee\t \n"
     ]
    }
   ],
   "source": [
    "print(\" ull oou uee\\t \")"
   ]
  },
  {
   "cell_type": "code",
   "execution_count": 249,
   "id": "ae95937e",
   "metadata": {},
   "outputs": [
    {
     "data": {
      "text/plain": [
       "' ull oou uee\\t 123'"
      ]
     },
     "execution_count": 249,
     "metadata": {},
     "output_type": "execute_result"
    }
   ],
   "source": [
    "\" ull oou uee\\t \".strip(\"\\t\")+\"123\""
   ]
  },
  {
   "cell_type": "markdown",
   "id": "0a7ddfa9",
   "metadata": {},
   "source": [
    "## 실습 : 문자열 처리하기\n",
    "- \"안녕하세요. \\n파이썬 2차시 수업 중입니다\\n\" 문자를 이용할 것\n",
    "- 계행문자를 모두 제거할 것\n",
    "- 띄어쓰기를 모두 무시할 것\n",
    "- 특수문자를 기준으로 나누어 출력할 것."
   ]
  },
  {
   "cell_type": "code",
   "execution_count": 256,
   "id": "d1033805",
   "metadata": {},
   "outputs": [],
   "source": [
    "msg = \"안녕하세요.\\n파이썬 2차시 수업 중입니다\\n\""
   ]
  },
  {
   "cell_type": "code",
   "execution_count": 259,
   "id": "23abda24",
   "metadata": {},
   "outputs": [
    {
     "name": "stdout",
     "output_type": "stream",
     "text": [
      "안녕하세요.\n",
      "파이썬 2차시 수업 중입니다\n",
      "\n"
     ]
    }
   ],
   "source": [
    "print(msg)"
   ]
  },
  {
   "cell_type": "code",
   "execution_count": 269,
   "id": "4a39e6f8",
   "metadata": {},
   "outputs": [
    {
     "data": {
      "text/plain": [
       "'안녕하세요.\\n파이썬 2차시 수업 중입니다'"
      ]
     },
     "execution_count": 269,
     "metadata": {},
     "output_type": "execute_result"
    }
   ],
   "source": [
    "msg.strip(\"\\n\")"
   ]
  },
  {
   "cell_type": "code",
   "execution_count": 262,
   "id": "a90e04a0",
   "metadata": {},
   "outputs": [],
   "source": [
    "msg2 = msg.strip(\"\\n\")"
   ]
  },
  {
   "cell_type": "code",
   "execution_count": 274,
   "id": "2915342e",
   "metadata": {},
   "outputs": [
    {
     "name": "stdout",
     "output_type": "stream",
     "text": [
      "안녕하세요 파이썬2차시수업중입니다\n"
     ]
    }
   ],
   "source": [
    "print(msg2.split(\".\\n\")[0],msg2.split(\".\\n\")[1].replace(\" \", \"\"))"
   ]
  },
  {
   "cell_type": "code",
   "execution_count": null,
   "id": "3b1457c7",
   "metadata": {},
   "outputs": [],
   "source": []
  },
  {
   "cell_type": "code",
   "execution_count": 287,
   "id": "cf295854",
   "metadata": {},
   "outputs": [],
   "source": [
    "msg = \"안녕하세요.\\t파이썬 2차시 수업 중입니다!\\n\""
   ]
  },
  {
   "cell_type": "code",
   "execution_count": 288,
   "id": "b0bf940f",
   "metadata": {},
   "outputs": [],
   "source": [
    "msg = msg.replace(\"\\n\",\"\")"
   ]
  },
  {
   "cell_type": "code",
   "execution_count": 289,
   "id": "273f7114",
   "metadata": {},
   "outputs": [],
   "source": [
    "msg = msg.replace(\"\\t\",\"\")"
   ]
  },
  {
   "cell_type": "code",
   "execution_count": 290,
   "id": "0616b62f",
   "metadata": {},
   "outputs": [],
   "source": [
    "msg = msg.replace(\" \",\"\")"
   ]
  },
  {
   "cell_type": "code",
   "execution_count": 291,
   "id": "78c8e278",
   "metadata": {},
   "outputs": [
    {
     "data": {
      "text/plain": [
       "'안녕하세요.파이썬2차시수업중입니다!'"
      ]
     },
     "execution_count": 291,
     "metadata": {},
     "output_type": "execute_result"
    }
   ],
   "source": [
    "msg"
   ]
  },
  {
   "cell_type": "code",
   "execution_count": 292,
   "id": "c45a3610",
   "metadata": {},
   "outputs": [
    {
     "data": {
      "text/plain": [
       "['안녕하세요', '파이썬2차시수업중입니다!']"
      ]
     },
     "execution_count": 292,
     "metadata": {},
     "output_type": "execute_result"
    }
   ],
   "source": [
    "msg.split(\".\")"
   ]
  },
  {
   "cell_type": "code",
   "execution_count": 293,
   "id": "abd66073",
   "metadata": {},
   "outputs": [
    {
     "name": "stdout",
     "output_type": "stream",
     "text": [
      "안녕하세요\n"
     ]
    }
   ],
   "source": [
    "print(msg.split(\".\")[0])"
   ]
  },
  {
   "cell_type": "code",
   "execution_count": 295,
   "id": "faf96e91",
   "metadata": {},
   "outputs": [
    {
     "data": {
      "text/plain": [
       "['파이썬2차시수업중입니다', '']"
      ]
     },
     "execution_count": 295,
     "metadata": {},
     "output_type": "execute_result"
    }
   ],
   "source": [
    "msg.split(\".\")[1].split(\"!\")"
   ]
  },
  {
   "cell_type": "code",
   "execution_count": 297,
   "id": "44da0b4a",
   "metadata": {},
   "outputs": [
    {
     "name": "stdout",
     "output_type": "stream",
     "text": [
      "안녕하세요\n",
      "파이썬2차시수업중입니다\n",
      "\n"
     ]
    }
   ],
   "source": [
    "print(msg.split(\".\")[0])\n",
    "print(msg.split(\".\")[1].split(\"!\")[0])\n",
    "print(msg.split(\".\")[1].split(\"!\")[1])"
   ]
  },
  {
   "cell_type": "code",
   "execution_count": null,
   "id": "22d9abf1",
   "metadata": {},
   "outputs": [],
   "source": []
  },
  {
   "cell_type": "code",
   "execution_count": null,
   "id": "3ae1484a",
   "metadata": {},
   "outputs": [],
   "source": []
  },
  {
   "cell_type": "markdown",
   "id": "5c1ec33c",
   "metadata": {},
   "source": [
    "## 과제\n",
    "1. 각 자료형에 따라 연산 예제를 만들어보자.\n",
    "2. 오늘 배운 모든 자료형을 이용할 것\n",
    "3.  자료형마다 가능하면 다른 연산을 이용할 것\n",
    "4. 테스트 후, 동작하지 않는 코드는 동작하지 않는 이유를 생각해보자."
   ]
  },
  {
   "cell_type": "code",
   "execution_count": 301,
   "id": "64efbff2",
   "metadata": {},
   "outputs": [
    {
     "name": "stdout",
     "output_type": "stream",
     "text": [
      "2\n"
     ]
    }
   ],
   "source": [
    "print(4-2)  # int"
   ]
  },
  {
   "cell_type": "code",
   "execution_count": 319,
   "id": "35001674",
   "metadata": {},
   "outputs": [
    {
     "name": "stdout",
     "output_type": "stream",
     "text": [
      "1.0\n"
     ]
    }
   ],
   "source": [
    "print(3.5//2.3) # float"
   ]
  },
  {
   "cell_type": "code",
   "execution_count": 303,
   "id": "0a070d6d",
   "metadata": {},
   "outputs": [
    {
     "name": "stdout",
     "output_type": "stream",
     "text": [
      "byebyebye\n"
     ]
    }
   ],
   "source": [
    "print(\"bye\"*3) # str"
   ]
  },
  {
   "cell_type": "code",
   "execution_count": 304,
   "id": "f243c7cc",
   "metadata": {},
   "outputs": [
    {
     "name": "stdout",
     "output_type": "stream",
     "text": [
      "[1, 2, 5, 3, 4, 8]\n"
     ]
    }
   ],
   "source": [
    "print([1,2,5]+[3,4,8]) #list"
   ]
  },
  {
   "cell_type": "code",
   "execution_count": 310,
   "id": "1cb6924d",
   "metadata": {},
   "outputs": [
    {
     "name": "stdout",
     "output_type": "stream",
     "text": [
      "(1, 2, 3, 1, 2, 3, 1, 2, 3)\n"
     ]
    }
   ],
   "source": [
    "print((1,2,3)*3) #tuple"
   ]
  },
  {
   "cell_type": "code",
   "execution_count": 313,
   "id": "013d8e3b",
   "metadata": {},
   "outputs": [],
   "source": [
    "# 서울에 해당하는 도시를 인덱싱해보자. # list\n",
    "city = {\"seoul\":\"gangnam\", \"gyeonggi\":\"gwangju\"}"
   ]
  },
  {
   "cell_type": "code",
   "execution_count": 314,
   "id": "0ed70b13",
   "metadata": {},
   "outputs": [
    {
     "data": {
      "text/plain": [
       "{'seoul': 'gangnam', 'gyeonggi': 'gwangju'}"
      ]
     },
     "execution_count": 314,
     "metadata": {},
     "output_type": "execute_result"
    }
   ],
   "source": [
    "city"
   ]
  },
  {
   "cell_type": "code",
   "execution_count": 315,
   "id": "6c7c6a64",
   "metadata": {},
   "outputs": [
    {
     "data": {
      "text/plain": [
       "'gangnam'"
      ]
     },
     "execution_count": 315,
     "metadata": {},
     "output_type": "execute_result"
    }
   ],
   "source": [
    "city[\"seoul\"]"
   ]
  },
  {
   "cell_type": "code",
   "execution_count": 317,
   "id": "6af4488d",
   "metadata": {},
   "outputs": [
    {
     "data": {
      "text/plain": [
       "True"
      ]
     },
     "execution_count": 317,
     "metadata": {},
     "output_type": "execute_result"
    }
   ],
   "source": [
    "True - True == False # bool"
   ]
  },
  {
   "cell_type": "code",
   "execution_count": 318,
   "id": "7d175c12",
   "metadata": {},
   "outputs": [
    {
     "ename": "TypeError",
     "evalue": "unsupported operand type(s) for +: 'set' and 'set'",
     "output_type": "error",
     "traceback": [
      "\u001b[1;31m---------------------------------------------------------------------------\u001b[0m",
      "\u001b[1;31mTypeError\u001b[0m                                 Traceback (most recent call last)",
      "\u001b[1;32m~\\AppData\\Local\\Temp\\ipykernel_14888\\3748825274.py\u001b[0m in \u001b[0;36m<module>\u001b[1;34m\u001b[0m\n\u001b[1;32m----> 1\u001b[1;33m \u001b[1;33m{\u001b[0m\u001b[1;36m1\u001b[0m\u001b[1;33m,\u001b[0m\u001b[1;36m2\u001b[0m\u001b[1;33m,\u001b[0m\u001b[1;36m3\u001b[0m\u001b[1;33m,\u001b[0m\u001b[1;36m3\u001b[0m\u001b[1;33m,\u001b[0m\u001b[1;36m5\u001b[0m\u001b[1;33m}\u001b[0m\u001b[1;33m+\u001b[0m\u001b[1;33m{\u001b[0m\u001b[1;36m5\u001b[0m\u001b[1;33m,\u001b[0m\u001b[1;36m9\u001b[0m\u001b[1;33m,\u001b[0m\u001b[1;36m7\u001b[0m\u001b[1;33m,\u001b[0m\u001b[1;36m3\u001b[0m\u001b[1;33m,\u001b[0m\u001b[1;36m5\u001b[0m\u001b[1;33m}\u001b[0m\u001b[1;33m\u001b[0m\u001b[1;33m\u001b[0m\u001b[0m\n\u001b[0m",
      "\u001b[1;31mTypeError\u001b[0m: unsupported operand type(s) for +: 'set' and 'set'"
     ]
    }
   ],
   "source": [
    "{1,2,3,3,5}+{5,9,7,3,5} # set는 + 연산 불가.. set은 중복을 삭제 및 정렬시 사용"
   ]
  },
  {
   "cell_type": "code",
   "execution_count": null,
   "id": "632d5992",
   "metadata": {},
   "outputs": [],
   "source": []
  },
  {
   "cell_type": "code",
   "execution_count": null,
   "id": "b4adfa5d",
   "metadata": {},
   "outputs": [],
   "source": []
  },
  {
   "cell_type": "markdown",
   "id": "49d4e5de",
   "metadata": {},
   "source": [
    "## 과제 풀이\n",
    "- 배웠던 자료형 종류별로 가능한 연산 해보기"
   ]
  },
  {
   "cell_type": "code",
   "execution_count": 2,
   "id": "3c373614",
   "metadata": {},
   "outputs": [
    {
     "data": {
      "text/plain": [
       "33"
      ]
     },
     "execution_count": 2,
     "metadata": {},
     "output_type": "execute_result"
    }
   ],
   "source": [
    "# int\n",
    "11*3"
   ]
  },
  {
   "cell_type": "code",
   "execution_count": 3,
   "id": "23a07aab",
   "metadata": {},
   "outputs": [
    {
     "data": {
      "text/plain": [
       "7.0"
      ]
     },
     "execution_count": 3,
     "metadata": {},
     "output_type": "execute_result"
    }
   ],
   "source": [
    "#float\n",
    "66.4//9"
   ]
  },
  {
   "cell_type": "code",
   "execution_count": 4,
   "id": "bca5856d",
   "metadata": {},
   "outputs": [
    {
     "data": {
      "text/plain": [
       "'byebyebye'"
      ]
     },
     "execution_count": 4,
     "metadata": {},
     "output_type": "execute_result"
    }
   ],
   "source": [
    "#str\n",
    "\"bye\" *3"
   ]
  },
  {
   "cell_type": "code",
   "execution_count": 5,
   "id": "0ea8dd5e",
   "metadata": {},
   "outputs": [],
   "source": [
    "#list\n",
    "x= [1,2,3,5]"
   ]
  },
  {
   "cell_type": "code",
   "execution_count": 6,
   "id": "1e77dbc5",
   "metadata": {},
   "outputs": [],
   "source": [
    "x.append(7) # append 는 한번에 한개씩만"
   ]
  },
  {
   "cell_type": "code",
   "execution_count": 7,
   "id": "db186a36",
   "metadata": {},
   "outputs": [
    {
     "data": {
      "text/plain": [
       "[1, 2, 3, 5, 7]"
      ]
     },
     "execution_count": 7,
     "metadata": {},
     "output_type": "execute_result"
    }
   ],
   "source": [
    "x"
   ]
  },
  {
   "cell_type": "code",
   "execution_count": 8,
   "id": "07273a92",
   "metadata": {},
   "outputs": [
    {
     "data": {
      "text/plain": [
       "(4, 5, 6, 7, 8)"
      ]
     },
     "execution_count": 8,
     "metadata": {},
     "output_type": "execute_result"
    }
   ],
   "source": [
    "# tuple\n",
    "(4,5,6)+(7,8)"
   ]
  },
  {
   "cell_type": "code",
   "execution_count": null,
   "id": "c7721673",
   "metadata": {},
   "outputs": [],
   "source": []
  }
 ],
 "metadata": {
  "kernelspec": {
   "display_name": "Python 3 (ipykernel)",
   "language": "python",
   "name": "python3"
  },
  "language_info": {
   "codemirror_mode": {
    "name": "ipython",
    "version": 3
   },
   "file_extension": ".py",
   "mimetype": "text/x-python",
   "name": "python",
   "nbconvert_exporter": "python",
   "pygments_lexer": "ipython3",
   "version": "3.9.13"
  }
 },
 "nbformat": 4,
 "nbformat_minor": 5
}
