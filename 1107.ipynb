{
 "cells": [
  {
   "cell_type": "markdown",
   "id": "85e6bf20",
   "metadata": {},
   "source": [
    "# 반복문 while 알아보기"
   ]
  },
  {
   "cell_type": "markdown",
   "id": "0f019fbb",
   "metadata": {},
   "source": [
    "* while True : 라고 하면 while 오른쪽 조건이 참일 경우 실행한다.\n",
    "* for문은 우측의 범위를 이용하지만, while문은 조건을 이용하게 된다."
   ]
  },
  {
   "cell_type": "markdown",
   "id": "2dfeefd7",
   "metadata": {},
   "source": [
    "### 반복문의 형태 - for\n",
    "* for i in range(1,11):<br>\n",
    "    print(i)"
   ]
  },
  {
   "cell_type": "markdown",
   "id": "106f43bc",
   "metadata": {},
   "source": [
    "### 실습\n",
    "* 반복문 for 와 range를 이용해서\n",
    "* 99-396 범위 사이의 4의 배수만 골라 출력한다. "
   ]
  },
  {
   "cell_type": "code",
   "execution_count": null,
   "id": "b099557e",
   "metadata": {
    "scrolled": true
   },
   "outputs": [],
   "source": [
    "for i in range(99,396+1):\n",
    "    if i % 4 == 0:\n",
    "        print(i)"
   ]
  },
  {
   "cell_type": "markdown",
   "id": "d294b7a4",
   "metadata": {},
   "source": [
    "### 실습 :  while 문\n",
    "* while 문을 이용한 무한반복 실행해보기"
   ]
  },
  {
   "cell_type": "code",
   "execution_count": null,
   "id": "723cb4fd",
   "metadata": {},
   "outputs": [],
   "source": [
    "#  while 1:\n",
    "    #  print(1)  # 이는 무한반복되므로, 정지 버튼을 여러번 누르거나, 커널 리스타트를 해 줘야 한다."
   ]
  },
  {
   "cell_type": "markdown",
   "id": "f65c0317",
   "metadata": {},
   "source": [
    "### 실습 : while 문\n",
    "* [99,66,8,74,'ABC','456'] 리스트에서 하나씩 값을 출력하는 코드를 만들어보자.\n",
    "* 이 때, while 무한반복문을 사용한다.\n",
    "* 에러가 발생할 경우, 원인을 파악한다.\n",
    "* 리스트의 인덱싱을 이용한다.\n",
    "* 리스트 또는 인덱싱 요소에 다른 조치를 취하지 않는다."
   ]
  },
  {
   "cell_type": "code",
   "execution_count": null,
   "id": "c84c8db3",
   "metadata": {},
   "outputs": [],
   "source": [
    "li = [99,66,8,74,'ABC','456']\n",
    "i = 0\n",
    "\n",
    "while True:\n",
    "    print(li[i])\n",
    "    i += 1"
   ]
  },
  {
   "cell_type": "markdown",
   "id": "cc7720a5",
   "metadata": {},
   "source": [
    "* 이렇게 범위초과 에러가 뜨게 된다."
   ]
  },
  {
   "cell_type": "code",
   "execution_count": null,
   "id": "a72d9c50",
   "metadata": {},
   "outputs": [],
   "source": [
    "li = [99,66,8,74,'ABC','456']\n",
    "i = 0\n",
    "\n",
    "while True:\n",
    "    print(li[i])\n",
    "    i += 1\n",
    "    \n",
    "    if i >= len(li):\n",
    "        break"
   ]
  },
  {
   "cell_type": "markdown",
   "id": "076013d1",
   "metadata": {},
   "source": [
    "* 위와 같은 방법으로 끝내 줄 수는 있다."
   ]
  },
  {
   "cell_type": "code",
   "execution_count": null,
   "id": "cbd67b51",
   "metadata": {},
   "outputs": [],
   "source": [
    "li = [99,66,8,74,'ABC','456']\n",
    "\n",
    "while li != []:\n",
    "    print(li.pop(0))"
   ]
  },
  {
   "cell_type": "markdown",
   "id": "0a5ae956",
   "metadata": {},
   "source": [
    "* 위와 같이 pop을 사용하여 indicator 없이도 같은 출력이 가능하다."
   ]
  },
  {
   "cell_type": "code",
   "execution_count": null,
   "id": "151b9fa5",
   "metadata": {},
   "outputs": [],
   "source": [
    "li = [99,66,8,74,'ABC','456']\n",
    "\n",
    "for i in li:\n",
    "    print(i)"
   ]
  },
  {
   "cell_type": "markdown",
   "id": "13b1b7fd",
   "metadata": {},
   "source": [
    "* 당연하게도 이와 같이 for문을 사용해 코딩할 수도 있다. "
   ]
  },
  {
   "cell_type": "markdown",
   "id": "e3cd76f1",
   "metadata": {},
   "source": [
    "---\n",
    "### 실습 : while 문, for 문 상호 변환\n",
    "* 아래 코드를 다른 형태의 루프문으로 변경하시오"
   ]
  },
  {
   "cell_type": "code",
   "execution_count": null,
   "id": "9503bd37",
   "metadata": {},
   "outputs": [],
   "source": [
    "x = '99,25,4,5,6,7,8'\n",
    "\n",
    "for i in ['77','a', x, 66,'hello!']:\n",
    "    if i == x:\n",
    "        print(i)"
   ]
  },
  {
   "cell_type": "code",
   "execution_count": null,
   "id": "5cd39eb5",
   "metadata": {},
   "outputs": [],
   "source": [
    "x = '99,25,4,5,6,7,8'\n",
    "li = ['77','a', x, 66,'hello!']\n",
    "ind = 0\n",
    "\n",
    "while True:\n",
    "    if li[ind] == x:\n",
    "        print(li[ind])\n",
    "    \n",
    "    ind += 1\n",
    "    \n",
    "    if ind >= len(li):\n",
    "        break"
   ]
  },
  {
   "cell_type": "code",
   "execution_count": null,
   "id": "04527658",
   "metadata": {},
   "outputs": [],
   "source": [
    "x = '99,25,4,5,6,7,8'\n",
    "ind = 0\n",
    "\n",
    "while 1:\n",
    "    if ind == 0 or ind == 1:\n",
    "        print(x[ind][-1])\n",
    "        \n",
    "    else:\n",
    "        print(x[ind])\n",
    "        \n",
    "    ind += 1\n",
    "    \n",
    "    if ind == 7:\n",
    "        break"
   ]
  },
  {
   "cell_type": "code",
   "execution_count": null,
   "id": "44d35fb8",
   "metadata": {},
   "outputs": [],
   "source": [
    "x = '99,25,4,5,6,7,8'\n",
    "\n",
    "for i in range(7):\n",
    "    if i == 0 or i == 1:\n",
    "        print(x[i][-1])\n",
    "    \n",
    "    else:\n",
    "        print(x[i])"
   ]
  },
  {
   "cell_type": "markdown",
   "id": "3a945690",
   "metadata": {},
   "source": [
    "* 하지만 이를 굳이 이렇게 쓸 필요가 있는가?\n",
    "* if와 else 의 경우를 나눠 놓을 필요가 없다."
   ]
  },
  {
   "cell_type": "code",
   "execution_count": null,
   "id": "922596c5",
   "metadata": {},
   "outputs": [],
   "source": [
    "x = '99,25,4,5,6,7,8'\n",
    "\n",
    "for i in range(7):\n",
    "    print(x[i])"
   ]
  },
  {
   "cell_type": "code",
   "execution_count": null,
   "id": "4c294fde",
   "metadata": {},
   "outputs": [],
   "source": [
    "'hello,12345'[4] #  인덱싱을 하면 문자'열' 로 나온다. 그러므로, 한 글자도 인덱싱이 가능하다. "
   ]
  },
  {
   "cell_type": "code",
   "execution_count": null,
   "id": "e232223b",
   "metadata": {},
   "outputs": [],
   "source": [
    "'o'[0]"
   ]
  },
  {
   "cell_type": "code",
   "execution_count": null,
   "id": "8673e2e0",
   "metadata": {},
   "outputs": [],
   "source": [
    "'o'[1]"
   ]
  },
  {
   "cell_type": "code",
   "execution_count": null,
   "id": "9907a580",
   "metadata": {},
   "outputs": [],
   "source": [
    "'o'[-1]"
   ]
  },
  {
   "cell_type": "code",
   "execution_count": null,
   "id": "71a8425c",
   "metadata": {},
   "outputs": [],
   "source": [
    "# 코드 쪼개서 실행하기"
   ]
  },
  {
   "cell_type": "code",
   "execution_count": null,
   "id": "13239831",
   "metadata": {},
   "outputs": [],
   "source": [
    "x = '99,25,4,5,6,7,8'\n",
    "ind = 0"
   ]
  },
  {
   "cell_type": "code",
   "execution_count": null,
   "id": "e75bd399",
   "metadata": {},
   "outputs": [],
   "source": [
    "ind2 = 0"
   ]
  },
  {
   "cell_type": "code",
   "execution_count": null,
   "id": "b6b8d6af",
   "metadata": {},
   "outputs": [],
   "source": [
    "# while 문에서 제일 처음 해볼 것은 마지막에 break를 써주는 것이다. \n",
    "\n",
    "while 1:\n",
    "    if ind == 0 or ind == 1:\n",
    "        print(x[ind][-1])\n",
    "        \n",
    "    else:\n",
    "        print(x[ind])\n",
    "        \n",
    "    ind += 1\n",
    "    \n",
    "    if ind == 7:\n",
    "        break\n",
    "    \n",
    "    break"
   ]
  },
  {
   "cell_type": "markdown",
   "id": "2410e3bc",
   "metadata": {},
   "source": [
    "* 이 경우 첫 번째만 실행되고 종료된다."
   ]
  },
  {
   "cell_type": "code",
   "execution_count": null,
   "id": "16667d6e",
   "metadata": {},
   "outputs": [],
   "source": [
    "# indicator 하나를 더 주고 숫자를 하나씩 늘려 간다. 더 이상 출력값에 변화가 없을 때 까지..\n",
    "\n",
    "while 1:\n",
    "    if ind == 0 or ind == 1:\n",
    "        print(x[ind][-1])\n",
    "        \n",
    "    else:\n",
    "        print(x[ind])\n",
    "        \n",
    "    ind += 1\n",
    "    \n",
    "    if ind == 7:\n",
    "        break\n",
    "    \n",
    "    ind2 += 1\n",
    "    print(f'루프 {ind2} 번째')\n",
    "    if ind2 >= 8:\n",
    "        break"
   ]
  },
  {
   "cell_type": "markdown",
   "id": "b0f76836",
   "metadata": {},
   "source": [
    " ---\n",
    " ### 이중루프\n",
    " * for문, while 문은 모두 이중루프 이상이 가능하다."
   ]
  },
  {
   "cell_type": "code",
   "execution_count": null,
   "id": "6b7eb75c",
   "metadata": {},
   "outputs": [],
   "source": [
    "list_ex = []\n",
    "\n",
    "for i in range(10):\n",
    "    for j in range(10):\n",
    "        list_ex.append([1,2,3])\n",
    "        \n",
    "list_ex"
   ]
  },
  {
   "cell_type": "code",
   "execution_count": null,
   "id": "1aa6c7de",
   "metadata": {},
   "outputs": [],
   "source": [
    "list_ex2 = []\n",
    "\n",
    "for i in range(100):\n",
    "    list_ex2.append([1,2,3])"
   ]
  },
  {
   "cell_type": "code",
   "execution_count": null,
   "id": "f6001c1d",
   "metadata": {},
   "outputs": [],
   "source": [
    "list_ex == list_ex2"
   ]
  },
  {
   "cell_type": "markdown",
   "id": "90c70457",
   "metadata": {},
   "source": [
    "* 위와 같이 논리적으로 동일한 코드라면, 루프를 최소한으로 사용하는 것이 좋다. \n",
    "* 위의 사례는 개념적으로 단일루프이다."
   ]
  },
  {
   "cell_type": "code",
   "execution_count": null,
   "id": "79b78543",
   "metadata": {},
   "outputs": [],
   "source": [
    "list_ex3 = []\n",
    "\n",
    "for i in range(10):\n",
    "    list_ex3.append([1])\n",
    "    \n",
    "    for j in range(10):\n",
    "        list_ex3.append([2,3])"
   ]
  },
  {
   "cell_type": "code",
   "execution_count": null,
   "id": "e3fcfd3f",
   "metadata": {},
   "outputs": [],
   "source": [
    "list_ex3"
   ]
  },
  {
   "cell_type": "code",
   "execution_count": null,
   "id": "2de03207",
   "metadata": {},
   "outputs": [],
   "source": [
    "\n",
    "# 이렇게 되면 결국은 이중루프인 것인데.."
   ]
  },
  {
   "cell_type": "code",
   "execution_count": null,
   "id": "6b9296b3",
   "metadata": {},
   "outputs": [],
   "source": []
  },
  {
   "cell_type": "code",
   "execution_count": null,
   "id": "b32bd4da",
   "metadata": {},
   "outputs": [],
   "source": [
    "# 이렇게 했을 때에는 단일루프로 만들어 낼 수 있다!\n",
    "\n",
    "list_ex4 = []\n",
    "\n",
    "for i in range(100):\n",
    "    if i % 10 == 0:\n",
    "        list_ex4.append([1])\n",
    "    \n",
    "    list_ex4.append([2,3])"
   ]
  },
  {
   "cell_type": "code",
   "execution_count": null,
   "id": "5a341b24",
   "metadata": {},
   "outputs": [],
   "source": [
    "list_ex3 == list_ex4"
   ]
  },
  {
   "cell_type": "code",
   "execution_count": null,
   "id": "ae27a6c0",
   "metadata": {},
   "outputs": [],
   "source": []
  },
  {
   "cell_type": "markdown",
   "id": "c4b112c0",
   "metadata": {},
   "source": [
    "---\n",
    "### 이중 루프 (루프 3 개를 이용한)"
   ]
  },
  {
   "cell_type": "code",
   "execution_count": null,
   "id": "f835a813",
   "metadata": {},
   "outputs": [],
   "source": [
    "var1 = 0\n",
    "var2 = []\n",
    "var3 = ''\n",
    "\n",
    "for i in range(10):\n",
    "    var1 += 1\n",
    "    \n",
    "    for j in range(10):\n",
    "        var2.append(var1)\n",
    "        \n",
    "    for k in range(10):\n",
    "        var3 = f'{var2}'"
   ]
  },
  {
   "cell_type": "markdown",
   "id": "a1ddfea8",
   "metadata": {},
   "source": [
    "* 큰 사이클 하나만 생각해 보자.\n",
    "* 일단 var1 에 1이 저장된다.\n",
    "* 그 다음 두번째 for 문에서 [1, 1, 1, 1, 1, 1, 1, 1, 1, 1] 이 저장될 것이다.\n",
    "* 그 다음 세번째 for 문에서 '[1, 1, 1, 1, 1, 1, 1, 1, 1, 1]' 라는 문자열이 저장될 것이다.\n",
    "<br>\n",
    "* 이 것이 다 돌면 그 다음 사이클이 돈다.\n",
    "* var1 에 2가 저장된다.\n",
    "* 두번째 for 문에서 앞에 저장된 것과 덧붙여서 [1, 1, 1, 1, 1, 1, 1, 1, 1, 1, 2, 2, 2, 2, 2, 2, 2, 2, 2, 2] 가 저장될 것이다.\n",
    "* 세 번째 for 문에서 var2 값을 그대로 문자열로 var3에 저장할 것이다. \n",
    "* 이와 같이 큰 사이클이 10 회 진행된다."
   ]
  },
  {
   "cell_type": "code",
   "execution_count": null,
   "id": "c9ac11eb",
   "metadata": {},
   "outputs": [],
   "source": [
    "var1"
   ]
  },
  {
   "cell_type": "code",
   "execution_count": null,
   "id": "c58159fe",
   "metadata": {},
   "outputs": [],
   "source": [
    "var2"
   ]
  },
  {
   "cell_type": "code",
   "execution_count": null,
   "id": "89c5cd91",
   "metadata": {},
   "outputs": [],
   "source": [
    "var3 "
   ]
  },
  {
   "cell_type": "code",
   "execution_count": null,
   "id": "b1d30cdf",
   "metadata": {},
   "outputs": [],
   "source": [
    "var3[0]"
   ]
  },
  {
   "cell_type": "code",
   "execution_count": null,
   "id": "fcbd0dbf",
   "metadata": {},
   "outputs": [],
   "source": [
    "# 확인 작업을 위한 코드\n",
    "\n",
    "var1 = 0\n",
    "var2 = []\n",
    "var3 = ''\n",
    "\n",
    "for i in range(10):\n",
    "    var1 += 1\n",
    "    \n",
    "    for j in range(10):\n",
    "        var2.append(var1)\n",
    "        \n",
    "    for k in range(10):\n",
    "        var3 = f'{var2}'\n",
    "        \n",
    "    if var1 == 3:\n",
    "        break"
   ]
  },
  {
   "cell_type": "code",
   "execution_count": null,
   "id": "4c6dc71d",
   "metadata": {},
   "outputs": [],
   "source": [
    "var1"
   ]
  },
  {
   "cell_type": "code",
   "execution_count": null,
   "id": "92395a47",
   "metadata": {},
   "outputs": [],
   "source": [
    "var2"
   ]
  },
  {
   "cell_type": "code",
   "execution_count": null,
   "id": "63017f91",
   "metadata": {},
   "outputs": [],
   "source": [
    "var3"
   ]
  },
  {
   "cell_type": "code",
   "execution_count": null,
   "id": "a2ff88a7",
   "metadata": {},
   "outputs": [],
   "source": [
    "var3[3] # 콤마 뒤의 공백!"
   ]
  },
  {
   "cell_type": "code",
   "execution_count": null,
   "id": "f23b152d",
   "metadata": {},
   "outputs": [],
   "source": []
  },
  {
   "cell_type": "markdown",
   "id": "3568d43c",
   "metadata": {},
   "source": [
    "### 실습\n",
    "* 이중 루프 만들기\n",
    "* 루프문 5 개를 이용한 이중 루프를 만들자\n",
    "* 단, 루프문 3개는 서로 관련이 있어야 한다. (같은 변수를 공유하거나, 해당 변수의 값을 받아 쓴다거나..)\n",
    "* 어떤 루프문 2 개는 서로 관련이 없어야 한다. (변수 등을 공유하지 않고, 서로의 값이 영향을 끼치지 못함.)\n",
    "* 하나 이상의 루프문은 다른 루프문 하나 이상을 감싼 형태여야 한다. \n",
    "* 두 덩어리의 이중루프가 있어도 무방하다.\n",
    "* 예제의 종류 및 연산방법은 수강생이 정한다."
   ]
  },
  {
   "cell_type": "code",
   "execution_count": null,
   "id": "64acddb1",
   "metadata": {},
   "outputs": [],
   "source": [
    "loop_int = 0\n",
    "loop_li = []\n",
    "loop_str = '루프 종료'\n",
    "\n",
    "for i in range(5):\n",
    "    loop_int += 1\n",
    "    print(loop_int, \"번째 루프입니다.\")\n",
    "    \n",
    "    for j in range(5):\n",
    "        loop_li.append(loop_int)\n",
    "        print(loop_li)\n",
    "        \n",
    "for k in range(3):\n",
    "    print(loop_str)\n",
    "    \n",
    "while loop_int >= 0:\n",
    "    \n",
    "    for n in range(loop_int):\n",
    "        print(loop_int)\n",
    "        \n",
    "    loop_int -= 1\n",
    "        \n",
    "\n",
    "\n",
    "    \n"
   ]
  },
  {
   "cell_type": "raw",
   "id": "289a8bfd",
   "metadata": {},
   "source": [
    "loop_int = 0\n",
    "loop_li = []\n",
    "loop_str = '루프 종료'\n",
    "\n",
    "<아래의 1과 2 과정을 5회 반복한다.>\n",
    "1. loop_int 값에 1을 더한 후 그 값을 'loop_int 번째 루프입니다.' 라고 출력한다. \n",
    "2. 그 다음, loop_int 값을 loop_li에 5 번 반복해 저장하며, 반복 시 마다 출력한다.\n",
    "\n",
    "3. 위의 과정이 모두 끝나면 loop_str 을 3회 반복 출력한다.\n",
    "\n",
    "<loop_int 값이 0이 될 때까지 4와 5의 작업을 반복한다.>\n",
    "4. loop_int 값을 loop_int회 출력한다.\n",
    "5. loop_int 값을 1 뺀다.\n"
   ]
  },
  {
   "cell_type": "markdown",
   "id": "7f4c4fcd",
   "metadata": {},
   "source": [
    "---\n",
    "#### 팀원의 문제를 풀어 보자."
   ]
  },
  {
   "cell_type": "raw",
   "id": "2fb5e961",
   "metadata": {},
   "source": [
    "초기값 변수 B1을 받는다. \n",
    "B2는 비어있는 리스트이다.\n",
    "\n",
    "1. 'B1'+4 회 루프한다\n",
    "2. 'B1'의 제곱값을 'B1'^2회 'B2'리스트에 추가한다. 이는 B1^2회 반복한다.\n",
    "3. 'B2'리스트를 출력한다. 이는 'B1'^2회 반복한다.\n",
    "4. 'B1'+1을 한다. \n",
    "\n",
    "5. 요소 'a', 'b', 'c', 'd', 'e'를 가진 리스트를 루프한다.\n",
    "6. 값을 3회씩 반복출력한다."
   ]
  },
  {
   "cell_type": "code",
   "execution_count": null,
   "id": "d18b49bd",
   "metadata": {
    "scrolled": true
   },
   "outputs": [],
   "source": [
    "B1 = int(input(\"여기에 초기값 입력 : \"))\n",
    "B2 = []\n",
    "\n",
    "for i in range(B1+4):\n",
    "    for j in range(B1**2):\n",
    "        B2.append(B1**2)\n",
    "    for k in range(B1**2):\n",
    "        print(B2)\n",
    "    B1 += 1\n",
    "        \n",
    "for n in ['a','b','c','d','e']:\n",
    "    for m in range(3):\n",
    "        print(n)"
   ]
  },
  {
   "cell_type": "code",
   "execution_count": null,
   "id": "aa31c6d5",
   "metadata": {},
   "outputs": [],
   "source": []
  },
  {
   "cell_type": "code",
   "execution_count": null,
   "id": "2f6f5c8e",
   "metadata": {},
   "outputs": [],
   "source": []
  },
  {
   "cell_type": "markdown",
   "id": "386040f7",
   "metadata": {},
   "source": [
    "---\n",
    "## 과제\n",
    "\n",
    "* 반복문 이용해보기\n",
    "* 숫자 하나를 입력받으면 아래 계산을 하는 프로그램 만들기\n",
    "* 1부터 입력받은 숫자까지의 범위에서\n",
    "* 짝수만 골라 팩토리얼 계산 결과를 출력한다.\n",
    "* 홀수인 경우, 해당 숫자 이하의 모든 범위의 숫자를 더한 값을 출력한다.\n",
    "* 단, 해당 프로그램을 for 문과 while 문을 이용해서 하나씩 만든다.\n",
    "* 이 때, continue 와 break 을 이용해본다. (권장사항)"
   ]
  },
  {
   "cell_type": "code",
   "execution_count": 19,
   "id": "8e564bd2",
   "metadata": {},
   "outputs": [
    {
     "name": "stdout",
     "output_type": "stream",
     "text": [
      "숫자 하나를 입력 : 15\n",
      "1 부터  1 까지 전체합 =  1\n",
      "2 ! = 2\n",
      "1 부터  3 까지 전체합 =  6\n",
      "4 ! = 24\n",
      "1 부터  5 까지 전체합 =  15\n",
      "6 ! = 720\n",
      "1 부터  7 까지 전체합 =  28\n",
      "8 ! = 40320\n",
      "1 부터  9 까지 전체합 =  45\n",
      "10 ! = 3628800\n",
      "1 부터  11 까지 전체합 =  66\n",
      "12 ! = 479001600\n",
      "1 부터  13 까지 전체합 =  91\n",
      "14 ! = 87178291200\n",
      "1 부터  15 까지 전체합 =  120\n"
     ]
    }
   ],
   "source": [
    "input_nm = int(input(\"숫자 하나를 입력 : \"))\n",
    "\n",
    "\n",
    "for num in range(1, input_nm + 1):\n",
    "    if num % 2 == 0:\n",
    "        \n",
    "        facto = 1\n",
    "        for fa in range(1, num + 1):\n",
    "            facto *= fa\n",
    "            \n",
    "        print(num, \"! =\", facto)\n",
    "        \n",
    "    else:\n",
    "        \n",
    "        sum_nm = 0\n",
    "        for s_nm in range(1, num + 1):\n",
    "            sum_nm += s_nm\n",
    "        \n",
    "        print(\"1 부터 \", s_nm, \"까지 전체합 = \", sum_nm)\n",
    "        \n",
    "\n",
    "        "
   ]
  },
  {
   "cell_type": "code",
   "execution_count": 24,
   "id": "178d0947",
   "metadata": {},
   "outputs": [
    {
     "name": "stdout",
     "output_type": "stream",
     "text": [
      "숫자 하나를 입력 : 15\n",
      "1 부터  1 까지 전체합 =  1\n",
      "2 ! =  2\n",
      "1 부터  3 까지 전체합 =  6\n",
      "4 ! =  24\n",
      "1 부터  5 까지 전체합 =  15\n",
      "6 ! =  720\n",
      "1 부터  7 까지 전체합 =  28\n",
      "8 ! =  40320\n",
      "1 부터  9 까지 전체합 =  45\n",
      "10 ! =  3628800\n",
      "1 부터  11 까지 전체합 =  66\n",
      "12 ! =  479001600\n",
      "1 부터  13 까지 전체합 =  91\n",
      "14 ! =  87178291200\n",
      "1 부터  15 까지 전체합 =  120\n"
     ]
    }
   ],
   "source": [
    "input_nm = int(input(\"숫자 하나를 입력 : \"))\n",
    "nm = 1\n",
    "\n",
    "while nm <= input_nm:\n",
    "    if nm % 2 == 0:\n",
    "        \n",
    "        fa = nm\n",
    "        facto = 1\n",
    "        while fa > 0:\n",
    "            facto *= fa\n",
    "            fa -= 1\n",
    "            \n",
    "        print(nm, \"! = \", facto)\n",
    "        \n",
    "    else:\n",
    "        \n",
    "        s_nm = nm\n",
    "        sum_nm = 0\n",
    "        while s_nm > 0:\n",
    "            sum_nm += s_nm\n",
    "            s_nm -= 1\n",
    "        \n",
    "        print(\"1 부터 \", nm, \"까지 전체합 = \", sum_nm)\n",
    "            \n",
    "    nm += 1\n",
    "        "
   ]
  },
  {
   "cell_type": "code",
   "execution_count": null,
   "id": "46965e6b",
   "metadata": {},
   "outputs": [],
   "source": []
  },
  {
   "cell_type": "code",
   "execution_count": null,
   "id": "377db3e4",
   "metadata": {},
   "outputs": [],
   "source": []
  }
 ],
 "metadata": {
  "kernelspec": {
   "display_name": "Python 3 (ipykernel)",
   "language": "python",
   "name": "python3"
  },
  "language_info": {
   "codemirror_mode": {
    "name": "ipython",
    "version": 3
   },
   "file_extension": ".py",
   "mimetype": "text/x-python",
   "name": "python",
   "nbconvert_exporter": "python",
   "pygments_lexer": "ipython3",
   "version": "3.9.13"
  }
 },
 "nbformat": 4,
 "nbformat_minor": 5
}
