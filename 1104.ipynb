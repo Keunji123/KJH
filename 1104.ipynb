{
 "cells": [
  {
   "cell_type": "markdown",
   "id": "e56a3fdb",
   "metadata": {},
   "source": [
    "## 연산\n",
    "* = 왼쪽 변수에 오른쪽 값 할당.\n",
    "* += 왼쪽 변수에 오른쪽 값을 더하고 결과를 왼쪽 변수에 할당  ex) c += a   ==  c = c + a"
   ]
  },
  {
   "cell_type": "raw",
   "id": "dfcd800b",
   "metadata": {},
   "source": [
    "위와 같은 의미로\n",
    "-= \n",
    "*= \n",
    "/= \n",
    "%=(나머지를 왼쪽에 할당) \n",
    "**=(오른쪽 값만큼 제곱하고 할당) \n",
    "//=\n",
    "이와 같이도 쓸 수 있다. "
   ]
  },
  {
   "cell_type": "markdown",
   "id": "febbbafb",
   "metadata": {},
   "source": [
    "## 복습\n",
    "* 연산 복습해보기\n",
    "\n",
    "1. 9988+456\n",
    "2. 9936-880012\n",
    "1. 3^72\n",
    "4. 7/4의 몫과 나머지, 나눗셈 결과값 \n",
    "\n",
    "출력"
   ]
  },
  {
   "cell_type": "code",
   "execution_count": 1,
   "id": "ce4728dd",
   "metadata": {},
   "outputs": [
    {
     "name": "stdout",
     "output_type": "stream",
     "text": [
      "10444\n",
      "-870076\n",
      "22528399544939174411840147874772641\n",
      "1 3 1.75\n"
     ]
    }
   ],
   "source": [
    "print(9988+456)\n",
    "print(9936-880012)\n",
    "print(3**72)\n",
    "print(7//4,7%4,7/4)"
   ]
  },
  {
   "cell_type": "markdown",
   "id": "0d21d5b3",
   "metadata": {},
   "source": [
    "### 실습 : 3,72,99,108,40,5\n",
    "* 다섯 가지 숫자의 짝수, 홀수 여부를 판단할 수 있는 코드 만들어보기\n",
    "* 반복문과 조건문은 사용하지 않아도 됨."
   ]
  },
  {
   "cell_type": "code",
   "execution_count": 3,
   "id": "646c249d",
   "metadata": {},
   "outputs": [
    {
     "name": "stdout",
     "output_type": "stream",
     "text": [
      "3  홀수입니다.\n",
      "72  짝수입니다.\n",
      "99  홀수입니다.\n",
      "108  짝수입니다.\n",
      "40  짝수입니다.\n",
      "5  홀수입니다.\n"
     ]
    }
   ],
   "source": [
    "# 짝수: 2로 나누었을 때, 나머지가 0인 숫자.\n",
    "# 홀수: 2로 나누었을 때, 나머지가 있는 숫자.\n",
    "\n",
    "for i in [3,72,99,108,40,5]:\n",
    "    if i%2 == 0 :\n",
    "        print(i,' 짝수입니다.')\n",
    "    else:\n",
    "        print(i,' 홀수입니다.')"
   ]
  },
  {
   "cell_type": "markdown",
   "id": "42e8415f",
   "metadata": {},
   "source": [
    "## 문자열의 연산"
   ]
  },
  {
   "cell_type": "code",
   "execution_count": 4,
   "id": "30f97103",
   "metadata": {},
   "outputs": [],
   "source": [
    "s= \"안녕하세요.\""
   ]
  },
  {
   "cell_type": "code",
   "execution_count": 5,
   "id": "0a329846",
   "metadata": {},
   "outputs": [
    {
     "data": {
      "text/plain": [
       "'안녕하세요.'"
      ]
     },
     "execution_count": 5,
     "metadata": {},
     "output_type": "execute_result"
    }
   ],
   "source": [
    "s"
   ]
  },
  {
   "cell_type": "code",
   "execution_count": 6,
   "id": "9fe8b35a",
   "metadata": {},
   "outputs": [
    {
     "data": {
      "text/plain": [
       "'세'"
      ]
     },
     "execution_count": 6,
     "metadata": {},
     "output_type": "execute_result"
    }
   ],
   "source": [
    "s[3]"
   ]
  },
  {
   "cell_type": "code",
   "execution_count": 7,
   "id": "76335d7f",
   "metadata": {},
   "outputs": [
    {
     "data": {
      "text/plain": [
       "'녕하세요.'"
      ]
     },
     "execution_count": 7,
     "metadata": {},
     "output_type": "execute_result"
    }
   ],
   "source": [
    "s[1:]"
   ]
  },
  {
   "cell_type": "code",
   "execution_count": 8,
   "id": "16777987",
   "metadata": {},
   "outputs": [
    {
     "data": {
      "text/plain": [
       "'안녕하'"
      ]
     },
     "execution_count": 8,
     "metadata": {},
     "output_type": "execute_result"
    }
   ],
   "source": [
    "s[:3]"
   ]
  },
  {
   "cell_type": "code",
   "execution_count": 9,
   "id": "07afaf91",
   "metadata": {},
   "outputs": [
    {
     "data": {
      "text/plain": [
       "'녕하'"
      ]
     },
     "execution_count": 9,
     "metadata": {},
     "output_type": "execute_result"
    }
   ],
   "source": [
    "s[1:3] # 리턴값의 따옴표를 지우고 싶다면 출력을."
   ]
  },
  {
   "cell_type": "code",
   "execution_count": 10,
   "id": "a04a5e10",
   "metadata": {},
   "outputs": [
    {
     "name": "stdout",
     "output_type": "stream",
     "text": [
      "녕하\n"
     ]
    }
   ],
   "source": [
    "print(s[1:3])"
   ]
  },
  {
   "cell_type": "code",
   "execution_count": 11,
   "id": "a8e6d611",
   "metadata": {},
   "outputs": [
    {
     "name": "stdout",
     "output_type": "stream",
     "text": [
      "1\n",
      "1\n"
     ]
    },
    {
     "ename": "TypeError",
     "evalue": "unsupported operand type(s) for +: 'NoneType' and 'NoneType'",
     "output_type": "error",
     "traceback": [
      "\u001b[1;31m---------------------------------------------------------------------------\u001b[0m",
      "\u001b[1;31mTypeError\u001b[0m                                 Traceback (most recent call last)",
      "\u001b[1;32m~\\AppData\\Local\\Temp\\ipykernel_19164\\2807581921.py\u001b[0m in \u001b[0;36m<module>\u001b[1;34m\u001b[0m\n\u001b[1;32m----> 1\u001b[1;33m \u001b[0mprint\u001b[0m\u001b[1;33m(\u001b[0m\u001b[1;36m1\u001b[0m\u001b[1;33m)\u001b[0m \u001b[1;33m+\u001b[0m \u001b[0mprint\u001b[0m\u001b[1;33m(\u001b[0m\u001b[1;36m1\u001b[0m\u001b[1;33m)\u001b[0m\u001b[1;33m\u001b[0m\u001b[1;33m\u001b[0m\u001b[0m\n\u001b[0m",
      "\u001b[1;31mTypeError\u001b[0m: unsupported operand type(s) for +: 'NoneType' and 'NoneType'"
     ]
    }
   ],
   "source": [
    "print(1) + print(1) # 이것은 연산이 불가능하다. "
   ]
  },
  {
   "cell_type": "code",
   "execution_count": 12,
   "id": "47435263",
   "metadata": {},
   "outputs": [
    {
     "data": {
      "text/plain": [
       "'hellohellohello'"
      ]
     },
     "execution_count": 12,
     "metadata": {},
     "output_type": "execute_result"
    }
   ],
   "source": [
    "'hello' * 3 # 원천적으로 문자와 숫자는 연산이 불가하나, 곱셈의 뜻 자체가 앞의 것의 뒤의 수만큼 반복해 더하라는 것이므로 가능한 것."
   ]
  },
  {
   "cell_type": "code",
   "execution_count": 13,
   "id": "0455b0ef",
   "metadata": {},
   "outputs": [
    {
     "data": {
      "text/plain": [
       "'hellohellohello'"
      ]
     },
     "execution_count": 13,
     "metadata": {},
     "output_type": "execute_result"
    }
   ],
   "source": [
    "3 * 'hello'"
   ]
  },
  {
   "cell_type": "markdown",
   "id": "62a5ee05",
   "metadata": {},
   "source": [
    "---\n",
    "## 리스트의 연산"
   ]
  },
  {
   "cell_type": "code",
   "execution_count": 18,
   "id": "a7c6c6bc",
   "metadata": {},
   "outputs": [],
   "source": [
    "l = [1,2,34,5,677,0,2,'wsk',1+1,[22,0,9]]"
   ]
  },
  {
   "cell_type": "code",
   "execution_count": 19,
   "id": "9b08cdbf",
   "metadata": {},
   "outputs": [
    {
     "data": {
      "text/plain": [
       "[1, 2, 34, 5, 677, 0, 2, 'wsk', 2, [22, 0, 9]]"
      ]
     },
     "execution_count": 19,
     "metadata": {},
     "output_type": "execute_result"
    }
   ],
   "source": [
    "l"
   ]
  },
  {
   "cell_type": "code",
   "execution_count": 20,
   "id": "a0d6469e",
   "metadata": {},
   "outputs": [
    {
     "data": {
      "text/plain": [
       "[22, 0, 9]"
      ]
     },
     "execution_count": 20,
     "metadata": {},
     "output_type": "execute_result"
    }
   ],
   "source": [
    "l[-1]"
   ]
  },
  {
   "cell_type": "code",
   "execution_count": 22,
   "id": "0c38b647",
   "metadata": {},
   "outputs": [
    {
     "data": {
      "text/plain": [
       "22"
      ]
     },
     "execution_count": 22,
     "metadata": {},
     "output_type": "execute_result"
    }
   ],
   "source": [
    "l[-1][0]"
   ]
  },
  {
   "cell_type": "code",
   "execution_count": 23,
   "id": "f9caf8aa",
   "metadata": {},
   "outputs": [],
   "source": [
    "l.append(789)"
   ]
  },
  {
   "cell_type": "code",
   "execution_count": 24,
   "id": "0f20ebce",
   "metadata": {},
   "outputs": [
    {
     "data": {
      "text/plain": [
       "[1, 2, 34, 5, 677, 0, 2, 'wsk', 2, [22, 0, 9], 789]"
      ]
     },
     "execution_count": 24,
     "metadata": {},
     "output_type": "execute_result"
    }
   ],
   "source": [
    "l"
   ]
  },
  {
   "cell_type": "code",
   "execution_count": 30,
   "id": "3adeff35",
   "metadata": {},
   "outputs": [],
   "source": [
    "l2 = ['월', '화', '수', '목', '금', '토', '일']"
   ]
  },
  {
   "cell_type": "code",
   "execution_count": 33,
   "id": "38fcf767",
   "metadata": {},
   "outputs": [
    {
     "data": {
      "text/plain": [
       "'일'"
      ]
     },
     "execution_count": 33,
     "metadata": {},
     "output_type": "execute_result"
    }
   ],
   "source": [
    "l2.pop() # 가장 마지막것부터 튀어나온다. 이미 나간 것은 리스트에서 사라진다. 괄호에 숫자 넣으면 그 위치 것이 튀어나간다."
   ]
  },
  {
   "cell_type": "code",
   "execution_count": 34,
   "id": "919b13f6",
   "metadata": {},
   "outputs": [
    {
     "data": {
      "text/plain": [
       "['화', '수', '목', '금', '토']"
      ]
     },
     "execution_count": 34,
     "metadata": {},
     "output_type": "execute_result"
    }
   ],
   "source": [
    "l2"
   ]
  },
  {
   "cell_type": "markdown",
   "id": "a571cc13",
   "metadata": {},
   "source": [
    "## 실습\n",
    "* 리스트의 연산을 통해 아래 리스트를 만들어봅시다.\n",
    "* 시작할 리스트: [4]\n",
    "* 최종 리스트: [99,4,8,7,2,[6],'hello']\n",
    "* 추가 조건 : 위아래 리스트의 4는 서로 같은 값이다. 삭제 후 추가, 또는 변경이 불가능하다.\n",
    "* 추가 조건 2: 시작할 리스트 이외의 모든 리스트 사용을 금한다. "
   ]
  },
  {
   "cell_type": "code",
   "execution_count": 35,
   "id": "fc5f5ddf",
   "metadata": {},
   "outputs": [],
   "source": [
    "l = [4]"
   ]
  },
  {
   "cell_type": "code",
   "execution_count": 36,
   "id": "8ee5f052",
   "metadata": {},
   "outputs": [],
   "source": [
    "l.append(8)"
   ]
  },
  {
   "cell_type": "code",
   "execution_count": 37,
   "id": "f4316199",
   "metadata": {},
   "outputs": [],
   "source": [
    "l.append(7)"
   ]
  },
  {
   "cell_type": "code",
   "execution_count": 38,
   "id": "a13fe72c",
   "metadata": {},
   "outputs": [],
   "source": [
    "l.append(2)"
   ]
  },
  {
   "cell_type": "code",
   "execution_count": 39,
   "id": "b2165f9e",
   "metadata": {},
   "outputs": [],
   "source": [
    "l.append([6])"
   ]
  },
  {
   "cell_type": "code",
   "execution_count": 40,
   "id": "2f0dfb05",
   "metadata": {},
   "outputs": [],
   "source": [
    "l.append('hello')"
   ]
  },
  {
   "cell_type": "code",
   "execution_count": 41,
   "id": "7f1529ec",
   "metadata": {},
   "outputs": [],
   "source": [
    "l.insert(0, 99)"
   ]
  },
  {
   "cell_type": "code",
   "execution_count": 42,
   "id": "57294c21",
   "metadata": {},
   "outputs": [
    {
     "data": {
      "text/plain": [
       "[99, 4, 8, 7, 2, [6], 'hello']"
      ]
     },
     "execution_count": 42,
     "metadata": {},
     "output_type": "execute_result"
    }
   ],
   "source": [
    "l"
   ]
  },
  {
   "cell_type": "code",
   "execution_count": null,
   "id": "cfdefb9e",
   "metadata": {},
   "outputs": [],
   "source": []
  },
  {
   "cell_type": "code",
   "execution_count": null,
   "id": "5f3f896a",
   "metadata": {},
   "outputs": [],
   "source": []
  },
  {
   "cell_type": "code",
   "execution_count": 43,
   "id": "7a3d55b4",
   "metadata": {},
   "outputs": [],
   "source": [
    "l2=[4]"
   ]
  },
  {
   "cell_type": "code",
   "execution_count": 44,
   "id": "2d16608c",
   "metadata": {},
   "outputs": [],
   "source": [
    "x = l2.pop()"
   ]
  },
  {
   "cell_type": "code",
   "execution_count": 45,
   "id": "b0d03d66",
   "metadata": {},
   "outputs": [],
   "source": [
    "l2.append(99)"
   ]
  },
  {
   "cell_type": "code",
   "execution_count": 46,
   "id": "88361d0b",
   "metadata": {},
   "outputs": [],
   "source": [
    "l2.append(x)"
   ]
  },
  {
   "cell_type": "code",
   "execution_count": 47,
   "id": "b0b2e4ea",
   "metadata": {},
   "outputs": [],
   "source": [
    "l2.append(8)"
   ]
  },
  {
   "cell_type": "code",
   "execution_count": 48,
   "id": "6eaf5dd4",
   "metadata": {},
   "outputs": [],
   "source": [
    "l2.append(7)"
   ]
  },
  {
   "cell_type": "code",
   "execution_count": 49,
   "id": "c2cdb7fc",
   "metadata": {},
   "outputs": [],
   "source": [
    "l2.append(2)"
   ]
  },
  {
   "cell_type": "code",
   "execution_count": 50,
   "id": "9bc4bfc9",
   "metadata": {},
   "outputs": [],
   "source": [
    "l2.append([6])"
   ]
  },
  {
   "cell_type": "code",
   "execution_count": 51,
   "id": "6af8b91f",
   "metadata": {},
   "outputs": [],
   "source": [
    "l2.append('hello')"
   ]
  },
  {
   "cell_type": "code",
   "execution_count": 52,
   "id": "5e34113c",
   "metadata": {},
   "outputs": [
    {
     "data": {
      "text/plain": [
       "[99, 4, 8, 7, 2, [6], 'hello']"
      ]
     },
     "execution_count": 52,
     "metadata": {},
     "output_type": "execute_result"
    }
   ],
   "source": [
    "l2"
   ]
  },
  {
   "cell_type": "code",
   "execution_count": null,
   "id": "d2bcd26b",
   "metadata": {},
   "outputs": [],
   "source": []
  },
  {
   "cell_type": "code",
   "execution_count": 53,
   "id": "77fd799e",
   "metadata": {},
   "outputs": [],
   "source": [
    "# push - pop 의 관계  : 파이썬에서는 push 함수가 append에 통합되었다."
   ]
  },
  {
   "cell_type": "markdown",
   "id": "62443bd1",
   "metadata": {},
   "source": [
    "---\n",
    "## 딕셔너리 알아보기"
   ]
  },
  {
   "cell_type": "code",
   "execution_count": 54,
   "id": "fb4a913c",
   "metadata": {},
   "outputs": [],
   "source": [
    "dic = {'hello':123, 'world':456}"
   ]
  },
  {
   "cell_type": "code",
   "execution_count": 55,
   "id": "b79af634",
   "metadata": {},
   "outputs": [
    {
     "data": {
      "text/plain": [
       "{'hello': 123, 'world': 456}"
      ]
     },
     "execution_count": 55,
     "metadata": {},
     "output_type": "execute_result"
    }
   ],
   "source": [
    "dic"
   ]
  },
  {
   "cell_type": "code",
   "execution_count": 56,
   "id": "d4fa2b6f",
   "metadata": {},
   "outputs": [
    {
     "data": {
      "text/plain": [
       "456"
      ]
     },
     "execution_count": 56,
     "metadata": {},
     "output_type": "execute_result"
    }
   ],
   "source": [
    "dic['world']"
   ]
  },
  {
   "cell_type": "code",
   "execution_count": 57,
   "id": "06b658ce",
   "metadata": {},
   "outputs": [
    {
     "ename": "TypeError",
     "evalue": "unsupported operand type(s) for +=: 'dict' and 'dict'",
     "output_type": "error",
     "traceback": [
      "\u001b[1;31m---------------------------------------------------------------------------\u001b[0m",
      "\u001b[1;31mTypeError\u001b[0m                                 Traceback (most recent call last)",
      "\u001b[1;32m~\\AppData\\Local\\Temp\\ipykernel_19164\\1686582982.py\u001b[0m in \u001b[0;36m<module>\u001b[1;34m\u001b[0m\n\u001b[1;32m----> 1\u001b[1;33m \u001b[0mdic\u001b[0m \u001b[1;33m+=\u001b[0m \u001b[1;33m{\u001b[0m\u001b[1;34m'wow'\u001b[0m\u001b[1;33m:\u001b[0m\u001b[1;36m555\u001b[0m\u001b[1;33m}\u001b[0m\u001b[1;33m\u001b[0m\u001b[1;33m\u001b[0m\u001b[0m\n\u001b[0m",
      "\u001b[1;31mTypeError\u001b[0m: unsupported operand type(s) for +=: 'dict' and 'dict'"
     ]
    }
   ],
   "source": [
    "dic += {'wow':555}  "
   ]
  },
  {
   "cell_type": "markdown",
   "id": "afa7e911",
   "metadata": {},
   "source": [
    "* 리스트와 같은 경우에는 앞의 마지막 자리 +1번 자리에 다음 리스트 첫번째를 붙이지만, 딕셔너리는 키 번호가 없으므로 불가."
   ]
  },
  {
   "cell_type": "code",
   "execution_count": 58,
   "id": "f1a59ba4",
   "metadata": {},
   "outputs": [],
   "source": [
    "dic['wow']=555"
   ]
  },
  {
   "cell_type": "code",
   "execution_count": 59,
   "id": "052fbe70",
   "metadata": {},
   "outputs": [
    {
     "data": {
      "text/plain": [
       "{'hello': 123, 'world': 456, 'wow': 555}"
      ]
     },
     "execution_count": 59,
     "metadata": {},
     "output_type": "execute_result"
    }
   ],
   "source": [
    "dic"
   ]
  },
  {
   "cell_type": "code",
   "execution_count": 60,
   "id": "53ef4832",
   "metadata": {},
   "outputs": [
    {
     "data": {
      "text/plain": [
       "[99, 4, 8, 7, 2, [6], 'hello']"
      ]
     },
     "execution_count": 60,
     "metadata": {},
     "output_type": "execute_result"
    }
   ],
   "source": [
    "l"
   ]
  },
  {
   "cell_type": "code",
   "execution_count": 61,
   "id": "a3a84b07",
   "metadata": {},
   "outputs": [
    {
     "ename": "IndexError",
     "evalue": "list assignment index out of range",
     "output_type": "error",
     "traceback": [
      "\u001b[1;31m---------------------------------------------------------------------------\u001b[0m",
      "\u001b[1;31mIndexError\u001b[0m                                Traceback (most recent call last)",
      "\u001b[1;32m~\\AppData\\Local\\Temp\\ipykernel_19164\\2173641364.py\u001b[0m in \u001b[0;36m<module>\u001b[1;34m\u001b[0m\n\u001b[1;32m----> 1\u001b[1;33m \u001b[0ml\u001b[0m\u001b[1;33m[\u001b[0m\u001b[1;36m7\u001b[0m\u001b[1;33m]\u001b[0m \u001b[1;33m=\u001b[0m\u001b[1;36m99\u001b[0m\u001b[1;33m\u001b[0m\u001b[1;33m\u001b[0m\u001b[0m\n\u001b[0m",
      "\u001b[1;31mIndexError\u001b[0m: list assignment index out of range"
     ]
    }
   ],
   "source": [
    "l[7] =99"
   ]
  },
  {
   "cell_type": "markdown",
   "id": "173858a0",
   "metadata": {},
   "source": [
    "### 튜플"
   ]
  },
  {
   "cell_type": "code",
   "execution_count": 62,
   "id": "e7c244d4",
   "metadata": {},
   "outputs": [],
   "source": [
    "t = (9,5,3,40,99,'wi')"
   ]
  },
  {
   "cell_type": "code",
   "execution_count": 63,
   "id": "0afcc026",
   "metadata": {},
   "outputs": [
    {
     "data": {
      "text/plain": [
       "(9, 5, 3, 40, 99, 'wi')"
      ]
     },
     "execution_count": 63,
     "metadata": {},
     "output_type": "execute_result"
    }
   ],
   "source": [
    "t"
   ]
  },
  {
   "cell_type": "code",
   "execution_count": 64,
   "id": "22f3ead2",
   "metadata": {},
   "outputs": [
    {
     "data": {
      "text/plain": [
       "99"
      ]
     },
     "execution_count": 64,
     "metadata": {},
     "output_type": "execute_result"
    }
   ],
   "source": [
    "t[4]"
   ]
  },
  {
   "cell_type": "code",
   "execution_count": 65,
   "id": "5be523a4",
   "metadata": {},
   "outputs": [
    {
     "data": {
      "text/plain": [
       "(40, 99, 'wi')"
      ]
     },
     "execution_count": 65,
     "metadata": {},
     "output_type": "execute_result"
    }
   ],
   "source": [
    "t[3:]"
   ]
  },
  {
   "cell_type": "markdown",
   "id": "8a0df427",
   "metadata": {},
   "source": [
    "---\n",
    "## 실습 : 튜플 계산 시도해보기\n",
    "* 튜플 (4,9,[77],0.32,'qi') 하나를 이용해 연산해보자.\n",
    "* 튜플의 2번 자리에 있는 값에 9 더하기\n",
    "* 튜플의 3번 자리에 있는 값에 7 곱하기\n",
    "* 튜플의 0번 자리에 있는 값을 65.45로 바꾸기\n",
    "* 가능하다면 해보고, 불가능하다면 이유를 알아보기 "
   ]
  },
  {
   "cell_type": "code",
   "execution_count": 67,
   "id": "7dadb406",
   "metadata": {},
   "outputs": [],
   "source": [
    "tu=(4,9,[77],0.32,'qi')"
   ]
  },
  {
   "cell_type": "code",
   "execution_count": 69,
   "id": "3c8cb0bb",
   "metadata": {},
   "outputs": [
    {
     "ename": "TypeError",
     "evalue": "can only concatenate list (not \"int\") to list",
     "output_type": "error",
     "traceback": [
      "\u001b[1;31m---------------------------------------------------------------------------\u001b[0m",
      "\u001b[1;31mTypeError\u001b[0m                                 Traceback (most recent call last)",
      "\u001b[1;32m~\\AppData\\Local\\Temp\\ipykernel_19164\\226104184.py\u001b[0m in \u001b[0;36m<module>\u001b[1;34m\u001b[0m\n\u001b[1;32m----> 1\u001b[1;33m \u001b[0mtu\u001b[0m\u001b[1;33m[\u001b[0m\u001b[1;36m2\u001b[0m\u001b[1;33m]\u001b[0m\u001b[1;33m+\u001b[0m\u001b[1;36m9\u001b[0m\u001b[1;33m\u001b[0m\u001b[1;33m\u001b[0m\u001b[0m\n\u001b[0m",
      "\u001b[1;31mTypeError\u001b[0m: can only concatenate list (not \"int\") to list"
     ]
    }
   ],
   "source": [
    "tu[2]+9"
   ]
  },
  {
   "cell_type": "code",
   "execution_count": 70,
   "id": "f0eb2ea3",
   "metadata": {},
   "outputs": [
    {
     "data": {
      "text/plain": [
       "86"
      ]
     },
     "execution_count": 70,
     "metadata": {},
     "output_type": "execute_result"
    }
   ],
   "source": [
    "tu[2][0]+9\n"
   ]
  },
  {
   "cell_type": "code",
   "execution_count": 72,
   "id": "b59bc417",
   "metadata": {},
   "outputs": [],
   "source": [
    "tu[2][0]=tu[2][0]+9 "
   ]
  },
  {
   "cell_type": "code",
   "execution_count": 73,
   "id": "a8887357",
   "metadata": {},
   "outputs": [
    {
     "data": {
      "text/plain": [
       "(4, 9, [86], 0.32, 'qi')"
      ]
     },
     "execution_count": 73,
     "metadata": {},
     "output_type": "execute_result"
    }
   ],
   "source": [
    "tu #2번 자리에 있는 값에 9를 더했다."
   ]
  },
  {
   "cell_type": "code",
   "execution_count": 74,
   "id": "daca13ea",
   "metadata": {},
   "outputs": [
    {
     "data": {
      "text/plain": [
       "0.32"
      ]
     },
     "execution_count": 74,
     "metadata": {},
     "output_type": "execute_result"
    }
   ],
   "source": [
    "tu[3]"
   ]
  },
  {
   "cell_type": "code",
   "execution_count": 75,
   "id": "0e78a39b",
   "metadata": {},
   "outputs": [
    {
     "data": {
      "text/plain": [
       "2.24"
      ]
     },
     "execution_count": 75,
     "metadata": {},
     "output_type": "execute_result"
    }
   ],
   "source": [
    "tu[3]*7"
   ]
  },
  {
   "cell_type": "code",
   "execution_count": 76,
   "id": "96cbbcd3",
   "metadata": {},
   "outputs": [
    {
     "ename": "TypeError",
     "evalue": "'tuple' object does not support item assignment",
     "output_type": "error",
     "traceback": [
      "\u001b[1;31m---------------------------------------------------------------------------\u001b[0m",
      "\u001b[1;31mTypeError\u001b[0m                                 Traceback (most recent call last)",
      "\u001b[1;32m~\\AppData\\Local\\Temp\\ipykernel_19164\\1473817772.py\u001b[0m in \u001b[0;36m<module>\u001b[1;34m\u001b[0m\n\u001b[1;32m----> 1\u001b[1;33m \u001b[0mtu\u001b[0m\u001b[1;33m[\u001b[0m\u001b[1;36m3\u001b[0m\u001b[1;33m]\u001b[0m\u001b[1;33m*=\u001b[0m\u001b[1;36m7\u001b[0m\u001b[1;33m\u001b[0m\u001b[1;33m\u001b[0m\u001b[0m\n\u001b[0m",
      "\u001b[1;31mTypeError\u001b[0m: 'tuple' object does not support item assignment"
     ]
    }
   ],
   "source": [
    "tu[3]*=7 "
   ]
  },
  {
   "cell_type": "code",
   "execution_count": 77,
   "id": "18f4d71b",
   "metadata": {},
   "outputs": [
    {
     "ename": "TypeError",
     "evalue": "'tuple' object does not support item assignment",
     "output_type": "error",
     "traceback": [
      "\u001b[1;31m---------------------------------------------------------------------------\u001b[0m",
      "\u001b[1;31mTypeError\u001b[0m                                 Traceback (most recent call last)",
      "\u001b[1;32m~\\AppData\\Local\\Temp\\ipykernel_19164\\161424219.py\u001b[0m in \u001b[0;36m<module>\u001b[1;34m\u001b[0m\n\u001b[1;32m----> 1\u001b[1;33m \u001b[0mtu\u001b[0m\u001b[1;33m[\u001b[0m\u001b[1;36m3\u001b[0m\u001b[1;33m]\u001b[0m \u001b[1;33m=\u001b[0m \u001b[0mtu\u001b[0m\u001b[1;33m[\u001b[0m\u001b[1;36m3\u001b[0m\u001b[1;33m]\u001b[0m \u001b[1;33m*\u001b[0m\u001b[1;36m7\u001b[0m\u001b[1;33m\u001b[0m\u001b[1;33m\u001b[0m\u001b[0m\n\u001b[0m",
      "\u001b[1;31mTypeError\u001b[0m: 'tuple' object does not support item assignment"
     ]
    }
   ],
   "source": [
    "tu[3] = tu[3] *7"
   ]
  },
  {
   "cell_type": "code",
   "execution_count": 78,
   "id": "4f344b2a",
   "metadata": {},
   "outputs": [
    {
     "ename": "TypeError",
     "evalue": "'float' object is not iterable",
     "output_type": "error",
     "traceback": [
      "\u001b[1;31m---------------------------------------------------------------------------\u001b[0m",
      "\u001b[1;31mTypeError\u001b[0m                                 Traceback (most recent call last)",
      "\u001b[1;32m~\\AppData\\Local\\Temp\\ipykernel_19164\\2750750118.py\u001b[0m in \u001b[0;36m<module>\u001b[1;34m\u001b[0m\n\u001b[1;32m----> 1\u001b[1;33m \u001b[0mlist\u001b[0m\u001b[1;33m(\u001b[0m\u001b[0mtu\u001b[0m\u001b[1;33m[\u001b[0m\u001b[1;36m3\u001b[0m\u001b[1;33m]\u001b[0m\u001b[1;33m)\u001b[0m\u001b[1;33m\u001b[0m\u001b[1;33m\u001b[0m\u001b[0m\n\u001b[0m",
      "\u001b[1;31mTypeError\u001b[0m: 'float' object is not iterable"
     ]
    }
   ],
   "source": [
    "list(tu[3])"
   ]
  },
  {
   "cell_type": "code",
   "execution_count": 79,
   "id": "ec7e1174",
   "metadata": {},
   "outputs": [
    {
     "data": {
      "text/plain": [
       "[4, 9, [86], 0.32, 'qi']"
      ]
     },
     "execution_count": 79,
     "metadata": {},
     "output_type": "execute_result"
    }
   ],
   "source": [
    "list(tu)"
   ]
  },
  {
   "cell_type": "code",
   "execution_count": 81,
   "id": "70b0b40f",
   "metadata": {},
   "outputs": [],
   "source": [
    "tu=list(tu)"
   ]
  },
  {
   "cell_type": "code",
   "execution_count": 82,
   "id": "ef843453",
   "metadata": {},
   "outputs": [],
   "source": [
    "tu[3]*=7"
   ]
  },
  {
   "cell_type": "code",
   "execution_count": 83,
   "id": "d6e96af5",
   "metadata": {},
   "outputs": [
    {
     "data": {
      "text/plain": [
       "[4, 9, [86], 2.24, 'qi']"
      ]
     },
     "execution_count": 83,
     "metadata": {},
     "output_type": "execute_result"
    }
   ],
   "source": [
    "tu"
   ]
  },
  {
   "cell_type": "code",
   "execution_count": 84,
   "id": "cc74e6e0",
   "metadata": {},
   "outputs": [
    {
     "data": {
      "text/plain": [
       "(4, 9, [86], 2.24, 'qi')"
      ]
     },
     "execution_count": 84,
     "metadata": {},
     "output_type": "execute_result"
    }
   ],
   "source": [
    "tuple(tu)"
   ]
  },
  {
   "cell_type": "code",
   "execution_count": 85,
   "id": "efaac6f1",
   "metadata": {},
   "outputs": [],
   "source": [
    "tu = tuple(tu)"
   ]
  },
  {
   "cell_type": "code",
   "execution_count": 86,
   "id": "a0428567",
   "metadata": {},
   "outputs": [
    {
     "data": {
      "text/plain": [
       "(4, 9, [86], 2.24, 'qi')"
      ]
     },
     "execution_count": 86,
     "metadata": {},
     "output_type": "execute_result"
    }
   ],
   "source": [
    "tu"
   ]
  },
  {
   "cell_type": "code",
   "execution_count": 87,
   "id": "bdec52df",
   "metadata": {},
   "outputs": [
    {
     "ename": "AttributeError",
     "evalue": "'tuple' object has no attribute 'pop'",
     "output_type": "error",
     "traceback": [
      "\u001b[1;31m---------------------------------------------------------------------------\u001b[0m",
      "\u001b[1;31mAttributeError\u001b[0m                            Traceback (most recent call last)",
      "\u001b[1;32m~\\AppData\\Local\\Temp\\ipykernel_19164\\3153315390.py\u001b[0m in \u001b[0;36m<module>\u001b[1;34m\u001b[0m\n\u001b[1;32m----> 1\u001b[1;33m \u001b[0mtu\u001b[0m\u001b[1;33m.\u001b[0m\u001b[0mpop\u001b[0m\u001b[1;33m(\u001b[0m\u001b[1;36m1\u001b[0m\u001b[1;33m)\u001b[0m\u001b[1;33m\u001b[0m\u001b[1;33m\u001b[0m\u001b[0m\n\u001b[0m",
      "\u001b[1;31mAttributeError\u001b[0m: 'tuple' object has no attribute 'pop'"
     ]
    }
   ],
   "source": [
    "tu.pop(1)"
   ]
  },
  {
   "cell_type": "code",
   "execution_count": null,
   "id": "279bbbe4",
   "metadata": {},
   "outputs": [],
   "source": []
  },
  {
   "cell_type": "markdown",
   "id": "5c781cee",
   "metadata": {},
   "source": [
    "---\n",
    "## 2차원 리스트"
   ]
  },
  {
   "cell_type": "code",
   "execution_count": 88,
   "id": "05f078c9",
   "metadata": {},
   "outputs": [],
   "source": [
    "l2= [[1,2,3],[4,5,6],[7,8,9]]"
   ]
  },
  {
   "cell_type": "code",
   "execution_count": 89,
   "id": "b7231b4f",
   "metadata": {},
   "outputs": [
    {
     "data": {
      "text/plain": [
       "[[1, 2, 3], [4, 5, 6], [7, 8, 9]]"
      ]
     },
     "execution_count": 89,
     "metadata": {},
     "output_type": "execute_result"
    }
   ],
   "source": [
    "l2"
   ]
  },
  {
   "cell_type": "code",
   "execution_count": 90,
   "id": "79ba4925",
   "metadata": {},
   "outputs": [
    {
     "name": "stdout",
     "output_type": "stream",
     "text": [
      "[1, 2, 3]\n",
      "[4, 5, 6]\n",
      "[7, 8, 9]\n"
     ]
    }
   ],
   "source": [
    "for i in l2:\n",
    "    print(i)"
   ]
  },
  {
   "cell_type": "code",
   "execution_count": 91,
   "id": "edb5c224",
   "metadata": {},
   "outputs": [
    {
     "name": "stdout",
     "output_type": "stream",
     "text": [
      "1 2 3\n",
      "4 5 6\n",
      "7 8 9\n"
     ]
    }
   ],
   "source": [
    "for i,j,k in l2:\n",
    "    print(i,j,k)"
   ]
  },
  {
   "cell_type": "code",
   "execution_count": 92,
   "id": "7f30508e",
   "metadata": {},
   "outputs": [
    {
     "data": {
      "text/plain": [
       "[4, 5, 6]"
      ]
     },
     "execution_count": 92,
     "metadata": {},
     "output_type": "execute_result"
    }
   ],
   "source": [
    "l2[1]"
   ]
  },
  {
   "cell_type": "code",
   "execution_count": 93,
   "id": "f8bc57d9",
   "metadata": {},
   "outputs": [
    {
     "data": {
      "text/plain": [
       "6"
      ]
     },
     "execution_count": 93,
     "metadata": {},
     "output_type": "execute_result"
    }
   ],
   "source": [
    "l2[1][2]"
   ]
  },
  {
   "cell_type": "markdown",
   "id": "fbc7900d",
   "metadata": {},
   "source": [
    "---\n",
    "## 실습: 2차원 리스트 이해하기\n",
    "* 가로세로 8* 8 크기의 2차원 리스트를 만든다.\n",
    "* (6,2) 위치에 X라는 문자를 넣고,\n",
    "* (0,0) 위치에 P라는 문자를 넣고,\n",
    "* (7,7) 위치에 F라는 문자를 넣는다.\n",
    "* 남는 공간은 O 라는 문자를 넣는다."
   ]
  },
  {
   "cell_type": "code",
   "execution_count": 116,
   "id": "6bdfc5a1",
   "metadata": {},
   "outputs": [],
   "source": [
    "l3 = [['O','O','O','O','O','O','O','O'],\n",
    "      ['O','O','O','O','O','O','O','O'],\n",
    "     ['O','O','O','O','O','O','O','O'],\n",
    "     ['O','O','O','O','O','O','O','O'],\n",
    "     ['O','O','O','O','O','O','O','O'],\n",
    "     ['O','O','O','O','O','O','O','O'],\n",
    "     ['O','O','O','O','O','O','O','O'],\n",
    "     ['O','O','O','O','O','O','O','O'],]"
   ]
  },
  {
   "cell_type": "code",
   "execution_count": 117,
   "id": "6fdec507",
   "metadata": {},
   "outputs": [],
   "source": [
    "l3[2][6] = 'X'"
   ]
  },
  {
   "cell_type": "code",
   "execution_count": 118,
   "id": "286023d5",
   "metadata": {},
   "outputs": [],
   "source": [
    "l3[0][0] = 'P'"
   ]
  },
  {
   "cell_type": "code",
   "execution_count": 119,
   "id": "31760fb7",
   "metadata": {},
   "outputs": [],
   "source": [
    "l3[7][7] = 'F'"
   ]
  },
  {
   "cell_type": "code",
   "execution_count": 125,
   "id": "904d9ee0",
   "metadata": {},
   "outputs": [
    {
     "data": {
      "text/plain": [
       "[['P', 'O', 'O', 'O', 'O', 'S', 'O', 'O'],\n",
       " ['O', 'O', 'O', 'O', 'O', 'O', 'O', 'O'],\n",
       " ['O', 'O', 'O', 'O', 'O', 'O', 'X', 'O'],\n",
       " ['O', 'O', 'O', 'O', 'O', 'O', 'O', 'O'],\n",
       " ['O', 'O', 'O', 'O', 'O', 'O', 'O', 'O'],\n",
       " ['O', 'O', 'O', 'O', 'O', 'O', 'O', 'O'],\n",
       " ['O', 'O', 'O', 'O', 'O', 'O', 'O', 'O'],\n",
       " ['O', 'O', 'O', 'O', 'O', 'O', 'O', 'F']]"
      ]
     },
     "execution_count": 125,
     "metadata": {},
     "output_type": "execute_result"
    }
   ],
   "source": [
    "l3   # 아무래도 l3[y위치][x위치] 이런 식으로 되는 것 같다. "
   ]
  },
  {
   "cell_type": "code",
   "execution_count": 126,
   "id": "6ddaefd7",
   "metadata": {},
   "outputs": [
    {
     "name": "stdout",
     "output_type": "stream",
     "text": [
      "['P', 'O', 'O', 'O', 'O', 'S', 'O', 'O']\n",
      "['O', 'O', 'O', 'O', 'O', 'O', 'O', 'O']\n",
      "['O', 'O', 'O', 'O', 'O', 'O', 'X', 'O']\n",
      "['O', 'O', 'O', 'O', 'O', 'O', 'O', 'O']\n",
      "['O', 'O', 'O', 'O', 'O', 'O', 'O', 'O']\n",
      "['O', 'O', 'O', 'O', 'O', 'O', 'O', 'O']\n",
      "['O', 'O', 'O', 'O', 'O', 'O', 'O', 'O']\n",
      "['O', 'O', 'O', 'O', 'O', 'O', 'O', 'F']\n"
     ]
    }
   ],
   "source": [
    "for i in l3:\n",
    "    print(i)"
   ]
  },
  {
   "cell_type": "code",
   "execution_count": null,
   "id": "d3021bfe",
   "metadata": {},
   "outputs": [],
   "source": []
  },
  {
   "cell_type": "markdown",
   "id": "2ec09669",
   "metadata": {},
   "source": [
    "## 실습 : 2차원 좌표 이해하기\n",
    "* l3 리스트에서 다음과 같이 수정하기\n",
    "* (7,1) 좌표에서 Y방향으로 1만큼 위로 X방향으로 2만큼 왼쪽으로 이동한 지점의 값을 S로 바꾼다.\n",
    "* 단, 값 변경은 인덱싱을 이용한다."
   ]
  },
  {
   "cell_type": "code",
   "execution_count": 122,
   "id": "1d3afc7b",
   "metadata": {},
   "outputs": [
    {
     "data": {
      "text/plain": [
       "[['P', 'O', 'O', 'O', 'O', 'O', 'O', 'O'],\n",
       " ['O', 'O', 'O', 'O', 'O', 'O', 'O', 'O'],\n",
       " ['O', 'O', 'O', 'O', 'O', 'O', 'X', 'O'],\n",
       " ['O', 'O', 'O', 'O', 'O', 'O', 'O', 'O'],\n",
       " ['O', 'O', 'O', 'O', 'O', 'O', 'O', 'O'],\n",
       " ['O', 'O', 'O', 'O', 'O', 'O', 'O', 'O'],\n",
       " ['O', 'O', 'O', 'O', 'O', 'O', 'O', 'O'],\n",
       " ['O', 'O', 'O', 'O', 'O', 'O', 'O', 'F']]"
      ]
     },
     "execution_count": 122,
     "metadata": {},
     "output_type": "execute_result"
    }
   ],
   "source": [
    "l3"
   ]
  },
  {
   "cell_type": "code",
   "execution_count": 123,
   "id": "f3726c5a",
   "metadata": {},
   "outputs": [],
   "source": [
    "l3[0][5] = 'S'"
   ]
  },
  {
   "cell_type": "code",
   "execution_count": 124,
   "id": "e8e37634",
   "metadata": {},
   "outputs": [
    {
     "data": {
      "text/plain": [
       "[['P', 'O', 'O', 'O', 'O', 'S', 'O', 'O'],\n",
       " ['O', 'O', 'O', 'O', 'O', 'O', 'O', 'O'],\n",
       " ['O', 'O', 'O', 'O', 'O', 'O', 'X', 'O'],\n",
       " ['O', 'O', 'O', 'O', 'O', 'O', 'O', 'O'],\n",
       " ['O', 'O', 'O', 'O', 'O', 'O', 'O', 'O'],\n",
       " ['O', 'O', 'O', 'O', 'O', 'O', 'O', 'O'],\n",
       " ['O', 'O', 'O', 'O', 'O', 'O', 'O', 'O'],\n",
       " ['O', 'O', 'O', 'O', 'O', 'O', 'O', 'F']]"
      ]
     },
     "execution_count": 124,
     "metadata": {},
     "output_type": "execute_result"
    }
   ],
   "source": [
    "l3"
   ]
  },
  {
   "cell_type": "code",
   "execution_count": 127,
   "id": "2257a267",
   "metadata": {},
   "outputs": [
    {
     "data": {
      "text/plain": [
       "'X'"
      ]
     },
     "execution_count": 127,
     "metadata": {},
     "output_type": "execute_result"
    }
   ],
   "source": [
    "l3[2][6]"
   ]
  },
  {
   "cell_type": "code",
   "execution_count": 128,
   "id": "b54e8c4b",
   "metadata": {},
   "outputs": [
    {
     "data": {
      "text/plain": [
       "'F'"
      ]
     },
     "execution_count": 128,
     "metadata": {},
     "output_type": "execute_result"
    }
   ],
   "source": [
    "l3[7][7]"
   ]
  },
  {
   "cell_type": "code",
   "execution_count": 129,
   "id": "e493ccbc",
   "metadata": {},
   "outputs": [
    {
     "ename": "IndexError",
     "evalue": "list index out of range",
     "output_type": "error",
     "traceback": [
      "\u001b[1;31m---------------------------------------------------------------------------\u001b[0m",
      "\u001b[1;31mIndexError\u001b[0m                                Traceback (most recent call last)",
      "\u001b[1;32m~\\AppData\\Local\\Temp\\ipykernel_19164\\1530541866.py\u001b[0m in \u001b[0;36m<module>\u001b[1;34m\u001b[0m\n\u001b[1;32m----> 1\u001b[1;33m \u001b[1;33m[\u001b[0m\u001b[1;36m1\u001b[0m\u001b[1;33m,\u001b[0m\u001b[1;36m2\u001b[0m\u001b[1;33m,\u001b[0m\u001b[1;36m3\u001b[0m\u001b[1;33m]\u001b[0m\u001b[1;33m[\u001b[0m\u001b[1;36m15\u001b[0m\u001b[1;33m]\u001b[0m\u001b[1;33m\u001b[0m\u001b[1;33m\u001b[0m\u001b[0m\n\u001b[0m",
      "\u001b[1;31mIndexError\u001b[0m: list index out of range"
     ]
    }
   ],
   "source": [
    "[1,2,3][15] # 이와 같은 것이 out of range."
   ]
  },
  {
   "cell_type": "code",
   "execution_count": 131,
   "id": "e405fc59",
   "metadata": {
    "scrolled": true
   },
   "outputs": [
    {
     "ename": "IndexError",
     "evalue": "list assignment index out of range",
     "output_type": "error",
     "traceback": [
      "\u001b[1;31m---------------------------------------------------------------------------\u001b[0m",
      "\u001b[1;31mIndexError\u001b[0m                                Traceback (most recent call last)",
      "\u001b[1;32m~\\AppData\\Local\\Temp\\ipykernel_19164\\4041489947.py\u001b[0m in \u001b[0;36m<module>\u001b[1;34m\u001b[0m\n\u001b[1;32m----> 1\u001b[1;33m \u001b[1;33m[\u001b[0m\u001b[1;36m1\u001b[0m\u001b[1;33m,\u001b[0m\u001b[1;36m2\u001b[0m\u001b[1;33m,\u001b[0m\u001b[1;36m3\u001b[0m\u001b[1;33m]\u001b[0m\u001b[1;33m[\u001b[0m\u001b[1;36m3\u001b[0m\u001b[1;33m]\u001b[0m \u001b[1;33m=\u001b[0m \u001b[1;36m7\u001b[0m  \u001b[1;31m# 이렇게 들어갈 수 없는 곳에 값을 무리하게 집어넣는 것을 오버플로라고 한다.\u001b[0m\u001b[1;33m\u001b[0m\u001b[1;33m\u001b[0m\u001b[0m\n\u001b[0m",
      "\u001b[1;31mIndexError\u001b[0m: list assignment index out of range"
     ]
    }
   ],
   "source": [
    "[1,2,3][3] = 7  # 이렇게 들어갈 수 없는 곳에 값을 무리하게 집어넣는 것을 오버플로라고 한다."
   ]
  },
  {
   "cell_type": "code",
   "execution_count": 132,
   "id": "84daea4a",
   "metadata": {},
   "outputs": [
    {
     "name": "stdout",
     "output_type": "stream",
     "text": [
      "['P', 'O', 'O', 'O', 'O', 'S', 'O', 'O']\n",
      "['O', 'O', 'O', 'O', 'O', 'O', 'O', 'O']\n",
      "['O', 'O', 'O', 'O', 'O', 'O', 'X', 'O']\n",
      "['O', 'O', 'O', 'O', 'O', 'O', 'O', 'O']\n",
      "['O', 'O', 'O', 'O', 'O', 'O', 'O', 'O']\n",
      "['O', 'O', 'O', 'O', 'O', 'O', 'O', 'O']\n",
      "['O', 'O', 'O', 'O', 'O', 'O', 'O', 'O']\n",
      "['O', 'O', 'O', 'O', 'O', 'O', 'O', 'F']\n"
     ]
    }
   ],
   "source": [
    "for i in l3:\n",
    "    print(i)"
   ]
  },
  {
   "cell_type": "code",
   "execution_count": 133,
   "id": "102e3c60",
   "metadata": {},
   "outputs": [
    {
     "data": {
      "text/plain": [
       "3"
      ]
     },
     "execution_count": 133,
     "metadata": {},
     "output_type": "execute_result"
    }
   ],
   "source": [
    "len([4,6,8])"
   ]
  },
  {
   "cell_type": "markdown",
   "id": "5c096a3b",
   "metadata": {},
   "source": [
    "## 실습 : 리스트 크기 알아보기\n",
    "* 위 2차원 리스트에서, 전체 크기의 1/2 지점이 되는 x좌표, 전체 크기 - 1 지점이 되는 y 좌표의 값을 'A'로 변경하라"
   ]
  },
  {
   "cell_type": "code",
   "execution_count": 138,
   "id": "76c131ed",
   "metadata": {},
   "outputs": [
    {
     "data": {
      "text/plain": [
       "8"
      ]
     },
     "execution_count": 138,
     "metadata": {},
     "output_type": "execute_result"
    }
   ],
   "source": [
    "len(l3) # l3의 크기는 8, 이는 y 축 길이가 된다."
   ]
  },
  {
   "cell_type": "code",
   "execution_count": 144,
   "id": "7e104812",
   "metadata": {},
   "outputs": [
    {
     "data": {
      "text/plain": [
       "8"
      ]
     },
     "execution_count": 144,
     "metadata": {},
     "output_type": "execute_result"
    }
   ],
   "source": [
    "len(l3[0]) # 이렇게 하면 x 축 길이가 나오게 된다. "
   ]
  },
  {
   "cell_type": "code",
   "execution_count": 135,
   "id": "03fc5aff",
   "metadata": {},
   "outputs": [],
   "source": [
    "# 전체 크기인 8의 1/2 지점이 되는 x는 4\n",
    "# 전체 크기인 8의 -1 지점이 되는 y는 7"
   ]
  },
  {
   "cell_type": "code",
   "execution_count": 136,
   "id": "112836d8",
   "metadata": {},
   "outputs": [],
   "source": [
    "l3[7][4] = 'A'"
   ]
  },
  {
   "cell_type": "code",
   "execution_count": 147,
   "id": "03c68ce7",
   "metadata": {},
   "outputs": [
    {
     "data": {
      "text/plain": [
       "[['P', 'O', 'O', 'O', 'O', 'S', 'O', 'O'],\n",
       " ['O', 'O', 'O', 'O', 'O', 'O', 'O', 'O'],\n",
       " ['O', 'O', 'O', 'O', 'O', 'O', 'X', 'O'],\n",
       " ['O', 'O', 'O', 'O', 'O', 'O', 'O', 'O'],\n",
       " ['O', 'O', 'O', 'O', 'O', 'O', 'O', 'O'],\n",
       " ['O', 'O', 'O', 'O', 'O', 'O', 'O', 'O'],\n",
       " ['O', 'O', 'O', 'O', 'O', 'O', 'O', 'O'],\n",
       " ['O', 'O', 'O', 'O', 'A', 'O', 'O', 'F']]"
      ]
     },
     "execution_count": 147,
     "metadata": {},
     "output_type": "execute_result"
    }
   ],
   "source": [
    "l3"
   ]
  },
  {
   "cell_type": "code",
   "execution_count": 151,
   "id": "a38d712e",
   "metadata": {
    "scrolled": true
   },
   "outputs": [
    {
     "data": {
      "text/plain": [
       "4.0"
      ]
     },
     "execution_count": 151,
     "metadata": {},
     "output_type": "execute_result"
    }
   ],
   "source": [
    "len(l3)/2 # 이 수를 그대로 인덱싱에 사용하려고 하니 안된다. float 값을 int로 넣어보자."
   ]
  },
  {
   "cell_type": "code",
   "execution_count": 152,
   "id": "0f0680f9",
   "metadata": {},
   "outputs": [
    {
     "data": {
      "text/plain": [
       "'A'"
      ]
     },
     "execution_count": 152,
     "metadata": {},
     "output_type": "execute_result"
    }
   ],
   "source": [
    "l3[int(len(l3)-1)][int(len(l3[0])/2)]"
   ]
  },
  {
   "cell_type": "markdown",
   "id": "a58dddad",
   "metadata": {},
   "source": [
    "---\n",
    "## 반복문(for)"
   ]
  },
  {
   "cell_type": "code",
   "execution_count": 154,
   "id": "00d499d5",
   "metadata": {},
   "outputs": [
    {
     "data": {
      "text/plain": [
       "range(0, 10)"
      ]
     },
     "execution_count": 154,
     "metadata": {},
     "output_type": "execute_result"
    }
   ],
   "source": [
    "range(0,10)"
   ]
  },
  {
   "cell_type": "code",
   "execution_count": 156,
   "id": "d64af58b",
   "metadata": {},
   "outputs": [
    {
     "data": {
      "text/plain": [
       "[0, 1, 2, 3, 4, 5, 6, 7, 8, 9]"
      ]
     },
     "execution_count": 156,
     "metadata": {},
     "output_type": "execute_result"
    }
   ],
   "source": [
    "list(range(0,10)) # 0 부터 세어서 10개의 숫자를 하나씩 표현한다는 것."
   ]
  },
  {
   "cell_type": "code",
   "execution_count": 157,
   "id": "95e14406",
   "metadata": {},
   "outputs": [
    {
     "data": {
      "text/plain": [
       "[0, 2, 4, 6, 8]"
      ]
     },
     "execution_count": 157,
     "metadata": {},
     "output_type": "execute_result"
    }
   ],
   "source": [
    "list(range(0,10,2))"
   ]
  },
  {
   "cell_type": "code",
   "execution_count": 160,
   "id": "83ae6f8c",
   "metadata": {},
   "outputs": [
    {
     "data": {
      "text/plain": [
       "[10, 9, 8, 7, 6, 5, 4, 3, 2, 1]"
      ]
     },
     "execution_count": 160,
     "metadata": {},
     "output_type": "execute_result"
    }
   ],
   "source": [
    "list(range(10,0,-1))  # 레인지는 스텝값만 마이너스로 주면 내려가도록 만들 수 있다. "
   ]
  },
  {
   "cell_type": "code",
   "execution_count": 161,
   "id": "1d4b3970",
   "metadata": {},
   "outputs": [
    {
     "ename": "TypeError",
     "evalue": "'float' object cannot be interpreted as an integer",
     "output_type": "error",
     "traceback": [
      "\u001b[1;31m---------------------------------------------------------------------------\u001b[0m",
      "\u001b[1;31mTypeError\u001b[0m                                 Traceback (most recent call last)",
      "\u001b[1;32m~\\AppData\\Local\\Temp\\ipykernel_19164\\893034061.py\u001b[0m in \u001b[0;36m<module>\u001b[1;34m\u001b[0m\n\u001b[1;32m----> 1\u001b[1;33m \u001b[0mlist\u001b[0m\u001b[1;33m(\u001b[0m\u001b[0mrange\u001b[0m\u001b[1;33m(\u001b[0m\u001b[1;36m10\u001b[0m\u001b[1;33m,\u001b[0m\u001b[1;36m0\u001b[0m\u001b[1;33m,\u001b[0m\u001b[1;36m2.1\u001b[0m\u001b[1;33m)\u001b[0m\u001b[1;33m)\u001b[0m\u001b[1;33m\u001b[0m\u001b[1;33m\u001b[0m\u001b[0m\n\u001b[0m",
      "\u001b[1;31mTypeError\u001b[0m: 'float' object cannot be interpreted as an integer"
     ]
    }
   ],
   "source": [
    "list(range(10,0,2.1)) # 스텝값은 정수 값만을 받는다. 만약 소수로 올라가게 하고 싶다면 10이나 100을 곱한 후 처리하고 나눠주면 된다."
   ]
  },
  {
   "cell_type": "code",
   "execution_count": 163,
   "id": "d52c599b",
   "metadata": {},
   "outputs": [
    {
     "data": {
      "text/plain": [
       "'1.3000000000000000444'"
      ]
     },
     "execution_count": 163,
     "metadata": {},
     "output_type": "execute_result"
    }
   ],
   "source": [
    "# 왜 안되는것인가?\n",
    "'%.19f' %(1.3)"
   ]
  },
  {
   "cell_type": "code",
   "execution_count": 164,
   "id": "f5496685",
   "metadata": {},
   "outputs": [],
   "source": [
    "# 고정소수점, 부동소수점"
   ]
  },
  {
   "cell_type": "raw",
   "id": "0d28bb05",
   "metadata": {},
   "source": [
    "고정소수점 = 0.10000000000000000000000..\n",
    "부동소수점 = 0.10000000000000000000023.."
   ]
  },
  {
   "cell_type": "code",
   "execution_count": 166,
   "id": "d10b3fef",
   "metadata": {},
   "outputs": [],
   "source": [
    "# cpu는 고정소수점 연산을 잘 해낼 수 있지만, 다른 쪽에서는 부동소수점을 쓰는 경우가 많다.\n",
    "# 파이썬도 연산능력이 상대적으로 떨어져 부동소수점을 쓴다. \n",
    "# 부동소수점같은 경우에는 오차가 조금 생기게 되는데, 이를 스텝을 주게 되어버리면 오차가 겉잡을 수 없이 커지기 때문에 지원하지 않음"
   ]
  },
  {
   "cell_type": "code",
   "execution_count": null,
   "id": "a87ecb8b",
   "metadata": {},
   "outputs": [],
   "source": []
  },
  {
   "cell_type": "code",
   "execution_count": 169,
   "id": "f1dbab9f",
   "metadata": {},
   "outputs": [],
   "source": [
    "x=[1,9,55,963,'hello','49.7268']"
   ]
  },
  {
   "cell_type": "code",
   "execution_count": 170,
   "id": "72aacea1",
   "metadata": {},
   "outputs": [
    {
     "data": {
      "text/plain": [
       "[1, 9, 55, 963, 'hello', '49.7268']"
      ]
     },
     "execution_count": 170,
     "metadata": {},
     "output_type": "execute_result"
    }
   ],
   "source": [
    "x"
   ]
  },
  {
   "cell_type": "code",
   "execution_count": 172,
   "id": "f9f0582c",
   "metadata": {},
   "outputs": [
    {
     "data": {
      "text/plain": [
       "True"
      ]
     },
     "execution_count": 172,
     "metadata": {},
     "output_type": "execute_result"
    }
   ],
   "source": [
    "'hello' in x   # A in B 이면 A 라는 값이 B 라는 리스트 안에 있는지 여부에 따라 T F 로 나타내준다."
   ]
  },
  {
   "cell_type": "code",
   "execution_count": 174,
   "id": "96519fc5",
   "metadata": {},
   "outputs": [
    {
     "data": {
      "text/plain": [
       "False"
      ]
     },
     "execution_count": 174,
     "metadata": {},
     "output_type": "execute_result"
    }
   ],
   "source": [
    "'49' in x    # 부분적으로는 지원되지 않는다."
   ]
  },
  {
   "cell_type": "code",
   "execution_count": 178,
   "id": "9d362fb2",
   "metadata": {},
   "outputs": [
    {
     "name": "stdout",
     "output_type": "stream",
     "text": [
      "1\n",
      "1\n",
      "1\n",
      "1\n",
      "1\n",
      "1\n",
      "1\n",
      "1\n",
      "1\n",
      "1\n"
     ]
    }
   ],
   "source": [
    "for i in range(10):\n",
    "    print(1)"
   ]
  },
  {
   "cell_type": "code",
   "execution_count": 179,
   "id": "b2d8c35b",
   "metadata": {},
   "outputs": [
    {
     "name": "stdout",
     "output_type": "stream",
     "text": [
      "2\n",
      "4\n",
      "6\n",
      "8\n"
     ]
    }
   ],
   "source": [
    "for i in [2,4,6,8]:\n",
    "    print(i)"
   ]
  },
  {
   "cell_type": "code",
   "execution_count": 180,
   "id": "d33832de",
   "metadata": {},
   "outputs": [],
   "source": [
    "l = [i%2 for i in range(20)]"
   ]
  },
  {
   "cell_type": "code",
   "execution_count": 181,
   "id": "ea18aad6",
   "metadata": {},
   "outputs": [
    {
     "data": {
      "text/plain": [
       "[0, 1, 0, 1, 0, 1, 0, 1, 0, 1, 0, 1, 0, 1, 0, 1, 0, 1, 0, 1]"
      ]
     },
     "execution_count": 181,
     "metadata": {},
     "output_type": "execute_result"
    }
   ],
   "source": [
    "l"
   ]
  },
  {
   "cell_type": "code",
   "execution_count": 182,
   "id": "118a61bc",
   "metadata": {},
   "outputs": [
    {
     "name": "stdout",
     "output_type": "stream",
     "text": [
      "[0]\n",
      "[0, 1]\n",
      "[0, 1, 0]\n",
      "[0, 1, 0, 1]\n",
      "[0, 1, 0, 1, 0]\n",
      "[0, 1, 0, 1, 0, 1]\n",
      "[0, 1, 0, 1, 0, 1, 0]\n",
      "[0, 1, 0, 1, 0, 1, 0, 1]\n",
      "[0, 1, 0, 1, 0, 1, 0, 1, 0]\n",
      "[0, 1, 0, 1, 0, 1, 0, 1, 0, 1]\n",
      "[0, 1, 0, 1, 0, 1, 0, 1, 0, 1, 0]\n",
      "[0, 1, 0, 1, 0, 1, 0, 1, 0, 1, 0, 1]\n",
      "[0, 1, 0, 1, 0, 1, 0, 1, 0, 1, 0, 1, 0]\n",
      "[0, 1, 0, 1, 0, 1, 0, 1, 0, 1, 0, 1, 0, 1]\n",
      "[0, 1, 0, 1, 0, 1, 0, 1, 0, 1, 0, 1, 0, 1, 0]\n",
      "[0, 1, 0, 1, 0, 1, 0, 1, 0, 1, 0, 1, 0, 1, 0, 1]\n",
      "[0, 1, 0, 1, 0, 1, 0, 1, 0, 1, 0, 1, 0, 1, 0, 1, 0]\n",
      "[0, 1, 0, 1, 0, 1, 0, 1, 0, 1, 0, 1, 0, 1, 0, 1, 0, 1]\n",
      "[0, 1, 0, 1, 0, 1, 0, 1, 0, 1, 0, 1, 0, 1, 0, 1, 0, 1, 0]\n",
      "[0, 1, 0, 1, 0, 1, 0, 1, 0, 1, 0, 1, 0, 1, 0, 1, 0, 1, 0, 1]\n"
     ]
    }
   ],
   "source": [
    "l = []\n",
    "\n",
    "for i in range(20):\n",
    "    l.append(i%2)\n",
    "    print(l)"
   ]
  },
  {
   "cell_type": "markdown",
   "id": "8b7f3845",
   "metadata": {},
   "source": [
    "## 실습 : 반복문 두 종류 사용해보기\n",
    "* 리스트 ABC 를 사용한다.\n",
    "* ABC 리스트에는 다음 조건에 해당하는 값이 저장되어 있다.\n",
    "1. 7로 나누었을 때의 몫\n",
    "1. 범위는 20-100 까지이며, 이 중에서 짝수는 제외한다.\n",
    "* 가능하면 리스트 컴프리헨션을 이용한 코드로 적어 본다. "
   ]
  },
  {
   "cell_type": "code",
   "execution_count": 198,
   "id": "49b85ef8",
   "metadata": {},
   "outputs": [
    {
     "name": "stdout",
     "output_type": "stream",
     "text": [
      "[3, 3, 3, 3, 4, 4, 4, 5, 5, 5, 5, 6, 6, 6, 7, 7, 7, 7, 8, 8, 8, 9, 9, 9, 9, 10, 10, 10, 11, 11, 11, 11, 12, 12, 12, 13, 13, 13, 13, 14]\n"
     ]
    }
   ],
   "source": [
    "ABC = [i//7 for i in range(20,101) if i%2!=0]  \n",
    "print(ABC)"
   ]
  },
  {
   "cell_type": "code",
   "execution_count": 197,
   "id": "77f7fd65",
   "metadata": {},
   "outputs": [
    {
     "data": {
      "text/plain": [
       "40"
      ]
     },
     "execution_count": 197,
     "metadata": {},
     "output_type": "execute_result"
    }
   ],
   "source": [
    "len(ABC)"
   ]
  },
  {
   "cell_type": "code",
   "execution_count": 199,
   "id": "83865915",
   "metadata": {},
   "outputs": [
    {
     "name": "stdout",
     "output_type": "stream",
     "text": [
      "[3, 3, 3, 3, 4, 4, 4, 5, 5, 5, 5, 6, 6, 6, 7, 7, 7, 7, 8, 8, 8, 9, 9, 9, 9, 10, 10, 10, 11, 11, 11, 11, 12, 12, 12, 13, 13, 13, 13, 14]\n"
     ]
    }
   ],
   "source": [
    "ABC = [i//7 for i in range(21,100,2)]\n",
    "print(ABC)"
   ]
  },
  {
   "cell_type": "markdown",
   "id": "82c5d85f",
   "metadata": {},
   "source": [
    "## 과제\n",
    "\n",
    "* 숫자 하나를 입력받으면 아래 계산을 하는 프로그램 만들기\n",
    "* 1부터 입력받은 숫자까지의 범위에서\n",
    "* 홀수인 경우 , 해당 숫자 이하의 모든 범위(자연수만)의 숫자를 더한 값을 출력한다. \n",
    "* 짝수인 경우 값을 그냥 출력한다."
   ]
  },
  {
   "cell_type": "code",
   "execution_count": 219,
   "id": "a6e0910b",
   "metadata": {
    "scrolled": true
   },
   "outputs": [
    {
     "name": "stdout",
     "output_type": "stream",
     "text": [
      "여기에 숫자를 입력 : 0\n"
     ]
    }
   ],
   "source": [
    "x = int(input(\"여기에 숫자를 입력 : \"))\n",
    "y = 0\n",
    "\n",
    "for bc in range(1,x+1):\n",
    "    if bc%2 == 1:\n",
    "        \n",
    "        for ac in range(1,bc+1):\n",
    "            y += ac\n",
    "        print(y)\n",
    "        y=0\n",
    "        \n",
    "    else:\n",
    "        print(bc)\n"
   ]
  },
  {
   "cell_type": "code",
   "execution_count": 205,
   "id": "347e0550",
   "metadata": {},
   "outputs": [
    {
     "data": {
      "text/plain": [
       "'안녕하세요.'"
      ]
     },
     "execution_count": 205,
     "metadata": {},
     "output_type": "execute_result"
    }
   ],
   "source": [
    "s"
   ]
  },
  {
   "cell_type": "code",
   "execution_count": 206,
   "id": "b9095a77",
   "metadata": {},
   "outputs": [
    {
     "data": {
      "text/plain": [
       "True"
      ]
     },
     "execution_count": 206,
     "metadata": {},
     "output_type": "execute_result"
    }
   ],
   "source": [
    "'s' in vars()"
   ]
  },
  {
   "cell_type": "code",
   "execution_count": 207,
   "id": "b5808232",
   "metadata": {},
   "outputs": [
    {
     "data": {
      "text/plain": [
       "'안녕하세요.'"
      ]
     },
     "execution_count": 207,
     "metadata": {},
     "output_type": "execute_result"
    }
   ],
   "source": [
    "s"
   ]
  },
  {
   "cell_type": "code",
   "execution_count": 212,
   "id": "3dad930b",
   "metadata": {},
   "outputs": [
    {
     "name": "stdout",
     "output_type": "stream",
     "text": [
      "10\n"
     ]
    }
   ],
   "source": [
    "숫자 = 0\n",
    "\n",
    "for i in range(0,5):\n",
    "     숫자+= i\n",
    "    숫자 = 숫자 + i\n",
    "print(숫자)"
   ]
  },
  {
   "cell_type": "code",
   "execution_count": 220,
   "id": "107b4a10",
   "metadata": {},
   "outputs": [
    {
     "name": "stdout",
     "output_type": "stream",
     "text": [
      "숫자 하나를 입력 : 2\n"
     ]
    }
   ],
   "source": [
    "# 숫자 하나를 입력받는 코드\n",
    "number_one = int(input('숫자 하나를 입력 : '))"
   ]
  },
  {
   "cell_type": "code",
   "execution_count": 221,
   "id": "45d1644c",
   "metadata": {},
   "outputs": [
    {
     "name": "stdout",
     "output_type": "stream",
     "text": [
      "숫자 하나를 입력 : 25\n",
      "1 : 홀수값\n",
      "2 : 짝수값\n",
      "6 : 홀수값\n",
      "4 : 짝수값\n",
      "15 : 홀수값\n",
      "6 : 짝수값\n",
      "28 : 홀수값\n",
      "8 : 짝수값\n",
      "45 : 홀수값\n",
      "10 : 짝수값\n",
      "66 : 홀수값\n",
      "12 : 짝수값\n",
      "91 : 홀수값\n",
      "14 : 짝수값\n",
      "120 : 홀수값\n",
      "16 : 짝수값\n",
      "153 : 홀수값\n",
      "18 : 짝수값\n",
      "190 : 홀수값\n",
      "20 : 짝수값\n",
      "231 : 홀수값\n",
      "22 : 짝수값\n",
      "276 : 홀수값\n",
      "24 : 짝수값\n",
      "325 : 홀수값\n"
     ]
    }
   ],
   "source": [
    "number_one = int(input('숫자 하나를 입력 : '))\n",
    "\n",
    "for nm in range(1,number_one+1):\n",
    "    if nm % 2 == 0:\n",
    "        \n",
    "        print(nm, \": 짝수값\")\n",
    "        \n",
    "    elif nm % 2 != 0:\n",
    "        temp_nm = 0\n",
    "        \n",
    "        for sum_nm in range(1,nm+1):\n",
    "            temp_nm += sum_nm\n",
    "            \n",
    "        print(temp_nm, \": 홀수값\")"
   ]
  },
  {
   "cell_type": "markdown",
   "id": "38caa13f",
   "metadata": {},
   "source": [
    "---\n",
    "## 코드 정리하는 법"
   ]
  },
  {
   "cell_type": "code",
   "execution_count": 222,
   "id": "ed0a446d",
   "metadata": {},
   "outputs": [
    {
     "name": "stdout",
     "output_type": "stream",
     "text": [
      "숫자 하나를 입력 : 2\n",
      "1 : 홀수값\n",
      "2 : 짝수값\n"
     ]
    }
   ],
   "source": [
    "number_one = int(input('숫자 하나를 입력 : '))\n",
    "\n",
    "for nm in range(1, number_one+1):\n",
    "    \n",
    "    if nm % 2 == 0:\n",
    "        \n",
    "        print(nm, \": 짝수값\")\n",
    "        \n",
    "    elif nm % 2 != 0:\n",
    "        temp_nm = 0\n",
    "        \n",
    "        for sum_nm in range(1,nm+1):\n",
    "            temp_nm += sum_nm\n",
    "            \n",
    "        print(temp_nm, \": 홀수값\")"
   ]
  },
  {
   "cell_type": "markdown",
   "id": "493743d3",
   "metadata": {},
   "source": [
    "* for if elif 등은 한 줄씩 띄어서 쓴다. \n",
    "* nm*2 와 같이 붙이지 않고 nm * 2 이와 같이 쓴다.\n",
    "* , 콤마는 뒤를 띄어 쓴다.\n",
    "* .온점은 붙여 쓴다.\n",
    "* if 뒤에 오는 조건이 너무 복잡해질 경우 조건에 () 괄호를 씌울 수 있다."
   ]
  },
  {
   "cell_type": "code",
   "execution_count": 223,
   "id": "fd7652af",
   "metadata": {},
   "outputs": [],
   "source": [
    "import math  # 패키지는 맨 위에! 이 밑에는 두 줄을 띈다.\n",
    "import time\n",
    "\n",
    "\n",
    "def func1():            # 함수들은 각각을 한 줄 씩 띄어 쓴다.\n",
    "    return True\n",
    "\n",
    "def func2():\n",
    "    return False\n",
    "\n",
    "x = 123  # 내용은 그 밑에 한 줄을 띄고 쓴다. \n",
    "\n",
    "\n",
    "time.sleep(1)"
   ]
  },
  {
   "cell_type": "code",
   "execution_count": null,
   "id": "5762ddbf",
   "metadata": {},
   "outputs": [],
   "source": []
  },
  {
   "cell_type": "code",
   "execution_count": null,
   "id": "ef6a0355",
   "metadata": {},
   "outputs": [],
   "source": []
  },
  {
   "cell_type": "markdown",
   "id": "55e35b81",
   "metadata": {},
   "source": [
    "### 리턴과 프린트"
   ]
  },
  {
   "cell_type": "code",
   "execution_count": 227,
   "id": "27adf3a2",
   "metadata": {},
   "outputs": [],
   "source": [
    "a = 1+1"
   ]
  },
  {
   "cell_type": "code",
   "execution_count": 228,
   "id": "a5d6abf3",
   "metadata": {},
   "outputs": [
    {
     "name": "stdout",
     "output_type": "stream",
     "text": [
      "2\n"
     ]
    }
   ],
   "source": [
    "b = print(1+1)"
   ]
  },
  {
   "cell_type": "code",
   "execution_count": 232,
   "id": "1187e31f",
   "metadata": {},
   "outputs": [
    {
     "data": {
      "text/plain": [
       "int"
      ]
     },
     "execution_count": 232,
     "metadata": {},
     "output_type": "execute_result"
    }
   ],
   "source": [
    "type(a)"
   ]
  },
  {
   "cell_type": "code",
   "execution_count": 231,
   "id": "a499bee4",
   "metadata": {},
   "outputs": [
    {
     "data": {
      "text/plain": [
       "NoneType"
      ]
     },
     "execution_count": 231,
     "metadata": {},
     "output_type": "execute_result"
    }
   ],
   "source": [
    "type(b)"
   ]
  },
  {
   "cell_type": "markdown",
   "id": "c9c46029",
   "metadata": {},
   "source": [
    "* 위와 같이 리턴은 변수가 받아서 파이썬에서 처리하도록 할 수 있다. 하지만 저장하지 않으면 그냥 흘러내려간다.\n",
    "* 프린트는 사람에게 출력해서 보여주게 되므로 파이썬쪽에서는 들고 있지 않다. 그 정보로는 파이썬 내에서 처리가 불가능하다. "
   ]
  },
  {
   "cell_type": "code",
   "execution_count": 233,
   "id": "04882957",
   "metadata": {},
   "outputs": [
    {
     "data": {
      "text/plain": [
       "16"
      ]
     },
     "execution_count": 233,
     "metadata": {},
     "output_type": "execute_result"
    }
   ],
   "source": [
    "1+1\n",
    "2+2\n",
    "4+4\n",
    "8+8"
   ]
  },
  {
   "cell_type": "markdown",
   "id": "407dd753",
   "metadata": {},
   "source": [
    "* 리턴값에서는 여러 개의 값이 들어올 경우 맨 마지막의 값만 띄워준다."
   ]
  },
  {
   "cell_type": "code",
   "execution_count": 234,
   "id": "192cd5ab",
   "metadata": {},
   "outputs": [
    {
     "name": "stdout",
     "output_type": "stream",
     "text": [
      "2\n",
      "4\n",
      "8\n",
      "16\n"
     ]
    }
   ],
   "source": [
    "print(1+1)\n",
    "print(2+2)\n",
    "print(4+4)\n",
    "print(8+8)"
   ]
  },
  {
   "cell_type": "markdown",
   "id": "0a913558",
   "metadata": {},
   "source": [
    "* 프린트에서는 각각의 값을 모두 보여주므로, 전부 볼 필요가 있을 때에는 프린트를 사용하는게 맞다.\n",
    "* 저장도 하고 프린트도 해야 한다면 아래의 방식을 사용할 수 있다."
   ]
  },
  {
   "cell_type": "code",
   "execution_count": 235,
   "id": "e42c3b64",
   "metadata": {},
   "outputs": [
    {
     "name": "stdout",
     "output_type": "stream",
     "text": [
      "2 4 8 16\n"
     ]
    }
   ],
   "source": [
    "a = 1+1\n",
    "b = 2+2\n",
    "c = 4+4\n",
    "d = 8+8\n",
    "\n",
    "print(a,b,c,d)"
   ]
  },
  {
   "cell_type": "markdown",
   "id": "6410b6ce",
   "metadata": {},
   "source": [
    "## 기능하는 코드"
   ]
  },
  {
   "cell_type": "code",
   "execution_count": 236,
   "id": "160d0e4f",
   "metadata": {},
   "outputs": [
    {
     "name": "stdout",
     "output_type": "stream",
     "text": [
      "10\n",
      "11\n",
      "12\n",
      "13\n",
      "14\n",
      "15\n",
      "16\n",
      "17\n",
      "18\n",
      "19\n"
     ]
    }
   ],
   "source": [
    "for j in range(10):\n",
    "    ind = j\n",
    "    \n",
    "    for i in range(10):\n",
    "        \n",
    "        ind += 1\n",
    "        \n",
    "    print(ind)"
   ]
  },
  {
   "cell_type": "markdown",
   "id": "ed6d2879",
   "metadata": {},
   "source": []
  }
 ],
 "metadata": {
  "kernelspec": {
   "display_name": "Python 3 (ipykernel)",
   "language": "python",
   "name": "python3"
  },
  "language_info": {
   "codemirror_mode": {
    "name": "ipython",
    "version": 3
   },
   "file_extension": ".py",
   "mimetype": "text/x-python",
   "name": "python",
   "nbconvert_exporter": "python",
   "pygments_lexer": "ipython3",
   "version": "3.9.13"
  }
 },
 "nbformat": 4,
 "nbformat_minor": 5
}
