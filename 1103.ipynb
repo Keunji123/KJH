{
 "cells": [
  {
   "cell_type": "markdown",
   "id": "a8f92ed9",
   "metadata": {},
   "source": [
    "## 문자열 처리 알아보기\n",
    " - '문자열1'.join(['문자열2','문자열3'])\n",
    "     - 문자열 2와 문자열 3을 문자열1을 구분자로 해서 합친다.\n",
    " - '문자열1'.split('문자열2')\n",
    "     - 문자열1을 문자열2 구분자를 기준으로 나눈다.\n",
    "     - 결과물은 항상 리스트로 나온다.\n",
    "     - 함수는 만든 사람마다 다르므로 규칙을 찾지 말 것.\n",
    " - '문자열1'.strip('문자열2')\n",
    "     - 문자열1의 좌우에 문자열 2와 동일한 문자열을 삭제한다.\n",
    " - '문자열1'.lstrip('문자열2') rstrip은 오른쪽\n",
    "     - 문자열1의 왼쪽에 문자열2와 동일한 문자열을 삭제한다.\n",
    " replace도 있음.\n",
    "     \n",
    " "
   ]
  },
  {
   "cell_type": "markdown",
   "id": "ae0be141",
   "metadata": {},
   "source": [
    "## join\n",
    "  - '문자열1'.join(['문자열2','문자열3'])"
   ]
  },
  {
   "cell_type": "code",
   "execution_count": 1,
   "id": "3aabd282",
   "metadata": {},
   "outputs": [
    {
     "data": {
      "text/plain": [
       "('hello', 'world')"
      ]
     },
     "execution_count": 1,
     "metadata": {},
     "output_type": "execute_result"
    }
   ],
   "source": [
    "\"hello\", \"world\" # 이 두 문자열을 [,]를 사이에 둔 상태로 잇고 싶다면"
   ]
  },
  {
   "cell_type": "code",
   "execution_count": 19,
   "id": "da868b0f",
   "metadata": {},
   "outputs": [
    {
     "name": "stdout",
     "output_type": "stream",
     "text": [
      "hello,world,asdf\n"
     ]
    }
   ],
   "source": [
    "print(','.join([\"hello\",\"world\",\"asdf\"]))"
   ]
  },
  {
   "cell_type": "markdown",
   "id": "d3770bd0",
   "metadata": {},
   "source": [
    "\n",
    "### 실습\n",
    "- '안녕하세요' 를 기준으로 나뉘어진 10 자리 숫자를 만들어보자."
   ]
  },
  {
   "cell_type": "code",
   "execution_count": 5,
   "id": "dc40e351",
   "metadata": {},
   "outputs": [
    {
     "name": "stdout",
     "output_type": "stream",
     "text": [
      "12355안녕하세요98644\n"
     ]
    }
   ],
   "source": [
    "print('안녕하세요'.join(['12355','98644'])) # 리스트 형태를 합치면 문자열로, 문자열을 나누면 리스트로.\n",
    "# 대부분 이러한 것은 협의 하에 마련된 것으로 권고사항이다. 그러나 거의 모두가 지키게 된다."
   ]
  },
  {
   "cell_type": "code",
   "execution_count": 4,
   "id": "c15c87dd",
   "metadata": {},
   "outputs": [
    {
     "data": {
      "text/plain": [
       "'12355안녕하세요98644'"
      ]
     },
     "execution_count": 4,
     "metadata": {},
     "output_type": "execute_result"
    }
   ],
   "source": [
    "'안녕하세요'.join(['12355','98644'])"
   ]
  },
  {
   "cell_type": "code",
   "execution_count": 18,
   "id": "7a0c96c7",
   "metadata": {},
   "outputs": [
    {
     "data": {
      "text/plain": [
       "'안녕하세요(123)'"
      ]
     },
     "execution_count": 18,
     "metadata": {},
     "output_type": "execute_result"
    }
   ],
   "source": [
    "\n",
    "f'안녕하세요(123)'"
   ]
  },
  {
   "cell_type": "markdown",
   "id": "296b2d78",
   "metadata": {},
   "source": [
    "## 마크다운\n",
    "- 마크다운은 기호를 이용해서 글 양식을 표현하는 언어입니다."
   ]
  },
  {
   "cell_type": "markdown",
   "id": "2cb86a0f",
   "metadata": {},
   "source": [
    "# 제목1 #한개    제목은 굵게 써진다.\n",
    "## 제목2 ##두개\n",
    "### 제목3 ### 세개\n",
    "#### 제목 4 ### 네개"
   ]
  },
  {
   "cell_type": "markdown",
   "id": "06b4f42e",
   "metadata": {},
   "source": [
    "* 내용 입력     *를 찍은 후 한 칸 띄우고 쓴다."
   ]
  },
  {
   "cell_type": "markdown",
   "id": "e04c1b3c",
   "metadata": {},
   "source": [
    "```예제``` 를 살펴보세요     ``` 백틱..? 으로 양쪽을 감싸 준다."
   ]
  },
  {
   "cell_type": "markdown",
   "id": "07b6d33a",
   "metadata": {},
   "source": [
    "1. 첫번째\n",
    "4. 두번째\n",
    "6. 세번째  <br>  다른 숫자를 넣어도 숫자를 맞춰준다."
   ]
  },
  {
   "cell_type": "markdown",
   "id": "f9de3d10",
   "metadata": {},
   "source": [
    "대부분의 html 태그들이 먹는다."
   ]
  },
  {
   "cell_type": "markdown",
   "id": "255c315a",
   "metadata": {},
   "source": [
    "## split 알아보기"
   ]
  },
  {
   "cell_type": "code",
   "execution_count": 15,
   "id": "244d2a3b",
   "metadata": {},
   "outputs": [],
   "source": [
    "# '문자열1'.split('문자열2')\n",
    "# -> 문자열1을 문자열(델리미터(delimeter))2 구분자를 기준으로 해서 나눈다.\n",
    "# -> 결과물은 항상 리스트로 나온다."
   ]
  },
  {
   "cell_type": "code",
   "execution_count": 13,
   "id": "e1253eee",
   "metadata": {},
   "outputs": [
    {
     "data": {
      "text/plain": [
       "['Hello', 'world']"
      ]
     },
     "execution_count": 13,
     "metadata": {},
     "output_type": "execute_result"
    }
   ],
   "source": [
    "\"Hello,world\".split(\",\") "
   ]
  },
  {
   "cell_type": "code",
   "execution_count": 22,
   "id": "e3d8d888",
   "metadata": {},
   "outputs": [
    {
     "data": {
      "text/plain": [
       "('He', 'd', 'o,wor')"
      ]
     },
     "execution_count": 22,
     "metadata": {},
     "output_type": "execute_result"
    }
   ],
   "source": [
    "\"Hellllo,world\".split(\"l\")[0] ,\"Hellllo,world\".split(\"l\")[-1],\"Hellllo,world\".split(\"l\")[-2]"
   ]
  },
  {
   "cell_type": "code",
   "execution_count": 17,
   "id": "08833ca9",
   "metadata": {},
   "outputs": [
    {
     "data": {
      "text/plain": [
       "['Hello,world', '']"
      ]
     },
     "execution_count": 17,
     "metadata": {},
     "output_type": "execute_result"
    }
   ],
   "source": [
    "\"Hello,world!\".split(\"!\") "
   ]
  },
  {
   "cell_type": "markdown",
   "id": "2fd36e50",
   "metadata": {},
   "source": [
    "## strip 알아보기\n",
    "* '문자열1'.strip('문자열2')"
   ]
  },
  {
   "cell_type": "code",
   "execution_count": 25,
   "id": "ba09947d",
   "metadata": {},
   "outputs": [
    {
     "data": {
      "text/plain": [
       "'안녕하세요'"
      ]
     },
     "execution_count": 25,
     "metadata": {},
     "output_type": "execute_result"
    }
   ],
   "source": [
    "\"0101안녕하세요0101\".strip(\"0101\")"
   ]
  },
  {
   "cell_type": "code",
   "execution_count": 27,
   "id": "184cbb7b",
   "metadata": {},
   "outputs": [
    {
     "data": {
      "text/plain": [
       "'안녕하세요'"
      ]
     },
     "execution_count": 27,
     "metadata": {},
     "output_type": "execute_result"
    }
   ],
   "source": [
    "\"0101안녕하세요0101\".strip(\"01\") # 같은 작업을 한다.? 바깥쪽부터 일치하면 하나씩 지운다. 그러므로."
   ]
  },
  {
   "cell_type": "code",
   "execution_count": 29,
   "id": "c8ef43ba",
   "metadata": {},
   "outputs": [
    {
     "data": {
      "text/plain": [
       "'안녕하세요0133'"
      ]
     },
     "execution_count": 29,
     "metadata": {},
     "output_type": "execute_result"
    }
   ],
   "source": [
    "\"0101안녕하세요0133\".strip(\"01\") # 이와 같이 가장 바깥쪽이 다른 숫자라만 안쪽도 지워지지 않는다."
   ]
  },
  {
   "cell_type": "code",
   "execution_count": 31,
   "id": "ef85ded2",
   "metadata": {},
   "outputs": [
    {
     "data": {
      "text/plain": [
       "'안,,,,녕,,,,하,,,,세,,,,요'"
      ]
     },
     "execution_count": 31,
     "metadata": {},
     "output_type": "execute_result"
    }
   ],
   "source": [
    "\",,,,안,,,,녕,,,,하,,,,세,,,,요,,,,\".strip(\",,,,\") # 이 역시 가장 바깥쪽만 처리하게 된다."
   ]
  },
  {
   "cell_type": "markdown",
   "id": "86b288a8",
   "metadata": {},
   "source": [
    "## 실습: strip 사용해보기\n",
    "* 사용할 문자열: '안녕하세요. 파이썬 수업 3차시입니다. 안녕하세요. 파이썬 수업 3차시입니다. 안녕하세요.'\n",
    "1. strip을 이용해서 좌우의 안녕하세요 문자를 삭제하려 시도해 보기\n",
    "2. strip을 이용해 삭제가 불가능하다면, 문자열을 수정해서 삭제될 수 있도록 조치하기"
   ]
  },
  {
   "cell_type": "code",
   "execution_count": 32,
   "id": "d805fb93",
   "metadata": {},
   "outputs": [
    {
     "data": {
      "text/plain": [
       "'. 파이썬 수업 3차시입니다. 안녕하세요. 파이썬 수업 3차시입니다. 안녕하세요.'"
      ]
     },
     "execution_count": 32,
     "metadata": {},
     "output_type": "execute_result"
    }
   ],
   "source": [
    "'안녕하세요. 파이썬 수업 3차시입니다. 안녕하세요. 파이썬 수업 3차시입니다. 안녕하세요.'.strip(\"안녕하세요\")"
   ]
  },
  {
   "cell_type": "markdown",
   "id": "a747be34",
   "metadata": {},
   "source": [
    "* 삭제를 시도하였는데, 앞쪽 문자열만 삭제되고, 뒤쪽은 온점때문에 남아있다.\n",
    "* 그러므로 문자열에서 마지막 온점을 제거한다."
   ]
  },
  {
   "cell_type": "code",
   "execution_count": 33,
   "id": "56657519",
   "metadata": {},
   "outputs": [
    {
     "data": {
      "text/plain": [
       "'. 파이썬 수업 3차시입니다. 안녕하세요. 파이썬 수업 3차시입니다. '"
      ]
     },
     "execution_count": 33,
     "metadata": {},
     "output_type": "execute_result"
    }
   ],
   "source": [
    "'안녕하세요. 파이썬 수업 3차시입니다. 안녕하세요. 파이썬 수업 3차시입니다. 안녕하세요'.strip(\"안녕하세요\")"
   ]
  },
  {
   "cell_type": "markdown",
   "id": "3dfca2b4",
   "metadata": {},
   "source": [
    "* 이제 지워졌다."
   ]
  },
  {
   "cell_type": "code",
   "execution_count": 168,
   "id": "e7ae44f2",
   "metadata": {},
   "outputs": [
    {
     "data": {
      "text/plain": [
       "'. 파이썬 수업 3차시입니다. 안녕하세요.'"
      ]
     },
     "execution_count": 168,
     "metadata": {},
     "output_type": "execute_result"
    }
   ],
   "source": [
    "'안녕하세요. 파이썬 수업 3차시입니다. 안녕하세요.'.strip(\"안녕하ㅁㄴㅇㄹ세요\")"
   ]
  },
  {
   "cell_type": "markdown",
   "id": "88cdcbbc",
   "metadata": {},
   "source": [
    "* 위와 같이 strip 안과 완벽하게 일치하지 않더라도 같은 문자가 모두 있다면 지워진다.\n",
    "* 그러므로 다음과 같이도 가능하다."
   ]
  },
  {
   "cell_type": "code",
   "execution_count": 169,
   "id": "4218f591",
   "metadata": {},
   "outputs": [
    {
     "data": {
      "text/plain": [
       "' 파이썬 수업 3차시입니다. '"
      ]
     },
     "execution_count": 169,
     "metadata": {},
     "output_type": "execute_result"
    }
   ],
   "source": [
    "'안녕하세요. 파이썬 수업 3차시입니다. 안녕하세요.'.strip(\"녕세요안하.\")"
   ]
  },
  {
   "cell_type": "markdown",
   "id": "57bf30d1",
   "metadata": {},
   "source": [
    "### lstrip\n",
    "* '문자열1'.lstrip('문자열2')"
   ]
  },
  {
   "cell_type": "code",
   "execution_count": 35,
   "id": "7b317c96",
   "metadata": {},
   "outputs": [
    {
     "data": {
      "text/plain": [
       "'. 파이썬 수업 3차시입니다. 안녕하세요. 파이썬 수업 3차시입니다. 안녕하세요'"
      ]
     },
     "execution_count": 35,
     "metadata": {},
     "output_type": "execute_result"
    }
   ],
   "source": [
    "'안녕하세요. 파이썬 수업 3차시입니다. 안녕하세요. 파이썬 수업 3차시입니다. 안녕하세요'.lstrip(\"안녕하세요\")"
   ]
  },
  {
   "cell_type": "code",
   "execution_count": 37,
   "id": "8e983323",
   "metadata": {},
   "outputs": [
    {
     "data": {
      "text/plain": [
       "'안녕하세요. 파이썬 수업 3차시입니다. 안녕하세요. 파이썬 수업 3차시입니다. '"
      ]
     },
     "execution_count": 37,
     "metadata": {},
     "output_type": "execute_result"
    }
   ],
   "source": [
    "'안녕하세요. 파이썬 수업 3차시입니다. 안녕하세요. 파이썬 수업 3차시입니다. 안녕하세요'.rstrip(\"안녕하세요\")"
   ]
  },
  {
   "cell_type": "markdown",
   "id": "f962571e",
   "metadata": {},
   "source": [
    "* 위와 같이 왼쪽만, 또는 오른쪽만 지우고 싶을 때 사용한다. \n",
    "* 이는 아래와 같이 슬라이싱으로 처리할 수도 있지만, 문자가 너무 길어졌을 때는 일일히 셀 수 없기 때문에 생겼다. "
   ]
  },
  {
   "cell_type": "code",
   "execution_count": 38,
   "id": "c174b162",
   "metadata": {},
   "outputs": [
    {
     "data": {
      "text/plain": [
       "'. 파이썬 수업 3차시입니다. 안녕하세요. 파이썬 수업 3차시입니다. 안녕하세요'"
      ]
     },
     "execution_count": 38,
     "metadata": {},
     "output_type": "execute_result"
    }
   ],
   "source": [
    "'안녕하세요. 파이썬 수업 3차시입니다. 안녕하세요. 파이썬 수업 3차시입니다. 안녕하세요'[5:]"
   ]
  },
  {
   "cell_type": "code",
   "execution_count": 39,
   "id": "22c5b687",
   "metadata": {},
   "outputs": [
    {
     "data": {
      "text/plain": [
       "'안녕하세요. 파이썬 수업 3차시입니다. 안녕하세요. 파이썬 수업 3차시입니다. '"
      ]
     },
     "execution_count": 39,
     "metadata": {},
     "output_type": "execute_result"
    }
   ],
   "source": [
    "'안녕하세요. 파이썬 수업 3차시입니다. 안녕하세요. 파이썬 수업 3차시입니다. 안녕하세요'[:-5]"
   ]
  },
  {
   "cell_type": "markdown",
   "id": "e51f3b01",
   "metadata": {},
   "source": [
    "## replace 알아보기\n",
    "* '문자열1'.replace('문자열2','문자열3')\n",
    "* 문자열1 중에서 문자열2를 문자열3으로 변경해 준다."
   ]
  },
  {
   "cell_type": "code",
   "execution_count": 40,
   "id": "0a04038f",
   "metadata": {},
   "outputs": [
    {
     "data": {
      "text/plain": [
       "'heOOo, worOd'"
      ]
     },
     "execution_count": 40,
     "metadata": {},
     "output_type": "execute_result"
    }
   ],
   "source": [
    "\"hello, world\".replace(\"l\",\"O\")"
   ]
  },
  {
   "cell_type": "code",
   "execution_count": 42,
   "id": "45b6d442",
   "metadata": {},
   "outputs": [
    {
     "data": {
      "text/plain": [
       "'heo, word'"
      ]
     },
     "execution_count": 42,
     "metadata": {},
     "output_type": "execute_result"
    }
   ],
   "source": [
    "\"hello, world\".replace(\"l\",\"\") # 이렇게 해당 문자를 없는 값으로 대체해 지워줄 수도 있다."
   ]
  },
  {
   "cell_type": "code",
   "execution_count": 44,
   "id": "817282e0",
   "metadata": {},
   "outputs": [
    {
     "data": {
      "text/plain": [
       "'helo, world'"
      ]
     },
     "execution_count": 44,
     "metadata": {},
     "output_type": "execute_result"
    }
   ],
   "source": [
    "\"hello, world\".replace(\"ll\",\"l\") # 이와 같이 중복되는 것을 하나로 만들어 줄 때도 사용할 수 있다."
   ]
  },
  {
   "cell_type": "markdown",
   "id": "26f9a01e",
   "metadata": {},
   "source": [
    "## 실습: replace 써보기\n",
    "* \"010-1234-5678\" 문자열에서 하이픈을 제거해 보자.\n",
    "* \"010-0000-4099\" 문자열에서 중간 번호를 * 로 바꿔보자.\n",
    "* \"010-9952222-96665\" 문자열에서 6과 2 중복을 하나만 남도록 해보자."
   ]
  },
  {
   "cell_type": "code",
   "execution_count": 45,
   "id": "70e435df",
   "metadata": {},
   "outputs": [
    {
     "data": {
      "text/plain": [
       "'01012345678'"
      ]
     },
     "execution_count": 45,
     "metadata": {},
     "output_type": "execute_result"
    }
   ],
   "source": [
    "\"010-1234-5678\".replace(\"-\",\"\")"
   ]
  },
  {
   "cell_type": "code",
   "execution_count": 46,
   "id": "5fa151fb",
   "metadata": {},
   "outputs": [
    {
     "data": {
      "text/plain": [
       "'010-****-4099'"
      ]
     },
     "execution_count": 46,
     "metadata": {},
     "output_type": "execute_result"
    }
   ],
   "source": [
    "\"010-0000-4099\".replace(\"0000\",\"****\") "
   ]
  },
  {
   "cell_type": "markdown",
   "id": "4ed83550",
   "metadata": {},
   "source": [
    "* 이렇게 하면 현재 상황에서는 맞지만, 일반적 상황에서는 쓸 수 없다."
   ]
  },
  {
   "cell_type": "code",
   "execution_count": 48,
   "id": "175a3a87",
   "metadata": {},
   "outputs": [],
   "source": [
    "x = \"010-9153-4099\""
   ]
  },
  {
   "cell_type": "code",
   "execution_count": 49,
   "id": "b59cac87",
   "metadata": {},
   "outputs": [
    {
     "data": {
      "text/plain": [
       "['010', '9153', '4099']"
      ]
     },
     "execution_count": 49,
     "metadata": {},
     "output_type": "execute_result"
    }
   ],
   "source": [
    "x.split(\"-\")"
   ]
  },
  {
   "cell_type": "code",
   "execution_count": 52,
   "id": "dd4ba090",
   "metadata": {},
   "outputs": [],
   "source": [
    "y=x.split(\"-\")[1]"
   ]
  },
  {
   "cell_type": "code",
   "execution_count": 53,
   "id": "8571a3a2",
   "metadata": {},
   "outputs": [
    {
     "data": {
      "text/plain": [
       "'010-****-4099'"
      ]
     },
     "execution_count": 53,
     "metadata": {},
     "output_type": "execute_result"
    }
   ],
   "source": [
    "x.replace(y,\"****\")"
   ]
  },
  {
   "cell_type": "markdown",
   "id": "7ff39631",
   "metadata": {},
   "source": [
    "* 이런식으로 하면 일반적인 상황에서도 사용할 수 있다."
   ]
  },
  {
   "cell_type": "code",
   "execution_count": 47,
   "id": "7365700a",
   "metadata": {},
   "outputs": [
    {
     "data": {
      "text/plain": [
       "'010-9952-965'"
      ]
     },
     "execution_count": 47,
     "metadata": {},
     "output_type": "execute_result"
    }
   ],
   "source": [
    "\"010-9952222-96665\".replace(\"2222\",\"2\").replace(\"666\",\"6\")"
   ]
  },
  {
   "cell_type": "code",
   "execution_count": 54,
   "id": "51895356",
   "metadata": {},
   "outputs": [
    {
     "data": {
      "text/plain": [
       "'010-9952-965'"
      ]
     },
     "execution_count": 54,
     "metadata": {},
     "output_type": "execute_result"
    }
   ],
   "source": [
    "\"010-9952222-96665\".replace(\"22\",\"2\").replace(\"66\",\"6\").replace(\"22\",\"2\").replace(\"66\",\"6\")"
   ]
  },
  {
   "cell_type": "markdown",
   "id": "28be75c8",
   "metadata": {},
   "source": [
    "---\n",
    "## 개행문자"
   ]
  },
  {
   "cell_type": "markdown",
   "id": "f6618055",
   "metadata": {},
   "source": [
    "개행문자는 기본적으로 \\ 표시를 해서 특수한 문자를 처리할 수 있도록 한 것이다.\n",
    "이 때문에, 문자열 안에 \\을 표시하고 싶다면 \\\\ 이렇게 표시해야 하는 단점이 생기기는 한다."
   ]
  },
  {
   "cell_type": "code",
   "execution_count": 57,
   "id": "c2f397be",
   "metadata": {},
   "outputs": [
    {
     "name": "stdout",
     "output_type": "stream",
     "text": [
      "\u00059,800\n"
     ]
    }
   ],
   "source": [
    "print(\"\\59,800\") #  개행문자는 \\와 숫자 또는 문자, 특수문자 하나의 조합으로 이루어진다. "
   ]
  },
  {
   "cell_type": "code",
   "execution_count": 59,
   "id": "57a1cc9c",
   "metadata": {},
   "outputs": [
    {
     "name": "stdout",
     "output_type": "stream",
     "text": [
      "\t59,800\n"
     ]
    }
   ],
   "source": [
    "print(\"\\t59,800\") # \\t 는 프린트 될 때만 (출력문에서만) 탭으로 동작한다."
   ]
  },
  {
   "cell_type": "code",
   "execution_count": 61,
   "id": "88d3492c",
   "metadata": {},
   "outputs": [
    {
     "data": {
      "text/plain": [
       "'59,800'"
      ]
     },
     "execution_count": 61,
     "metadata": {},
     "output_type": "execute_result"
    }
   ],
   "source": [
    "\"\\t59,800\"[1:] # 개행문자 (여기서는\\t) 는 한 글자 취급한다."
   ]
  },
  {
   "cell_type": "code",
   "execution_count": 63,
   "id": "985c9ba5",
   "metadata": {},
   "outputs": [
    {
     "name": "stdout",
     "output_type": "stream",
     "text": [
      "59,\n",
      "800\n"
     ]
    }
   ],
   "source": [
    "print(\"59,\\n800\")  # \\n 은 엔터를 한(줄바꿈한) 효과를 낸다."
   ]
  },
  {
   "cell_type": "markdown",
   "id": "95806d4d",
   "metadata": {},
   "source": [
    "* 개행문자는 사용하는 운영체제마다 쓰는 방법이 조금씩 다르다. \n",
    "* 파이썬에서는 잘 맞춰주기만 하면 사용할 수 있다. "
   ]
  },
  {
   "cell_type": "code",
   "execution_count": 67,
   "id": "04e9df38",
   "metadata": {},
   "outputs": [
    {
     "ename": "SyntaxError",
     "evalue": "EOL while scanning string literal (2406438852.py, line 1)",
     "output_type": "error",
     "traceback": [
      "\u001b[1;36m  File \u001b[1;32m\"C:\\Users\\user\\AppData\\Local\\Temp\\ipykernel_1816\\2406438852.py\"\u001b[1;36m, line \u001b[1;32m1\u001b[0m\n\u001b[1;33m    \"hello,\u001b[0m\n\u001b[1;37m              ^\u001b[0m\n\u001b[1;31mSyntaxError\u001b[0m\u001b[1;31m:\u001b[0m EOL while scanning string literal\n"
     ]
    }
   ],
   "source": [
    "\"hello,   \n",
    "world\"       #파이썬은 기본적으로 문자열 줄바꿈을 엔터로 할 수 없다."
   ]
  },
  {
   "cell_type": "code",
   "execution_count": 71,
   "id": "02011291",
   "metadata": {},
   "outputs": [
    {
     "name": "stdout",
     "output_type": "stream",
     "text": [
      "\n",
      "     hello\n",
      "     world\n",
      "     \n"
     ]
    }
   ],
   "source": [
    "print('''\n",
    "     hello\n",
    "     world\n",
    "     ''')  # 이런 식으로 할 수 있다."
   ]
  },
  {
   "cell_type": "code",
   "execution_count": 72,
   "id": "4cf99db0",
   "metadata": {},
   "outputs": [
    {
     "data": {
      "text/plain": [
       "'print 문은 출력 기능을 가진다.\\nprint 를 적고, 뒤에 괄호를 친 다음 출력할 값을 안에 입력한다.'"
      ]
     },
     "execution_count": 72,
     "metadata": {},
     "output_type": "execute_result"
    }
   ],
   "source": [
    "'''print 문은 출력 기능을 가진다.\n",
    "print 를 적고, 뒤에 괄호를 친 다음 출력할 값을 안에 입력한다.''' #여러 줄로 적고 싶은 주석은 이와 같이..."
   ]
  },
  {
   "cell_type": "code",
   "execution_count": 73,
   "id": "a10fbb4b",
   "metadata": {},
   "outputs": [],
   "source": [
    "# print 문은 출력 기능을 가진다.\n",
    "# print 를 적고, 뒤에 괄호를 친 다음 출력할 값을 안에 입력한다. \n",
    "# 블럭지정 후 ctrl + / 를 하면 한번에 주석처리 할 수 있다."
   ]
  },
  {
   "cell_type": "code",
   "execution_count": 74,
   "id": "e1363424",
   "metadata": {},
   "outputs": [
    {
     "name": "stdout",
     "output_type": "stream",
     "text": [
      "문자열 1\n",
      "문자열 1\n",
      "문자열 1\n"
     ]
    }
   ],
   "source": [
    "print('문자열 1') # 프린트는 기본적으로 마지막에 줄바꿈이 온다. 만약 쓰기 싫다면 아래와 같이.\n",
    "print('문자열 1')\n",
    "print('문자열 1')"
   ]
  },
  {
   "cell_type": "code",
   "execution_count": 76,
   "id": "80ae2319",
   "metadata": {},
   "outputs": [
    {
     "name": "stdout",
     "output_type": "stream",
     "text": [
      "문자열 1문자열 1\n",
      "문자열 1\n"
     ]
    }
   ],
   "source": [
    "print('문자열 1', end=\"\")\n",
    "print('문자열 1')\n",
    "print('문자열 1')  # 이와 같이 end를 공란으로 지정하면 줄바꿈이 되지 않는 것을 볼 수 있다."
   ]
  },
  {
   "cell_type": "code",
   "execution_count": 77,
   "id": "df2cc69c",
   "metadata": {},
   "outputs": [
    {
     "name": "stdout",
     "output_type": "stream",
     "text": [
      "문자열 1\t\t\t문자열 1\n",
      "문자열 1\n"
     ]
    }
   ],
   "source": [
    "print('문자열 1', end=\"\\t\\t\\t\")\n",
    "print('문자열 1')\n",
    "print('문자열 1')  # end에 다른 문자를 넣어 줄 수도 있다."
   ]
  },
  {
   "cell_type": "code",
   "execution_count": 69,
   "id": "0da2f4b6",
   "metadata": {},
   "outputs": [],
   "source": [
    "hello = '안녕하세요'"
   ]
  },
  {
   "cell_type": "markdown",
   "id": "4e9ef9bc",
   "metadata": {},
   "source": [
    "---\n",
    "## 실습\n",
    "* 아래의 형태와 동일하게 출력해 보세요\n",
    "* 단, 모든 * 하나마다 하나의 print()를 사용할 것."
   ]
  },
  {
   "cell_type": "code",
   "execution_count": 78,
   "id": "e849736d",
   "metadata": {
    "collapsed": true
   },
   "outputs": [
    {
     "ename": "SyntaxError",
     "evalue": "invalid syntax (3817555165.py, line 1)",
     "output_type": "error",
     "traceback": [
      "\u001b[1;36m  File \u001b[1;32m\"C:\\Users\\user\\AppData\\Local\\Temp\\ipykernel_1816\\3817555165.py\"\u001b[1;36m, line \u001b[1;32m1\u001b[0m\n\u001b[1;33m    * * * * *\u001b[0m\n\u001b[1;37m      ^\u001b[0m\n\u001b[1;31mSyntaxError\u001b[0m\u001b[1;31m:\u001b[0m invalid syntax\n"
     ]
    }
   ],
   "source": [
    "* * * * *\n",
    "    * * *"
   ]
  },
  {
   "cell_type": "code",
   "execution_count": 4,
   "id": "ed52bdf8",
   "metadata": {},
   "outputs": [
    {
     "name": "stdout",
     "output_type": "stream",
     "text": [
      "* * * * *\n",
      "    * * * "
     ]
    }
   ],
   "source": [
    "print(\"*\", end=\" \")\n",
    "print(\"*\", end=\" \")\n",
    "print(\"*\", end=\" \")\n",
    "print(\"*\", end=\" \")\n",
    "print(\"*\", end=\"\\n    \")\n",
    "print(\"*\", end=\" \")\n",
    "print(\"*\", end=\" \")\n",
    "print(\"*\", end=\" \")"
   ]
  },
  {
   "cell_type": "markdown",
   "id": "3aaf24e6",
   "metadata": {},
   "source": [
    "---\n",
    "## 실습2\n",
    "* 위 형태와 동일하게 출력해 보세요.\n",
    "* 단, print() 단 하나만 사용할 것."
   ]
  },
  {
   "cell_type": "code",
   "execution_count": 6,
   "id": "d75477a3",
   "metadata": {},
   "outputs": [
    {
     "name": "stdout",
     "output_type": "stream",
     "text": [
      "* * * * *\n",
      "    * * *\n"
     ]
    }
   ],
   "source": [
    "print(\"* * * * *\\n    * * *\")"
   ]
  },
  {
   "cell_type": "markdown",
   "id": "0144ee41",
   "metadata": {},
   "source": [
    "---"
   ]
  },
  {
   "cell_type": "code",
   "execution_count": 10,
   "id": "f8e75503",
   "metadata": {},
   "outputs": [
    {
     "name": "stdout",
     "output_type": "stream",
     "text": [
      "\n",
      "\n",
      "\n",
      "안녕하세요\n",
      "\n",
      "\n",
      "\n"
     ]
    }
   ],
   "source": [
    "print(\"\\n\\n\\n안녕하세요\\n\\n\\n\")"
   ]
  },
  {
   "cell_type": "markdown",
   "id": "865561ac",
   "metadata": {},
   "source": [
    "## 반복문\n",
    " * 반복문 for 알아보기"
   ]
  },
  {
   "cell_type": "code",
   "execution_count": 17,
   "id": "0d4b84a9",
   "metadata": {},
   "outputs": [
    {
     "name": "stdout",
     "output_type": "stream",
     "text": [
      "0\n",
      "1\n",
      "2\n",
      "3\n",
      "4\n"
     ]
    }
   ],
   "source": [
    "for i in range(0,5):\n",
    "    print(i)    # 기본형!"
   ]
  },
  {
   "cell_type": "code",
   "execution_count": 19,
   "id": "570864a4",
   "metadata": {},
   "outputs": [
    {
     "name": "stdout",
     "output_type": "stream",
     "text": [
      "0\n",
      "1\n",
      "2\n",
      "3\n",
      "4\n"
     ]
    }
   ],
   "source": [
    "for i in range(5):\n",
    "    print(i)     # 숫자가 하나만 들어간다면 앞 숫자는 0으로 고정된다."
   ]
  },
  {
   "cell_type": "code",
   "execution_count": 21,
   "id": "f78130fe",
   "metadata": {},
   "outputs": [
    {
     "name": "stdout",
     "output_type": "stream",
     "text": [
      "0\n",
      "2\n",
      "4\n",
      "6\n",
      "8\n"
     ]
    }
   ],
   "source": [
    "for i in range(0,10,2):\n",
    "    print(i)      # step 을 줄 수도 있다. "
   ]
  },
  {
   "cell_type": "code",
   "execution_count": 22,
   "id": "7d4e1fb5",
   "metadata": {},
   "outputs": [
    {
     "name": "stdout",
     "output_type": "stream",
     "text": [
      "0\n",
      "3\n",
      "6\n",
      "9\n"
     ]
    }
   ],
   "source": [
    "for i in range(0,10,3):\n",
    "    print(i)"
   ]
  },
  {
   "cell_type": "code",
   "execution_count": 23,
   "id": "e591ade1",
   "metadata": {},
   "outputs": [
    {
     "name": "stdout",
     "output_type": "stream",
     "text": [
      "-6\n",
      "-5\n",
      "-4\n",
      "-3\n"
     ]
    }
   ],
   "source": [
    "for i in range(-6,-2):\n",
    "    print(i)  # 음수에서도 동일하게 작용한다."
   ]
  },
  {
   "cell_type": "code",
   "execution_count": 25,
   "id": "c605d130",
   "metadata": {},
   "outputs": [],
   "source": [
    "for i in range(-6,-9):\n",
    "    print(i) # 이와 같이 뒷 숫자가 더 작아버리면 아예 범위를 벗어나 출력되지 않는다."
   ]
  },
  {
   "cell_type": "code",
   "execution_count": 28,
   "id": "16dad8eb",
   "metadata": {},
   "outputs": [
    {
     "name": "stdout",
     "output_type": "stream",
     "text": [
      "9\n",
      "8\n",
      "7\n",
      "6\n",
      "5\n",
      "4\n",
      "3\n"
     ]
    }
   ],
   "source": [
    "# 만약 내림차순으로 해보고 싶다면 step을 -값으로 주면 된다.\n",
    "for i in range(9,2,-1):\n",
    "    print(i)"
   ]
  },
  {
   "cell_type": "code",
   "execution_count": 29,
   "id": "cccb19a7",
   "metadata": {},
   "outputs": [
    {
     "ename": "TypeError",
     "evalue": "'float' object cannot be interpreted as an integer",
     "output_type": "error",
     "traceback": [
      "\u001b[1;31m---------------------------------------------------------------------------\u001b[0m",
      "\u001b[1;31mTypeError\u001b[0m                                 Traceback (most recent call last)",
      "\u001b[1;32m~\\AppData\\Local\\Temp\\ipykernel_7460\\1617023953.py\u001b[0m in \u001b[0;36m<module>\u001b[1;34m\u001b[0m\n\u001b[0;32m      1\u001b[0m \u001b[1;31m# .5 씩 내릴순 없다.\u001b[0m\u001b[1;33m\u001b[0m\u001b[1;33m\u001b[0m\u001b[0m\n\u001b[1;32m----> 2\u001b[1;33m \u001b[1;32mfor\u001b[0m \u001b[0mi\u001b[0m \u001b[1;32min\u001b[0m \u001b[0mrange\u001b[0m\u001b[1;33m(\u001b[0m\u001b[1;36m9\u001b[0m\u001b[1;33m,\u001b[0m\u001b[1;36m2\u001b[0m\u001b[1;33m,\u001b[0m\u001b[1;33m-\u001b[0m\u001b[1;36m0.5\u001b[0m\u001b[1;33m)\u001b[0m\u001b[1;33m:\u001b[0m\u001b[1;33m\u001b[0m\u001b[1;33m\u001b[0m\u001b[0m\n\u001b[0m\u001b[0;32m      3\u001b[0m     \u001b[0mprint\u001b[0m\u001b[1;33m(\u001b[0m\u001b[0mi\u001b[0m\u001b[1;33m)\u001b[0m\u001b[1;33m\u001b[0m\u001b[1;33m\u001b[0m\u001b[0m\n",
      "\u001b[1;31mTypeError\u001b[0m: 'float' object cannot be interpreted as an integer"
     ]
    }
   ],
   "source": [
    "# .5 씩 내릴순 없다.\n",
    "for i in range(9,2,-0.5):\n",
    "    print(i)"
   ]
  },
  {
   "cell_type": "code",
   "execution_count": 31,
   "id": "615b3b61",
   "metadata": {},
   "outputs": [
    {
     "name": "stdout",
     "output_type": "stream",
     "text": [
      "9\n",
      "2\n",
      "4\n",
      "6\n",
      "5\n"
     ]
    }
   ],
   "source": [
    "for i in [9,2,4,6,5]:\n",
    "    print(i)  # 리스트와 같은 것을 in 뒤에 붙여서 순차적으로 출력할 수도 있다."
   ]
  },
  {
   "cell_type": "code",
   "execution_count": 32,
   "id": "562e07e0",
   "metadata": {},
   "outputs": [
    {
     "name": "stdout",
     "output_type": "stream",
     "text": [
      "h\n",
      "e\n",
      "l\n",
      "l\n",
      "o\n"
     ]
    }
   ],
   "source": [
    "for i in \"hello\":\n",
    "    print(i)  # 이와 같이 문자열도 넣을 수 있다."
   ]
  },
  {
   "cell_type": "code",
   "execution_count": 35,
   "id": "fe8b13b3",
   "metadata": {},
   "outputs": [
    {
     "name": "stdout",
     "output_type": "stream",
     "text": [
      "3\n",
      "5\n",
      "7\n",
      "9\n"
     ]
    }
   ],
   "source": [
    "for i in range(1,5):\n",
    "    print(2*i+1) # 이와 같이 연산도 가능하다."
   ]
  },
  {
   "cell_type": "code",
   "execution_count": 37,
   "id": "9cef4475",
   "metadata": {},
   "outputs": [
    {
     "name": "stdout",
     "output_type": "stream",
     "text": [
      "3\n",
      "5\n",
      "7\n",
      "9\n"
     ]
    }
   ],
   "source": [
    "for 물 in range(1,5):\n",
    "    print(2*물+1) # 이와 같이 i를 다른 이름으로 변경할 수도 있다."
   ]
  },
  {
   "cell_type": "markdown",
   "id": "441f21a1",
   "metadata": {},
   "source": [
    "## 실습\n",
    "* for문을 이용한 출력 만들기\n",
    "* 30을 1~10으로 나누었을 때 몫을 출력하도록 만들어 보세요."
   ]
  },
  {
   "cell_type": "code",
   "execution_count": 39,
   "id": "997089f1",
   "metadata": {},
   "outputs": [
    {
     "name": "stdout",
     "output_type": "stream",
     "text": [
      "30\n",
      "15\n",
      "10\n",
      "7\n",
      "6\n",
      "5\n",
      "4\n",
      "3\n",
      "3\n",
      "3\n"
     ]
    }
   ],
   "source": [
    "for i in range(1,11):\n",
    "    print(30//i)"
   ]
  },
  {
   "cell_type": "code",
   "execution_count": 40,
   "id": "b6ce2105",
   "metadata": {},
   "outputs": [],
   "source": []
  },
  {
   "cell_type": "markdown",
   "id": "bc00686d",
   "metadata": {},
   "source": [
    " ## formating ( 포맷팅 )"
   ]
  },
  {
   "cell_type": "raw",
   "id": "84020678",
   "metadata": {},
   "source": [
    "nm = '홍길동'\n",
    "\n",
    "python 3.8 이전 : ('안녕하세요. 저는 %s 입니다.' %nm)\n",
    "python 3.8 이후 : (f'안녕하세요. 저는 {nm} 입니다.')"
   ]
  },
  {
   "cell_type": "markdown",
   "id": "884108c0",
   "metadata": {},
   "source": [
    "## 실습: '안녕하세요, 오늘은 파이썬 3차시입니다' 문장 편집하기\n",
    "* 위에 제시된 문자열에서, 오늘은 이라는 단어를 현재 날짜(형식 무관)으로 변경한다.\n",
    "* 오늘의 날짜는 today라는 변수에 입력한다.\n",
    "* 위에 제시된 포맷팅 방법 중 하나를 취사선택한다."
   ]
  },
  {
   "cell_type": "code",
   "execution_count": 45,
   "id": "a4b4286a",
   "metadata": {},
   "outputs": [
    {
     "data": {
      "text/plain": [
       "'안녕하세요, 11/3 파이썬 3차시입니다.'"
      ]
     },
     "execution_count": 45,
     "metadata": {},
     "output_type": "execute_result"
    }
   ],
   "source": [
    "today = '11/3'\n",
    "\n",
    "(f'안녕하세요, {today} 파이썬 3차시입니다.')"
   ]
  },
  {
   "cell_type": "code",
   "execution_count": 46,
   "id": "c25508f0",
   "metadata": {},
   "outputs": [
    {
     "data": {
      "text/plain": [
       "'안녕하세요, 11/3 파이썬 3차시입니다.'"
      ]
     },
     "execution_count": 46,
     "metadata": {},
     "output_type": "execute_result"
    }
   ],
   "source": [
    "today = '11/3'\n",
    "\n",
    "('안녕하세요, %s 파이썬 3차시입니다.' %today)"
   ]
  },
  {
   "cell_type": "code",
   "execution_count": 47,
   "id": "fc8ca71d",
   "metadata": {},
   "outputs": [],
   "source": [
    "today = 221103.00"
   ]
  },
  {
   "cell_type": "code",
   "execution_count": 48,
   "id": "08d2ae38",
   "metadata": {},
   "outputs": [
    {
     "data": {
      "text/plain": [
       "float"
      ]
     },
     "execution_count": 48,
     "metadata": {},
     "output_type": "execute_result"
    }
   ],
   "source": [
    "type(today)"
   ]
  },
  {
   "cell_type": "code",
   "execution_count": 49,
   "id": "ef271299",
   "metadata": {},
   "outputs": [
    {
     "data": {
      "text/plain": [
       "'안녕하세요, 221103.0 파이썬 3차시입니다.'"
      ]
     },
     "execution_count": 49,
     "metadata": {},
     "output_type": "execute_result"
    }
   ],
   "source": [
    "'안녕하세요, %s 파이썬 3차시입니다.' %today"
   ]
  },
  {
   "cell_type": "raw",
   "id": "741aed1a",
   "metadata": {},
   "source": [
    "%s : 문자열로 입력될 때.\n",
    "%f : 실수로 입력될 때"
   ]
  },
  {
   "cell_type": "code",
   "execution_count": 53,
   "id": "274250a5",
   "metadata": {},
   "outputs": [
    {
     "data": {
      "text/plain": [
       "'입력된 숫자는 456.12입니다.'"
      ]
     },
     "execution_count": 53,
     "metadata": {},
     "output_type": "execute_result"
    }
   ],
   "source": [
    "num = 456.1234\n",
    "\n",
    "'입력된 숫자는 %.2f입니다.' %num   # %.2f 와 같이 쓰면 소수점 아래 유효숫자 자릿수까지 맞춰준다."
   ]
  },
  {
   "cell_type": "code",
   "execution_count": 54,
   "id": "4d065a97",
   "metadata": {},
   "outputs": [],
   "source": [
    "today = 221103.456"
   ]
  },
  {
   "cell_type": "code",
   "execution_count": 57,
   "id": "0e28b40e",
   "metadata": {},
   "outputs": [
    {
     "data": {
      "text/plain": [
       "'안녕하세요. 221103.456 파이썬 3차시입니다.'"
      ]
     },
     "execution_count": 57,
     "metadata": {},
     "output_type": "execute_result"
    }
   ],
   "source": [
    "(f'안녕하세요. {today} 파이썬 3차시입니다.')"
   ]
  },
  {
   "cell_type": "code",
   "execution_count": 58,
   "id": "1dcfb2d5",
   "metadata": {},
   "outputs": [
    {
     "data": {
      "text/plain": [
       "'안녕하세요. 221103.456 파이썬 3차시입니다.'"
      ]
     },
     "execution_count": 58,
     "metadata": {},
     "output_type": "execute_result"
    }
   ],
   "source": [
    "'안녕하세요. {} 파이썬 3차시입니다.'.format(today)"
   ]
  },
  {
   "cell_type": "markdown",
   "id": "56d4b32a",
   "metadata": {},
   "source": [
    "* 이와 같이 format을 뒤로 뺄 수도 있으며 요즘 추세는 위와 같다."
   ]
  },
  {
   "cell_type": "code",
   "execution_count": null,
   "id": "af0139e1",
   "metadata": {},
   "outputs": [],
   "source": []
  },
  {
   "cell_type": "code",
   "execution_count": 59,
   "id": "014968de",
   "metadata": {},
   "outputs": [
    {
     "name": "stdout",
     "output_type": "stream",
     "text": [
      "Hello world!\n"
     ]
    }
   ],
   "source": [
    "print(\"Hello world!\")"
   ]
  },
  {
   "cell_type": "code",
   "execution_count": 60,
   "id": "59088964",
   "metadata": {},
   "outputs": [
    {
     "data": {
      "text/plain": [
       "'Hello world!'"
      ]
     },
     "execution_count": 60,
     "metadata": {},
     "output_type": "execute_result"
    }
   ],
   "source": [
    "\"Hello world!\""
   ]
  },
  {
   "cell_type": "code",
   "execution_count": 61,
   "id": "f92d85c2",
   "metadata": {},
   "outputs": [
    {
     "data": {
      "text/plain": [
       "2"
      ]
     },
     "execution_count": 61,
     "metadata": {},
     "output_type": "execute_result"
    }
   ],
   "source": [
    "1+1"
   ]
  },
  {
   "cell_type": "code",
   "execution_count": 62,
   "id": "b3830286",
   "metadata": {},
   "outputs": [
    {
     "name": "stdout",
     "output_type": "stream",
     "text": [
      "2\n"
     ]
    }
   ],
   "source": [
    "print(1+1)"
   ]
  },
  {
   "cell_type": "markdown",
   "id": "892a9de5",
   "metadata": {},
   "source": [
    "* 이렇게 된다면 중복되는 값을 변수로 미리 지정해 사용 가능하다."
   ]
  },
  {
   "cell_type": "code",
   "execution_count": 63,
   "id": "c3ee2e2b",
   "metadata": {},
   "outputs": [],
   "source": [
    "x = \"Hello world!\"\n",
    "y = 1+1"
   ]
  },
  {
   "cell_type": "code",
   "execution_count": 64,
   "id": "91dbb919",
   "metadata": {},
   "outputs": [
    {
     "name": "stdout",
     "output_type": "stream",
     "text": [
      "Hello world!\n"
     ]
    }
   ],
   "source": [
    "print(x)"
   ]
  },
  {
   "cell_type": "code",
   "execution_count": 65,
   "id": "055ea784",
   "metadata": {},
   "outputs": [
    {
     "data": {
      "text/plain": [
       "'Hello world!'"
      ]
     },
     "execution_count": 65,
     "metadata": {},
     "output_type": "execute_result"
    }
   ],
   "source": [
    "x"
   ]
  },
  {
   "cell_type": "code",
   "execution_count": 66,
   "id": "04608a2b",
   "metadata": {},
   "outputs": [
    {
     "data": {
      "text/plain": [
       "2"
      ]
     },
     "execution_count": 66,
     "metadata": {},
     "output_type": "execute_result"
    }
   ],
   "source": [
    "y"
   ]
  },
  {
   "cell_type": "code",
   "execution_count": 67,
   "id": "02c5d7df",
   "metadata": {},
   "outputs": [
    {
     "name": "stdout",
     "output_type": "stream",
     "text": [
      "2\n"
     ]
    }
   ],
   "source": [
    "print(y)"
   ]
  },
  {
   "cell_type": "code",
   "execution_count": null,
   "id": "c2c0bca5",
   "metadata": {},
   "outputs": [],
   "source": []
  },
  {
   "cell_type": "code",
   "execution_count": null,
   "id": "acb41ab4",
   "metadata": {},
   "outputs": [],
   "source": []
  },
  {
   "cell_type": "markdown",
   "id": "dcdd98fd",
   "metadata": {},
   "source": [
    "## 실습 : 변수 유무 찾기"
   ]
  },
  {
   "cell_type": "code",
   "execution_count": 70,
   "id": "84e5c074",
   "metadata": {},
   "outputs": [],
   "source": [
    "# hello가 선언되었는지 확인하는 방법. 그리고 어떤 값이 들어있는지 확인하는 방법 찾아보기."
   ]
  },
  {
   "cell_type": "code",
   "execution_count": 81,
   "id": "b35f0367",
   "metadata": {},
   "outputs": [
    {
     "name": "stdout",
     "output_type": "stream",
     "text": [
      "14 안녕하세요\n",
      "15 안녕하세요\n",
      "프로그램 종료 안녕하세요\n",
      "hello 있음\n",
      "hello\n"
     ]
    }
   ],
   "source": [
    "x = 7\n",
    "y = 9\n",
    "\n",
    "for i in range(x,y):\n",
    "    print(i + x, hello)\n",
    "    \n",
    "print('프로그램 종료', hello)\n",
    "\n",
    "if 'hello' in vars():\n",
    "    print('hello 있음')\n",
    "else:\n",
    "    print('hello 없음')\n",
    "    \n",
    "if hello is not None:\n",
    "    print('hello')"
   ]
  },
  {
   "cell_type": "code",
   "execution_count": 80,
   "id": "1a2a086f",
   "metadata": {},
   "outputs": [
    {
     "data": {
      "text/plain": [
       "{'__name__': '__main__',\n",
       " '__doc__': 'Automatically created module for IPython interactive environment',\n",
       " '__package__': None,\n",
       " '__loader__': None,\n",
       " '__spec__': None,\n",
       " '__builtin__': <module 'builtins' (built-in)>,\n",
       " '__builtins__': <module 'builtins' (built-in)>,\n",
       " '_ih': ['',\n",
       "  'print(\"*\", end=\" \")\\nprint(\"*\", end=\" \")\\nprint(\"*\", end=\" \")\\nprint(\"*\", end=\" \")\\nprint(\"*\", end=\"\\\\n\\\\t\")\\nprint(\"*\", end=\" \")\\nprint(\"*\", end=\" \")\\nprint(\"*\", end=\" \")',\n",
       "  'print(\"*\", end=\" \")\\nprint(\"*\", end=\" \")\\nprint(\"*\", end=\" \")\\nprint(\"*\", end=\" \")\\nprint(\"*\", end=\"\\\\n  \")\\nprint(\"*\", end=\" \")\\nprint(\"*\", end=\" \")\\nprint(\"*\", end=\" \")',\n",
       "  'print(\"*\", end=\" \")\\nprint(\"*\", end=\" \")\\nprint(\"*\", end=\" \")\\nprint(\"*\", end=\" \")\\nprint(\"*\", end=\"\\\\n   \")\\nprint(\"*\", end=\" \")\\nprint(\"*\", end=\" \")\\nprint(\"*\", end=\" \")',\n",
       "  'print(\"*\", end=\" \")\\nprint(\"*\", end=\" \")\\nprint(\"*\", end=\" \")\\nprint(\"*\", end=\" \")\\nprint(\"*\", end=\"\\\\n    \")\\nprint(\"*\", end=\" \")\\nprint(\"*\", end=\" \")\\nprint(\"*\", end=\" \")',\n",
       "  'print(\"* * * * *\", end=\"\\\\n    * * *\")',\n",
       "  'print(\"* * * * *\\\\n    * * *\")',\n",
       "  'print()',\n",
       "  'print(\"\\\\n\\\\t\\\\n\\\\t\\\\n\\\\t\")',\n",
       "  'print(\"\\\\n\\\\t\\\\n\\\\t안녕하세요\\\\n\\\\t\\\\n\\\\t\")',\n",
       "  'print(\"\\\\n\\\\n\\\\n안녕하세요\\\\n\\\\n\\\\n\")',\n",
       "  \"for i in range(0,10):\\n    print('hello')\",\n",
       "  \"for i in range(0,5):\\n    print('hello')\",\n",
       "  \"for i in range(1,5):\\n    print('hello')\",\n",
       "  \"for i in range(4,5):\\n    print('hello')\",\n",
       "  \"for i in range(-4,5):\\n    print('hello')\",\n",
       "  \"for i in range(0,5):\\n    print('hello')\",\n",
       "  'for i in range(0,5):\\n    print(i)',\n",
       "  'for i in range(5):\\n    print(i)',\n",
       "  'for i in range(5):\\n    print(i)     # 숫자가 하나만 들어간다면 앞 숫자는 0으로 고정된다.',\n",
       "  'for i in range(0,10,2):\\n    print(i)',\n",
       "  'for i in range(0,10,2):\\n    print(i)      # step 을 줄 수도 있다. ',\n",
       "  'for i in range(0,10,3):\\n    print(i)',\n",
       "  'for i in range(-6,-2):\\n    print(i)',\n",
       "  'for i in range(-6,-9):\\n    print(i)',\n",
       "  'for i in range(-6,-9):\\n    print(i) # 이와 같이 뒷 숫자가 더 작아버리면 아예 범위를 벗어나 출력되지 않는다.',\n",
       "  '# 만약 내림차순으로 해보고 싶다면 step을 -값으로 주면 된다.\\nfor i in range(-6,-2,-1):\\n    print(i)',\n",
       "  '# 만약 내림차순으로 해보고 싶다면 step을 -값으로 주면 된다.\\nfor i in range(-2,-6,-1):\\n    print(i)',\n",
       "  '# 만약 내림차순으로 해보고 싶다면 step을 -값으로 주면 된다.\\nfor i in range(9,2,-1):\\n    print(i)',\n",
       "  '# .5 씩 내릴순 없다.\\nfor i in range(9,2,-0.5):\\n    print(i)',\n",
       "  'for i in [9,2,4,6,5]:\\n    print(i)',\n",
       "  'for i in [9,2,4,6,5]:\\n    print(i)  # 리스트와 같은 것을 in 뒤에 붙여서 순차적으로 출력할 수도 있다.',\n",
       "  'for i in \"hello\":\\n    print(i)',\n",
       "  'for i in range(1.5):\\n    print(2*i+1)',\n",
       "  'for i in range(1,5):\\n    print(2*i+1)',\n",
       "  'for i in range(1,5):\\n    print(2*i+1) # 이와 같이 연산도 가능하다.',\n",
       "  'for 물 in range(1,5):\\n    print(2*물+1)',\n",
       "  'for 물 in range(1,5):\\n    print(2*물+1) # 이와 같이 i를 다른 이름으로 변경할 수도 있다.',\n",
       "  'for i in range(1,11):\\n    print(30//i)',\n",
       "  'for i in range(1,11):\\n    print(30//i)',\n",
       "  'for i in range(1,11):\\n    for j in range(2,10):\\n        i+j',\n",
       "  \"today = '11/3'\\n\\n안녕하세요, 오늘은 파이썬 3차시입니다\\n(f'안녕하세요, {today}은 파이썬 3차시입니다')\",\n",
       "  \"today = '11/3'\\n\\n(f'안녕하세요, {today}은 파이썬 3차시입니다')\",\n",
       "  \"today = '11/3'\\n\\n(f'안녕하세요, {today}은 파이썬 3차시입니다.')\",\n",
       "  \"today = '11/3'\\n\\n('안녕하세요, %s은 파이썬 3차시입니다.' %today)\",\n",
       "  \"today = '11/3'\\n\\n(f'안녕하세요, {today} 파이썬 3차시입니다.')\",\n",
       "  \"today = '11/3'\\n\\n('안녕하세요, %s 파이썬 3차시입니다.' %today)\",\n",
       "  'today = 221103.00',\n",
       "  'type(today)',\n",
       "  \"'안녕하세요, %s 파이썬 3차시입니다.' %today\",\n",
       "  \"get_ipython().run_line_magic('s', ': 문자열로 입력될 때.')\\nget_ipython().run_line_magic('f', ': 실수로 입력될 때')\",\n",
       "  \"num = 456.1234\\n\\n'입력된 숫자는 %.20f입니다.' %num\",\n",
       "  \"num = 456.1234\\n\\n'입력된 숫자는 %.2f입니다.' %num\",\n",
       "  \"num = 456.1234\\n\\n'입력된 숫자는 %.2f입니다.' %num   # %.2f 와 같이 쓰면 소수점 아래 유효숫자 자릿수까지 맞춰준다.\",\n",
       "  'today = 221103.456',\n",
       "  \"(f'안녕하세요. {today} 파이썬 3차시입니다.)\",\n",
       "  \"(f'안녕하세요. {today} 파이썬 3차시입니다.'')\",\n",
       "  \"(f'안녕하세요. {today} 파이썬 3차시입니다.')\",\n",
       "  \"'안녕하세요. {} 파이썬 3차시입니다.'.format(today)\",\n",
       "  'print(\"Hello world!\")',\n",
       "  '\"Hello world!\"',\n",
       "  '1+1',\n",
       "  'print(1+1)',\n",
       "  'x = \"Hello world!\"\\ny = 1+1',\n",
       "  'print(x)',\n",
       "  'x',\n",
       "  'y',\n",
       "  'print(y)',\n",
       "  \"hello = '안녕하세요'\",\n",
       "  \"hello = '안녕하세요'\",\n",
       "  '# hello가 선언되었는지 확인하는 방법. 그리고 어떤 값이 들어있는지 확인하는 방법 찾아보기.',\n",
       "  \"x = 7\\ny = 9\\n\\nfor i in range(x,y):\\n    print(i + x, hello)\\n    \\nprint('프로그램 종료', hello)\",\n",
       "  \"x = 7\\ny = 9\\n\\nfor i in range(x,y):\\n    print(i + x, hello)\\n    \\nprint('프로그램 종료', hello)\\n\\nif 'hello' in locals():\\n  # myVar exists.\",\n",
       "  \"x = 7\\ny = 9\\n\\nfor i in range(x,y):\\n    print(i + x, hello)\\n    \\nprint('프로그램 종료', hello)\\n\\nif 'hello' in locals():\\n  print('hello 있음')\",\n",
       "  \"x = 7\\ny = 9\\n\\nfor i in range(x,y):\\n    print(i + x, hello)\\n    \\nprint('프로그램 종료', hello)\\n\\nif 'hello' in locals():\\n  print('hello 있음')\\nelse:\\n    'hello없음'\",\n",
       "  \"x = 7\\ny = 9\\n\\nfor i in range(x,y):\\n    print(i + x, hello)\\n    \\nprint('프로그램 종료', hello)\\n\\nif 'hello' in locals():\\n  print('hello 있음')\\nelse:\\n    print('hello없음')\",\n",
       "  \"x = 7\\ny = 9\\n\\nfor i in range(x,y):\\n    print(i + x, hello)\\n    \\nprint('프로그램 종료', hello)\\n\\nif 'hello' in locals():\\n    print('hello 있음')\\nelse:\\n    print('hello 없음')\",\n",
       "  \"x = 7\\ny = 9\\n\\nfor i in range(x,y):\\n    print(i + x, hello)\\n    \\nprint('프로그램 종료', hello)\\n\\nif hello in locals():\\n    print('hello 있음')\\nelse:\\n    print('hello 없음')\\n    \\nif hello is not None:\\n    print(' hello')\",\n",
       "  \"x = 7\\ny = 9\\n\\nfor i in range(x,y):\\n    print(i + x, hello)\\n    \\nprint('프로그램 종료', hello)\\n\\nif 'hello' in locals():\\n    print('hello 있음')\\nelse:\\n    print('hello 없음')\\n    \\nif hello is not None:\\n    print(' hello')\",\n",
       "  \"x = 7\\ny = 9\\n\\nfor i in range(x,y):\\n    print(i + x, hello)\\n    \\nprint('프로그램 종료', hello)\\n\\nif 'hello' in vars():\\n    print('hello 있음')\\nelse:\\n    print('hello 없음')\\n    \\nif hello is not None:\\n    print(' hello')\",\n",
       "  'vars()'],\n",
       " '_oh': {42: '안녕하세요, 11/3은 파이썬 3차시입니다',\n",
       "  43: '안녕하세요, 11/3은 파이썬 3차시입니다.',\n",
       "  44: '안녕하세요, 11/3은 파이썬 3차시입니다.',\n",
       "  45: '안녕하세요, 11/3 파이썬 3차시입니다.',\n",
       "  46: '안녕하세요, 11/3 파이썬 3차시입니다.',\n",
       "  48: float,\n",
       "  49: '안녕하세요, 221103.0 파이썬 3차시입니다.',\n",
       "  51: '입력된 숫자는 456.12340000000000372893입니다.',\n",
       "  52: '입력된 숫자는 456.12입니다.',\n",
       "  53: '입력된 숫자는 456.12입니다.',\n",
       "  57: '안녕하세요. 221103.456 파이썬 3차시입니다.',\n",
       "  58: '안녕하세요. 221103.456 파이썬 3차시입니다.',\n",
       "  60: 'Hello world!',\n",
       "  61: 2,\n",
       "  65: 'Hello world!',\n",
       "  66: 2},\n",
       " '_dh': ['C:\\\\Users\\\\user\\\\Documents'],\n",
       " 'In': ['',\n",
       "  'print(\"*\", end=\" \")\\nprint(\"*\", end=\" \")\\nprint(\"*\", end=\" \")\\nprint(\"*\", end=\" \")\\nprint(\"*\", end=\"\\\\n\\\\t\")\\nprint(\"*\", end=\" \")\\nprint(\"*\", end=\" \")\\nprint(\"*\", end=\" \")',\n",
       "  'print(\"*\", end=\" \")\\nprint(\"*\", end=\" \")\\nprint(\"*\", end=\" \")\\nprint(\"*\", end=\" \")\\nprint(\"*\", end=\"\\\\n  \")\\nprint(\"*\", end=\" \")\\nprint(\"*\", end=\" \")\\nprint(\"*\", end=\" \")',\n",
       "  'print(\"*\", end=\" \")\\nprint(\"*\", end=\" \")\\nprint(\"*\", end=\" \")\\nprint(\"*\", end=\" \")\\nprint(\"*\", end=\"\\\\n   \")\\nprint(\"*\", end=\" \")\\nprint(\"*\", end=\" \")\\nprint(\"*\", end=\" \")',\n",
       "  'print(\"*\", end=\" \")\\nprint(\"*\", end=\" \")\\nprint(\"*\", end=\" \")\\nprint(\"*\", end=\" \")\\nprint(\"*\", end=\"\\\\n    \")\\nprint(\"*\", end=\" \")\\nprint(\"*\", end=\" \")\\nprint(\"*\", end=\" \")',\n",
       "  'print(\"* * * * *\", end=\"\\\\n    * * *\")',\n",
       "  'print(\"* * * * *\\\\n    * * *\")',\n",
       "  'print()',\n",
       "  'print(\"\\\\n\\\\t\\\\n\\\\t\\\\n\\\\t\")',\n",
       "  'print(\"\\\\n\\\\t\\\\n\\\\t안녕하세요\\\\n\\\\t\\\\n\\\\t\")',\n",
       "  'print(\"\\\\n\\\\n\\\\n안녕하세요\\\\n\\\\n\\\\n\")',\n",
       "  \"for i in range(0,10):\\n    print('hello')\",\n",
       "  \"for i in range(0,5):\\n    print('hello')\",\n",
       "  \"for i in range(1,5):\\n    print('hello')\",\n",
       "  \"for i in range(4,5):\\n    print('hello')\",\n",
       "  \"for i in range(-4,5):\\n    print('hello')\",\n",
       "  \"for i in range(0,5):\\n    print('hello')\",\n",
       "  'for i in range(0,5):\\n    print(i)',\n",
       "  'for i in range(5):\\n    print(i)',\n",
       "  'for i in range(5):\\n    print(i)     # 숫자가 하나만 들어간다면 앞 숫자는 0으로 고정된다.',\n",
       "  'for i in range(0,10,2):\\n    print(i)',\n",
       "  'for i in range(0,10,2):\\n    print(i)      # step 을 줄 수도 있다. ',\n",
       "  'for i in range(0,10,3):\\n    print(i)',\n",
       "  'for i in range(-6,-2):\\n    print(i)',\n",
       "  'for i in range(-6,-9):\\n    print(i)',\n",
       "  'for i in range(-6,-9):\\n    print(i) # 이와 같이 뒷 숫자가 더 작아버리면 아예 범위를 벗어나 출력되지 않는다.',\n",
       "  '# 만약 내림차순으로 해보고 싶다면 step을 -값으로 주면 된다.\\nfor i in range(-6,-2,-1):\\n    print(i)',\n",
       "  '# 만약 내림차순으로 해보고 싶다면 step을 -값으로 주면 된다.\\nfor i in range(-2,-6,-1):\\n    print(i)',\n",
       "  '# 만약 내림차순으로 해보고 싶다면 step을 -값으로 주면 된다.\\nfor i in range(9,2,-1):\\n    print(i)',\n",
       "  '# .5 씩 내릴순 없다.\\nfor i in range(9,2,-0.5):\\n    print(i)',\n",
       "  'for i in [9,2,4,6,5]:\\n    print(i)',\n",
       "  'for i in [9,2,4,6,5]:\\n    print(i)  # 리스트와 같은 것을 in 뒤에 붙여서 순차적으로 출력할 수도 있다.',\n",
       "  'for i in \"hello\":\\n    print(i)',\n",
       "  'for i in range(1.5):\\n    print(2*i+1)',\n",
       "  'for i in range(1,5):\\n    print(2*i+1)',\n",
       "  'for i in range(1,5):\\n    print(2*i+1) # 이와 같이 연산도 가능하다.',\n",
       "  'for 물 in range(1,5):\\n    print(2*물+1)',\n",
       "  'for 물 in range(1,5):\\n    print(2*물+1) # 이와 같이 i를 다른 이름으로 변경할 수도 있다.',\n",
       "  'for i in range(1,11):\\n    print(30//i)',\n",
       "  'for i in range(1,11):\\n    print(30//i)',\n",
       "  'for i in range(1,11):\\n    for j in range(2,10):\\n        i+j',\n",
       "  \"today = '11/3'\\n\\n안녕하세요, 오늘은 파이썬 3차시입니다\\n(f'안녕하세요, {today}은 파이썬 3차시입니다')\",\n",
       "  \"today = '11/3'\\n\\n(f'안녕하세요, {today}은 파이썬 3차시입니다')\",\n",
       "  \"today = '11/3'\\n\\n(f'안녕하세요, {today}은 파이썬 3차시입니다.')\",\n",
       "  \"today = '11/3'\\n\\n('안녕하세요, %s은 파이썬 3차시입니다.' %today)\",\n",
       "  \"today = '11/3'\\n\\n(f'안녕하세요, {today} 파이썬 3차시입니다.')\",\n",
       "  \"today = '11/3'\\n\\n('안녕하세요, %s 파이썬 3차시입니다.' %today)\",\n",
       "  'today = 221103.00',\n",
       "  'type(today)',\n",
       "  \"'안녕하세요, %s 파이썬 3차시입니다.' %today\",\n",
       "  \"get_ipython().run_line_magic('s', ': 문자열로 입력될 때.')\\nget_ipython().run_line_magic('f', ': 실수로 입력될 때')\",\n",
       "  \"num = 456.1234\\n\\n'입력된 숫자는 %.20f입니다.' %num\",\n",
       "  \"num = 456.1234\\n\\n'입력된 숫자는 %.2f입니다.' %num\",\n",
       "  \"num = 456.1234\\n\\n'입력된 숫자는 %.2f입니다.' %num   # %.2f 와 같이 쓰면 소수점 아래 유효숫자 자릿수까지 맞춰준다.\",\n",
       "  'today = 221103.456',\n",
       "  \"(f'안녕하세요. {today} 파이썬 3차시입니다.)\",\n",
       "  \"(f'안녕하세요. {today} 파이썬 3차시입니다.'')\",\n",
       "  \"(f'안녕하세요. {today} 파이썬 3차시입니다.')\",\n",
       "  \"'안녕하세요. {} 파이썬 3차시입니다.'.format(today)\",\n",
       "  'print(\"Hello world!\")',\n",
       "  '\"Hello world!\"',\n",
       "  '1+1',\n",
       "  'print(1+1)',\n",
       "  'x = \"Hello world!\"\\ny = 1+1',\n",
       "  'print(x)',\n",
       "  'x',\n",
       "  'y',\n",
       "  'print(y)',\n",
       "  \"hello = '안녕하세요'\",\n",
       "  \"hello = '안녕하세요'\",\n",
       "  '# hello가 선언되었는지 확인하는 방법. 그리고 어떤 값이 들어있는지 확인하는 방법 찾아보기.',\n",
       "  \"x = 7\\ny = 9\\n\\nfor i in range(x,y):\\n    print(i + x, hello)\\n    \\nprint('프로그램 종료', hello)\",\n",
       "  \"x = 7\\ny = 9\\n\\nfor i in range(x,y):\\n    print(i + x, hello)\\n    \\nprint('프로그램 종료', hello)\\n\\nif 'hello' in locals():\\n  # myVar exists.\",\n",
       "  \"x = 7\\ny = 9\\n\\nfor i in range(x,y):\\n    print(i + x, hello)\\n    \\nprint('프로그램 종료', hello)\\n\\nif 'hello' in locals():\\n  print('hello 있음')\",\n",
       "  \"x = 7\\ny = 9\\n\\nfor i in range(x,y):\\n    print(i + x, hello)\\n    \\nprint('프로그램 종료', hello)\\n\\nif 'hello' in locals():\\n  print('hello 있음')\\nelse:\\n    'hello없음'\",\n",
       "  \"x = 7\\ny = 9\\n\\nfor i in range(x,y):\\n    print(i + x, hello)\\n    \\nprint('프로그램 종료', hello)\\n\\nif 'hello' in locals():\\n  print('hello 있음')\\nelse:\\n    print('hello없음')\",\n",
       "  \"x = 7\\ny = 9\\n\\nfor i in range(x,y):\\n    print(i + x, hello)\\n    \\nprint('프로그램 종료', hello)\\n\\nif 'hello' in locals():\\n    print('hello 있음')\\nelse:\\n    print('hello 없음')\",\n",
       "  \"x = 7\\ny = 9\\n\\nfor i in range(x,y):\\n    print(i + x, hello)\\n    \\nprint('프로그램 종료', hello)\\n\\nif hello in locals():\\n    print('hello 있음')\\nelse:\\n    print('hello 없음')\\n    \\nif hello is not None:\\n    print(' hello')\",\n",
       "  \"x = 7\\ny = 9\\n\\nfor i in range(x,y):\\n    print(i + x, hello)\\n    \\nprint('프로그램 종료', hello)\\n\\nif 'hello' in locals():\\n    print('hello 있음')\\nelse:\\n    print('hello 없음')\\n    \\nif hello is not None:\\n    print(' hello')\",\n",
       "  \"x = 7\\ny = 9\\n\\nfor i in range(x,y):\\n    print(i + x, hello)\\n    \\nprint('프로그램 종료', hello)\\n\\nif 'hello' in vars():\\n    print('hello 있음')\\nelse:\\n    print('hello 없음')\\n    \\nif hello is not None:\\n    print(' hello')\",\n",
       "  'vars()'],\n",
       " 'Out': {42: '안녕하세요, 11/3은 파이썬 3차시입니다',\n",
       "  43: '안녕하세요, 11/3은 파이썬 3차시입니다.',\n",
       "  44: '안녕하세요, 11/3은 파이썬 3차시입니다.',\n",
       "  45: '안녕하세요, 11/3 파이썬 3차시입니다.',\n",
       "  46: '안녕하세요, 11/3 파이썬 3차시입니다.',\n",
       "  48: float,\n",
       "  49: '안녕하세요, 221103.0 파이썬 3차시입니다.',\n",
       "  51: '입력된 숫자는 456.12340000000000372893입니다.',\n",
       "  52: '입력된 숫자는 456.12입니다.',\n",
       "  53: '입력된 숫자는 456.12입니다.',\n",
       "  57: '안녕하세요. 221103.456 파이썬 3차시입니다.',\n",
       "  58: '안녕하세요. 221103.456 파이썬 3차시입니다.',\n",
       "  60: 'Hello world!',\n",
       "  61: 2,\n",
       "  65: 'Hello world!',\n",
       "  66: 2},\n",
       " 'get_ipython': <bound method InteractiveShell.get_ipython of <ipykernel.zmqshell.ZMQInteractiveShell object at 0x000002664B50D160>>,\n",
       " 'exit': <IPython.core.autocall.ZMQExitAutocall at 0x2664b50ddf0>,\n",
       " 'quit': <IPython.core.autocall.ZMQExitAutocall at 0x2664b50ddf0>,\n",
       " '_': 2,\n",
       " '__': 'Hello world!',\n",
       " '___': 2,\n",
       " '_i': \"x = 7\\ny = 9\\n\\nfor i in range(x,y):\\n    print(i + x, hello)\\n    \\nprint('프로그램 종료', hello)\\n\\nif 'hello' in vars():\\n    print('hello 있음')\\nelse:\\n    print('hello 없음')\\n    \\nif hello is not None:\\n    print(' hello')\",\n",
       " '_ii': \"x = 7\\ny = 9\\n\\nfor i in range(x,y):\\n    print(i + x, hello)\\n    \\nprint('프로그램 종료', hello)\\n\\nif 'hello' in locals():\\n    print('hello 있음')\\nelse:\\n    print('hello 없음')\\n    \\nif hello is not None:\\n    print(' hello')\",\n",
       " '_iii': \"x = 7\\ny = 9\\n\\nfor i in range(x,y):\\n    print(i + x, hello)\\n    \\nprint('프로그램 종료', hello)\\n\\nif hello in locals():\\n    print('hello 있음')\\nelse:\\n    print('hello 없음')\\n    \\nif hello is not None:\\n    print(' hello')\",\n",
       " '_i1': 'print(\"*\", end=\" \")\\nprint(\"*\", end=\" \")\\nprint(\"*\", end=\" \")\\nprint(\"*\", end=\" \")\\nprint(\"*\", end=\"\\\\n\\\\t\")\\nprint(\"*\", end=\" \")\\nprint(\"*\", end=\" \")\\nprint(\"*\", end=\" \")',\n",
       " '_i2': 'print(\"*\", end=\" \")\\nprint(\"*\", end=\" \")\\nprint(\"*\", end=\" \")\\nprint(\"*\", end=\" \")\\nprint(\"*\", end=\"\\\\n  \")\\nprint(\"*\", end=\" \")\\nprint(\"*\", end=\" \")\\nprint(\"*\", end=\" \")',\n",
       " '_i3': 'print(\"*\", end=\" \")\\nprint(\"*\", end=\" \")\\nprint(\"*\", end=\" \")\\nprint(\"*\", end=\" \")\\nprint(\"*\", end=\"\\\\n   \")\\nprint(\"*\", end=\" \")\\nprint(\"*\", end=\" \")\\nprint(\"*\", end=\" \")',\n",
       " '_i4': 'print(\"*\", end=\" \")\\nprint(\"*\", end=\" \")\\nprint(\"*\", end=\" \")\\nprint(\"*\", end=\" \")\\nprint(\"*\", end=\"\\\\n    \")\\nprint(\"*\", end=\" \")\\nprint(\"*\", end=\" \")\\nprint(\"*\", end=\" \")',\n",
       " '_i5': 'print(\"* * * * *\", end=\"\\\\n    * * *\")',\n",
       " '_i6': 'print(\"* * * * *\\\\n    * * *\")',\n",
       " '_i7': 'print()',\n",
       " '_i8': 'print(\"\\\\n\\\\t\\\\n\\\\t\\\\n\\\\t\")',\n",
       " '_i9': 'print(\"\\\\n\\\\t\\\\n\\\\t안녕하세요\\\\n\\\\t\\\\n\\\\t\")',\n",
       " '_i10': 'print(\"\\\\n\\\\n\\\\n안녕하세요\\\\n\\\\n\\\\n\")',\n",
       " '_i11': \"for i in range(0,10):\\n    print('hello')\",\n",
       " 'i': 8,\n",
       " '_i12': \"for i in range(0,5):\\n    print('hello')\",\n",
       " '_i13': \"for i in range(1,5):\\n    print('hello')\",\n",
       " '_i14': \"for i in range(4,5):\\n    print('hello')\",\n",
       " '_i15': \"for i in range(-4,5):\\n    print('hello')\",\n",
       " '_i16': \"for i in range(0,5):\\n    print('hello')\",\n",
       " '_i17': 'for i in range(0,5):\\n    print(i)',\n",
       " '_i18': 'for i in range(5):\\n    print(i)',\n",
       " '_i19': 'for i in range(5):\\n    print(i)     # 숫자가 하나만 들어간다면 앞 숫자는 0으로 고정된다.',\n",
       " '_i20': 'for i in range(0,10,2):\\n    print(i)',\n",
       " '_i21': 'for i in range(0,10,2):\\n    print(i)      # step 을 줄 수도 있다. ',\n",
       " '_i22': 'for i in range(0,10,3):\\n    print(i)',\n",
       " '_i23': 'for i in range(-6,-2):\\n    print(i)',\n",
       " '_i24': 'for i in range(-6,-9):\\n    print(i)',\n",
       " '_i25': 'for i in range(-6,-9):\\n    print(i) # 이와 같이 뒷 숫자가 더 작아버리면 아예 범위를 벗어나 출력되지 않는다.',\n",
       " '_i26': '# 만약 내림차순으로 해보고 싶다면 step을 -값으로 주면 된다.\\nfor i in range(-6,-2,-1):\\n    print(i)',\n",
       " '_i27': '# 만약 내림차순으로 해보고 싶다면 step을 -값으로 주면 된다.\\nfor i in range(-2,-6,-1):\\n    print(i)',\n",
       " '_i28': '# 만약 내림차순으로 해보고 싶다면 step을 -값으로 주면 된다.\\nfor i in range(9,2,-1):\\n    print(i)',\n",
       " '_i29': '# .5 씩 내릴순 없다.\\nfor i in range(9,2,-0.5):\\n    print(i)',\n",
       " '_i30': 'for i in [9,2,4,6,5]:\\n    print(i)',\n",
       " '_i31': 'for i in [9,2,4,6,5]:\\n    print(i)  # 리스트와 같은 것을 in 뒤에 붙여서 순차적으로 출력할 수도 있다.',\n",
       " '_i32': 'for i in \"hello\":\\n    print(i)',\n",
       " '_i33': 'for i in range(1.5):\\n    print(2*i+1)',\n",
       " '_i34': 'for i in range(1,5):\\n    print(2*i+1)',\n",
       " '_i35': 'for i in range(1,5):\\n    print(2*i+1) # 이와 같이 연산도 가능하다.',\n",
       " '_i36': 'for 물 in range(1,5):\\n    print(2*물+1)',\n",
       " '물': 4,\n",
       " '_i37': 'for 물 in range(1,5):\\n    print(2*물+1) # 이와 같이 i를 다른 이름으로 변경할 수도 있다.',\n",
       " '_i38': 'for i in range(1,11):\\n    print(30//i)',\n",
       " '_i39': 'for i in range(1,11):\\n    print(30//i)',\n",
       " '_i40': 'for i in range(1,11):\\n    for j in range(2,10):\\n        i+j',\n",
       " 'j': 9,\n",
       " '_i41': \"today = '11/3'\\n\\n안녕하세요, 오늘은 파이썬 3차시입니다\\n(f'안녕하세요, {today}은 파이썬 3차시입니다')\",\n",
       " '_i42': \"today = '11/3'\\n\\n(f'안녕하세요, {today}은 파이썬 3차시입니다')\",\n",
       " 'today': 221103.456,\n",
       " '_42': '안녕하세요, 11/3은 파이썬 3차시입니다',\n",
       " '_i43': \"today = '11/3'\\n\\n(f'안녕하세요, {today}은 파이썬 3차시입니다.')\",\n",
       " '_43': '안녕하세요, 11/3은 파이썬 3차시입니다.',\n",
       " '_i44': \"today = '11/3'\\n\\n('안녕하세요, %s은 파이썬 3차시입니다.' %today)\",\n",
       " '_44': '안녕하세요, 11/3은 파이썬 3차시입니다.',\n",
       " '_i45': \"today = '11/3'\\n\\n(f'안녕하세요, {today} 파이썬 3차시입니다.')\",\n",
       " '_45': '안녕하세요, 11/3 파이썬 3차시입니다.',\n",
       " '_i46': \"today = '11/3'\\n\\n('안녕하세요, %s 파이썬 3차시입니다.' %today)\",\n",
       " '_46': '안녕하세요, 11/3 파이썬 3차시입니다.',\n",
       " '_i47': 'today = 221103.00',\n",
       " '_i48': 'type(today)',\n",
       " '_48': float,\n",
       " '_i49': \"'안녕하세요, %s 파이썬 3차시입니다.' %today\",\n",
       " '_49': '안녕하세요, 221103.0 파이썬 3차시입니다.',\n",
       " '_i50': '%s : 문자열로 입력될 때.\\n%f : 실수로 입력될 때',\n",
       " '_i51': \"num = 456.1234\\n\\n'입력된 숫자는 %.20f입니다.' %num\",\n",
       " 'num': 456.1234,\n",
       " '_51': '입력된 숫자는 456.12340000000000372893입니다.',\n",
       " '_i52': \"num = 456.1234\\n\\n'입력된 숫자는 %.2f입니다.' %num\",\n",
       " '_52': '입력된 숫자는 456.12입니다.',\n",
       " '_i53': \"num = 456.1234\\n\\n'입력된 숫자는 %.2f입니다.' %num   # %.2f 와 같이 쓰면 소수점 아래 유효숫자 자릿수까지 맞춰준다.\",\n",
       " '_53': '입력된 숫자는 456.12입니다.',\n",
       " '_i54': 'today = 221103.456',\n",
       " '_i55': \"(f'안녕하세요. {today} 파이썬 3차시입니다.)\",\n",
       " '_i56': \"(f'안녕하세요. {today} 파이썬 3차시입니다.'')\",\n",
       " '_i57': \"(f'안녕하세요. {today} 파이썬 3차시입니다.')\",\n",
       " '_57': '안녕하세요. 221103.456 파이썬 3차시입니다.',\n",
       " '_i58': \"'안녕하세요. {} 파이썬 3차시입니다.'.format(today)\",\n",
       " '_58': '안녕하세요. 221103.456 파이썬 3차시입니다.',\n",
       " '_i59': 'print(\"Hello world!\")',\n",
       " '_i60': '\"Hello world!\"',\n",
       " '_60': 'Hello world!',\n",
       " '_i61': '1+1',\n",
       " '_61': 2,\n",
       " '_i62': 'print(1+1)',\n",
       " '_i63': 'x = \"Hello world!\"\\ny = 1+1',\n",
       " 'x': 7,\n",
       " 'y': 9,\n",
       " '_i64': 'print(x)',\n",
       " '_i65': 'x',\n",
       " '_65': 'Hello world!',\n",
       " '_i66': 'y',\n",
       " '_66': 2,\n",
       " '_i67': 'print(y)',\n",
       " '_i68': \"hello = '안녕하세요'\",\n",
       " 'hello': '안녕하세요',\n",
       " '_i69': \"hello = '안녕하세요'\",\n",
       " '_i70': '# hello가 선언되었는지 확인하는 방법. 그리고 어떤 값이 들어있는지 확인하는 방법 찾아보기.',\n",
       " '_i71': \"x = 7\\ny = 9\\n\\nfor i in range(x,y):\\n    print(i + x, hello)\\n    \\nprint('프로그램 종료', hello)\",\n",
       " '_i72': \"x = 7\\ny = 9\\n\\nfor i in range(x,y):\\n    print(i + x, hello)\\n    \\nprint('프로그램 종료', hello)\\n\\nif 'hello' in locals():\\n  # myVar exists.\",\n",
       " '_i73': \"x = 7\\ny = 9\\n\\nfor i in range(x,y):\\n    print(i + x, hello)\\n    \\nprint('프로그램 종료', hello)\\n\\nif 'hello' in locals():\\n  print('hello 있음')\",\n",
       " '_i74': \"x = 7\\ny = 9\\n\\nfor i in range(x,y):\\n    print(i + x, hello)\\n    \\nprint('프로그램 종료', hello)\\n\\nif 'hello' in locals():\\n  print('hello 있음')\\nelse:\\n    'hello없음'\",\n",
       " '_i75': \"x = 7\\ny = 9\\n\\nfor i in range(x,y):\\n    print(i + x, hello)\\n    \\nprint('프로그램 종료', hello)\\n\\nif 'hello' in locals():\\n  print('hello 있음')\\nelse:\\n    print('hello없음')\",\n",
       " '_i76': \"x = 7\\ny = 9\\n\\nfor i in range(x,y):\\n    print(i + x, hello)\\n    \\nprint('프로그램 종료', hello)\\n\\nif 'hello' in locals():\\n    print('hello 있음')\\nelse:\\n    print('hello 없음')\",\n",
       " '_i77': \"x = 7\\ny = 9\\n\\nfor i in range(x,y):\\n    print(i + x, hello)\\n    \\nprint('프로그램 종료', hello)\\n\\nif hello in locals():\\n    print('hello 있음')\\nelse:\\n    print('hello 없음')\\n    \\nif hello is not None:\\n    print(' hello')\",\n",
       " '_i78': \"x = 7\\ny = 9\\n\\nfor i in range(x,y):\\n    print(i + x, hello)\\n    \\nprint('프로그램 종료', hello)\\n\\nif 'hello' in locals():\\n    print('hello 있음')\\nelse:\\n    print('hello 없음')\\n    \\nif hello is not None:\\n    print(' hello')\",\n",
       " '_i79': \"x = 7\\ny = 9\\n\\nfor i in range(x,y):\\n    print(i + x, hello)\\n    \\nprint('프로그램 종료', hello)\\n\\nif 'hello' in vars():\\n    print('hello 있음')\\nelse:\\n    print('hello 없음')\\n    \\nif hello is not None:\\n    print(' hello')\",\n",
       " '_i80': 'vars()'}"
      ]
     },
     "execution_count": 80,
     "metadata": {},
     "output_type": "execute_result"
    }
   ],
   "source": [
    "vars()"
   ]
  },
  {
   "cell_type": "markdown",
   "id": "8d32fef7",
   "metadata": {},
   "source": [
    "## range 범위를 변수로 조절하는 법"
   ]
  },
  {
   "cell_type": "code",
   "execution_count": 82,
   "id": "24289b23",
   "metadata": {},
   "outputs": [
    {
     "data": {
      "text/plain": [
       "range(0, 11)"
      ]
     },
     "execution_count": 82,
     "metadata": {},
     "output_type": "execute_result"
    }
   ],
   "source": [
    "range(0,11)"
   ]
  },
  {
   "cell_type": "markdown",
   "id": "eac7dd2e",
   "metadata": {},
   "source": [
    "## 실습: range 범위 조절하기\n",
    "* for ~ range문을 이용해서 4-8, 9-12, 16-20 범위에 따라 'hello'를 반복해서 출력한다.\n",
    "* 단, range에서는 두 가지의 변수를 받도록 한다."
   ]
  },
  {
   "cell_type": "code",
   "execution_count": 86,
   "id": "53655106",
   "metadata": {},
   "outputs": [
    {
     "name": "stdout",
     "output_type": "stream",
     "text": [
      "hello\n",
      "hello\n",
      "hello\n",
      "hello\n",
      "hello\n",
      "hello\n",
      "hello\n",
      "hello\n",
      "hello\n",
      "hello\n",
      "hello\n",
      "hello\n",
      "hello\n",
      "hello\n"
     ]
    }
   ],
   "source": [
    "x = 4\n",
    "y = 9\n",
    "\n",
    "for i in range(x,y):\n",
    "    print('hello')\n",
    "\n",
    "x = 9\n",
    "y = 13\n",
    "\n",
    "for i in range(x,y):\n",
    "    print('hello')\n",
    "    \n",
    "x = 16\n",
    "y = 21\n",
    "\n",
    "for i in range(x,y):\n",
    "    print('hello')"
   ]
  },
  {
   "cell_type": "code",
   "execution_count": 88,
   "id": "b11dc5ab",
   "metadata": {},
   "outputs": [
    {
     "name": "stdout",
     "output_type": "stream",
     "text": [
      "4\n",
      "5\n",
      "6\n",
      "7\n",
      "8\n",
      "9\n",
      "10\n",
      "11\n",
      "12\n",
      "16\n",
      "17\n",
      "18\n",
      "19\n",
      "20\n"
     ]
    }
   ],
   "source": [
    "x = 4\n",
    "y = 8\n",
    "\n",
    "for i in range(x,y+1):\n",
    "    print(i)\n",
    "\n",
    "x = 9\n",
    "y = 12\n",
    "\n",
    "for i in range(x,y+1):\n",
    "    print(i)\n",
    "    \n",
    "x = 16\n",
    "y = 20\n",
    "\n",
    "for i in range(x,y+1):\n",
    "    print(i)"
   ]
  },
  {
   "cell_type": "code",
   "execution_count": 94,
   "id": "bc416550",
   "metadata": {},
   "outputs": [
    {
     "name": "stdout",
     "output_type": "stream",
     "text": [
      "1 번째 j값이 변하는 루프입니다.\n",
      "1 번째 루프입니다.\n",
      "13\n",
      "13\n",
      "2 번째 루프입니다.\n",
      "14\n",
      "12\n",
      "3 번째 루프입니다.\n",
      "15\n",
      "11\n",
      "4 번째 루프입니다.\n",
      "16\n",
      "10\n",
      "5 번째 루프입니다.\n",
      "17\n",
      "9\n",
      "6 번째 루프입니다.\n",
      "18\n",
      "8\n",
      "7 번째 루프입니다.\n",
      "19\n",
      "7\n",
      "8 번째 루프입니다.\n",
      "20\n",
      "6\n",
      "9 번째 루프입니다.\n",
      "21\n",
      "5\n",
      "10 번째 루프입니다.\n",
      "22\n",
      "4\n",
      "2 번째 j값이 변하는 루프입니다.\n",
      "1 번째 루프입니다.\n",
      "13\n",
      "13\n",
      "2 번째 루프입니다.\n",
      "14\n",
      "12\n",
      "3 번째 루프입니다.\n",
      "15\n",
      "11\n",
      "4 번째 루프입니다.\n",
      "16\n",
      "10\n",
      "5 번째 루프입니다.\n",
      "17\n",
      "9\n",
      "6 번째 루프입니다.\n",
      "18\n",
      "8\n",
      "7 번째 루프입니다.\n",
      "19\n",
      "7\n",
      "8 번째 루프입니다.\n",
      "20\n",
      "6\n",
      "9 번째 루프입니다.\n",
      "21\n",
      "5\n",
      "10 번째 루프입니다.\n",
      "22\n",
      "4\n",
      "3 번째 j값이 변하는 루프입니다.\n",
      "1 번째 루프입니다.\n",
      "13\n",
      "13\n",
      "2 번째 루프입니다.\n",
      "14\n",
      "12\n",
      "3 번째 루프입니다.\n",
      "15\n",
      "11\n",
      "4 번째 루프입니다.\n",
      "16\n",
      "10\n",
      "5 번째 루프입니다.\n",
      "17\n",
      "9\n",
      "6 번째 루프입니다.\n",
      "18\n",
      "8\n",
      "7 번째 루프입니다.\n",
      "19\n",
      "7\n",
      "8 번째 루프입니다.\n",
      "20\n",
      "6\n",
      "9 번째 루프입니다.\n",
      "21\n",
      "5\n",
      "10 번째 루프입니다.\n",
      "22\n",
      "4\n",
      "4 번째 j값이 변하는 루프입니다.\n",
      "1 번째 루프입니다.\n",
      "13\n",
      "13\n",
      "2 번째 루프입니다.\n",
      "14\n",
      "12\n",
      "3 번째 루프입니다.\n",
      "15\n",
      "11\n",
      "4 번째 루프입니다.\n",
      "16\n",
      "10\n",
      "5 번째 루프입니다.\n",
      "17\n",
      "9\n",
      "6 번째 루프입니다.\n",
      "18\n",
      "8\n",
      "7 번째 루프입니다.\n",
      "19\n",
      "7\n",
      "8 번째 루프입니다.\n",
      "20\n",
      "6\n",
      "9 번째 루프입니다.\n",
      "21\n",
      "5\n",
      "10 번째 루프입니다.\n",
      "22\n",
      "4\n",
      "5 번째 j값이 변하는 루프입니다.\n",
      "1 번째 루프입니다.\n",
      "13\n",
      "13\n",
      "2 번째 루프입니다.\n",
      "14\n",
      "12\n",
      "3 번째 루프입니다.\n",
      "15\n",
      "11\n",
      "4 번째 루프입니다.\n",
      "16\n",
      "10\n",
      "5 번째 루프입니다.\n",
      "17\n",
      "9\n",
      "6 번째 루프입니다.\n",
      "18\n",
      "8\n",
      "7 번째 루프입니다.\n",
      "19\n",
      "7\n",
      "8 번째 루프입니다.\n",
      "20\n",
      "6\n",
      "9 번째 루프입니다.\n",
      "21\n",
      "5\n",
      "10 번째 루프입니다.\n",
      "22\n",
      "4\n",
      "6 번째 j값이 변하는 루프입니다.\n",
      "1 번째 루프입니다.\n",
      "13\n",
      "13\n",
      "2 번째 루프입니다.\n",
      "14\n",
      "12\n",
      "3 번째 루프입니다.\n",
      "15\n",
      "11\n",
      "4 번째 루프입니다.\n",
      "16\n",
      "10\n",
      "5 번째 루프입니다.\n",
      "17\n",
      "9\n",
      "6 번째 루프입니다.\n",
      "18\n",
      "8\n",
      "7 번째 루프입니다.\n",
      "19\n",
      "7\n",
      "8 번째 루프입니다.\n",
      "20\n",
      "6\n",
      "9 번째 루프입니다.\n",
      "21\n",
      "5\n",
      "10 번째 루프입니다.\n",
      "22\n",
      "4\n",
      "7 번째 j값이 변하는 루프입니다.\n",
      "1 번째 루프입니다.\n",
      "13\n",
      "13\n",
      "2 번째 루프입니다.\n",
      "14\n",
      "12\n",
      "3 번째 루프입니다.\n",
      "15\n",
      "11\n",
      "4 번째 루프입니다.\n",
      "16\n",
      "10\n",
      "5 번째 루프입니다.\n",
      "17\n",
      "9\n",
      "6 번째 루프입니다.\n",
      "18\n",
      "8\n",
      "7 번째 루프입니다.\n",
      "19\n",
      "7\n",
      "8 번째 루프입니다.\n",
      "20\n",
      "6\n",
      "9 번째 루프입니다.\n",
      "21\n",
      "5\n",
      "10 번째 루프입니다.\n",
      "22\n",
      "4\n",
      "8 번째 j값이 변하는 루프입니다.\n",
      "1 번째 루프입니다.\n",
      "13\n",
      "13\n",
      "2 번째 루프입니다.\n",
      "14\n",
      "12\n",
      "3 번째 루프입니다.\n",
      "15\n",
      "11\n",
      "4 번째 루프입니다.\n",
      "16\n",
      "10\n",
      "5 번째 루프입니다.\n",
      "17\n",
      "9\n",
      "6 번째 루프입니다.\n",
      "18\n",
      "8\n",
      "7 번째 루프입니다.\n",
      "19\n",
      "7\n",
      "8 번째 루프입니다.\n",
      "20\n",
      "6\n",
      "9 번째 루프입니다.\n",
      "21\n",
      "5\n",
      "10 번째 루프입니다.\n",
      "22\n",
      "4\n",
      "9 번째 j값이 변하는 루프입니다.\n",
      "1 번째 루프입니다.\n",
      "13\n",
      "13\n",
      "2 번째 루프입니다.\n",
      "14\n",
      "12\n",
      "3 번째 루프입니다.\n",
      "15\n",
      "11\n",
      "4 번째 루프입니다.\n",
      "16\n",
      "10\n",
      "5 번째 루프입니다.\n",
      "17\n",
      "9\n",
      "6 번째 루프입니다.\n",
      "18\n",
      "8\n",
      "7 번째 루프입니다.\n",
      "19\n",
      "7\n",
      "8 번째 루프입니다.\n",
      "20\n",
      "6\n",
      "9 번째 루프입니다.\n",
      "21\n",
      "5\n",
      "10 번째 루프입니다.\n",
      "22\n",
      "4\n",
      "10 번째 j값이 변하는 루프입니다.\n",
      "1 번째 루프입니다.\n",
      "13\n",
      "13\n",
      "2 번째 루프입니다.\n",
      "14\n",
      "12\n",
      "3 번째 루프입니다.\n",
      "15\n",
      "11\n",
      "4 번째 루프입니다.\n",
      "16\n",
      "10\n",
      "5 번째 루프입니다.\n",
      "17\n",
      "9\n",
      "6 번째 루프입니다.\n",
      "18\n",
      "8\n",
      "7 번째 루프입니다.\n",
      "19\n",
      "7\n",
      "8 번째 루프입니다.\n",
      "20\n",
      "6\n",
      "9 번째 루프입니다.\n",
      "21\n",
      "5\n",
      "10 번째 루프입니다.\n",
      "22\n",
      "4\n"
     ]
    }
   ],
   "source": [
    "x=12 \n",
    "y=14\n",
    "for j in range(1,11):\n",
    "    print(j,\"번째 j값이 변하는 루프입니다.\")\n",
    "    for i in range(1,11):\n",
    "        print(i,\"번째 루프입니다.\")\n",
    "        print(x+i)\n",
    "        print(y-i)"
   ]
  },
  {
   "cell_type": "markdown",
   "id": "bd16bbc1",
   "metadata": {},
   "source": [
    "* 위의 4번 줄과 같이 루프를 추적할 때에는 print를 찍어주는 것이 알기 쉽다.\n",
    "* 이중 루프나 삼중 루프는 가급적 사용하지 말고, 사용한다 하더라도 간단하게만 사용하는 것이 좋다."
   ]
  },
  {
   "cell_type": "code",
   "execution_count": 103,
   "id": "b565d96b",
   "metadata": {},
   "outputs": [
    {
     "name": "stdout",
     "output_type": "stream",
     "text": [
      "1\n",
      "9\n",
      "6\n",
      "5\n",
      "8\n",
      "3\n",
      "1\n",
      "4\n",
      "5\n"
     ]
    }
   ],
   "source": [
    "for i in [1,9,6,5,8,3,1,4,5]:\n",
    "    print(i)   ## 인덱싱이 가능..해야 in 뒤에 집어넣을 수 있다. "
   ]
  },
  {
   "cell_type": "markdown",
   "id": "e2d68b34",
   "metadata": {},
   "source": [
    "## 실습: 리스트를 이용한 루프 만들어보기\n",
    " * i값의 범위가 4-9, 83,66,99,10,2,9-12 인 루프문을 만들고, 각 루프마다 i값을 출력한다."
   ]
  },
  {
   "cell_type": "code",
   "execution_count": 99,
   "id": "082b1b52",
   "metadata": {},
   "outputs": [
    {
     "name": "stdout",
     "output_type": "stream",
     "text": [
      "4\n",
      "5\n",
      "6\n",
      "7\n",
      "8\n",
      "9\n",
      "83\n",
      "66\n",
      "99\n",
      "10\n",
      "2\n",
      "9\n",
      "10\n",
      "11\n",
      "12\n"
     ]
    }
   ],
   "source": [
    "for i in [4,5,6,7,8,9,83,66,99,10,2,9,10,11,12]:\n",
    "    print(i)"
   ]
  },
  {
   "cell_type": "code",
   "execution_count": 107,
   "id": "dc30963e",
   "metadata": {},
   "outputs": [
    {
     "name": "stdout",
     "output_type": "stream",
     "text": [
      "4\n",
      "5\n",
      "6\n",
      "7\n",
      "8\n",
      "9\n",
      "83\n",
      "66\n",
      "99\n",
      "10\n",
      "2\n",
      "9\n",
      "10\n",
      "11\n",
      "12\n"
     ]
    }
   ],
   "source": [
    "#이런 방법도 있다. 파이써닉하게 .. 근데 이건 상황에 따라 바꿔 쓰는 것이 바람직하다.\n",
    "\n",
    "x = list(range(4,10))\n",
    "y = list(range(9,13))\n",
    "z = [83,66,99,10,2]\n",
    "\n",
    "\n",
    "for i in x+z+y :\n",
    "    print(i)"
   ]
  },
  {
   "cell_type": "code",
   "execution_count": 109,
   "id": "e66d98f9",
   "metadata": {},
   "outputs": [],
   "source": [
    "x = {3,2,6,88,4,2,6,3,1,52,4,4}"
   ]
  },
  {
   "cell_type": "code",
   "execution_count": 111,
   "id": "564d6f9d",
   "metadata": {},
   "outputs": [
    {
     "name": "stdout",
     "output_type": "stream",
     "text": [
      "1\n",
      "2\n",
      "3\n",
      "4\n",
      "52\n",
      "6\n",
      "88\n"
     ]
    }
   ],
   "source": [
    "for i in x:\n",
    "    print(i)"
   ]
  },
  {
   "cell_type": "code",
   "execution_count": 112,
   "id": "f0e80bce",
   "metadata": {},
   "outputs": [
    {
     "name": "stdout",
     "output_type": "stream",
     "text": [
      "1\n",
      "2\n",
      "3\n",
      "4\n",
      "6\n",
      "52\n",
      "88\n"
     ]
    }
   ],
   "source": [
    "for i in {3,2,6,88,4,2,6,3,1,52,4,4}:\n",
    "    print(i)"
   ]
  },
  {
   "cell_type": "code",
   "execution_count": 121,
   "id": "2d7e15e9",
   "metadata": {},
   "outputs": [
    {
     "name": "stdout",
     "output_type": "stream",
     "text": [
      "4 6\n",
      "5 12\n",
      "12 9\n"
     ]
    }
   ],
   "source": [
    "for i in [(4,6),(5,12),(12,9)]:\n",
    "    print(i[0],i[1]) "
   ]
  },
  {
   "cell_type": "markdown",
   "id": "ad128ec5",
   "metadata": {},
   "source": [
    "* 이와 같이 두 수를 하나의 변수가 받아서 출력할 수도 있다."
   ]
  },
  {
   "cell_type": "markdown",
   "id": "cf478875",
   "metadata": {},
   "source": [
    "## 2차원 리스트를 사각형 모양으로 출력하기"
   ]
  },
  {
   "cell_type": "code",
   "execution_count": 159,
   "id": "68347753",
   "metadata": {},
   "outputs": [],
   "source": [
    "l = [[1,2,3],[4,5,6],[7,8,9]]"
   ]
  },
  {
   "cell_type": "code",
   "execution_count": 160,
   "id": "7a7f100a",
   "metadata": {},
   "outputs": [
    {
     "name": "stdout",
     "output_type": "stream",
     "text": [
      "1 2 3\n",
      "4 5 6\n",
      "7 8 9\n"
     ]
    }
   ],
   "source": [
    "for i,j,k in l:\n",
    "    print(i,j,k)"
   ]
  },
  {
   "cell_type": "markdown",
   "id": "ff377f76",
   "metadata": {},
   "source": [
    "* 프린트 값에 1을 더해본다면?"
   ]
  },
  {
   "cell_type": "code",
   "execution_count": 161,
   "id": "689bc8a0",
   "metadata": {},
   "outputs": [
    {
     "name": "stdout",
     "output_type": "stream",
     "text": [
      "2 2 3\n",
      "5 5 6\n",
      "8 8 9\n"
     ]
    }
   ],
   "source": [
    "for i,j,k in l:\n",
    "    print(i+1,j,k)"
   ]
  },
  {
   "cell_type": "markdown",
   "id": "14e08d73",
   "metadata": {},
   "source": [
    "* 이와 같이 한 줄이 전부 바뀐다. 하지만 전체 다가 아니라 값들 중 하나만 바꾸고 싶다면?"
   ]
  },
  {
   "cell_type": "code",
   "execution_count": 162,
   "id": "14823390",
   "metadata": {},
   "outputs": [
    {
     "name": "stdout",
     "output_type": "stream",
     "text": [
      "1 2 3 \n",
      "4 5 6 \n",
      "7 8 9 \n"
     ]
    }
   ],
   "source": [
    "for i in l:\n",
    "    for j in i:\n",
    "        print(j, end=\" \")\n",
    "    print()"
   ]
  },
  {
   "cell_type": "code",
   "execution_count": 163,
   "id": "c1999637",
   "metadata": {},
   "outputs": [
    {
     "name": "stdout",
     "output_type": "stream",
     "text": [
      "1 2 3 \n",
      "4 5 7 \n",
      "7 8 9 \n"
     ]
    }
   ],
   "source": [
    "for i in l:\n",
    "    for j in i:\n",
    "        if i ==[4,5,6] and j == 6 :\n",
    "            print(j+1, end=\" \")\n",
    "        else:\n",
    "            print(j, end=\" \")\n",
    "    print()"
   ]
  },
  {
   "cell_type": "code",
   "execution_count": 170,
   "id": "311fae03",
   "metadata": {},
   "outputs": [],
   "source": [
    "l = [[1,2,3],[4,5,6],[7,8,9]]"
   ]
  },
  {
   "cell_type": "code",
   "execution_count": 164,
   "id": "bf80b947",
   "metadata": {},
   "outputs": [
    {
     "name": "stdout",
     "output_type": "stream",
     "text": [
      "1 2 3 \n",
      "4 5 7 \n",
      "7 8 9 \n"
     ]
    }
   ],
   "source": [
    "for i in range(len(l)):\n",
    "    for j in range(len(l[i])):\n",
    "        if i == 1 and j == 2 :\n",
    "            print(l[i][j]+1, end=\" \")\n",
    "        else:\n",
    "            print(l[i][j], end=\" \")\n",
    "    print()  "
   ]
  },
  {
   "cell_type": "code",
   "execution_count": 141,
   "id": "01ca2c46",
   "metadata": {},
   "outputs": [
    {
     "name": "stdout",
     "output_type": "stream",
     "text": [
      "0 0 0 0 \n",
      "1 1 1 1 \n",
      "2 2 2 2 \n",
      "3 3 3 3 \n"
     ]
    }
   ],
   "source": [
    "for i in range(4):\n",
    "    for j in range(4):\n",
    "        print(i, end=\" \")\n",
    "    print()"
   ]
  },
  {
   "cell_type": "markdown",
   "id": "1adb7770",
   "metadata": {},
   "source": [
    "## 실습 :  8* 8 배열을 표현하기 \n",
    "* 8 * 8 크기의 배열을 표현한다.\n",
    "* 위 코드와 같이 이중루프를 이용한다.\n",
    "* 각 출력값마다 9,6,3,5,4,8,7,5가 x축 방향으로 출력되도록 한다."
   ]
  },
  {
   "cell_type": "code",
   "execution_count": 148,
   "id": "26810844",
   "metadata": {},
   "outputs": [
    {
     "name": "stdout",
     "output_type": "stream",
     "text": [
      "9 6 3 5 4 8 7 5 \n",
      "9 6 3 5 4 8 7 5 \n",
      "9 6 3 5 4 8 7 5 \n",
      "9 6 3 5 4 8 7 5 \n",
      "9 6 3 5 4 8 7 5 \n",
      "9 6 3 5 4 8 7 5 \n",
      "9 6 3 5 4 8 7 5 \n",
      "9 6 3 5 4 8 7 5 \n"
     ]
    }
   ],
   "source": [
    "for i in range(8):\n",
    "    for j in [9,6,3,5,4,8,7,5]:\n",
    "        print(j, end=\" \")\n",
    "    print()"
   ]
  },
  {
   "cell_type": "code",
   "execution_count": 149,
   "id": "09ddac50",
   "metadata": {},
   "outputs": [],
   "source": [
    "x = [9,6,3,5,4,8,7,5]"
   ]
  },
  {
   "cell_type": "code",
   "execution_count": 150,
   "id": "8bd72a6c",
   "metadata": {},
   "outputs": [
    {
     "name": "stdout",
     "output_type": "stream",
     "text": [
      "9 6 3 5 4 8 7 5 \n",
      "9 6 3 5 4 8 7 5 \n",
      "9 6 3 5 4 8 7 5 \n",
      "9 6 3 5 4 8 7 5 \n",
      "9 6 3 5 4 8 7 5 \n",
      "9 6 3 5 4 8 7 5 \n",
      "9 6 3 5 4 8 7 5 \n",
      "9 6 3 5 4 8 7 5 \n"
     ]
    }
   ],
   "source": [
    "for i in range(8):\n",
    "    for j in range(8):\n",
    "        print(x[j], end=\" \")\n",
    "    print()"
   ]
  },
  {
   "cell_type": "code",
   "execution_count": 151,
   "id": "55c25c07",
   "metadata": {},
   "outputs": [],
   "source": [
    "l = [i%2 for i in range(20)] # 이와 같은 것을 리스트 컴프리헨션 이라고 부른다."
   ]
  },
  {
   "cell_type": "code",
   "execution_count": 153,
   "id": "d82ba590",
   "metadata": {},
   "outputs": [],
   "source": [
    "l2 = []\n",
    "\n",
    "for i in range(20):\n",
    "    l2.append(i%2)"
   ]
  },
  {
   "cell_type": "code",
   "execution_count": 154,
   "id": "a0c71200",
   "metadata": {},
   "outputs": [
    {
     "data": {
      "text/plain": [
       "True"
      ]
     },
     "execution_count": 154,
     "metadata": {},
     "output_type": "execute_result"
    }
   ],
   "source": [
    "l == l2"
   ]
  },
  {
   "cell_type": "markdown",
   "id": "32a8b46f",
   "metadata": {},
   "source": [
    "* 위의 l과 l2는 같은 결과를 가지지만 처리 속도로 보면 전자가 빠르다."
   ]
  },
  {
   "cell_type": "markdown",
   "id": "6151af6e",
   "metadata": {},
   "source": [
    "---\n",
    "## 실습: 리스트 컴프리헨션\n",
    "* 변수 C에 다음 조건을 만족하는 값을 모두 포함하는 리스트를 입력하라.\n",
    "1. 리스트 C의 길이는 40\n",
    "2. 2-41 범위 내에서 3으로 나누었을 때의 몫을 정보로 가지고 있어야 한다."
   ]
  },
  {
   "cell_type": "code",
   "execution_count": 155,
   "id": "829e66b9",
   "metadata": {},
   "outputs": [],
   "source": [
    "C = [i//3 for i in range(2,42)]"
   ]
  },
  {
   "cell_type": "code",
   "execution_count": 156,
   "id": "f2978d5b",
   "metadata": {
    "scrolled": true
   },
   "outputs": [
    {
     "data": {
      "text/plain": [
       "[0,\n",
       " 1,\n",
       " 1,\n",
       " 1,\n",
       " 2,\n",
       " 2,\n",
       " 2,\n",
       " 3,\n",
       " 3,\n",
       " 3,\n",
       " 4,\n",
       " 4,\n",
       " 4,\n",
       " 5,\n",
       " 5,\n",
       " 5,\n",
       " 6,\n",
       " 6,\n",
       " 6,\n",
       " 7,\n",
       " 7,\n",
       " 7,\n",
       " 8,\n",
       " 8,\n",
       " 8,\n",
       " 9,\n",
       " 9,\n",
       " 9,\n",
       " 10,\n",
       " 10,\n",
       " 10,\n",
       " 11,\n",
       " 11,\n",
       " 11,\n",
       " 12,\n",
       " 12,\n",
       " 12,\n",
       " 13,\n",
       " 13,\n",
       " 13]"
      ]
     },
     "execution_count": 156,
     "metadata": {},
     "output_type": "execute_result"
    }
   ],
   "source": [
    "C"
   ]
  },
  {
   "cell_type": "code",
   "execution_count": 157,
   "id": "c198029a",
   "metadata": {},
   "outputs": [
    {
     "data": {
      "text/plain": [
       "40"
      ]
     },
     "execution_count": 157,
     "metadata": {},
     "output_type": "execute_result"
    }
   ],
   "source": [
    "len(C)"
   ]
  },
  {
   "cell_type": "code",
   "execution_count": 165,
   "id": "806e7fc0",
   "metadata": {},
   "outputs": [],
   "source": [
    "C = [i//3 for i in [7,9,8,0,6,5,8,4,6]]"
   ]
  },
  {
   "cell_type": "code",
   "execution_count": 166,
   "id": "cf2900fb",
   "metadata": {},
   "outputs": [
    {
     "data": {
      "text/plain": [
       "[2, 3, 2, 0, 2, 1, 2, 1, 2]"
      ]
     },
     "execution_count": 166,
     "metadata": {},
     "output_type": "execute_result"
    }
   ],
   "source": [
    "C"
   ]
  },
  {
   "cell_type": "markdown",
   "id": "315d3b0d",
   "metadata": {},
   "source": [
    "* 위와 같이 in 뒤에 리스트로도 처리 가능하다."
   ]
  },
  {
   "cell_type": "code",
   "execution_count": 167,
   "id": "e79ca2f2",
   "metadata": {},
   "outputs": [
    {
     "data": {
      "text/plain": [
       "[17, 9, 18, 10, 16, 15, 18, 14, 16]"
      ]
     },
     "execution_count": 167,
     "metadata": {},
     "output_type": "execute_result"
    }
   ],
   "source": [
    "[i if i > 8 else i+10 for i in [7,9,8,0,6,5,8,4,6]] # for 문이 먼저, 그리고 앞으로 넘어온다. "
   ]
  },
  {
   "cell_type": "markdown",
   "id": "7436c258",
   "metadata": {},
   "source": [
    "## 과제\n",
    "### 문자열 수정해보기\n",
    "\n",
    "* 사용할 문자열: '오늘은\\t문자열을\\t배웠고,\\t그\\t지식을\\t이용해\\t문자열\\t수정을\\t해\\t봅시다\\n'\n",
    "1. 개행문자를 모두 띄어쓰기로 바꾼다.\n",
    "2. 개행문자가 있던 위치에 %를 추가한다.\n",
    "3. 콤마(,)를 기준으로 줄바꿈을 해 문자열을 출력한다.\n",
    "(단, print 함수는 한번만 사용한다.)\n"
   ]
  },
  {
   "cell_type": "code",
   "execution_count": 171,
   "id": "864abd6e",
   "metadata": {},
   "outputs": [],
   "source": [
    "l = '오늘은\\t문자열을\\t배웠고,\\t그\\t지식을\\t이용해\\t문자열\\t수정을\\t해\\t봅시다\\n'"
   ]
  },
  {
   "cell_type": "code",
   "execution_count": 176,
   "id": "32883717",
   "metadata": {},
   "outputs": [
    {
     "data": {
      "text/plain": [
       "'오늘은 문자열을 배웠고, 그 지식을 이용해 문자열 수정을 해 봅시다 '"
      ]
     },
     "execution_count": 176,
     "metadata": {},
     "output_type": "execute_result"
    }
   ],
   "source": [
    "#1.개행문자를 모두 띄어쓰기로 바꾼다.\n",
    "l.replace('\\t',' ').replace('\\n',' ')"
   ]
  },
  {
   "cell_type": "code",
   "execution_count": 178,
   "id": "0e40fcd3",
   "metadata": {},
   "outputs": [
    {
     "data": {
      "text/plain": [
       "'오늘은%문자열을%배웠고,%그%지식을%이용해%문자열%수정을%해%봅시다%'"
      ]
     },
     "execution_count": 178,
     "metadata": {},
     "output_type": "execute_result"
    }
   ],
   "source": [
    "#2. 개행문자가 있던 위치에 %를 추가한다.\n",
    "l.replace('\\t',' ').replace('\\n',' ').replace(' ','%')"
   ]
  },
  {
   "cell_type": "code",
   "execution_count": 179,
   "id": "6c2edb4e",
   "metadata": {},
   "outputs": [],
   "source": [
    "l_2 = l.replace('\\t',' ').replace('\\n',' ').replace(' ','%')"
   ]
  },
  {
   "cell_type": "code",
   "execution_count": 181,
   "id": "8776fc43",
   "metadata": {},
   "outputs": [
    {
     "name": "stdout",
     "output_type": "stream",
     "text": [
      "오늘은%문자열을%배웠고\n",
      "%그%지식을%이용해%문자열%수정을%해%봅시다%\n"
     ]
    }
   ],
   "source": [
    "#3 콤마(,)를 기준으로 줄바꿈을 해 문자열을 출력한다. (단, print 함수는 한번만 사용한다.)\n",
    "print(l_2.replace(',','\\n'))"
   ]
  },
  {
   "cell_type": "code",
   "execution_count": null,
   "id": "f378fc6a",
   "metadata": {},
   "outputs": [],
   "source": []
  }
 ],
 "metadata": {
  "kernelspec": {
   "display_name": "Python 3 (ipykernel)",
   "language": "python",
   "name": "python3"
  },
  "language_info": {
   "codemirror_mode": {
    "name": "ipython",
    "version": 3
   },
   "file_extension": ".py",
   "mimetype": "text/x-python",
   "name": "python",
   "nbconvert_exporter": "python",
   "pygments_lexer": "ipython3",
   "version": "3.9.13"
  }
 },
 "nbformat": 4,
 "nbformat_minor": 5
}
