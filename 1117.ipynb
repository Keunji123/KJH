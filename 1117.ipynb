{
 "cells": [
  {
   "cell_type": "code",
   "execution_count": 1,
   "id": "b4d7c2ef",
   "metadata": {},
   "outputs": [],
   "source": [
    "import pandas as pd"
   ]
  },
  {
   "cell_type": "code",
   "execution_count": 3,
   "id": "b94d568d",
   "metadata": {},
   "outputs": [],
   "source": [
    "df = pd.read_csv('C:/Users/user/Desktop/lecfile/nov/221116/시청자미디어재단_체험형미디어교육_20221109.csv', encoding = 'cp949')"
   ]
  },
  {
   "cell_type": "code",
   "execution_count": 4,
   "id": "8f4b61b1",
   "metadata": {},
   "outputs": [
    {
     "data": {
      "text/html": [
       "<div>\n",
       "<style scoped>\n",
       "    .dataframe tbody tr th:only-of-type {\n",
       "        vertical-align: middle;\n",
       "    }\n",
       "\n",
       "    .dataframe tbody tr th {\n",
       "        vertical-align: top;\n",
       "    }\n",
       "\n",
       "    .dataframe thead th {\n",
       "        text-align: right;\n",
       "    }\n",
       "</style>\n",
       "<table border=\"1\" class=\"dataframe\">\n",
       "  <thead>\n",
       "    <tr style=\"text-align: right;\">\n",
       "      <th></th>\n",
       "      <th>센터명</th>\n",
       "      <th>강좌명</th>\n",
       "      <th>강사명</th>\n",
       "      <th>교육시작일자</th>\n",
       "      <th>교육종료일자</th>\n",
       "      <th>강좌내용</th>\n",
       "      <th>교육대상구분</th>\n",
       "      <th>교육방법구분</th>\n",
       "      <th>운영요일</th>\n",
       "      <th>강좌정원수</th>\n",
       "      <th>데이터기준일자</th>\n",
       "    </tr>\n",
       "  </thead>\n",
       "  <tbody>\n",
       "    <tr>\n",
       "      <th>0</th>\n",
       "      <td>서울시청자미디어센터</td>\n",
       "      <td>상설미디어체험 교육</td>\n",
       "      <td>이수현,김민호</td>\n",
       "      <td>2022-11-12</td>\n",
       "      <td>2022-11-26</td>\n",
       "      <td>상설미디어체험(뉴스앵커체험 등)</td>\n",
       "      <td>일반</td>\n",
       "      <td>오프라인</td>\n",
       "      <td>토</td>\n",
       "      <td>25</td>\n",
       "      <td>2022-11-09</td>\n",
       "    </tr>\n",
       "    <tr>\n",
       "      <th>1</th>\n",
       "      <td>서울시청자미디어센터</td>\n",
       "      <td>찾아가는미디어나눔버스 체험 교육</td>\n",
       "      <td>김도경,이수현</td>\n",
       "      <td>2022-11-21</td>\n",
       "      <td>2022-11-21</td>\n",
       "      <td>찾아가는미디어나눔버스 체험</td>\n",
       "      <td>청소년</td>\n",
       "      <td>오프라인</td>\n",
       "      <td>월</td>\n",
       "      <td>25</td>\n",
       "      <td>2022-11-09</td>\n",
       "    </tr>\n",
       "  </tbody>\n",
       "</table>\n",
       "</div>"
      ],
      "text/plain": [
       "          센터명                강좌명      강사명      교육시작일자      교육종료일자  \\\n",
       "0  서울시청자미디어센터         상설미디어체험 교육  이수현,김민호  2022-11-12  2022-11-26   \n",
       "1  서울시청자미디어센터  찾아가는미디어나눔버스 체험 교육  김도경,이수현  2022-11-21  2022-11-21   \n",
       "\n",
       "                강좌내용 교육대상구분 교육방법구분 운영요일  강좌정원수     데이터기준일자  \n",
       "0  상설미디어체험(뉴스앵커체험 등)     일반   오프라인    토     25  2022-11-09  \n",
       "1     찾아가는미디어나눔버스 체험    청소년   오프라인    월     25  2022-11-09  "
      ]
     },
     "execution_count": 4,
     "metadata": {},
     "output_type": "execute_result"
    }
   ],
   "source": [
    "df.head(2)"
   ]
  },
  {
   "cell_type": "markdown",
   "id": "bcf6ec1a",
   "metadata": {},
   "source": [
    "## 실습 - 데이터 이산화\n",
    "* 위 데이터프레임에서 임의의 데이터를 이산화해 보자\n",
    "* 이산화한 데이터는 0 또는 1로 나타낼 수 있어야 한다.\n",
    "* 이산화한 데이터의 두 범주는 모든 값을 포함해야 한다.\n",
    "* 이산화를 했을 때 합당한 논리가 있어야 한다."
   ]
  },
  {
   "cell_type": "code",
   "execution_count": 13,
   "id": "9ccceaf5",
   "metadata": {},
   "outputs": [],
   "source": [
    "# 11월 데이터이므로, 교육 시작일자가 15일 이전이면 전반기, 16일부터는 후반기 두 분류로 나눈다.\n",
    "# 오늘은 어플라이 람다 연습좀 해보자.\n",
    "\n",
    "\n",
    "df['전후반기'] = df['교육시작일자'].apply(lambda x : 0 if int(x.split('-')[2]) <= 15 else 1)"
   ]
  },
  {
   "cell_type": "code",
   "execution_count": 14,
   "id": "fb338374",
   "metadata": {},
   "outputs": [
    {
     "data": {
      "text/plain": [
       "array([0, 1], dtype=int64)"
      ]
     },
     "execution_count": 14,
     "metadata": {},
     "output_type": "execute_result"
    }
   ],
   "source": [
    "df['전후반기'].unique()"
   ]
  },
  {
   "cell_type": "code",
   "execution_count": 15,
   "id": "aa45a5f3",
   "metadata": {},
   "outputs": [
    {
     "data": {
      "text/html": [
       "<div>\n",
       "<style scoped>\n",
       "    .dataframe tbody tr th:only-of-type {\n",
       "        vertical-align: middle;\n",
       "    }\n",
       "\n",
       "    .dataframe tbody tr th {\n",
       "        vertical-align: top;\n",
       "    }\n",
       "\n",
       "    .dataframe thead th {\n",
       "        text-align: right;\n",
       "    }\n",
       "</style>\n",
       "<table border=\"1\" class=\"dataframe\">\n",
       "  <thead>\n",
       "    <tr style=\"text-align: right;\">\n",
       "      <th></th>\n",
       "      <th>센터명</th>\n",
       "      <th>강좌명</th>\n",
       "      <th>강사명</th>\n",
       "      <th>교육시작일자</th>\n",
       "      <th>교육종료일자</th>\n",
       "      <th>강좌내용</th>\n",
       "      <th>교육대상구분</th>\n",
       "      <th>교육방법구분</th>\n",
       "      <th>운영요일</th>\n",
       "      <th>강좌정원수</th>\n",
       "      <th>데이터기준일자</th>\n",
       "      <th>전후반기</th>\n",
       "    </tr>\n",
       "  </thead>\n",
       "  <tbody>\n",
       "    <tr>\n",
       "      <th>0</th>\n",
       "      <td>서울시청자미디어센터</td>\n",
       "      <td>상설미디어체험 교육</td>\n",
       "      <td>이수현,김민호</td>\n",
       "      <td>2022-11-12</td>\n",
       "      <td>2022-11-26</td>\n",
       "      <td>상설미디어체험(뉴스앵커체험 등)</td>\n",
       "      <td>일반</td>\n",
       "      <td>오프라인</td>\n",
       "      <td>토</td>\n",
       "      <td>25</td>\n",
       "      <td>2022-11-09</td>\n",
       "      <td>0</td>\n",
       "    </tr>\n",
       "    <tr>\n",
       "      <th>1</th>\n",
       "      <td>서울시청자미디어센터</td>\n",
       "      <td>찾아가는미디어나눔버스 체험 교육</td>\n",
       "      <td>김도경,이수현</td>\n",
       "      <td>2022-11-21</td>\n",
       "      <td>2022-11-21</td>\n",
       "      <td>찾아가는미디어나눔버스 체험</td>\n",
       "      <td>청소년</td>\n",
       "      <td>오프라인</td>\n",
       "      <td>월</td>\n",
       "      <td>25</td>\n",
       "      <td>2022-11-09</td>\n",
       "      <td>1</td>\n",
       "    </tr>\n",
       "    <tr>\n",
       "      <th>2</th>\n",
       "      <td>서울시청자미디어센터</td>\n",
       "      <td>찾아가는미디어나눔버스 체험</td>\n",
       "      <td>김도경,이수현</td>\n",
       "      <td>2022-11-22</td>\n",
       "      <td>2022-11-22</td>\n",
       "      <td>찾아가는미디어나눔버스 체험</td>\n",
       "      <td>청소년</td>\n",
       "      <td>오프라인</td>\n",
       "      <td>화</td>\n",
       "      <td>25</td>\n",
       "      <td>2022-11-09</td>\n",
       "      <td>1</td>\n",
       "    </tr>\n",
       "    <tr>\n",
       "      <th>3</th>\n",
       "      <td>서울시청자미디어센터</td>\n",
       "      <td>찾아가는미디어나눔버스 체험</td>\n",
       "      <td>김도경,이수현</td>\n",
       "      <td>2022-11-23</td>\n",
       "      <td>2022-11-23</td>\n",
       "      <td>찾아가는미디어나눔버스 체험</td>\n",
       "      <td>청소년</td>\n",
       "      <td>오프라인</td>\n",
       "      <td>수</td>\n",
       "      <td>25</td>\n",
       "      <td>2022-11-09</td>\n",
       "      <td>1</td>\n",
       "    </tr>\n",
       "    <tr>\n",
       "      <th>4</th>\n",
       "      <td>서울시청자미디어센터</td>\n",
       "      <td>찾아가는미디어나눔버스 체험</td>\n",
       "      <td>김도경,이수현</td>\n",
       "      <td>2022-11-25</td>\n",
       "      <td>2022-11-25</td>\n",
       "      <td>찾아가는미디어나눔버스 체험</td>\n",
       "      <td>청소년</td>\n",
       "      <td>오프라인</td>\n",
       "      <td>금</td>\n",
       "      <td>25</td>\n",
       "      <td>2022-11-09</td>\n",
       "      <td>1</td>\n",
       "    </tr>\n",
       "    <tr>\n",
       "      <th>...</th>\n",
       "      <td>...</td>\n",
       "      <td>...</td>\n",
       "      <td>...</td>\n",
       "      <td>...</td>\n",
       "      <td>...</td>\n",
       "      <td>...</td>\n",
       "      <td>...</td>\n",
       "      <td>...</td>\n",
       "      <td>...</td>\n",
       "      <td>...</td>\n",
       "      <td>...</td>\n",
       "      <td>...</td>\n",
       "    </tr>\n",
       "    <tr>\n",
       "      <th>94</th>\n",
       "      <td>인천시청자미디어센터</td>\n",
       "      <td>찾아가는 미디어나눔버스(TV뉴스체험)</td>\n",
       "      <td>류은애,김은자</td>\n",
       "      <td>2022-11-30</td>\n",
       "      <td>2022-11-30</td>\n",
       "      <td>TV 뉴스 제작 및 영상합성 크로마키 체험</td>\n",
       "      <td>중학생</td>\n",
       "      <td>오프라인</td>\n",
       "      <td>수</td>\n",
       "      <td>25</td>\n",
       "      <td>2022-11-09</td>\n",
       "      <td>1</td>\n",
       "    </tr>\n",
       "    <tr>\n",
       "      <th>95</th>\n",
       "      <td>충북시청자미디어센터</td>\n",
       "      <td>TV체험(뉴스체험)</td>\n",
       "      <td>미정</td>\n",
       "      <td>2022-11-01</td>\n",
       "      <td>2022-11-30</td>\n",
       "      <td>아나운서, 기자, 기상캐스터 등 역할을 나누어 뉴스 제작 과정을 체험해보는 프로그램</td>\n",
       "      <td>초등학생 이상</td>\n",
       "      <td>오프라인</td>\n",
       "      <td>월,화,수,목,금,토</td>\n",
       "      <td>15</td>\n",
       "      <td>2022-11-09</td>\n",
       "      <td>0</td>\n",
       "    </tr>\n",
       "    <tr>\n",
       "      <th>96</th>\n",
       "      <td>충북시청자미디어센터</td>\n",
       "      <td>라디오체험(DJ체험)</td>\n",
       "      <td>미정</td>\n",
       "      <td>2022-11-01</td>\n",
       "      <td>2022-11-30</td>\n",
       "      <td>라디오 프로그램을 작가, DJ, 게스트가 되어 라디오 프로그램을 제작해보는 체험</td>\n",
       "      <td>초등학생 이상</td>\n",
       "      <td>오프라인</td>\n",
       "      <td>월,화,수,목,금,토</td>\n",
       "      <td>15</td>\n",
       "      <td>2022-11-09</td>\n",
       "      <td>0</td>\n",
       "    </tr>\n",
       "    <tr>\n",
       "      <th>97</th>\n",
       "      <td>충북시청자미디어센터</td>\n",
       "      <td>유아 크로마키 체험</td>\n",
       "      <td>미정</td>\n",
       "      <td>2022-11-01</td>\n",
       "      <td>2022-11-30</td>\n",
       "      <td>유아 대상 크로마키를 통해 다양한 놀이를 해보는 체험</td>\n",
       "      <td>6~7세</td>\n",
       "      <td>오프라인</td>\n",
       "      <td>월,화,수,목,금,토</td>\n",
       "      <td>15</td>\n",
       "      <td>2022-11-09</td>\n",
       "      <td>0</td>\n",
       "    </tr>\n",
       "    <tr>\n",
       "      <th>98</th>\n",
       "      <td>충북시청자미디어센터</td>\n",
       "      <td>AI 체험</td>\n",
       "      <td>미정</td>\n",
       "      <td>2022-11-01</td>\n",
       "      <td>2022-11-30</td>\n",
       "      <td>인공지능에 대해 이해하고 머신러닝을 여러 방법으로 알아보는 체험</td>\n",
       "      <td>초등학생 이상</td>\n",
       "      <td>오프라인</td>\n",
       "      <td>월,화,수,목,금,토</td>\n",
       "      <td>15</td>\n",
       "      <td>2022-11-09</td>\n",
       "      <td>0</td>\n",
       "    </tr>\n",
       "  </tbody>\n",
       "</table>\n",
       "<p>99 rows × 12 columns</p>\n",
       "</div>"
      ],
      "text/plain": [
       "           센터명                   강좌명      강사명      교육시작일자      교육종료일자  \\\n",
       "0   서울시청자미디어센터            상설미디어체험 교육  이수현,김민호  2022-11-12  2022-11-26   \n",
       "1   서울시청자미디어센터     찾아가는미디어나눔버스 체험 교육  김도경,이수현  2022-11-21  2022-11-21   \n",
       "2   서울시청자미디어센터        찾아가는미디어나눔버스 체험  김도경,이수현  2022-11-22  2022-11-22   \n",
       "3   서울시청자미디어센터        찾아가는미디어나눔버스 체험  김도경,이수현  2022-11-23  2022-11-23   \n",
       "4   서울시청자미디어센터        찾아가는미디어나눔버스 체험  김도경,이수현  2022-11-25  2022-11-25   \n",
       "..         ...                   ...      ...         ...         ...   \n",
       "94  인천시청자미디어센터  찾아가는 미디어나눔버스(TV뉴스체험)  류은애,김은자  2022-11-30  2022-11-30   \n",
       "95  충북시청자미디어센터            TV체험(뉴스체험)       미정  2022-11-01  2022-11-30   \n",
       "96  충북시청자미디어센터           라디오체험(DJ체험)       미정  2022-11-01  2022-11-30   \n",
       "97  충북시청자미디어센터            유아 크로마키 체험       미정  2022-11-01  2022-11-30   \n",
       "98  충북시청자미디어센터                 AI 체험       미정  2022-11-01  2022-11-30   \n",
       "\n",
       "                                              강좌내용   교육대상구분 교육방법구분  \\\n",
       "0                                상설미디어체험(뉴스앵커체험 등)       일반   오프라인   \n",
       "1                                   찾아가는미디어나눔버스 체험      청소년   오프라인   \n",
       "2                                   찾아가는미디어나눔버스 체험      청소년   오프라인   \n",
       "3                                   찾아가는미디어나눔버스 체험      청소년   오프라인   \n",
       "4                                   찾아가는미디어나눔버스 체험      청소년   오프라인   \n",
       "..                                             ...      ...    ...   \n",
       "94                         TV 뉴스 제작 및 영상합성 크로마키 체험      중학생   오프라인   \n",
       "95  아나운서, 기자, 기상캐스터 등 역할을 나누어 뉴스 제작 과정을 체험해보는 프로그램  초등학생 이상   오프라인   \n",
       "96    라디오 프로그램을 작가, DJ, 게스트가 되어 라디오 프로그램을 제작해보는 체험  초등학생 이상   오프라인   \n",
       "97                   유아 대상 크로마키를 통해 다양한 놀이를 해보는 체험     6~7세   오프라인   \n",
       "98             인공지능에 대해 이해하고 머신러닝을 여러 방법으로 알아보는 체험  초등학생 이상   오프라인   \n",
       "\n",
       "           운영요일  강좌정원수     데이터기준일자  전후반기  \n",
       "0             토     25  2022-11-09     0  \n",
       "1             월     25  2022-11-09     1  \n",
       "2             화     25  2022-11-09     1  \n",
       "3             수     25  2022-11-09     1  \n",
       "4             금     25  2022-11-09     1  \n",
       "..          ...    ...         ...   ...  \n",
       "94            수     25  2022-11-09     1  \n",
       "95  월,화,수,목,금,토     15  2022-11-09     0  \n",
       "96  월,화,수,목,금,토     15  2022-11-09     0  \n",
       "97  월,화,수,목,금,토     15  2022-11-09     0  \n",
       "98  월,화,수,목,금,토     15  2022-11-09     0  \n",
       "\n",
       "[99 rows x 12 columns]"
      ]
     },
     "execution_count": 15,
     "metadata": {},
     "output_type": "execute_result"
    }
   ],
   "source": [
    "df"
   ]
  },
  {
   "cell_type": "code",
   "execution_count": 17,
   "id": "bf593744",
   "metadata": {},
   "outputs": [
    {
     "data": {
      "text/plain": [
       "LabelEncoder()"
      ]
     },
     "execution_count": 17,
     "metadata": {},
     "output_type": "execute_result"
    }
   ],
   "source": [
    "# scikit learn 을 이용해서 데이터 이산화를 해줄 수 있다. fit을 한번 해 주고, transform 함수를 쓰면 \n",
    "# 데이터프레임에서도 이를 쉽게 처리할 수 있고, 이를 바로 적용시킬 수도 있다.\n",
    "# 아래처럼.\n",
    "\n",
    "from sklearn import preprocessing\n",
    "le = preprocessing.LabelEncoder()\n",
    "\n",
    "le.fit([1,1,2,6])"
   ]
  },
  {
   "cell_type": "code",
   "execution_count": 20,
   "id": "24cade6b",
   "metadata": {},
   "outputs": [
    {
     "data": {
      "text/plain": [
       "LabelEncoder()"
      ]
     },
     "execution_count": 20,
     "metadata": {},
     "output_type": "execute_result"
    }
   ],
   "source": [
    "le.fit(df['교육방법구분'])"
   ]
  },
  {
   "cell_type": "code",
   "execution_count": 22,
   "id": "fc6a591d",
   "metadata": {},
   "outputs": [],
   "source": [
    "df['교육방법이산화'] = le.transform(df['교육방법구분'])"
   ]
  },
  {
   "cell_type": "code",
   "execution_count": 24,
   "id": "fdb2d104",
   "metadata": {},
   "outputs": [
    {
     "data": {
      "text/plain": [
       "array([0, 1])"
      ]
     },
     "execution_count": 24,
     "metadata": {},
     "output_type": "execute_result"
    }
   ],
   "source": [
    "df['교육방법이산화'].unique()"
   ]
  },
  {
   "cell_type": "code",
   "execution_count": 25,
   "id": "05370e96",
   "metadata": {},
   "outputs": [],
   "source": [
    "df['강좌인원대소'] = df['강좌정원수'].apply(lambda x : 0 if x <= df['강좌정원수'].mean() else 1)"
   ]
  },
  {
   "cell_type": "code",
   "execution_count": 26,
   "id": "91f44ccd",
   "metadata": {},
   "outputs": [
    {
     "data": {
      "text/html": [
       "<div>\n",
       "<style scoped>\n",
       "    .dataframe tbody tr th:only-of-type {\n",
       "        vertical-align: middle;\n",
       "    }\n",
       "\n",
       "    .dataframe tbody tr th {\n",
       "        vertical-align: top;\n",
       "    }\n",
       "\n",
       "    .dataframe thead th {\n",
       "        text-align: right;\n",
       "    }\n",
       "</style>\n",
       "<table border=\"1\" class=\"dataframe\">\n",
       "  <thead>\n",
       "    <tr style=\"text-align: right;\">\n",
       "      <th></th>\n",
       "      <th>센터명</th>\n",
       "      <th>강좌명</th>\n",
       "      <th>강사명</th>\n",
       "      <th>교육시작일자</th>\n",
       "      <th>교육종료일자</th>\n",
       "      <th>강좌내용</th>\n",
       "      <th>교육대상구분</th>\n",
       "      <th>교육방법구분</th>\n",
       "      <th>운영요일</th>\n",
       "      <th>강좌정원수</th>\n",
       "      <th>데이터기준일자</th>\n",
       "      <th>전후반기</th>\n",
       "      <th>교육방법이산화</th>\n",
       "      <th>강좌인원대소</th>\n",
       "    </tr>\n",
       "  </thead>\n",
       "  <tbody>\n",
       "    <tr>\n",
       "      <th>0</th>\n",
       "      <td>서울시청자미디어센터</td>\n",
       "      <td>상설미디어체험 교육</td>\n",
       "      <td>이수현,김민호</td>\n",
       "      <td>2022-11-12</td>\n",
       "      <td>2022-11-26</td>\n",
       "      <td>상설미디어체험(뉴스앵커체험 등)</td>\n",
       "      <td>일반</td>\n",
       "      <td>오프라인</td>\n",
       "      <td>토</td>\n",
       "      <td>25</td>\n",
       "      <td>2022-11-09</td>\n",
       "      <td>0</td>\n",
       "      <td>0</td>\n",
       "      <td>1</td>\n",
       "    </tr>\n",
       "    <tr>\n",
       "      <th>1</th>\n",
       "      <td>서울시청자미디어센터</td>\n",
       "      <td>찾아가는미디어나눔버스 체험 교육</td>\n",
       "      <td>김도경,이수현</td>\n",
       "      <td>2022-11-21</td>\n",
       "      <td>2022-11-21</td>\n",
       "      <td>찾아가는미디어나눔버스 체험</td>\n",
       "      <td>청소년</td>\n",
       "      <td>오프라인</td>\n",
       "      <td>월</td>\n",
       "      <td>25</td>\n",
       "      <td>2022-11-09</td>\n",
       "      <td>1</td>\n",
       "      <td>0</td>\n",
       "      <td>1</td>\n",
       "    </tr>\n",
       "    <tr>\n",
       "      <th>2</th>\n",
       "      <td>서울시청자미디어센터</td>\n",
       "      <td>찾아가는미디어나눔버스 체험</td>\n",
       "      <td>김도경,이수현</td>\n",
       "      <td>2022-11-22</td>\n",
       "      <td>2022-11-22</td>\n",
       "      <td>찾아가는미디어나눔버스 체험</td>\n",
       "      <td>청소년</td>\n",
       "      <td>오프라인</td>\n",
       "      <td>화</td>\n",
       "      <td>25</td>\n",
       "      <td>2022-11-09</td>\n",
       "      <td>1</td>\n",
       "      <td>0</td>\n",
       "      <td>1</td>\n",
       "    </tr>\n",
       "    <tr>\n",
       "      <th>3</th>\n",
       "      <td>서울시청자미디어센터</td>\n",
       "      <td>찾아가는미디어나눔버스 체험</td>\n",
       "      <td>김도경,이수현</td>\n",
       "      <td>2022-11-23</td>\n",
       "      <td>2022-11-23</td>\n",
       "      <td>찾아가는미디어나눔버스 체험</td>\n",
       "      <td>청소년</td>\n",
       "      <td>오프라인</td>\n",
       "      <td>수</td>\n",
       "      <td>25</td>\n",
       "      <td>2022-11-09</td>\n",
       "      <td>1</td>\n",
       "      <td>0</td>\n",
       "      <td>1</td>\n",
       "    </tr>\n",
       "    <tr>\n",
       "      <th>4</th>\n",
       "      <td>서울시청자미디어센터</td>\n",
       "      <td>찾아가는미디어나눔버스 체험</td>\n",
       "      <td>김도경,이수현</td>\n",
       "      <td>2022-11-25</td>\n",
       "      <td>2022-11-25</td>\n",
       "      <td>찾아가는미디어나눔버스 체험</td>\n",
       "      <td>청소년</td>\n",
       "      <td>오프라인</td>\n",
       "      <td>금</td>\n",
       "      <td>25</td>\n",
       "      <td>2022-11-09</td>\n",
       "      <td>1</td>\n",
       "      <td>0</td>\n",
       "      <td>1</td>\n",
       "    </tr>\n",
       "    <tr>\n",
       "      <th>...</th>\n",
       "      <td>...</td>\n",
       "      <td>...</td>\n",
       "      <td>...</td>\n",
       "      <td>...</td>\n",
       "      <td>...</td>\n",
       "      <td>...</td>\n",
       "      <td>...</td>\n",
       "      <td>...</td>\n",
       "      <td>...</td>\n",
       "      <td>...</td>\n",
       "      <td>...</td>\n",
       "      <td>...</td>\n",
       "      <td>...</td>\n",
       "      <td>...</td>\n",
       "    </tr>\n",
       "    <tr>\n",
       "      <th>94</th>\n",
       "      <td>인천시청자미디어센터</td>\n",
       "      <td>찾아가는 미디어나눔버스(TV뉴스체험)</td>\n",
       "      <td>류은애,김은자</td>\n",
       "      <td>2022-11-30</td>\n",
       "      <td>2022-11-30</td>\n",
       "      <td>TV 뉴스 제작 및 영상합성 크로마키 체험</td>\n",
       "      <td>중학생</td>\n",
       "      <td>오프라인</td>\n",
       "      <td>수</td>\n",
       "      <td>25</td>\n",
       "      <td>2022-11-09</td>\n",
       "      <td>1</td>\n",
       "      <td>0</td>\n",
       "      <td>1</td>\n",
       "    </tr>\n",
       "    <tr>\n",
       "      <th>95</th>\n",
       "      <td>충북시청자미디어센터</td>\n",
       "      <td>TV체험(뉴스체험)</td>\n",
       "      <td>미정</td>\n",
       "      <td>2022-11-01</td>\n",
       "      <td>2022-11-30</td>\n",
       "      <td>아나운서, 기자, 기상캐스터 등 역할을 나누어 뉴스 제작 과정을 체험해보는 프로그램</td>\n",
       "      <td>초등학생 이상</td>\n",
       "      <td>오프라인</td>\n",
       "      <td>월,화,수,목,금,토</td>\n",
       "      <td>15</td>\n",
       "      <td>2022-11-09</td>\n",
       "      <td>0</td>\n",
       "      <td>0</td>\n",
       "      <td>0</td>\n",
       "    </tr>\n",
       "    <tr>\n",
       "      <th>96</th>\n",
       "      <td>충북시청자미디어센터</td>\n",
       "      <td>라디오체험(DJ체험)</td>\n",
       "      <td>미정</td>\n",
       "      <td>2022-11-01</td>\n",
       "      <td>2022-11-30</td>\n",
       "      <td>라디오 프로그램을 작가, DJ, 게스트가 되어 라디오 프로그램을 제작해보는 체험</td>\n",
       "      <td>초등학생 이상</td>\n",
       "      <td>오프라인</td>\n",
       "      <td>월,화,수,목,금,토</td>\n",
       "      <td>15</td>\n",
       "      <td>2022-11-09</td>\n",
       "      <td>0</td>\n",
       "      <td>0</td>\n",
       "      <td>0</td>\n",
       "    </tr>\n",
       "    <tr>\n",
       "      <th>97</th>\n",
       "      <td>충북시청자미디어센터</td>\n",
       "      <td>유아 크로마키 체험</td>\n",
       "      <td>미정</td>\n",
       "      <td>2022-11-01</td>\n",
       "      <td>2022-11-30</td>\n",
       "      <td>유아 대상 크로마키를 통해 다양한 놀이를 해보는 체험</td>\n",
       "      <td>6~7세</td>\n",
       "      <td>오프라인</td>\n",
       "      <td>월,화,수,목,금,토</td>\n",
       "      <td>15</td>\n",
       "      <td>2022-11-09</td>\n",
       "      <td>0</td>\n",
       "      <td>0</td>\n",
       "      <td>0</td>\n",
       "    </tr>\n",
       "    <tr>\n",
       "      <th>98</th>\n",
       "      <td>충북시청자미디어센터</td>\n",
       "      <td>AI 체험</td>\n",
       "      <td>미정</td>\n",
       "      <td>2022-11-01</td>\n",
       "      <td>2022-11-30</td>\n",
       "      <td>인공지능에 대해 이해하고 머신러닝을 여러 방법으로 알아보는 체험</td>\n",
       "      <td>초등학생 이상</td>\n",
       "      <td>오프라인</td>\n",
       "      <td>월,화,수,목,금,토</td>\n",
       "      <td>15</td>\n",
       "      <td>2022-11-09</td>\n",
       "      <td>0</td>\n",
       "      <td>0</td>\n",
       "      <td>0</td>\n",
       "    </tr>\n",
       "  </tbody>\n",
       "</table>\n",
       "<p>99 rows × 14 columns</p>\n",
       "</div>"
      ],
      "text/plain": [
       "           센터명                   강좌명      강사명      교육시작일자      교육종료일자  \\\n",
       "0   서울시청자미디어센터            상설미디어체험 교육  이수현,김민호  2022-11-12  2022-11-26   \n",
       "1   서울시청자미디어센터     찾아가는미디어나눔버스 체험 교육  김도경,이수현  2022-11-21  2022-11-21   \n",
       "2   서울시청자미디어센터        찾아가는미디어나눔버스 체험  김도경,이수현  2022-11-22  2022-11-22   \n",
       "3   서울시청자미디어센터        찾아가는미디어나눔버스 체험  김도경,이수현  2022-11-23  2022-11-23   \n",
       "4   서울시청자미디어센터        찾아가는미디어나눔버스 체험  김도경,이수현  2022-11-25  2022-11-25   \n",
       "..         ...                   ...      ...         ...         ...   \n",
       "94  인천시청자미디어센터  찾아가는 미디어나눔버스(TV뉴스체험)  류은애,김은자  2022-11-30  2022-11-30   \n",
       "95  충북시청자미디어센터            TV체험(뉴스체험)       미정  2022-11-01  2022-11-30   \n",
       "96  충북시청자미디어센터           라디오체험(DJ체험)       미정  2022-11-01  2022-11-30   \n",
       "97  충북시청자미디어센터            유아 크로마키 체험       미정  2022-11-01  2022-11-30   \n",
       "98  충북시청자미디어센터                 AI 체험       미정  2022-11-01  2022-11-30   \n",
       "\n",
       "                                              강좌내용   교육대상구분 교육방법구분  \\\n",
       "0                                상설미디어체험(뉴스앵커체험 등)       일반   오프라인   \n",
       "1                                   찾아가는미디어나눔버스 체험      청소년   오프라인   \n",
       "2                                   찾아가는미디어나눔버스 체험      청소년   오프라인   \n",
       "3                                   찾아가는미디어나눔버스 체험      청소년   오프라인   \n",
       "4                                   찾아가는미디어나눔버스 체험      청소년   오프라인   \n",
       "..                                             ...      ...    ...   \n",
       "94                         TV 뉴스 제작 및 영상합성 크로마키 체험      중학생   오프라인   \n",
       "95  아나운서, 기자, 기상캐스터 등 역할을 나누어 뉴스 제작 과정을 체험해보는 프로그램  초등학생 이상   오프라인   \n",
       "96    라디오 프로그램을 작가, DJ, 게스트가 되어 라디오 프로그램을 제작해보는 체험  초등학생 이상   오프라인   \n",
       "97                   유아 대상 크로마키를 통해 다양한 놀이를 해보는 체험     6~7세   오프라인   \n",
       "98             인공지능에 대해 이해하고 머신러닝을 여러 방법으로 알아보는 체험  초등학생 이상   오프라인   \n",
       "\n",
       "           운영요일  강좌정원수     데이터기준일자  전후반기  교육방법이산화  강좌인원대소  \n",
       "0             토     25  2022-11-09     0        0       1  \n",
       "1             월     25  2022-11-09     1        0       1  \n",
       "2             화     25  2022-11-09     1        0       1  \n",
       "3             수     25  2022-11-09     1        0       1  \n",
       "4             금     25  2022-11-09     1        0       1  \n",
       "..          ...    ...         ...   ...      ...     ...  \n",
       "94            수     25  2022-11-09     1        0       1  \n",
       "95  월,화,수,목,금,토     15  2022-11-09     0        0       0  \n",
       "96  월,화,수,목,금,토     15  2022-11-09     0        0       0  \n",
       "97  월,화,수,목,금,토     15  2022-11-09     0        0       0  \n",
       "98  월,화,수,목,금,토     15  2022-11-09     0        0       0  \n",
       "\n",
       "[99 rows x 14 columns]"
      ]
     },
     "execution_count": 26,
     "metadata": {},
     "output_type": "execute_result"
    }
   ],
   "source": [
    "df"
   ]
  },
  {
   "cell_type": "markdown",
   "id": "6e46f0d9",
   "metadata": {},
   "source": [
    "## 마스킹은 불 자료형 기반의 인덱싱이다!\n",
    "* True 면 인덱싱 하고, False는 인덱싱을 안한다."
   ]
  },
  {
   "cell_type": "code",
   "execution_count": 27,
   "id": "448775f9",
   "metadata": {},
   "outputs": [],
   "source": [
    "# 위의 것을 이렇게도 할 수 있다.\n",
    "\n",
    "mean_value = df['강좌정원수'].mean()"
   ]
  },
  {
   "cell_type": "code",
   "execution_count": 28,
   "id": "640d7d3e",
   "metadata": {},
   "outputs": [],
   "source": [
    "# 아래 불 값을 바로 인티저로 바꿀순 없으니 아래와 같이 할 수 있다.\n",
    "\n",
    "binary_data = df['강좌정원수'] > mean_value"
   ]
  },
  {
   "cell_type": "code",
   "execution_count": 29,
   "id": "802a7f32",
   "metadata": {
    "collapsed": true
   },
   "outputs": [
    {
     "data": {
      "text/plain": [
       "[1,\n",
       " 1,\n",
       " 1,\n",
       " 1,\n",
       " 1,\n",
       " 1,\n",
       " 1,\n",
       " 1,\n",
       " 1,\n",
       " 1,\n",
       " 1,\n",
       " 1,\n",
       " 1,\n",
       " 1,\n",
       " 1,\n",
       " 1,\n",
       " 1,\n",
       " 1,\n",
       " 1,\n",
       " 1,\n",
       " 1,\n",
       " 1,\n",
       " 1,\n",
       " 1,\n",
       " 1,\n",
       " 1,\n",
       " 1,\n",
       " 1,\n",
       " 1,\n",
       " 1,\n",
       " 0,\n",
       " 0,\n",
       " 0,\n",
       " 0,\n",
       " 1,\n",
       " 0,\n",
       " 0,\n",
       " 1,\n",
       " 0,\n",
       " 0,\n",
       " 0,\n",
       " 0,\n",
       " 0,\n",
       " 0,\n",
       " 0,\n",
       " 0,\n",
       " 0,\n",
       " 0,\n",
       " 0,\n",
       " 0,\n",
       " 0,\n",
       " 0,\n",
       " 0,\n",
       " 0,\n",
       " 0,\n",
       " 0,\n",
       " 0,\n",
       " 0,\n",
       " 0,\n",
       " 0,\n",
       " 0,\n",
       " 0,\n",
       " 0,\n",
       " 0,\n",
       " 0,\n",
       " 0,\n",
       " 0,\n",
       " 0,\n",
       " 0,\n",
       " 0,\n",
       " 1,\n",
       " 0,\n",
       " 0,\n",
       " 0,\n",
       " 1,\n",
       " 0,\n",
       " 1,\n",
       " 1,\n",
       " 1,\n",
       " 1,\n",
       " 1,\n",
       " 1,\n",
       " 1,\n",
       " 1,\n",
       " 0,\n",
       " 0,\n",
       " 0,\n",
       " 1,\n",
       " 0,\n",
       " 0,\n",
       " 0,\n",
       " 0,\n",
       " 0,\n",
       " 0,\n",
       " 1,\n",
       " 0,\n",
       " 0,\n",
       " 0,\n",
       " 0]"
      ]
     },
     "execution_count": 29,
     "metadata": {},
     "output_type": "execute_result"
    }
   ],
   "source": [
    "[int(b) for b in binary_data]"
   ]
  },
  {
   "cell_type": "markdown",
   "id": "ef24e30a",
   "metadata": {},
   "source": [
    "### 표준화, 정규화를 해보자...\n",
    "* 여기부터는 정규화. 노멀라이징"
   ]
  },
  {
   "cell_type": "code",
   "execution_count": 30,
   "id": "cfdbdfe6",
   "metadata": {},
   "outputs": [],
   "source": [
    "import seaborn as sms"
   ]
  },
  {
   "cell_type": "code",
   "execution_count": 43,
   "id": "310626db",
   "metadata": {},
   "outputs": [],
   "source": [
    "from matplotlib import rc"
   ]
  },
  {
   "cell_type": "code",
   "execution_count": 44,
   "id": "0e429093",
   "metadata": {},
   "outputs": [],
   "source": [
    "import matplotlib.pyplot as plt"
   ]
  },
  {
   "cell_type": "code",
   "execution_count": 45,
   "id": "19cc51b7",
   "metadata": {},
   "outputs": [],
   "source": [
    "sms.set()"
   ]
  },
  {
   "cell_type": "code",
   "execution_count": 47,
   "id": "e20a92be",
   "metadata": {},
   "outputs": [
    {
     "ename": "KeyError",
     "evalue": "'Unrecognized key \"malgunGothic.family\" for group \"malgunGothic\" and name \"family\"'",
     "output_type": "error",
     "traceback": [
      "\u001b[1;31m---------------------------------------------------------------------------\u001b[0m",
      "\u001b[1;31mKeyError\u001b[0m                                  Traceback (most recent call last)",
      "\u001b[1;32mC:\\ProgramData\\Anaconda3\\lib\\site-packages\\matplotlib\\__init__.py\u001b[0m in \u001b[0;36m__setitem__\u001b[1;34m(self, key, val)\u001b[0m\n\u001b[0;32m    643\u001b[0m             \u001b[1;32mtry\u001b[0m\u001b[1;33m:\u001b[0m\u001b[1;33m\u001b[0m\u001b[1;33m\u001b[0m\u001b[0m\n\u001b[1;32m--> 644\u001b[1;33m                 \u001b[0mcval\u001b[0m \u001b[1;33m=\u001b[0m \u001b[0mself\u001b[0m\u001b[1;33m.\u001b[0m\u001b[0mvalidate\u001b[0m\u001b[1;33m[\u001b[0m\u001b[0mkey\u001b[0m\u001b[1;33m]\u001b[0m\u001b[1;33m(\u001b[0m\u001b[0mval\u001b[0m\u001b[1;33m)\u001b[0m\u001b[1;33m\u001b[0m\u001b[1;33m\u001b[0m\u001b[0m\n\u001b[0m\u001b[0;32m    645\u001b[0m             \u001b[1;32mexcept\u001b[0m \u001b[0mValueError\u001b[0m \u001b[1;32mas\u001b[0m \u001b[0mve\u001b[0m\u001b[1;33m:\u001b[0m\u001b[1;33m\u001b[0m\u001b[1;33m\u001b[0m\u001b[0m\n",
      "\u001b[1;31mKeyError\u001b[0m: 'malgunGothic.family'",
      "\nThe above exception was the direct cause of the following exception:\n",
      "\u001b[1;31mKeyError\u001b[0m                                  Traceback (most recent call last)",
      "\u001b[1;32mC:\\ProgramData\\Anaconda3\\lib\\site-packages\\matplotlib\\__init__.py\u001b[0m in \u001b[0;36mrc\u001b[1;34m(group, **kwargs)\u001b[0m\n\u001b[0;32m    974\u001b[0m             \u001b[1;32mtry\u001b[0m\u001b[1;33m:\u001b[0m\u001b[1;33m\u001b[0m\u001b[1;33m\u001b[0m\u001b[0m\n\u001b[1;32m--> 975\u001b[1;33m                 \u001b[0mrcParams\u001b[0m\u001b[1;33m[\u001b[0m\u001b[0mkey\u001b[0m\u001b[1;33m]\u001b[0m \u001b[1;33m=\u001b[0m \u001b[0mv\u001b[0m\u001b[1;33m\u001b[0m\u001b[1;33m\u001b[0m\u001b[0m\n\u001b[0m\u001b[0;32m    976\u001b[0m             \u001b[1;32mexcept\u001b[0m \u001b[0mKeyError\u001b[0m \u001b[1;32mas\u001b[0m \u001b[0merr\u001b[0m\u001b[1;33m:\u001b[0m\u001b[1;33m\u001b[0m\u001b[1;33m\u001b[0m\u001b[0m\n",
      "\u001b[1;32mC:\\ProgramData\\Anaconda3\\lib\\site-packages\\matplotlib\\__init__.py\u001b[0m in \u001b[0;36m__setitem__\u001b[1;34m(self, key, val)\u001b[0m\n\u001b[0;32m    648\u001b[0m         \u001b[1;32mexcept\u001b[0m \u001b[0mKeyError\u001b[0m \u001b[1;32mas\u001b[0m \u001b[0merr\u001b[0m\u001b[1;33m:\u001b[0m\u001b[1;33m\u001b[0m\u001b[1;33m\u001b[0m\u001b[0m\n\u001b[1;32m--> 649\u001b[1;33m             raise KeyError(\n\u001b[0m\u001b[0;32m    650\u001b[0m                 \u001b[1;34mf\"{key} is not a valid rc parameter (see rcParams.keys() for \"\u001b[0m\u001b[1;33m\u001b[0m\u001b[1;33m\u001b[0m\u001b[0m\n",
      "\u001b[1;31mKeyError\u001b[0m: 'malgunGothic.family is not a valid rc parameter (see rcParams.keys() for a list of valid parameters)'",
      "\nThe above exception was the direct cause of the following exception:\n",
      "\u001b[1;31mKeyError\u001b[0m                                  Traceback (most recent call last)",
      "\u001b[1;32m~\\AppData\\Local\\Temp\\ipykernel_22232\\3035505549.py\u001b[0m in \u001b[0;36m<module>\u001b[1;34m\u001b[0m\n\u001b[1;32m----> 1\u001b[1;33m \u001b[0mrc\u001b[0m\u001b[1;33m(\u001b[0m\u001b[1;34m'malgunGothic'\u001b[0m\u001b[1;33m,\u001b[0m \u001b[0mfamily\u001b[0m\u001b[1;33m=\u001b[0m\u001b[1;34m'malgunGothic'\u001b[0m\u001b[1;33m)\u001b[0m\u001b[1;33m\u001b[0m\u001b[1;33m\u001b[0m\u001b[0m\n\u001b[0m",
      "\u001b[1;32mC:\\ProgramData\\Anaconda3\\lib\\site-packages\\matplotlib\\__init__.py\u001b[0m in \u001b[0;36mrc\u001b[1;34m(group, **kwargs)\u001b[0m\n\u001b[0;32m    975\u001b[0m                 \u001b[0mrcParams\u001b[0m\u001b[1;33m[\u001b[0m\u001b[0mkey\u001b[0m\u001b[1;33m]\u001b[0m \u001b[1;33m=\u001b[0m \u001b[0mv\u001b[0m\u001b[1;33m\u001b[0m\u001b[1;33m\u001b[0m\u001b[0m\n\u001b[0;32m    976\u001b[0m             \u001b[1;32mexcept\u001b[0m \u001b[0mKeyError\u001b[0m \u001b[1;32mas\u001b[0m \u001b[0merr\u001b[0m\u001b[1;33m:\u001b[0m\u001b[1;33m\u001b[0m\u001b[1;33m\u001b[0m\u001b[0m\n\u001b[1;32m--> 977\u001b[1;33m                 raise KeyError(('Unrecognized key \"%s\" for group \"%s\" and '\n\u001b[0m\u001b[0;32m    978\u001b[0m                                 'name \"%s\"') % (key, g, name)) from err\n\u001b[0;32m    979\u001b[0m \u001b[1;33m\u001b[0m\u001b[0m\n",
      "\u001b[1;31mKeyError\u001b[0m: 'Unrecognized key \"malgunGothic.family\" for group \"malgunGothic\" and name \"family\"'"
     ]
    }
   ],
   "source": [
    "rc('malgunGothic', family='malgunGothic')"
   ]
  },
  {
   "cell_type": "code",
   "execution_count": 42,
   "id": "22ace93a",
   "metadata": {},
   "outputs": [
    {
     "name": "stderr",
     "output_type": "stream",
     "text": [
      "C:\\ProgramData\\Anaconda3\\lib\\site-packages\\seaborn\\distributions.py:2619: FutureWarning: `distplot` is a deprecated function and will be removed in a future version. Please adapt your code to use either `displot` (a figure-level function with similar flexibility) or `histplot` (an axes-level function for histograms).\n",
      "  warnings.warn(msg, FutureWarning)\n",
      "C:\\ProgramData\\Anaconda3\\lib\\site-packages\\IPython\\core\\pylabtools.py:151: UserWarning: Glyph 44053 (\\N{HANGUL SYLLABLE GANG}) missing from current font.\n",
      "  fig.canvas.print_figure(bytes_io, **kw)\n",
      "C:\\ProgramData\\Anaconda3\\lib\\site-packages\\IPython\\core\\pylabtools.py:151: UserWarning: Glyph 51340 (\\N{HANGUL SYLLABLE JWA}) missing from current font.\n",
      "  fig.canvas.print_figure(bytes_io, **kw)\n",
      "C:\\ProgramData\\Anaconda3\\lib\\site-packages\\IPython\\core\\pylabtools.py:151: UserWarning: Glyph 51221 (\\N{HANGUL SYLLABLE JEONG}) missing from current font.\n",
      "  fig.canvas.print_figure(bytes_io, **kw)\n",
      "C:\\ProgramData\\Anaconda3\\lib\\site-packages\\IPython\\core\\pylabtools.py:151: UserWarning: Glyph 50896 (\\N{HANGUL SYLLABLE WEON}) missing from current font.\n",
      "  fig.canvas.print_figure(bytes_io, **kw)\n",
      "C:\\ProgramData\\Anaconda3\\lib\\site-packages\\IPython\\core\\pylabtools.py:151: UserWarning: Glyph 49688 (\\N{HANGUL SYLLABLE SU}) missing from current font.\n",
      "  fig.canvas.print_figure(bytes_io, **kw)\n"
     ]
    },
    {
     "data": {
      "image/png": "[encoded data removed]",
      "text/plain": [
       "<Figure size 640x480 with 1 Axes>"
      ]
     },
     "metadata": {},
     "output_type": "display_data"
    }
   ],
   "source": [
    "# distplot 은 매우 느리다. 자료가 큰 경우에는 주의해서 사용해야 한다.\n",
    "\n",
    "sms.distplot(df['강좌정원수'])\n",
    "plt.show()"
   ]
  },
  {
   "cell_type": "code",
   "execution_count": 35,
   "id": "120de06b",
   "metadata": {},
   "outputs": [],
   "source": [
    "import math"
   ]
  },
  {
   "cell_type": "code",
   "execution_count": 37,
   "id": "79ede135",
   "metadata": {},
   "outputs": [
    {
     "name": "stderr",
     "output_type": "stream",
     "text": [
      "C:\\ProgramData\\Anaconda3\\lib\\site-packages\\seaborn\\distributions.py:2619: FutureWarning: `distplot` is a deprecated function and will be removed in a future version. Please adapt your code to use either `displot` (a figure-level function with similar flexibility) or `histplot` (an axes-level function for histograms).\n",
      "  warnings.warn(msg, FutureWarning)\n",
      "C:\\ProgramData\\Anaconda3\\lib\\site-packages\\IPython\\core\\pylabtools.py:151: UserWarning: Glyph 44053 (\\N{HANGUL SYLLABLE GANG}) missing from current font.\n",
      "  fig.canvas.print_figure(bytes_io, **kw)\n",
      "C:\\ProgramData\\Anaconda3\\lib\\site-packages\\IPython\\core\\pylabtools.py:151: UserWarning: Glyph 51340 (\\N{HANGUL SYLLABLE JWA}) missing from current font.\n",
      "  fig.canvas.print_figure(bytes_io, **kw)\n",
      "C:\\ProgramData\\Anaconda3\\lib\\site-packages\\IPython\\core\\pylabtools.py:151: UserWarning: Glyph 51221 (\\N{HANGUL SYLLABLE JEONG}) missing from current font.\n",
      "  fig.canvas.print_figure(bytes_io, **kw)\n",
      "C:\\ProgramData\\Anaconda3\\lib\\site-packages\\IPython\\core\\pylabtools.py:151: UserWarning: Glyph 50896 (\\N{HANGUL SYLLABLE WEON}) missing from current font.\n",
      "  fig.canvas.print_figure(bytes_io, **kw)\n",
      "C:\\ProgramData\\Anaconda3\\lib\\site-packages\\IPython\\core\\pylabtools.py:151: UserWarning: Glyph 49688 (\\N{HANGUL SYLLABLE SU}) missing from current font.\n",
      "  fig.canvas.print_figure(bytes_io, **kw)\n"
     ]
    },
    {
     "data": {
      "image/png": "[encoded data removed]",
      "text/plain": [
       "<Figure size 640x480 with 1 Axes>"
      ]
     },
     "metadata": {},
     "output_type": "display_data"
    }
   ],
   "source": [
    "# math.log2 함수는 값을 로그2로 취해서 리턴해준다.\n",
    "# 전체 데이터에 log2를 씌우면 대체적으로 작은 값은 크게 커지고, 큰 값은 그리 커지지 않게 된다.\n",
    "# 왼쪽으로 치우친 값을 오른쪽으로 옮기고 싶을 때 많이 이용하게 된다.\n",
    "sms.distplot(df['강좌정원수'].apply(lambda x: math.log2(x)))\n",
    "plt.show()"
   ]
  },
  {
   "cell_type": "code",
   "execution_count": 38,
   "id": "b1efc9eb",
   "metadata": {},
   "outputs": [
    {
     "name": "stderr",
     "output_type": "stream",
     "text": [
      "C:\\ProgramData\\Anaconda3\\lib\\site-packages\\seaborn\\distributions.py:2619: FutureWarning: `distplot` is a deprecated function and will be removed in a future version. Please adapt your code to use either `displot` (a figure-level function with similar flexibility) or `histplot` (an axes-level function for histograms).\n",
      "  warnings.warn(msg, FutureWarning)\n",
      "C:\\ProgramData\\Anaconda3\\lib\\site-packages\\IPython\\core\\pylabtools.py:151: UserWarning: Glyph 44053 (\\N{HANGUL SYLLABLE GANG}) missing from current font.\n",
      "  fig.canvas.print_figure(bytes_io, **kw)\n",
      "C:\\ProgramData\\Anaconda3\\lib\\site-packages\\IPython\\core\\pylabtools.py:151: UserWarning: Glyph 51340 (\\N{HANGUL SYLLABLE JWA}) missing from current font.\n",
      "  fig.canvas.print_figure(bytes_io, **kw)\n",
      "C:\\ProgramData\\Anaconda3\\lib\\site-packages\\IPython\\core\\pylabtools.py:151: UserWarning: Glyph 51221 (\\N{HANGUL SYLLABLE JEONG}) missing from current font.\n",
      "  fig.canvas.print_figure(bytes_io, **kw)\n",
      "C:\\ProgramData\\Anaconda3\\lib\\site-packages\\IPython\\core\\pylabtools.py:151: UserWarning: Glyph 50896 (\\N{HANGUL SYLLABLE WEON}) missing from current font.\n",
      "  fig.canvas.print_figure(bytes_io, **kw)\n",
      "C:\\ProgramData\\Anaconda3\\lib\\site-packages\\IPython\\core\\pylabtools.py:151: UserWarning: Glyph 49688 (\\N{HANGUL SYLLABLE SU}) missing from current font.\n",
      "  fig.canvas.print_figure(bytes_io, **kw)\n"
     ]
    },
    {
     "data": {
      "image/png": "[encoded data removed]",
      "text/plain": [
       "<Figure size 640x480 with 1 Axes>"
      ]
     },
     "metadata": {},
     "output_type": "display_data"
    }
   ],
   "source": [
    "# 지수함수로 e 넣은 값.\n",
    "# 원래 값이 클수록 변화가 심하고, 원래 값이 작으면 그리 변화가 심하지 않다.\n",
    "# 오른쪽으로 치우친 데이터들을 정규분포에 가깝게 만들어줄 수 있다.\n",
    "\n",
    "sms.distplot(df['강좌정원수'].apply(lambda x: math.exp(x)))\n",
    "plt.show()"
   ]
  },
  {
   "cell_type": "code",
   "execution_count": 39,
   "id": "8e0b96e6",
   "metadata": {},
   "outputs": [
    {
     "name": "stderr",
     "output_type": "stream",
     "text": [
      "C:\\ProgramData\\Anaconda3\\lib\\site-packages\\seaborn\\distributions.py:2619: FutureWarning: `distplot` is a deprecated function and will be removed in a future version. Please adapt your code to use either `displot` (a figure-level function with similar flexibility) or `histplot` (an axes-level function for histograms).\n",
      "  warnings.warn(msg, FutureWarning)\n",
      "C:\\ProgramData\\Anaconda3\\lib\\site-packages\\IPython\\core\\pylabtools.py:151: UserWarning: Glyph 44053 (\\N{HANGUL SYLLABLE GANG}) missing from current font.\n",
      "  fig.canvas.print_figure(bytes_io, **kw)\n",
      "C:\\ProgramData\\Anaconda3\\lib\\site-packages\\IPython\\core\\pylabtools.py:151: UserWarning: Glyph 51340 (\\N{HANGUL SYLLABLE JWA}) missing from current font.\n",
      "  fig.canvas.print_figure(bytes_io, **kw)\n",
      "C:\\ProgramData\\Anaconda3\\lib\\site-packages\\IPython\\core\\pylabtools.py:151: UserWarning: Glyph 51221 (\\N{HANGUL SYLLABLE JEONG}) missing from current font.\n",
      "  fig.canvas.print_figure(bytes_io, **kw)\n",
      "C:\\ProgramData\\Anaconda3\\lib\\site-packages\\IPython\\core\\pylabtools.py:151: UserWarning: Glyph 50896 (\\N{HANGUL SYLLABLE WEON}) missing from current font.\n",
      "  fig.canvas.print_figure(bytes_io, **kw)\n",
      "C:\\ProgramData\\Anaconda3\\lib\\site-packages\\IPython\\core\\pylabtools.py:151: UserWarning: Glyph 49688 (\\N{HANGUL SYLLABLE SU}) missing from current font.\n",
      "  fig.canvas.print_figure(bytes_io, **kw)\n"
     ]
    },
    {
     "data": {
      "image/png": "[encoded data removed]",
      "text/plain": [
       "<Figure size 640x480 with 1 Axes>"
      ]
     },
     "metadata": {},
     "output_type": "display_data"
    }
   ],
   "source": [
    "# log2로 할 수 없을 때 log10을 쓰면 되는데..\n",
    "# 대부분은 log2를 받기 때문에 log10을 쓰는 경우 이유를 댈 수 있어야 한다. \n",
    "\n",
    "sms.distplot(df['강좌정원수'].apply(lambda x: math.log10(x)))\n",
    "plt.show()"
   ]
  },
  {
   "cell_type": "markdown",
   "id": "a49ac3f5",
   "metadata": {},
   "source": [
    "* 여기부터는 표준화. 스케일링"
   ]
  },
  {
   "cell_type": "markdown",
   "id": "c32d890c",
   "metadata": {},
   "source": [
    "## T-test 실습\n",
    "\n",
    "* 수도권과 비수도권의 강좌정원수 간의 차이가 통계적으로 유의한지 알아보세요."
   ]
  },
  {
   "cell_type": "code",
   "execution_count": 50,
   "id": "b5d0ee72",
   "metadata": {},
   "outputs": [
    {
     "data": {
      "text/html": [
       "<div>\n",
       "<style scoped>\n",
       "    .dataframe tbody tr th:only-of-type {\n",
       "        vertical-align: middle;\n",
       "    }\n",
       "\n",
       "    .dataframe tbody tr th {\n",
       "        vertical-align: top;\n",
       "    }\n",
       "\n",
       "    .dataframe thead th {\n",
       "        text-align: right;\n",
       "    }\n",
       "</style>\n",
       "<table border=\"1\" class=\"dataframe\">\n",
       "  <thead>\n",
       "    <tr style=\"text-align: right;\">\n",
       "      <th></th>\n",
       "      <th>센터명</th>\n",
       "      <th>강좌명</th>\n",
       "      <th>강사명</th>\n",
       "      <th>교육시작일자</th>\n",
       "      <th>교육종료일자</th>\n",
       "      <th>강좌내용</th>\n",
       "      <th>교육대상구분</th>\n",
       "      <th>교육방법구분</th>\n",
       "      <th>운영요일</th>\n",
       "      <th>강좌정원수</th>\n",
       "      <th>데이터기준일자</th>\n",
       "      <th>전후반기</th>\n",
       "      <th>교육방법이산화</th>\n",
       "      <th>강좌인원대소</th>\n",
       "    </tr>\n",
       "  </thead>\n",
       "  <tbody>\n",
       "    <tr>\n",
       "      <th>0</th>\n",
       "      <td>서울시청자미디어센터</td>\n",
       "      <td>상설미디어체험 교육</td>\n",
       "      <td>이수현,김민호</td>\n",
       "      <td>2022-11-12</td>\n",
       "      <td>2022-11-26</td>\n",
       "      <td>상설미디어체험(뉴스앵커체험 등)</td>\n",
       "      <td>일반</td>\n",
       "      <td>오프라인</td>\n",
       "      <td>토</td>\n",
       "      <td>25</td>\n",
       "      <td>2022-11-09</td>\n",
       "      <td>0</td>\n",
       "      <td>0</td>\n",
       "      <td>1</td>\n",
       "    </tr>\n",
       "    <tr>\n",
       "      <th>1</th>\n",
       "      <td>서울시청자미디어센터</td>\n",
       "      <td>찾아가는미디어나눔버스 체험 교육</td>\n",
       "      <td>김도경,이수현</td>\n",
       "      <td>2022-11-21</td>\n",
       "      <td>2022-11-21</td>\n",
       "      <td>찾아가는미디어나눔버스 체험</td>\n",
       "      <td>청소년</td>\n",
       "      <td>오프라인</td>\n",
       "      <td>월</td>\n",
       "      <td>25</td>\n",
       "      <td>2022-11-09</td>\n",
       "      <td>1</td>\n",
       "      <td>0</td>\n",
       "      <td>1</td>\n",
       "    </tr>\n",
       "  </tbody>\n",
       "</table>\n",
       "</div>"
      ],
      "text/plain": [
       "          센터명                강좌명      강사명      교육시작일자      교육종료일자  \\\n",
       "0  서울시청자미디어센터         상설미디어체험 교육  이수현,김민호  2022-11-12  2022-11-26   \n",
       "1  서울시청자미디어센터  찾아가는미디어나눔버스 체험 교육  김도경,이수현  2022-11-21  2022-11-21   \n",
       "\n",
       "                강좌내용 교육대상구분 교육방법구분 운영요일  강좌정원수     데이터기준일자  전후반기  교육방법이산화  \\\n",
       "0  상설미디어체험(뉴스앵커체험 등)     일반   오프라인    토     25  2022-11-09     0        0   \n",
       "1     찾아가는미디어나눔버스 체험    청소년   오프라인    월     25  2022-11-09     1        0   \n",
       "\n",
       "   강좌인원대소  \n",
       "0       1  \n",
       "1       1  "
      ]
     },
     "execution_count": 50,
     "metadata": {},
     "output_type": "execute_result"
    }
   ],
   "source": [
    "df.head(2)"
   ]
  },
  {
   "cell_type": "code",
   "execution_count": 51,
   "id": "0c44fc2a",
   "metadata": {},
   "outputs": [
    {
     "data": {
      "text/plain": [
       "array(['서울시청자미디어센터', '울산시청자미디어센터', '강원시청자미디어센터', '대전시청자미디어센터',\n",
       "       '광주시청자미디어센터', '부산시청자미디어센터', '인천시청자미디어센터', '충북시청자미디어센터'],\n",
       "      dtype=object)"
      ]
     },
     "execution_count": 51,
     "metadata": {},
     "output_type": "execute_result"
    }
   ],
   "source": [
    "df['센터명'].unique()"
   ]
  },
  {
   "cell_type": "code",
   "execution_count": 68,
   "id": "48487ca3",
   "metadata": {
    "scrolled": true
   },
   "outputs": [
    {
     "data": {
      "text/plain": [
       "[1,\n",
       " 1,\n",
       " 1,\n",
       " 1,\n",
       " 1,\n",
       " 1,\n",
       " 1,\n",
       " 1,\n",
       " 1,\n",
       " 1,\n",
       " 1,\n",
       " 1,\n",
       " 1,\n",
       " 1,\n",
       " 1,\n",
       " 1,\n",
       " 1,\n",
       " 1,\n",
       " 1,\n",
       " 1,\n",
       " 1,\n",
       " 1,\n",
       " 1,\n",
       " 1,\n",
       " 1,\n",
       " 1,\n",
       " 1,\n",
       " 1,\n",
       " 1,\n",
       " 1,\n",
       " 1,\n",
       " 1,\n",
       " 1,\n",
       " 1,\n",
       " 1,\n",
       " 1,\n",
       " 1,\n",
       " 1,\n",
       " 1,\n",
       " 1,\n",
       " 1,\n",
       " 1,\n",
       " 1,\n",
       " 1,\n",
       " 1,\n",
       " 1,\n",
       " 1,\n",
       " 1,\n",
       " 1,\n",
       " 1,\n",
       " 1,\n",
       " 1,\n",
       " 1,\n",
       " 1,\n",
       " 1,\n",
       " 1,\n",
       " 1,\n",
       " 1,\n",
       " 1,\n",
       " 1,\n",
       " 1,\n",
       " 1,\n",
       " 1,\n",
       " 1,\n",
       " 1,\n",
       " 1,\n",
       " 1,\n",
       " 1,\n",
       " 1,\n",
       " 1,\n",
       " 1,\n",
       " 1,\n",
       " 1,\n",
       " 1,\n",
       " 1,\n",
       " 1,\n",
       " 1,\n",
       " 1,\n",
       " 1,\n",
       " 1,\n",
       " 1,\n",
       " 1,\n",
       " 1,\n",
       " 1,\n",
       " 1,\n",
       " 1,\n",
       " 1,\n",
       " 1,\n",
       " 1,\n",
       " 1,\n",
       " 1,\n",
       " 1,\n",
       " 1,\n",
       " 1,\n",
       " 1,\n",
       " 1,\n",
       " 1,\n",
       " 1,\n",
       " 1]"
      ]
     },
     "execution_count": 68,
     "metadata": {},
     "output_type": "execute_result"
    }
   ],
   "source": [
    "# 수도권과 비수도권 ... 따로 모아보았다.\n",
    "\n",
    "su = []\n",
    "bisu = []\n",
    "\n",
    "def sudo(x):\n",
    "    if '서울' in df['센터명'][x]:\n",
    "        su.append(df['강좌정원수'][x])\n",
    "        \n",
    "    elif '인천' in df['센터명'][x]:\n",
    "        su.append(df['강좌정원수'][x])\n",
    "        \n",
    "    else:\n",
    "        bisu.append(df['강좌정원수'][x])\n",
    "        \n",
    "    return 1\n",
    "\n",
    "[sudo(i) for i in range(len(df.index))]\n",
    "\n",
    "\n",
    "    "
   ]
  },
  {
   "cell_type": "code",
   "execution_count": 69,
   "id": "93063fe1",
   "metadata": {
    "scrolled": true
   },
   "outputs": [
    {
     "data": {
      "text/plain": [
       "[25,\n",
       " 25,\n",
       " 25,\n",
       " 25,\n",
       " 25,\n",
       " 25,\n",
       " 14,\n",
       " 12,\n",
       " 12,\n",
       " 28,\n",
       " 10,\n",
       " 10,\n",
       " 15,\n",
       " 23,\n",
       " 14,\n",
       " 23,\n",
       " 23,\n",
       " 28,\n",
       " 23,\n",
       " 23,\n",
       " 23,\n",
       " 23,\n",
       " 23,\n",
       " 20,\n",
       " 20,\n",
       " 20,\n",
       " 25,\n",
       " 8,\n",
       " 4,\n",
       " 20,\n",
       " 12,\n",
       " 21,\n",
       " 17,\n",
       " 25]"
      ]
     },
     "execution_count": 69,
     "metadata": {},
     "output_type": "execute_result"
    }
   ],
   "source": [
    "su"
   ]
  },
  {
   "cell_type": "code",
   "execution_count": 70,
   "id": "bade7183",
   "metadata": {
    "scrolled": true
   },
   "outputs": [
    {
     "data": {
      "text/plain": [
       "[25,\n",
       " 25,\n",
       " 25,\n",
       " 25,\n",
       " 25,\n",
       " 25,\n",
       " 25,\n",
       " 25,\n",
       " 25,\n",
       " 25,\n",
       " 25,\n",
       " 25,\n",
       " 25,\n",
       " 25,\n",
       " 25,\n",
       " 25,\n",
       " 25,\n",
       " 25,\n",
       " 25,\n",
       " 25,\n",
       " 25,\n",
       " 25,\n",
       " 25,\n",
       " 25,\n",
       " 20,\n",
       " 15,\n",
       " 15,\n",
       " 15,\n",
       " 50,\n",
       " 10,\n",
       " 10,\n",
       " 40,\n",
       " 20,\n",
       " 20,\n",
       " 20,\n",
       " 20,\n",
       " 20,\n",
       " 20,\n",
       " 20,\n",
       " 20,\n",
       " 20,\n",
       " 20,\n",
       " 20,\n",
       " 20,\n",
       " 20,\n",
       " 20,\n",
       " 20,\n",
       " 20,\n",
       " 20,\n",
       " 20,\n",
       " 20,\n",
       " 20,\n",
       " 20,\n",
       " 20,\n",
       " 20,\n",
       " 20,\n",
       " 20,\n",
       " 20,\n",
       " 20,\n",
       " 20,\n",
       " 20,\n",
       " 15,\n",
       " 15,\n",
       " 15,\n",
       " 15]"
      ]
     },
     "execution_count": 70,
     "metadata": {},
     "output_type": "execute_result"
    }
   ],
   "source": [
    "bisu"
   ]
  },
  {
   "cell_type": "code",
   "execution_count": 71,
   "id": "5420e063",
   "metadata": {},
   "outputs": [
    {
     "data": {
      "text/plain": [
       "KstestResult(statistic=0.2339366515837104, pvalue=0.1428094183283083)"
      ]
     },
     "execution_count": 71,
     "metadata": {},
     "output_type": "execute_result"
    }
   ],
   "source": [
    "# k-s 테스트를 해보자\n",
    "from scipy.stats import ks_2samp\n",
    "\n",
    "ks_2samp(su, bisu)"
   ]
  },
  {
   "cell_type": "markdown",
   "id": "3b75aded",
   "metadata": {},
   "source": [
    "* 수도권과 비수도권 강좌정원수 k-s 테스트를 해 보니 p-value가 0.14다.\n",
    "* 두 집단은 다른 모집단에서 온 것이 유력하다고 볼 수 있다.\n",
    "* 그러면 윌콕슨 테스트."
   ]
  },
  {
   "cell_type": "code",
   "execution_count": 72,
   "id": "878ee8bd",
   "metadata": {
    "scrolled": true
   },
   "outputs": [
    {
     "ename": "ValueError",
     "evalue": "The samples x and y must have the same length.",
     "output_type": "error",
     "traceback": [
      "\u001b[1;31m---------------------------------------------------------------------------\u001b[0m",
      "\u001b[1;31mValueError\u001b[0m                                Traceback (most recent call last)",
      "\u001b[1;32m~\\AppData\\Local\\Temp\\ipykernel_22232\\258033457.py\u001b[0m in \u001b[0;36m<module>\u001b[1;34m\u001b[0m\n\u001b[0;32m      1\u001b[0m \u001b[1;32mimport\u001b[0m \u001b[0mscipy\u001b[0m\u001b[1;33m.\u001b[0m\u001b[0mstats\u001b[0m \u001b[1;32mas\u001b[0m \u001b[0mstats\u001b[0m\u001b[1;33m\u001b[0m\u001b[1;33m\u001b[0m\u001b[0m\n\u001b[0;32m      2\u001b[0m \u001b[1;33m\u001b[0m\u001b[0m\n\u001b[1;32m----> 3\u001b[1;33m \u001b[0mstats\u001b[0m\u001b[1;33m.\u001b[0m\u001b[0mwilcoxon\u001b[0m\u001b[1;33m(\u001b[0m\u001b[0msu\u001b[0m\u001b[1;33m,\u001b[0m \u001b[0mbisu\u001b[0m\u001b[1;33m)\u001b[0m\u001b[1;33m\u001b[0m\u001b[1;33m\u001b[0m\u001b[0m\n\u001b[0m",
      "\u001b[1;32mC:\\ProgramData\\Anaconda3\\lib\\site-packages\\scipy\\_lib\\_util.py\u001b[0m in \u001b[0;36mwrapper\u001b[1;34m(*args, **kwargs)\u001b[0m\n\u001b[0;32m    700\u001b[0m                     \u001b[1;32mraise\u001b[0m \u001b[0mTypeError\u001b[0m\u001b[1;33m(\u001b[0m\u001b[0mmessage\u001b[0m\u001b[1;33m)\u001b[0m\u001b[1;33m\u001b[0m\u001b[1;33m\u001b[0m\u001b[0m\n\u001b[0;32m    701\u001b[0m                 \u001b[0mkwargs\u001b[0m\u001b[1;33m[\u001b[0m\u001b[0mnew_name\u001b[0m\u001b[1;33m]\u001b[0m \u001b[1;33m=\u001b[0m \u001b[0mkwargs\u001b[0m\u001b[1;33m.\u001b[0m\u001b[0mpop\u001b[0m\u001b[1;33m(\u001b[0m\u001b[0mold_name\u001b[0m\u001b[1;33m)\u001b[0m\u001b[1;33m\u001b[0m\u001b[1;33m\u001b[0m\u001b[0m\n\u001b[1;32m--> 702\u001b[1;33m             \u001b[1;32mreturn\u001b[0m \u001b[0mfun\u001b[0m\u001b[1;33m(\u001b[0m\u001b[1;33m*\u001b[0m\u001b[0margs\u001b[0m\u001b[1;33m,\u001b[0m \u001b[1;33m**\u001b[0m\u001b[0mkwargs\u001b[0m\u001b[1;33m)\u001b[0m\u001b[1;33m\u001b[0m\u001b[1;33m\u001b[0m\u001b[0m\n\u001b[0m\u001b[0;32m    703\u001b[0m         \u001b[1;32mreturn\u001b[0m \u001b[0mwrapper\u001b[0m\u001b[1;33m\u001b[0m\u001b[1;33m\u001b[0m\u001b[0m\n\u001b[0;32m    704\u001b[0m     \u001b[1;32mreturn\u001b[0m \u001b[0mdecorator\u001b[0m\u001b[1;33m\u001b[0m\u001b[1;33m\u001b[0m\u001b[0m\n",
      "\u001b[1;32mC:\\ProgramData\\Anaconda3\\lib\\site-packages\\scipy\\stats\\_axis_nan_policy.py\u001b[0m in \u001b[0;36maxis_nan_policy_wrapper\u001b[1;34m(***failed resolving arguments***)\u001b[0m\n\u001b[0;32m    501\u001b[0m                 \u001b[1;32mif\u001b[0m \u001b[0msentinel\u001b[0m\u001b[1;33m:\u001b[0m\u001b[1;33m\u001b[0m\u001b[1;33m\u001b[0m\u001b[0m\n\u001b[0;32m    502\u001b[0m                     \u001b[0msamples\u001b[0m \u001b[1;33m=\u001b[0m \u001b[0m_remove_sentinel\u001b[0m\u001b[1;33m(\u001b[0m\u001b[0msamples\u001b[0m\u001b[1;33m,\u001b[0m \u001b[0mpaired\u001b[0m\u001b[1;33m,\u001b[0m \u001b[0msentinel\u001b[0m\u001b[1;33m)\u001b[0m\u001b[1;33m\u001b[0m\u001b[1;33m\u001b[0m\u001b[0m\n\u001b[1;32m--> 503\u001b[1;33m                 \u001b[0mres\u001b[0m \u001b[1;33m=\u001b[0m \u001b[0mhypotest_fun_out\u001b[0m\u001b[1;33m(\u001b[0m\u001b[1;33m*\u001b[0m\u001b[0msamples\u001b[0m\u001b[1;33m,\u001b[0m \u001b[1;33m**\u001b[0m\u001b[0mkwds\u001b[0m\u001b[1;33m)\u001b[0m\u001b[1;33m\u001b[0m\u001b[1;33m\u001b[0m\u001b[0m\n\u001b[0m\u001b[0;32m    504\u001b[0m                 \u001b[0mres\u001b[0m \u001b[1;33m=\u001b[0m \u001b[0mresult_to_tuple\u001b[0m\u001b[1;33m(\u001b[0m\u001b[0mres\u001b[0m\u001b[1;33m)\u001b[0m\u001b[1;33m\u001b[0m\u001b[1;33m\u001b[0m\u001b[0m\n\u001b[0;32m    505\u001b[0m                 \u001b[0mres\u001b[0m \u001b[1;33m=\u001b[0m \u001b[0m_add_reduced_axes\u001b[0m\u001b[1;33m(\u001b[0m\u001b[0mres\u001b[0m\u001b[1;33m,\u001b[0m \u001b[0mreduced_axes\u001b[0m\u001b[1;33m,\u001b[0m \u001b[0mkeepdims\u001b[0m\u001b[1;33m)\u001b[0m\u001b[1;33m\u001b[0m\u001b[1;33m\u001b[0m\u001b[0m\n",
      "\u001b[1;32mC:\\ProgramData\\Anaconda3\\lib\\site-packages\\scipy\\stats\\_morestats.py\u001b[0m in \u001b[0;36mwilcoxon\u001b[1;34m(x, y, zero_method, correction, alternative, method)\u001b[0m\n\u001b[0;32m   3235\u001b[0m             \u001b[1;32mraise\u001b[0m \u001b[0mValueError\u001b[0m\u001b[1;33m(\u001b[0m\u001b[1;34m'Samples x and y must be one-dimensional.'\u001b[0m\u001b[1;33m)\u001b[0m\u001b[1;33m\u001b[0m\u001b[1;33m\u001b[0m\u001b[0m\n\u001b[0;32m   3236\u001b[0m         \u001b[1;32mif\u001b[0m \u001b[0mlen\u001b[0m\u001b[1;33m(\u001b[0m\u001b[0mx\u001b[0m\u001b[1;33m)\u001b[0m \u001b[1;33m!=\u001b[0m \u001b[0mlen\u001b[0m\u001b[1;33m(\u001b[0m\u001b[0my\u001b[0m\u001b[1;33m)\u001b[0m\u001b[1;33m:\u001b[0m\u001b[1;33m\u001b[0m\u001b[1;33m\u001b[0m\u001b[0m\n\u001b[1;32m-> 3237\u001b[1;33m             \u001b[1;32mraise\u001b[0m \u001b[0mValueError\u001b[0m\u001b[1;33m(\u001b[0m\u001b[1;34m'The samples x and y must have the same length.'\u001b[0m\u001b[1;33m)\u001b[0m\u001b[1;33m\u001b[0m\u001b[1;33m\u001b[0m\u001b[0m\n\u001b[0m\u001b[0;32m   3238\u001b[0m         \u001b[0md\u001b[0m \u001b[1;33m=\u001b[0m \u001b[0mx\u001b[0m \u001b[1;33m-\u001b[0m \u001b[0my\u001b[0m\u001b[1;33m\u001b[0m\u001b[1;33m\u001b[0m\u001b[0m\n\u001b[0;32m   3239\u001b[0m \u001b[1;33m\u001b[0m\u001b[0m\n",
      "\u001b[1;31mValueError\u001b[0m: The samples x and y must have the same length."
     ]
    }
   ],
   "source": [
    "# 윌콕슨테스트는 집단 간의 길이가 같아야만 사용할 수 있다.\n",
    "\n",
    "import scipy.stats as stats\n",
    "\n",
    "stats.wilcoxon(su, bisu)"
   ]
  },
  {
   "cell_type": "markdown",
   "id": "b33ae436",
   "metadata": {},
   "source": [
    "* 두 집단은 서로 관련이 있어서는 안된다. (독립성을 가져야 한다.)\n",
    "* 등분산성.. 사실 검증해야 하나 유의미한 차이가 사실 없다.\n",
    "* 정규성! 30개 이상이면 대략... 가능 하다? (정규분포를 띠는가?)"
   ]
  },
  {
   "cell_type": "code",
   "execution_count": 74,
   "id": "d5060f7c",
   "metadata": {},
   "outputs": [
    {
     "data": {
      "text/plain": [
       "Ttest_indResult(statistic=-1.6279550334641488, pvalue=0.1086317648332615)"
      ]
     },
     "execution_count": 74,
     "metadata": {},
     "output_type": "execute_result"
    }
   ],
   "source": [
    "# 두 집단 간 등분산성 확인을...하는 것이 equal_var 이며, \n",
    "# equal_var 가 False 이면 웰치 t테스트\n",
    "# equal_var 가 True 이면 인디펜던트 T-test 이다.\n",
    "# 잠깐 안맞아.. 다시좀..\n",
    "stats.ttest_ind(su, bisu, equal_var = False)"
   ]
  },
  {
   "cell_type": "code",
   "execution_count": 75,
   "id": "c9fb8d54",
   "metadata": {
    "scrolled": true
   },
   "outputs": [
    {
     "data": {
      "text/plain": [
       "Ttest_indResult(statistic=-1.678276931472426, pvalue=0.09651215594511886)"
      ]
     },
     "execution_count": 75,
     "metadata": {},
     "output_type": "execute_result"
    }
   ],
   "source": [
    "stats.ttest_ind(su, bisu, equal_var = True)"
   ]
  },
  {
   "cell_type": "markdown",
   "id": "f206fd2f",
   "metadata": {},
   "source": []
  },
  {
   "cell_type": "code",
   "execution_count": 77,
   "id": "6fa86363",
   "metadata": {},
   "outputs": [
    {
     "name": "stderr",
     "output_type": "stream",
     "text": [
      "C:\\ProgramData\\Anaconda3\\lib\\site-packages\\seaborn\\distributions.py:2619: FutureWarning: `distplot` is a deprecated function and will be removed in a future version. Please adapt your code to use either `displot` (a figure-level function with similar flexibility) or `histplot` (an axes-level function for histograms).\n",
      "  warnings.warn(msg, FutureWarning)\n"
     ]
    },
    {
     "data": {
      "image/png": "[encoded data removed]",
      "text/plain": [
       "<Figure size 640x480 with 1 Axes>"
      ]
     },
     "metadata": {},
     "output_type": "display_data"
    }
   ],
   "source": [
    "sms.distplot(su)\n",
    "plt.show()"
   ]
  },
  {
   "cell_type": "code",
   "execution_count": 78,
   "id": "626cc39b",
   "metadata": {},
   "outputs": [
    {
     "name": "stderr",
     "output_type": "stream",
     "text": [
      "C:\\ProgramData\\Anaconda3\\lib\\site-packages\\seaborn\\distributions.py:2619: FutureWarning: `distplot` is a deprecated function and will be removed in a future version. Please adapt your code to use either `displot` (a figure-level function with similar flexibility) or `histplot` (an axes-level function for histograms).\n",
      "  warnings.warn(msg, FutureWarning)\n"
     ]
    },
    {
     "data": {
      "image/png": "[encoded data removed]",
      "text/plain": [
       "<Figure size 640x480 with 1 Axes>"
      ]
     },
     "metadata": {},
     "output_type": "display_data"
    }
   ],
   "source": [
    "sms.distplot(bisu)\n",
    "plt.show()"
   ]
  },
  {
   "cell_type": "code",
   "execution_count": 76,
   "id": "d23c0d0a",
   "metadata": {},
   "outputs": [
    {
     "name": "stderr",
     "output_type": "stream",
     "text": [
      "C:\\ProgramData\\Anaconda3\\lib\\site-packages\\seaborn\\distributions.py:2619: FutureWarning: `distplot` is a deprecated function and will be removed in a future version. Please adapt your code to use either `displot` (a figure-level function with similar flexibility) or `histplot` (an axes-level function for histograms).\n",
      "  warnings.warn(msg, FutureWarning)\n",
      "C:\\ProgramData\\Anaconda3\\lib\\site-packages\\IPython\\core\\pylabtools.py:151: UserWarning: Glyph 44053 (\\N{HANGUL SYLLABLE GANG}) missing from current font.\n",
      "  fig.canvas.print_figure(bytes_io, **kw)\n",
      "C:\\ProgramData\\Anaconda3\\lib\\site-packages\\IPython\\core\\pylabtools.py:151: UserWarning: Glyph 51340 (\\N{HANGUL SYLLABLE JWA}) missing from current font.\n",
      "  fig.canvas.print_figure(bytes_io, **kw)\n",
      "C:\\ProgramData\\Anaconda3\\lib\\site-packages\\IPython\\core\\pylabtools.py:151: UserWarning: Glyph 51221 (\\N{HANGUL SYLLABLE JEONG}) missing from current font.\n",
      "  fig.canvas.print_figure(bytes_io, **kw)\n",
      "C:\\ProgramData\\Anaconda3\\lib\\site-packages\\IPython\\core\\pylabtools.py:151: UserWarning: Glyph 50896 (\\N{HANGUL SYLLABLE WEON}) missing from current font.\n",
      "  fig.canvas.print_figure(bytes_io, **kw)\n",
      "C:\\ProgramData\\Anaconda3\\lib\\site-packages\\IPython\\core\\pylabtools.py:151: UserWarning: Glyph 49688 (\\N{HANGUL SYLLABLE SU}) missing from current font.\n",
      "  fig.canvas.print_figure(bytes_io, **kw)\n"
     ]
    },
    {
     "data": {
      "image/png": "[encoded data removed]",
      "text/plain": [
       "<Figure size 640x480 with 1 Axes>"
      ]
     },
     "metadata": {},
     "output_type": "display_data"
    }
   ],
   "source": [
    "sms.distplot(df['강좌정원수'])\n",
    "plt.show()"
   ]
  },
  {
   "cell_type": "code",
   "execution_count": null,
   "id": "51045ff8",
   "metadata": {},
   "outputs": [],
   "source": []
  },
  {
   "cell_type": "code",
   "execution_count": 140,
   "id": "bfca51fb",
   "metadata": {},
   "outputs": [],
   "source": [
    "df2 = pd.read_csv('C:/Users/user/Desktop/lecfile/nov/221117/CS_T_T_STD_COST.csv', encoding = 'cp949')"
   ]
  },
  {
   "cell_type": "code",
   "execution_count": 143,
   "id": "e0d58a3d",
   "metadata": {
    "scrolled": true
   },
   "outputs": [
    {
     "data": {
      "text/html": [
       "<div>\n",
       "<style scoped>\n",
       "    .dataframe tbody tr th:only-of-type {\n",
       "        vertical-align: middle;\n",
       "    }\n",
       "\n",
       "    .dataframe tbody tr th {\n",
       "        vertical-align: top;\n",
       "    }\n",
       "\n",
       "    .dataframe thead th {\n",
       "        text-align: right;\n",
       "    }\n",
       "</style>\n",
       "<table border=\"1\" class=\"dataframe\">\n",
       "  <thead>\n",
       "    <tr style=\"text-align: right;\">\n",
       "      <th></th>\n",
       "      <th>연번</th>\n",
       "      <th>업체아이디</th>\n",
       "      <th>킬로미터당원가</th>\n",
       "      <th>관할행정아이디</th>\n",
       "      <th>입력일자</th>\n",
       "      <th>최종처리자아이디</th>\n",
       "      <th>수정일자</th>\n",
       "      <th>영역분류</th>\n",
       "      <th>일일대당원가</th>\n",
       "      <th>평가연도</th>\n",
       "      <th>평가차수</th>\n",
       "    </tr>\n",
       "  </thead>\n",
       "  <tbody>\n",
       "    <tr>\n",
       "      <th>0</th>\n",
       "      <td>1</td>\n",
       "      <td>1041</td>\n",
       "      <td>622</td>\n",
       "      <td>3.0</td>\n",
       "      <td>2012-07-10</td>\n",
       "      <td>1</td>\n",
       "      <td>2012-07-10</td>\n",
       "      <td>1</td>\n",
       "      <td>307546</td>\n",
       "      <td>2012</td>\n",
       "      <td>19</td>\n",
       "    </tr>\n",
       "    <tr>\n",
       "      <th>1</th>\n",
       "      <td>2</td>\n",
       "      <td>1000</td>\n",
       "      <td>461</td>\n",
       "      <td>30.0</td>\n",
       "      <td>2012-07-10</td>\n",
       "      <td>1</td>\n",
       "      <td>2012-07-10</td>\n",
       "      <td>2</td>\n",
       "      <td>305872</td>\n",
       "      <td>2012</td>\n",
       "      <td>19</td>\n",
       "    </tr>\n",
       "    <tr>\n",
       "      <th>2</th>\n",
       "      <td>3</td>\n",
       "      <td>1006</td>\n",
       "      <td>511</td>\n",
       "      <td>30.0</td>\n",
       "      <td>2012-07-10</td>\n",
       "      <td>1</td>\n",
       "      <td>2012-07-10</td>\n",
       "      <td>2</td>\n",
       "      <td>289164</td>\n",
       "      <td>2012</td>\n",
       "      <td>19</td>\n",
       "    </tr>\n",
       "    <tr>\n",
       "      <th>3</th>\n",
       "      <td>4</td>\n",
       "      <td>1010</td>\n",
       "      <td>494</td>\n",
       "      <td>30.0</td>\n",
       "      <td>2012-07-10</td>\n",
       "      <td>1</td>\n",
       "      <td>2012-07-10</td>\n",
       "      <td>2</td>\n",
       "      <td>214690</td>\n",
       "      <td>2012</td>\n",
       "      <td>19</td>\n",
       "    </tr>\n",
       "    <tr>\n",
       "      <th>4</th>\n",
       "      <td>5</td>\n",
       "      <td>1011</td>\n",
       "      <td>374</td>\n",
       "      <td>30.0</td>\n",
       "      <td>2012-07-10</td>\n",
       "      <td>1</td>\n",
       "      <td>2012-07-10</td>\n",
       "      <td>2</td>\n",
       "      <td>219583</td>\n",
       "      <td>2012</td>\n",
       "      <td>19</td>\n",
       "    </tr>\n",
       "    <tr>\n",
       "      <th>...</th>\n",
       "      <td>...</td>\n",
       "      <td>...</td>\n",
       "      <td>...</td>\n",
       "      <td>...</td>\n",
       "      <td>...</td>\n",
       "      <td>...</td>\n",
       "      <td>...</td>\n",
       "      <td>...</td>\n",
       "      <td>...</td>\n",
       "      <td>...</td>\n",
       "      <td>...</td>\n",
       "    </tr>\n",
       "    <tr>\n",
       "      <th>3274</th>\n",
       "      <td>3275</td>\n",
       "      <td>1036</td>\n",
       "      <td>547</td>\n",
       "      <td>1.0</td>\n",
       "      <td>2012-07-10</td>\n",
       "      <td>1</td>\n",
       "      <td>2012-07-10</td>\n",
       "      <td>1</td>\n",
       "      <td>410318</td>\n",
       "      <td>2012</td>\n",
       "      <td>19</td>\n",
       "    </tr>\n",
       "    <tr>\n",
       "      <th>3275</th>\n",
       "      <td>3276</td>\n",
       "      <td>1038</td>\n",
       "      <td>547</td>\n",
       "      <td>1.0</td>\n",
       "      <td>2012-07-10</td>\n",
       "      <td>1</td>\n",
       "      <td>2012-07-10</td>\n",
       "      <td>1</td>\n",
       "      <td>410318</td>\n",
       "      <td>2012</td>\n",
       "      <td>19</td>\n",
       "    </tr>\n",
       "    <tr>\n",
       "      <th>3276</th>\n",
       "      <td>3277</td>\n",
       "      <td>1039</td>\n",
       "      <td>547</td>\n",
       "      <td>1.0</td>\n",
       "      <td>2012-07-10</td>\n",
       "      <td>1</td>\n",
       "      <td>2012-07-10</td>\n",
       "      <td>1</td>\n",
       "      <td>410318</td>\n",
       "      <td>2012</td>\n",
       "      <td>19</td>\n",
       "    </tr>\n",
       "    <tr>\n",
       "      <th>3277</th>\n",
       "      <td>3278</td>\n",
       "      <td>1025</td>\n",
       "      <td>622</td>\n",
       "      <td>3.0</td>\n",
       "      <td>2012-07-10</td>\n",
       "      <td>1</td>\n",
       "      <td>2012-07-10</td>\n",
       "      <td>1</td>\n",
       "      <td>307546</td>\n",
       "      <td>2012</td>\n",
       "      <td>19</td>\n",
       "    </tr>\n",
       "    <tr>\n",
       "      <th>3278</th>\n",
       "      <td>3279</td>\n",
       "      <td>1034</td>\n",
       "      <td>622</td>\n",
       "      <td>3.0</td>\n",
       "      <td>2012-07-10</td>\n",
       "      <td>1</td>\n",
       "      <td>2012-07-10</td>\n",
       "      <td>1</td>\n",
       "      <td>307546</td>\n",
       "      <td>2012</td>\n",
       "      <td>19</td>\n",
       "    </tr>\n",
       "  </tbody>\n",
       "</table>\n",
       "<p>3279 rows × 11 columns</p>\n",
       "</div>"
      ],
      "text/plain": [
       "        연번  업체아이디  킬로미터당원가  관할행정아이디        입력일자 최종처리자아이디        수정일자  영역분류  \\\n",
       "0        1   1041      622      3.0  2012-07-10        1  2012-07-10     1   \n",
       "1        2   1000      461     30.0  2012-07-10        1  2012-07-10     2   \n",
       "2        3   1006      511     30.0  2012-07-10        1  2012-07-10     2   \n",
       "3        4   1010      494     30.0  2012-07-10        1  2012-07-10     2   \n",
       "4        5   1011      374     30.0  2012-07-10        1  2012-07-10     2   \n",
       "...    ...    ...      ...      ...         ...      ...         ...   ...   \n",
       "3274  3275   1036      547      1.0  2012-07-10        1  2012-07-10     1   \n",
       "3275  3276   1038      547      1.0  2012-07-10        1  2012-07-10     1   \n",
       "3276  3277   1039      547      1.0  2012-07-10        1  2012-07-10     1   \n",
       "3277  3278   1025      622      3.0  2012-07-10        1  2012-07-10     1   \n",
       "3278  3279   1034      622      3.0  2012-07-10        1  2012-07-10     1   \n",
       "\n",
       "      일일대당원가  평가연도  평가차수  \n",
       "0     307546  2012    19  \n",
       "1     305872  2012    19  \n",
       "2     289164  2012    19  \n",
       "3     214690  2012    19  \n",
       "4     219583  2012    19  \n",
       "...      ...   ...   ...  \n",
       "3274  410318  2012    19  \n",
       "3275  410318  2012    19  \n",
       "3276  410318  2012    19  \n",
       "3277  307546  2012    19  \n",
       "3278  307546  2012    19  \n",
       "\n",
       "[3279 rows x 11 columns]"
      ]
     },
     "execution_count": 143,
     "metadata": {},
     "output_type": "execute_result"
    }
   ],
   "source": [
    "df2"
   ]
  },
  {
   "cell_type": "markdown",
   "id": "3abf7d93",
   "metadata": {},
   "source": [
    "## - 실습 - 데이터 분석\n",
    "* 위 데이터에서 아래 분석을 수행\n",
    "1. 임의의 두 업체별 일일대당원가에서 차이를 보이는지 확인\n",
    "1. 임의의 두 평가연도에서 킬로미터당원가가 가장 높은 영역과 가장 낮은 영역을 구하기\n",
    "1. 2010, 2012년도에서 30, 7 관할행정구역에서의 킬로미터당원가 차이를 보이는지 확인\n",
    "1. 결측치 드랍. 이상치 ..?는 대충"
   ]
  },
  {
   "cell_type": "code",
   "execution_count": 89,
   "id": "e582fb8d",
   "metadata": {
    "scrolled": true
   },
   "outputs": [
    {
     "data": {
      "text/plain": [
       "0       1041\n",
       "1       1000\n",
       "2       1006\n",
       "3       1010\n",
       "4       1011\n",
       "        ... \n",
       "3274    1036\n",
       "3275    1038\n",
       "3276    1039\n",
       "3277    1025\n",
       "3278    1034\n",
       "Name: 업체아이디, Length: 3279, dtype: int64"
      ]
     },
     "execution_count": 89,
     "metadata": {},
     "output_type": "execute_result"
    }
   ],
   "source": [
    "# 1041 번과 1016 번을 해보도록 하자.\n",
    "\n",
    "df2['업체아이디']"
   ]
  },
  {
   "cell_type": "code",
   "execution_count": 94,
   "id": "a13bbf8e",
   "metadata": {},
   "outputs": [],
   "source": [
    "df2_1041 = df2[df2['업체아이디'] == 1041]\n",
    "df2_1016 = df2[df2['업체아이디'] == 1016]"
   ]
  },
  {
   "cell_type": "code",
   "execution_count": 93,
   "id": "fb060518",
   "metadata": {},
   "outputs": [
    {
     "data": {
      "text/plain": [
       "array([307546,      2, 307272,      1, 435280, 353967, 419013, 417887,\n",
       "       418670, 435375,      0, 283086, 278396, 278395, 278838, 418929,\n",
       "       418934, 264659, 307568, 445317, 304586], dtype=int64)"
      ]
     },
     "execution_count": 93,
     "metadata": {},
     "output_type": "execute_result"
    }
   ],
   "source": [
    "# 1041 업체의 일일대당원가 중 결측치가 있는지 확인해 보았다.\n",
    "# 0, 1, 2가 포함되어 있는 것으로 보아서는 결측치도 같이 포함되어 있는 것으로 보인다.\n",
    "\n",
    "df2_1041['일일대당원가'].unique()"
   ]
  },
  {
   "cell_type": "code",
   "execution_count": 95,
   "id": "a83d07a7",
   "metadata": {},
   "outputs": [
    {
     "data": {
      "text/plain": [
       "array([     2, 181982, 253640, 288789, 293340,      1, 335511, 342767,\n",
       "       458511, 473704, 320222, 575796, 219339, 287487, 463522, 332380,\n",
       "       337853, 475025, 566254, 319193, 475375, 191329, 256686, 168056,\n",
       "       221503, 586323, 288048, 322604, 471692, 475309, 216093, 573937,\n",
       "       610410, 576760, 566937, 556659, 174158, 214473, 170925, 290494,\n",
       "       431162, 228662, 170937, 238236, 177104], dtype=int64)"
      ]
     },
     "execution_count": 95,
     "metadata": {},
     "output_type": "execute_result"
    }
   ],
   "source": [
    "df2_1016['일일대당원가'].unique()"
   ]
  },
  {
   "cell_type": "markdown",
   "id": "baa8d82c",
   "metadata": {},
   "source": [
    "* 아래에서 어제와 같은 방법으로 결측치 드랍을 시도했는데, 인덱스 번호를 못찾는다고 오류를 띄운다...\n",
    "* 1041번 과 1016번 업체만 따로 저장하는 과정에서 인덱스 번호가 띄엄띄엄 매겨졌는데 그것이 문제인 것 같아서...\n",
    "* 인덱스 초기화를 하였다. 아래와 같이.\n",
    "* 그랬더니 정상 작동한다."
   ]
  },
  {
   "cell_type": "code",
   "execution_count": 124,
   "id": "ee682553",
   "metadata": {
    "scrolled": false
   },
   "outputs": [],
   "source": [
    "df2_1041 = df2_1041.reset_index(drop=True)"
   ]
  },
  {
   "cell_type": "code",
   "execution_count": 128,
   "id": "d3f46fc2",
   "metadata": {},
   "outputs": [],
   "source": [
    "df2_1016 = df2_1016.reset_index(drop=True)"
   ]
  },
  {
   "cell_type": "code",
   "execution_count": 125,
   "id": "75d36070",
   "metadata": {},
   "outputs": [
    {
     "data": {
      "text/html": [
       "<div>\n",
       "<style scoped>\n",
       "    .dataframe tbody tr th:only-of-type {\n",
       "        vertical-align: middle;\n",
       "    }\n",
       "\n",
       "    .dataframe tbody tr th {\n",
       "        vertical-align: top;\n",
       "    }\n",
       "\n",
       "    .dataframe thead th {\n",
       "        text-align: right;\n",
       "    }\n",
       "</style>\n",
       "<table border=\"1\" class=\"dataframe\">\n",
       "  <thead>\n",
       "    <tr style=\"text-align: right;\">\n",
       "      <th></th>\n",
       "      <th>연번</th>\n",
       "      <th>업체아이디</th>\n",
       "      <th>킬로미터당원가</th>\n",
       "      <th>관할행정아이디</th>\n",
       "      <th>입력일자</th>\n",
       "      <th>최종처리자아이디</th>\n",
       "      <th>수정일자</th>\n",
       "      <th>영역분류</th>\n",
       "      <th>일일대당원가</th>\n",
       "      <th>평가연도</th>\n",
       "      <th>평가차수</th>\n",
       "    </tr>\n",
       "  </thead>\n",
       "  <tbody>\n",
       "    <tr>\n",
       "      <th>0</th>\n",
       "      <td>1</td>\n",
       "      <td>1041</td>\n",
       "      <td>622</td>\n",
       "      <td>3.0</td>\n",
       "      <td>2012-07-10</td>\n",
       "      <td>1</td>\n",
       "      <td>2012-07-10</td>\n",
       "      <td>1</td>\n",
       "      <td>307546</td>\n",
       "      <td>2012</td>\n",
       "      <td>19</td>\n",
       "    </tr>\n",
       "    <tr>\n",
       "      <th>1</th>\n",
       "      <td>32</td>\n",
       "      <td>1041</td>\n",
       "      <td>1</td>\n",
       "      <td>30.0</td>\n",
       "      <td>2012-07-09</td>\n",
       "      <td>1</td>\n",
       "      <td>2012-07-09</td>\n",
       "      <td>3</td>\n",
       "      <td>2</td>\n",
       "      <td>2012</td>\n",
       "      <td>20</td>\n",
       "    </tr>\n",
       "    <tr>\n",
       "      <th>2</th>\n",
       "      <td>80</td>\n",
       "      <td>1041</td>\n",
       "      <td>1</td>\n",
       "      <td>3.0</td>\n",
       "      <td>2013-07-15</td>\n",
       "      <td>1</td>\n",
       "      <td>2013-07-15</td>\n",
       "      <td>1</td>\n",
       "      <td>2</td>\n",
       "      <td>2013</td>\n",
       "      <td>24</td>\n",
       "    </tr>\n",
       "    <tr>\n",
       "      <th>3</th>\n",
       "      <td>93</td>\n",
       "      <td>1041</td>\n",
       "      <td>737</td>\n",
       "      <td>3.0</td>\n",
       "      <td>2013-07-15</td>\n",
       "      <td>1</td>\n",
       "      <td>2013-07-15</td>\n",
       "      <td>1</td>\n",
       "      <td>307272</td>\n",
       "      <td>2013</td>\n",
       "      <td>26</td>\n",
       "    </tr>\n",
       "    <tr>\n",
       "      <th>4</th>\n",
       "      <td>120</td>\n",
       "      <td>1041</td>\n",
       "      <td>1</td>\n",
       "      <td>30.0</td>\n",
       "      <td>2013-07-15</td>\n",
       "      <td>1</td>\n",
       "      <td>2013-07-15</td>\n",
       "      <td>3</td>\n",
       "      <td>2</td>\n",
       "      <td>2013</td>\n",
       "      <td>24</td>\n",
       "    </tr>\n",
       "    <tr>\n",
       "      <th>...</th>\n",
       "      <td>...</td>\n",
       "      <td>...</td>\n",
       "      <td>...</td>\n",
       "      <td>...</td>\n",
       "      <td>...</td>\n",
       "      <td>...</td>\n",
       "      <td>...</td>\n",
       "      <td>...</td>\n",
       "      <td>...</td>\n",
       "      <td>...</td>\n",
       "      <td>...</td>\n",
       "    </tr>\n",
       "    <tr>\n",
       "      <th>58</th>\n",
       "      <td>3014</td>\n",
       "      <td>1041</td>\n",
       "      <td>695</td>\n",
       "      <td>3.0</td>\n",
       "      <td>2012-09-12</td>\n",
       "      <td>1</td>\n",
       "      <td>2012-09-12</td>\n",
       "      <td>1</td>\n",
       "      <td>304586</td>\n",
       "      <td>2012</td>\n",
       "      <td>23</td>\n",
       "    </tr>\n",
       "    <tr>\n",
       "      <th>59</th>\n",
       "      <td>3077</td>\n",
       "      <td>1041</td>\n",
       "      <td>0</td>\n",
       "      <td>30.0</td>\n",
       "      <td>2012-07-09</td>\n",
       "      <td>1</td>\n",
       "      <td>2012-07-11</td>\n",
       "      <td>3</td>\n",
       "      <td>0</td>\n",
       "      <td>2012</td>\n",
       "      <td>21</td>\n",
       "    </tr>\n",
       "    <tr>\n",
       "      <th>60</th>\n",
       "      <td>3157</td>\n",
       "      <td>1041</td>\n",
       "      <td>1</td>\n",
       "      <td>3.0</td>\n",
       "      <td>2012-01-20</td>\n",
       "      <td>1</td>\n",
       "      <td>2012-01-20</td>\n",
       "      <td>1</td>\n",
       "      <td>1</td>\n",
       "      <td>2012</td>\n",
       "      <td>18</td>\n",
       "    </tr>\n",
       "    <tr>\n",
       "      <th>61</th>\n",
       "      <td>3214</td>\n",
       "      <td>1041</td>\n",
       "      <td>695</td>\n",
       "      <td>3.0</td>\n",
       "      <td>2012-07-11</td>\n",
       "      <td>1</td>\n",
       "      <td>2012-07-11</td>\n",
       "      <td>1</td>\n",
       "      <td>304586</td>\n",
       "      <td>2012</td>\n",
       "      <td>22</td>\n",
       "    </tr>\n",
       "    <tr>\n",
       "      <th>62</th>\n",
       "      <td>3227</td>\n",
       "      <td>1041</td>\n",
       "      <td>1</td>\n",
       "      <td>3.0</td>\n",
       "      <td>2012-07-09</td>\n",
       "      <td>1</td>\n",
       "      <td>2012-07-09</td>\n",
       "      <td>1</td>\n",
       "      <td>2</td>\n",
       "      <td>2012</td>\n",
       "      <td>20</td>\n",
       "    </tr>\n",
       "  </tbody>\n",
       "</table>\n",
       "<p>63 rows × 11 columns</p>\n",
       "</div>"
      ],
      "text/plain": [
       "      연번  업체아이디  킬로미터당원가  관할행정아이디        입력일자 최종처리자아이디        수정일자  영역분류  \\\n",
       "0      1   1041      622      3.0  2012-07-10        1  2012-07-10     1   \n",
       "1     32   1041        1     30.0  2012-07-09        1  2012-07-09     3   \n",
       "2     80   1041        1      3.0  2013-07-15        1  2013-07-15     1   \n",
       "3     93   1041      737      3.0  2013-07-15        1  2013-07-15     1   \n",
       "4    120   1041        1     30.0  2013-07-15        1  2013-07-15     3   \n",
       "..   ...    ...      ...      ...         ...      ...         ...   ...   \n",
       "58  3014   1041      695      3.0  2012-09-12        1  2012-09-12     1   \n",
       "59  3077   1041        0     30.0  2012-07-09        1  2012-07-11     3   \n",
       "60  3157   1041        1      3.0  2012-01-20        1  2012-01-20     1   \n",
       "61  3214   1041      695      3.0  2012-07-11        1  2012-07-11     1   \n",
       "62  3227   1041        1      3.0  2012-07-09        1  2012-07-09     1   \n",
       "\n",
       "    일일대당원가  평가연도  평가차수  \n",
       "0   307546  2012    19  \n",
       "1        2  2012    20  \n",
       "2        2  2013    24  \n",
       "3   307272  2013    26  \n",
       "4        2  2013    24  \n",
       "..     ...   ...   ...  \n",
       "58  304586  2012    23  \n",
       "59       0  2012    21  \n",
       "60       1  2012    18  \n",
       "61  304586  2012    22  \n",
       "62       2  2012    20  \n",
       "\n",
       "[63 rows x 11 columns]"
      ]
     },
     "execution_count": 125,
     "metadata": {},
     "output_type": "execute_result"
    }
   ],
   "source": [
    "df2_1041"
   ]
  },
  {
   "cell_type": "code",
   "execution_count": 132,
   "id": "62e225bb",
   "metadata": {},
   "outputs": [],
   "source": [
    "delete1 = []\n",
    "\n",
    "\n",
    "def dropcost(x,y):\n",
    "    if y['일일대당원가'].iloc[x] < 10:\n",
    "        delete1.append(x)\n",
    "        \n",
    "for i in range(len(df2_1041.index)):\n",
    "    dropcost(i, df2_1041)\n",
    "\n",
    "df2_1041 = df2_1041.drop(index = delete1)    \n"
   ]
  },
  {
   "cell_type": "code",
   "execution_count": 133,
   "id": "c93ff499",
   "metadata": {},
   "outputs": [],
   "source": [
    "delete1 = []\n",
    "\n",
    "for i in range(len(df2_1016.index)):\n",
    "    dropcost(i, df2_1016)\n",
    "\n",
    "    \n",
    "df2_1016 = df2_1016.drop(index = delete1, axis = 0)  \n"
   ]
  },
  {
   "cell_type": "code",
   "execution_count": 131,
   "id": "c828177f",
   "metadata": {
    "scrolled": true
   },
   "outputs": [
    {
     "data": {
      "text/plain": [
       "array([181982, 253640, 288789, 293340, 335511, 342767, 458511, 473704,\n",
       "       320222, 575796, 219339, 287487, 463522, 332380, 337853, 475025,\n",
       "       566254, 319193, 475375, 191329, 256686, 168056, 221503, 586323,\n",
       "       288048, 322604, 471692, 475309, 216093, 573937, 610410, 576760,\n",
       "       566937, 556659, 174158, 214473, 170925, 290494, 431162, 228662,\n",
       "       170937, 238236, 177104], dtype=int64)"
      ]
     },
     "execution_count": 131,
     "metadata": {},
     "output_type": "execute_result"
    }
   ],
   "source": [
    "df2_1016['일일대당원가'].unique()"
   ]
  },
  {
   "cell_type": "code",
   "execution_count": 135,
   "id": "f929f35f",
   "metadata": {},
   "outputs": [
    {
     "data": {
      "text/plain": [
       "array([307546, 307272, 435280, 353967, 419013, 417887, 418670, 435375,\n",
       "       283086, 278396, 278395, 278838, 418929, 418934, 264659, 307568,\n",
       "       445317, 304586], dtype=int64)"
      ]
     },
     "execution_count": 135,
     "metadata": {},
     "output_type": "execute_result"
    }
   ],
   "source": [
    "df2_1041['일일대당원가'].unique()"
   ]
  },
  {
   "cell_type": "code",
   "execution_count": 136,
   "id": "3515002b",
   "metadata": {},
   "outputs": [
    {
     "data": {
      "text/plain": [
       "KstestResult(statistic=0.5194805194805194, pvalue=1.3191937090036532e-06)"
      ]
     },
     "execution_count": 136,
     "metadata": {},
     "output_type": "execute_result"
    }
   ],
   "source": [
    "# 이제 결측치 드랍을 다 시켰으니 임의의 두 업체(1041, 1016) 별 일일대당원가에서 차이를 보이는지 확인\n",
    "\n",
    "ks_2samp(df2_1041['일일대당원가'], df2_1016['일일대당원가'])"
   ]
  },
  {
   "cell_type": "code",
   "execution_count": 137,
   "id": "31435a96",
   "metadata": {},
   "outputs": [
    {
     "data": {
      "text/plain": [
       "Ttest_indResult(statistic=2.3463966687975932, pvalue=0.020732034354536313)"
      ]
     },
     "execution_count": 137,
     "metadata": {},
     "output_type": "execute_result"
    }
   ],
   "source": [
    "stats.ttest_ind(df2_1041['일일대당원가'], df2_1016['일일대당원가'], equal_var = False)"
   ]
  },
  {
   "cell_type": "code",
   "execution_count": 138,
   "id": "9c51fe06",
   "metadata": {
    "scrolled": true
   },
   "outputs": [
    {
     "data": {
      "text/plain": [
       "Ttest_indResult(statistic=1.8597899447112973, pvalue=0.0655629304093015)"
      ]
     },
     "execution_count": 138,
     "metadata": {},
     "output_type": "execute_result"
    }
   ],
   "source": [
    "stats.ttest_ind(df2_1041['일일대당원가'], df2_1016['일일대당원가'], equal_var = True)"
   ]
  },
  {
   "cell_type": "markdown",
   "id": "9d14fd0f",
   "metadata": {},
   "source": [
    "* 그런데... True False 했을때 값이 다른것이다. 등분산성..?\n",
    "* 확인해 보니.. 모집단이 같으면? 분산이 같을 것이다. 그러면 등분산성을 만족하므로?\n",
    "* equal_var 가 True 인 값이 맞을 것이다.\n",
    "* 두 그룹간 유의미한 차이는 없다고 볼 수 있다."
   ]
  },
  {
   "cell_type": "code",
   "execution_count": 146,
   "id": "984bcb68",
   "metadata": {},
   "outputs": [
    {
     "data": {
      "text/plain": [
       "array([2012, 2013, 2020, 2021, 2015, 2019, 2022, 2014, 2010, 2011],\n",
       "      dtype=int64)"
      ]
     },
     "execution_count": 146,
     "metadata": {},
     "output_type": "execute_result"
    }
   ],
   "source": [
    "# 임의의 두 평가연도에서 킬로미터당원가가 가장 높은 영역과 가장 낮은 영역을 구하기\n",
    "\n",
    "df2['평가연도'].unique()"
   ]
  },
  {
   "cell_type": "code",
   "execution_count": 153,
   "id": "27573281",
   "metadata": {},
   "outputs": [
    {
     "data": {
      "text/html": [
       "<div>\n",
       "<style scoped>\n",
       "    .dataframe tbody tr th:only-of-type {\n",
       "        vertical-align: middle;\n",
       "    }\n",
       "\n",
       "    .dataframe tbody tr th {\n",
       "        vertical-align: top;\n",
       "    }\n",
       "\n",
       "    .dataframe thead th {\n",
       "        text-align: right;\n",
       "    }\n",
       "</style>\n",
       "<table border=\"1\" class=\"dataframe\">\n",
       "  <thead>\n",
       "    <tr style=\"text-align: right;\">\n",
       "      <th></th>\n",
       "      <th>연번</th>\n",
       "      <th>업체아이디</th>\n",
       "      <th>킬로미터당원가</th>\n",
       "      <th>관할행정아이디</th>\n",
       "      <th>입력일자</th>\n",
       "      <th>최종처리자아이디</th>\n",
       "      <th>수정일자</th>\n",
       "      <th>영역분류</th>\n",
       "      <th>일일대당원가</th>\n",
       "      <th>평가연도</th>\n",
       "      <th>평가차수</th>\n",
       "    </tr>\n",
       "  </thead>\n",
       "  <tbody>\n",
       "    <tr>\n",
       "      <th>0</th>\n",
       "      <td>1</td>\n",
       "      <td>1041</td>\n",
       "      <td>622</td>\n",
       "      <td>3.0</td>\n",
       "      <td>2012-07-10</td>\n",
       "      <td>1</td>\n",
       "      <td>2012-07-10</td>\n",
       "      <td>1</td>\n",
       "      <td>307546</td>\n",
       "      <td>2012</td>\n",
       "      <td>19</td>\n",
       "    </tr>\n",
       "    <tr>\n",
       "      <th>1</th>\n",
       "      <td>2</td>\n",
       "      <td>1000</td>\n",
       "      <td>461</td>\n",
       "      <td>30.0</td>\n",
       "      <td>2012-07-10</td>\n",
       "      <td>1</td>\n",
       "      <td>2012-07-10</td>\n",
       "      <td>2</td>\n",
       "      <td>305872</td>\n",
       "      <td>2012</td>\n",
       "      <td>19</td>\n",
       "    </tr>\n",
       "    <tr>\n",
       "      <th>2</th>\n",
       "      <td>3</td>\n",
       "      <td>1006</td>\n",
       "      <td>511</td>\n",
       "      <td>30.0</td>\n",
       "      <td>2012-07-10</td>\n",
       "      <td>1</td>\n",
       "      <td>2012-07-10</td>\n",
       "      <td>2</td>\n",
       "      <td>289164</td>\n",
       "      <td>2012</td>\n",
       "      <td>19</td>\n",
       "    </tr>\n",
       "    <tr>\n",
       "      <th>3</th>\n",
       "      <td>4</td>\n",
       "      <td>1010</td>\n",
       "      <td>494</td>\n",
       "      <td>30.0</td>\n",
       "      <td>2012-07-10</td>\n",
       "      <td>1</td>\n",
       "      <td>2012-07-10</td>\n",
       "      <td>2</td>\n",
       "      <td>214690</td>\n",
       "      <td>2012</td>\n",
       "      <td>19</td>\n",
       "    </tr>\n",
       "    <tr>\n",
       "      <th>4</th>\n",
       "      <td>5</td>\n",
       "      <td>1011</td>\n",
       "      <td>374</td>\n",
       "      <td>30.0</td>\n",
       "      <td>2012-07-10</td>\n",
       "      <td>1</td>\n",
       "      <td>2012-07-10</td>\n",
       "      <td>2</td>\n",
       "      <td>219583</td>\n",
       "      <td>2012</td>\n",
       "      <td>19</td>\n",
       "    </tr>\n",
       "    <tr>\n",
       "      <th>...</th>\n",
       "      <td>...</td>\n",
       "      <td>...</td>\n",
       "      <td>...</td>\n",
       "      <td>...</td>\n",
       "      <td>...</td>\n",
       "      <td>...</td>\n",
       "      <td>...</td>\n",
       "      <td>...</td>\n",
       "      <td>...</td>\n",
       "      <td>...</td>\n",
       "      <td>...</td>\n",
       "    </tr>\n",
       "    <tr>\n",
       "      <th>3274</th>\n",
       "      <td>3275</td>\n",
       "      <td>1036</td>\n",
       "      <td>547</td>\n",
       "      <td>1.0</td>\n",
       "      <td>2012-07-10</td>\n",
       "      <td>1</td>\n",
       "      <td>2012-07-10</td>\n",
       "      <td>1</td>\n",
       "      <td>410318</td>\n",
       "      <td>2012</td>\n",
       "      <td>19</td>\n",
       "    </tr>\n",
       "    <tr>\n",
       "      <th>3275</th>\n",
       "      <td>3276</td>\n",
       "      <td>1038</td>\n",
       "      <td>547</td>\n",
       "      <td>1.0</td>\n",
       "      <td>2012-07-10</td>\n",
       "      <td>1</td>\n",
       "      <td>2012-07-10</td>\n",
       "      <td>1</td>\n",
       "      <td>410318</td>\n",
       "      <td>2012</td>\n",
       "      <td>19</td>\n",
       "    </tr>\n",
       "    <tr>\n",
       "      <th>3276</th>\n",
       "      <td>3277</td>\n",
       "      <td>1039</td>\n",
       "      <td>547</td>\n",
       "      <td>1.0</td>\n",
       "      <td>2012-07-10</td>\n",
       "      <td>1</td>\n",
       "      <td>2012-07-10</td>\n",
       "      <td>1</td>\n",
       "      <td>410318</td>\n",
       "      <td>2012</td>\n",
       "      <td>19</td>\n",
       "    </tr>\n",
       "    <tr>\n",
       "      <th>3277</th>\n",
       "      <td>3278</td>\n",
       "      <td>1025</td>\n",
       "      <td>622</td>\n",
       "      <td>3.0</td>\n",
       "      <td>2012-07-10</td>\n",
       "      <td>1</td>\n",
       "      <td>2012-07-10</td>\n",
       "      <td>1</td>\n",
       "      <td>307546</td>\n",
       "      <td>2012</td>\n",
       "      <td>19</td>\n",
       "    </tr>\n",
       "    <tr>\n",
       "      <th>3278</th>\n",
       "      <td>3279</td>\n",
       "      <td>1034</td>\n",
       "      <td>622</td>\n",
       "      <td>3.0</td>\n",
       "      <td>2012-07-10</td>\n",
       "      <td>1</td>\n",
       "      <td>2012-07-10</td>\n",
       "      <td>1</td>\n",
       "      <td>307546</td>\n",
       "      <td>2012</td>\n",
       "      <td>19</td>\n",
       "    </tr>\n",
       "  </tbody>\n",
       "</table>\n",
       "<p>379 rows × 11 columns</p>\n",
       "</div>"
      ],
      "text/plain": [
       "        연번  업체아이디  킬로미터당원가  관할행정아이디        입력일자 최종처리자아이디        수정일자  영역분류  \\\n",
       "0        1   1041      622      3.0  2012-07-10        1  2012-07-10     1   \n",
       "1        2   1000      461     30.0  2012-07-10        1  2012-07-10     2   \n",
       "2        3   1006      511     30.0  2012-07-10        1  2012-07-10     2   \n",
       "3        4   1010      494     30.0  2012-07-10        1  2012-07-10     2   \n",
       "4        5   1011      374     30.0  2012-07-10        1  2012-07-10     2   \n",
       "...    ...    ...      ...      ...         ...      ...         ...   ...   \n",
       "3274  3275   1036      547      1.0  2012-07-10        1  2012-07-10     1   \n",
       "3275  3276   1038      547      1.0  2012-07-10        1  2012-07-10     1   \n",
       "3276  3277   1039      547      1.0  2012-07-10        1  2012-07-10     1   \n",
       "3277  3278   1025      622      3.0  2012-07-10        1  2012-07-10     1   \n",
       "3278  3279   1034      622      3.0  2012-07-10        1  2012-07-10     1   \n",
       "\n",
       "      일일대당원가  평가연도  평가차수  \n",
       "0     307546  2012    19  \n",
       "1     305872  2012    19  \n",
       "2     289164  2012    19  \n",
       "3     214690  2012    19  \n",
       "4     219583  2012    19  \n",
       "...      ...   ...   ...  \n",
       "3274  410318  2012    19  \n",
       "3275  410318  2012    19  \n",
       "3276  410318  2012    19  \n",
       "3277  307546  2012    19  \n",
       "3278  307546  2012    19  \n",
       "\n",
       "[379 rows x 11 columns]"
      ]
     },
     "execution_count": 153,
     "metadata": {},
     "output_type": "execute_result"
    }
   ],
   "source": [
    "# 2012와 2022를 해보자.\n",
    "\n",
    "df2[df2['평가연도'] == 2012]"
   ]
  },
  {
   "cell_type": "code",
   "execution_count": 155,
   "id": "3708bc17",
   "metadata": {},
   "outputs": [],
   "source": [
    "df2_2012 = df2[df2['평가연도'] == 2012].copy()\n",
    "df2_2022 = df2[df2['평가연도'] == 2022].copy()"
   ]
  },
  {
   "cell_type": "code",
   "execution_count": 187,
   "id": "b62418c1",
   "metadata": {},
   "outputs": [],
   "source": [
    "df2_2012 = df2_2012.reset_index(drop=True)\n",
    "df2_2022 = df2_2022.reset_index(drop=True)"
   ]
  },
  {
   "cell_type": "code",
   "execution_count": 165,
   "id": "be0cb5bd",
   "metadata": {},
   "outputs": [],
   "source": [
    "# a = df2_2012['킬로미터당원가'] > 1\n",
    "# df2_2012_li = []\n",
    "# df2_2022_li = []\n",
    "# for i in df2_2012['킬로미터당원가']:\n",
    "#     if i > 1:\n",
    "#         df2_2012_li.append(i)\n",
    "        \n",
    "# for i in df2_2022['킬로미터당원가']:\n",
    "#     if i > 1:\n",
    "#         df2_2022_li.append(i)\n",
    "        "
   ]
  },
  {
   "cell_type": "code",
   "execution_count": 175,
   "id": "a9617150",
   "metadata": {
    "scrolled": true
   },
   "outputs": [],
   "source": [
    "df2_2012 = df2_2012[ df2_2012['킬로미터당원가'] > 2 ]"
   ]
  },
  {
   "cell_type": "code",
   "execution_count": 178,
   "id": "405ed5af",
   "metadata": {},
   "outputs": [],
   "source": [
    "df2_2022 = df2_2022[df2_2022['킬로미터당원가']>2]"
   ]
  },
  {
   "cell_type": "code",
   "execution_count": 188,
   "id": "87161394",
   "metadata": {},
   "outputs": [],
   "source": [
    "df2_2012_li1 = []\n",
    "df2_2012_li2 = []\n",
    "df2_2012_li3 = []\n",
    "df2_2012_li4 = []\n",
    "\n",
    "\n",
    "for i in range(len(df2_2012.index)):\n",
    "    if df2_2012['영역분류'][i] == 1:\n",
    "        df2_2012_li1.append(df2_2012['킬로미터당원가'][i])\n",
    "        \n",
    "    \n",
    "    if df2_2012['영역분류'][i] == 2:\n",
    "        df2_2012_li2.append(df2_2012['킬로미터당원가'][i])\n",
    "     \n",
    "    \n",
    "    if df2_2012['영역분류'][i] == 3:\n",
    "        df2_2012_li3.append(df2_2012['킬로미터당원가'][i])\n",
    "       \n",
    "    \n",
    "    if df2_2012['영역분류'][i] == 4:\n",
    "        df2_2012_li4.append(df2_2012['킬로미터당원가'][i])\n",
    "        \n",
    "    \n",
    "    "
   ]
  },
  {
   "cell_type": "code",
   "execution_count": 189,
   "id": "08041a85",
   "metadata": {},
   "outputs": [
    {
     "data": {
      "text/plain": [
       "[622,\n",
       " 479,\n",
       " 554,\n",
       " 503,\n",
       " 503,\n",
       " 523,\n",
       " 523,\n",
       " 563,\n",
       " 563,\n",
       " 563,\n",
       " 563,\n",
       " 563,\n",
       " 563,\n",
       " 602,\n",
       " 602,\n",
       " 602,\n",
       " 602,\n",
       " 602,\n",
       " 602,\n",
       " 602,\n",
       " 602,\n",
       " 602,\n",
       " 602,\n",
       " 602,\n",
       " 695,\n",
       " 695,\n",
       " 563,\n",
       " 602,\n",
       " 602,\n",
       " 602,\n",
       " 602,\n",
       " 602,\n",
       " 602,\n",
       " 602,\n",
       " 602,\n",
       " 602,\n",
       " 602,\n",
       " 602,\n",
       " 695,\n",
       " 695,\n",
       " 695,\n",
       " 564,\n",
       " 564,\n",
       " 554,\n",
       " 554,\n",
       " 554,\n",
       " 564,\n",
       " 564,\n",
       " 554,\n",
       " 554,\n",
       " 554,\n",
       " 554,\n",
       " 503,\n",
       " 503,\n",
       " 523,\n",
       " 523,\n",
       " 563,\n",
       " 563,\n",
       " 563,\n",
       " 563,\n",
       " 563,\n",
       " 564,\n",
       " 564,\n",
       " 554,\n",
       " 554,\n",
       " 554,\n",
       " 554,\n",
       " 503,\n",
       " 503,\n",
       " 523,\n",
       " 523,\n",
       " 563,\n",
       " 563,\n",
       " 563,\n",
       " 563,\n",
       " 563,\n",
       " 563,\n",
       " 602,\n",
       " 602,\n",
       " 602,\n",
       " 602,\n",
       " 602,\n",
       " 602,\n",
       " 602,\n",
       " 602,\n",
       " 602,\n",
       " 602,\n",
       " 602,\n",
       " 695,\n",
       " 695,\n",
       " 695,\n",
       " 695,\n",
       " 479,\n",
       " 491,\n",
       " 491,\n",
       " 491,\n",
       " 496,\n",
       " 430,\n",
       " 430,\n",
       " 489,\n",
       " 489,\n",
       " 505,\n",
       " 505,\n",
       " 505,\n",
       " 505,\n",
       " 505,\n",
       " 505,\n",
       " 547,\n",
       " 547,\n",
       " 547,\n",
       " 547,\n",
       " 547,\n",
       " 547,\n",
       " 547,\n",
       " 547,\n",
       " 547,\n",
       " 547,\n",
       " 547,\n",
       " 622,\n",
       " 622]"
      ]
     },
     "execution_count": 189,
     "metadata": {},
     "output_type": "execute_result"
    }
   ],
   "source": [
    "df2_2012_li1"
   ]
  },
  {
   "cell_type": "code",
   "execution_count": 190,
   "id": "b4fa4150",
   "metadata": {},
   "outputs": [],
   "source": [
    "df2_2022_li1 = []\n",
    "df2_2022_li2 = []\n",
    "df2_2022_li3 = []\n",
    "df2_2022_li4 = []\n",
    "\n",
    "\n",
    "for i in range(len(df2_2022.index)):\n",
    "    \n",
    "    if df2_2022['영역분류'][i] == 1:\n",
    "        df2_2022_li1.append(df2_2022['킬로미터당원가'][i])\n",
    "        \n",
    "    \n",
    "    if df2_2022['영역분류'][i] == 2:\n",
    "        df2_2022_li2.append(df2_2022['킬로미터당원가'][i])\n",
    "     \n",
    "    \n",
    "    if df2_2022['영역분류'][i] == 3:\n",
    "        df2_2022_li3.append(df2_2022['킬로미터당원가'][i])\n",
    "       \n",
    "    \n",
    "    if df2_2022['영역분류'][i] == 4:\n",
    "        df2_2022_li4.append(df2_2022['킬로미터당원가'][i])\n",
    "        \n",
    "    \n"
   ]
  },
  {
   "cell_type": "code",
   "execution_count": 197,
   "id": "edd1dc75",
   "metadata": {},
   "outputs": [
    {
     "name": "stdout",
     "output_type": "stream",
     "text": [
      "121 567.675\n",
      "122 545.1\n",
      "123 nan\n",
      "124 355.0\n",
      "221 387.6666666666667\n",
      "222 291.94736842105266\n",
      "223 nan\n",
      "224 266.53333333333336\n"
     ]
    }
   ],
   "source": [
    "import numpy as np\n",
    "\n",
    "print('121',np.mean(np.array(df2_2012_li1)))\n",
    "print('122',np.mean(np.array(df2_2012_li2)))\n",
    "print('123',np.mean(np.array(df2_2012_li3)))\n",
    "print('124',np.mean(np.array(df2_2012_li4)))\n",
    "\n",
    "print('221',np.mean(np.array(df2_2022_li1)))\n",
    "print('222',np.mean(np.array(df2_2022_li2)))\n",
    "print('223',np.mean(np.array(df2_2022_li3)))\n",
    "print('224',np.mean(np.array(df2_2022_li4)))\n",
    "\n",
    "\n"
   ]
  },
  {
   "cell_type": "markdown",
   "id": "5e02c29e",
   "metadata": {},
   "source": [
    "* 킬로미터당 원가가 가장 높은 영역은 2012년의 1영역.\n",
    "* 킬로미터당 원가가 가장 낮은 영역은 2022년의 4영역이다.\n",
    "\n",
    "* 3영역은 리스트 상에는 존재했었으나, 실질적으로는 해당하는 값이 없었던 모양이다.\n",
    "\n",
    "* 마스킹 시 하나 True 로 해놓고.. 하나는 마이너스로 넣으면 False 값만 갖고온다."
   ]
  },
  {
   "cell_type": "code",
   "execution_count": 193,
   "id": "0dd36646",
   "metadata": {},
   "outputs": [],
   "source": [
    "# 2010, 2012년도에서 30, 7 관할행정구역에서의 킬로미터당원가 차이를 보이는지 확인"
   ]
  },
  {
   "cell_type": "code",
   "execution_count": 198,
   "id": "f6b54e05",
   "metadata": {},
   "outputs": [
    {
     "data": {
      "text/html": [
       "<div>\n",
       "<style scoped>\n",
       "    .dataframe tbody tr th:only-of-type {\n",
       "        vertical-align: middle;\n",
       "    }\n",
       "\n",
       "    .dataframe tbody tr th {\n",
       "        vertical-align: top;\n",
       "    }\n",
       "\n",
       "    .dataframe thead th {\n",
       "        text-align: right;\n",
       "    }\n",
       "</style>\n",
       "<table border=\"1\" class=\"dataframe\">\n",
       "  <thead>\n",
       "    <tr style=\"text-align: right;\">\n",
       "      <th></th>\n",
       "      <th>연번</th>\n",
       "      <th>업체아이디</th>\n",
       "      <th>킬로미터당원가</th>\n",
       "      <th>관할행정아이디</th>\n",
       "      <th>입력일자</th>\n",
       "      <th>최종처리자아이디</th>\n",
       "      <th>수정일자</th>\n",
       "      <th>영역분류</th>\n",
       "      <th>일일대당원가</th>\n",
       "      <th>평가연도</th>\n",
       "      <th>평가차수</th>\n",
       "    </tr>\n",
       "  </thead>\n",
       "  <tbody>\n",
       "    <tr>\n",
       "      <th>0</th>\n",
       "      <td>1</td>\n",
       "      <td>1041</td>\n",
       "      <td>622</td>\n",
       "      <td>3.0</td>\n",
       "      <td>2012-07-10</td>\n",
       "      <td>1</td>\n",
       "      <td>2012-07-10</td>\n",
       "      <td>1</td>\n",
       "      <td>307546</td>\n",
       "      <td>2012</td>\n",
       "      <td>19</td>\n",
       "    </tr>\n",
       "    <tr>\n",
       "      <th>1</th>\n",
       "      <td>2</td>\n",
       "      <td>1000</td>\n",
       "      <td>461</td>\n",
       "      <td>30.0</td>\n",
       "      <td>2012-07-10</td>\n",
       "      <td>1</td>\n",
       "      <td>2012-07-10</td>\n",
       "      <td>2</td>\n",
       "      <td>305872</td>\n",
       "      <td>2012</td>\n",
       "      <td>19</td>\n",
       "    </tr>\n",
       "  </tbody>\n",
       "</table>\n",
       "</div>"
      ],
      "text/plain": [
       "   연번  업체아이디  킬로미터당원가  관할행정아이디        입력일자 최종처리자아이디        수정일자  영역분류  일일대당원가  \\\n",
       "0   1   1041      622      3.0  2012-07-10        1  2012-07-10     1  307546   \n",
       "1   2   1000      461     30.0  2012-07-10        1  2012-07-10     2  305872   \n",
       "\n",
       "   평가연도  평가차수  \n",
       "0  2012    19  \n",
       "1  2012    19  "
      ]
     },
     "execution_count": 198,
     "metadata": {},
     "output_type": "execute_result"
    }
   ],
   "source": [
    "df2.head(2)"
   ]
  },
  {
   "cell_type": "code",
   "execution_count": 203,
   "id": "5838692b",
   "metadata": {},
   "outputs": [],
   "source": [
    "m = [True if i == 2010 or i == 2012 else False for i in df2['평가연도']]"
   ]
  },
  {
   "cell_type": "code",
   "execution_count": 204,
   "id": "459d79b2",
   "metadata": {},
   "outputs": [],
   "source": [
    "df_20102012 = df2[m]"
   ]
  },
  {
   "cell_type": "code",
   "execution_count": 214,
   "id": "e908b230",
   "metadata": {},
   "outputs": [],
   "source": [
    "n = [True if i == 30 else False for i in df_20102012['관할행정아이디']]\n",
    "q = [True if i == 7 else False for i in df_20102012['관할행정아이디']]"
   ]
  },
  {
   "cell_type": "code",
   "execution_count": 215,
   "id": "497e5527",
   "metadata": {},
   "outputs": [],
   "source": [
    "df_30 = df_20102012[n]\n",
    "df_7 = df_20102012[q]"
   ]
  },
  {
   "cell_type": "code",
   "execution_count": 228,
   "id": "3ad8efca",
   "metadata": {},
   "outputs": [],
   "source": [
    "df_30 = df_30[df_30['킬로미터당원가'] > 2]"
   ]
  },
  {
   "cell_type": "code",
   "execution_count": 229,
   "id": "ce7761aa",
   "metadata": {},
   "outputs": [],
   "source": [
    "df_7 = df_7[df_7['킬로미터당원가'] > 2]"
   ]
  },
  {
   "cell_type": "code",
   "execution_count": 218,
   "id": "2fe91c5b",
   "metadata": {},
   "outputs": [
    {
     "data": {
      "text/plain": [
       "1       461\n",
       "2       511\n",
       "3       494\n",
       "4       374\n",
       "5       535\n",
       "       ... \n",
       "3216    576\n",
       "3217    418\n",
       "3218    623\n",
       "3219    625\n",
       "3220    568\n",
       "Name: 킬로미터당원가, Length: 247, dtype: int64"
      ]
     },
     "execution_count": 218,
     "metadata": {},
     "output_type": "execute_result"
    }
   ],
   "source": [
    "df_30['킬로미터당원가']"
   ]
  },
  {
   "cell_type": "code",
   "execution_count": 230,
   "id": "517f687a",
   "metadata": {},
   "outputs": [
    {
     "data": {
      "text/plain": [
       "KstestResult(statistic=0.43, pvalue=0.001564944840231729)"
      ]
     },
     "execution_count": 230,
     "metadata": {},
     "output_type": "execute_result"
    }
   ],
   "source": [
    "ks_2samp(df_30['킬로미터당원가'], df_7['킬로미터당원가'])"
   ]
  },
  {
   "cell_type": "code",
   "execution_count": 231,
   "id": "2b18fdf2",
   "metadata": {},
   "outputs": [
    {
     "data": {
      "text/plain": [
       "Ttest_indResult(statistic=-1.1474910377308585, pvalue=0.2524364738556644)"
      ]
     },
     "execution_count": 231,
     "metadata": {},
     "output_type": "execute_result"
    }
   ],
   "source": [
    "stats.ttest_ind(df_30['킬로미터당원가'], df_7['킬로미터당원가'], equal_var = True)"
   ]
  },
  {
   "cell_type": "code",
   "execution_count": 224,
   "id": "33cc5680",
   "metadata": {},
   "outputs": [],
   "source": [
    "# 2010, 2012년도에서 30, 7 관할행정구역에서의 킬로미터당원가의 유의미한 차이는 없다."
   ]
  },
  {
   "cell_type": "code",
   "execution_count": null,
   "id": "008ddc6f",
   "metadata": {},
   "outputs": [],
   "source": []
  },
  {
   "cell_type": "markdown",
   "id": "3a8136a2",
   "metadata": {},
   "source": [
    "## 과제 - 서울교통공사 자료 \n",
    "\n",
    "1. 1, 2호선 각각에서 상 / 하반기의 승하차인원수 차이가 나는지 확인해보기\n",
    "1. 서울역, 강남역 간의 승하차인원수 차이가 나는지 확인해보기"
   ]
  },
  {
   "cell_type": "code",
   "execution_count": 232,
   "id": "2f18413c",
   "metadata": {},
   "outputs": [],
   "source": [
    "df3 = pd.read_csv('C:/Users/user/Desktop/lecfile/nov/221117/서울교통공사_역별 월별 노인 승하차인원 정보_20220831.csv', encoding = 'cp949')"
   ]
  },
  {
   "cell_type": "code",
   "execution_count": 237,
   "id": "378649ef",
   "metadata": {},
   "outputs": [
    {
     "data": {
      "text/plain": [
       "array(['2022-01', '2022-02', '2022-03', '2022-04', '2022-05', '2022-06',\n",
       "       '2022-07', '2022-08'], dtype=object)"
      ]
     },
     "execution_count": 237,
     "metadata": {},
     "output_type": "execute_result"
    }
   ],
   "source": [
    "df3['수송연월'].unique()"
   ]
  },
  {
   "cell_type": "code",
   "execution_count": 238,
   "id": "a0d4a9f6",
   "metadata": {},
   "outputs": [
    {
     "data": {
      "text/plain": [
       "array([118173, 111415,  47686, ...,  33684,  20016,  20257], dtype=int64)"
      ]
     },
     "execution_count": 238,
     "metadata": {},
     "output_type": "execute_result"
    }
   ],
   "source": [
    "# 어쨌든 플로트는 없는걸 보니..\n",
    "df3['승하차인원수'].unique()"
   ]
  },
  {
   "cell_type": "code",
   "execution_count": 235,
   "id": "2466577b",
   "metadata": {},
   "outputs": [],
   "source": [
    "df3_1 = df3[df3['호선'] == 1]\n",
    "df3_2 = df3[df3['호선'] == 2]"
   ]
  },
  {
   "cell_type": "code",
   "execution_count": 245,
   "id": "e8475e8f",
   "metadata": {},
   "outputs": [],
   "source": [
    "df3_1 = df3_1.reset_index(drop=True)\n",
    "df3_2 = df3_2.reset_index(drop=True)"
   ]
  },
  {
   "cell_type": "code",
   "execution_count": 246,
   "id": "65a44a1f",
   "metadata": {
    "scrolled": true
   },
   "outputs": [
    {
     "data": {
      "text/html": [
       "<div>\n",
       "<style scoped>\n",
       "    .dataframe tbody tr th:only-of-type {\n",
       "        vertical-align: middle;\n",
       "    }\n",
       "\n",
       "    .dataframe tbody tr th {\n",
       "        vertical-align: top;\n",
       "    }\n",
       "\n",
       "    .dataframe thead th {\n",
       "        text-align: right;\n",
       "    }\n",
       "</style>\n",
       "<table border=\"1\" class=\"dataframe\">\n",
       "  <thead>\n",
       "    <tr style=\"text-align: right;\">\n",
       "      <th></th>\n",
       "      <th>연번</th>\n",
       "      <th>호선</th>\n",
       "      <th>고유역번호(외부역코드)</th>\n",
       "      <th>역명</th>\n",
       "      <th>승하차구분</th>\n",
       "      <th>수송연월</th>\n",
       "      <th>승하차인원수</th>\n",
       "    </tr>\n",
       "  </thead>\n",
       "  <tbody>\n",
       "    <tr>\n",
       "      <th>0</th>\n",
       "      <td>1</td>\n",
       "      <td>1</td>\n",
       "      <td>150</td>\n",
       "      <td>서울역</td>\n",
       "      <td>승차</td>\n",
       "      <td>2022-01</td>\n",
       "      <td>118173</td>\n",
       "    </tr>\n",
       "    <tr>\n",
       "      <th>1</th>\n",
       "      <td>2</td>\n",
       "      <td>1</td>\n",
       "      <td>150</td>\n",
       "      <td>서울역</td>\n",
       "      <td>하차</td>\n",
       "      <td>2022-01</td>\n",
       "      <td>111415</td>\n",
       "    </tr>\n",
       "    <tr>\n",
       "      <th>2</th>\n",
       "      <td>3</td>\n",
       "      <td>1</td>\n",
       "      <td>151</td>\n",
       "      <td>시청</td>\n",
       "      <td>승차</td>\n",
       "      <td>2022-01</td>\n",
       "      <td>47686</td>\n",
       "    </tr>\n",
       "    <tr>\n",
       "      <th>3</th>\n",
       "      <td>4</td>\n",
       "      <td>1</td>\n",
       "      <td>151</td>\n",
       "      <td>시청</td>\n",
       "      <td>하차</td>\n",
       "      <td>2022-01</td>\n",
       "      <td>46713</td>\n",
       "    </tr>\n",
       "    <tr>\n",
       "      <th>4</th>\n",
       "      <td>5</td>\n",
       "      <td>1</td>\n",
       "      <td>152</td>\n",
       "      <td>종각</td>\n",
       "      <td>승차</td>\n",
       "      <td>2022-01</td>\n",
       "      <td>87092</td>\n",
       "    </tr>\n",
       "    <tr>\n",
       "      <th>...</th>\n",
       "      <td>...</td>\n",
       "      <td>...</td>\n",
       "      <td>...</td>\n",
       "      <td>...</td>\n",
       "      <td>...</td>\n",
       "      <td>...</td>\n",
       "      <td>...</td>\n",
       "    </tr>\n",
       "    <tr>\n",
       "      <th>155</th>\n",
       "      <td>3824</td>\n",
       "      <td>1</td>\n",
       "      <td>157</td>\n",
       "      <td>제기동</td>\n",
       "      <td>하차</td>\n",
       "      <td>2022-08</td>\n",
       "      <td>253190</td>\n",
       "    </tr>\n",
       "    <tr>\n",
       "      <th>156</th>\n",
       "      <td>3825</td>\n",
       "      <td>1</td>\n",
       "      <td>158</td>\n",
       "      <td>청량리(서울시립대입구)</td>\n",
       "      <td>승차</td>\n",
       "      <td>2022-08</td>\n",
       "      <td>214358</td>\n",
       "    </tr>\n",
       "    <tr>\n",
       "      <th>157</th>\n",
       "      <td>3826</td>\n",
       "      <td>1</td>\n",
       "      <td>158</td>\n",
       "      <td>청량리(서울시립대입구)</td>\n",
       "      <td>하차</td>\n",
       "      <td>2022-08</td>\n",
       "      <td>218627</td>\n",
       "    </tr>\n",
       "    <tr>\n",
       "      <th>158</th>\n",
       "      <td>3827</td>\n",
       "      <td>1</td>\n",
       "      <td>159</td>\n",
       "      <td>동묘앞</td>\n",
       "      <td>승차</td>\n",
       "      <td>2022-08</td>\n",
       "      <td>111819</td>\n",
       "    </tr>\n",
       "    <tr>\n",
       "      <th>159</th>\n",
       "      <td>3828</td>\n",
       "      <td>1</td>\n",
       "      <td>159</td>\n",
       "      <td>동묘앞</td>\n",
       "      <td>하차</td>\n",
       "      <td>2022-08</td>\n",
       "      <td>113356</td>\n",
       "    </tr>\n",
       "  </tbody>\n",
       "</table>\n",
       "<p>160 rows × 7 columns</p>\n",
       "</div>"
      ],
      "text/plain": [
       "       연번  호선  고유역번호(외부역코드)            역명 승하차구분     수송연월  승하차인원수\n",
       "0       1   1           150           서울역    승차  2022-01  118173\n",
       "1       2   1           150           서울역    하차  2022-01  111415\n",
       "2       3   1           151            시청    승차  2022-01   47686\n",
       "3       4   1           151            시청    하차  2022-01   46713\n",
       "4       5   1           152            종각    승차  2022-01   87092\n",
       "..    ...  ..           ...           ...   ...      ...     ...\n",
       "155  3824   1           157           제기동    하차  2022-08  253190\n",
       "156  3825   1           158  청량리(서울시립대입구)    승차  2022-08  214358\n",
       "157  3826   1           158  청량리(서울시립대입구)    하차  2022-08  218627\n",
       "158  3827   1           159           동묘앞    승차  2022-08  111819\n",
       "159  3828   1           159           동묘앞    하차  2022-08  113356\n",
       "\n",
       "[160 rows x 7 columns]"
      ]
     },
     "execution_count": 246,
     "metadata": {},
     "output_type": "execute_result"
    }
   ],
   "source": [
    "df3_1"
   ]
  },
  {
   "cell_type": "markdown",
   "id": "ef895f57",
   "metadata": {},
   "source": [
    "* 1월부터 8월까지 있다\n",
    "* 1월부터 6월은 상반기, 7월과 8월은 하반기이다.\n",
    "* 그러면 월이 상반기이면 ..? 뭐"
   ]
  },
  {
   "cell_type": "code",
   "execution_count": 254,
   "id": "2cae8c08",
   "metadata": {},
   "outputs": [],
   "source": [
    "m = [True if 1 <= int(df3_1['수송연월'][i].split('-')[1]) <= 6 else False for i in range(len(df3_1))]\n",
    "n = [True if  int(df3_1['수송연월'][i].split('-')[1]) > 6 else False for i in range(len(df3_1))]"
   ]
  },
  {
   "cell_type": "code",
   "execution_count": 249,
   "id": "cc731da4",
   "metadata": {
    "scrolled": true
   },
   "outputs": [
    {
     "data": {
      "text/html": [
       "<div>\n",
       "<style scoped>\n",
       "    .dataframe tbody tr th:only-of-type {\n",
       "        vertical-align: middle;\n",
       "    }\n",
       "\n",
       "    .dataframe tbody tr th {\n",
       "        vertical-align: top;\n",
       "    }\n",
       "\n",
       "    .dataframe thead th {\n",
       "        text-align: right;\n",
       "    }\n",
       "</style>\n",
       "<table border=\"1\" class=\"dataframe\">\n",
       "  <thead>\n",
       "    <tr style=\"text-align: right;\">\n",
       "      <th></th>\n",
       "      <th>연번</th>\n",
       "      <th>호선</th>\n",
       "      <th>고유역번호(외부역코드)</th>\n",
       "      <th>역명</th>\n",
       "      <th>승하차구분</th>\n",
       "      <th>수송연월</th>\n",
       "      <th>승하차인원수</th>\n",
       "    </tr>\n",
       "  </thead>\n",
       "  <tbody>\n",
       "    <tr>\n",
       "      <th>0</th>\n",
       "      <td>1</td>\n",
       "      <td>1</td>\n",
       "      <td>150</td>\n",
       "      <td>서울역</td>\n",
       "      <td>승차</td>\n",
       "      <td>2022-01</td>\n",
       "      <td>118173</td>\n",
       "    </tr>\n",
       "    <tr>\n",
       "      <th>1</th>\n",
       "      <td>2</td>\n",
       "      <td>1</td>\n",
       "      <td>150</td>\n",
       "      <td>서울역</td>\n",
       "      <td>하차</td>\n",
       "      <td>2022-01</td>\n",
       "      <td>111415</td>\n",
       "    </tr>\n",
       "    <tr>\n",
       "      <th>2</th>\n",
       "      <td>3</td>\n",
       "      <td>1</td>\n",
       "      <td>151</td>\n",
       "      <td>시청</td>\n",
       "      <td>승차</td>\n",
       "      <td>2022-01</td>\n",
       "      <td>47686</td>\n",
       "    </tr>\n",
       "    <tr>\n",
       "      <th>3</th>\n",
       "      <td>4</td>\n",
       "      <td>1</td>\n",
       "      <td>151</td>\n",
       "      <td>시청</td>\n",
       "      <td>하차</td>\n",
       "      <td>2022-01</td>\n",
       "      <td>46713</td>\n",
       "    </tr>\n",
       "    <tr>\n",
       "      <th>4</th>\n",
       "      <td>5</td>\n",
       "      <td>1</td>\n",
       "      <td>152</td>\n",
       "      <td>종각</td>\n",
       "      <td>승차</td>\n",
       "      <td>2022-01</td>\n",
       "      <td>87092</td>\n",
       "    </tr>\n",
       "    <tr>\n",
       "      <th>...</th>\n",
       "      <td>...</td>\n",
       "      <td>...</td>\n",
       "      <td>...</td>\n",
       "      <td>...</td>\n",
       "      <td>...</td>\n",
       "      <td>...</td>\n",
       "      <td>...</td>\n",
       "    </tr>\n",
       "    <tr>\n",
       "      <th>115</th>\n",
       "      <td>2736</td>\n",
       "      <td>1</td>\n",
       "      <td>157</td>\n",
       "      <td>제기동</td>\n",
       "      <td>하차</td>\n",
       "      <td>2022-06</td>\n",
       "      <td>252785</td>\n",
       "    </tr>\n",
       "    <tr>\n",
       "      <th>116</th>\n",
       "      <td>2737</td>\n",
       "      <td>1</td>\n",
       "      <td>158</td>\n",
       "      <td>청량리(서울시립대입구)</td>\n",
       "      <td>승차</td>\n",
       "      <td>2022-06</td>\n",
       "      <td>213706</td>\n",
       "    </tr>\n",
       "    <tr>\n",
       "      <th>117</th>\n",
       "      <td>2738</td>\n",
       "      <td>1</td>\n",
       "      <td>158</td>\n",
       "      <td>청량리(서울시립대입구)</td>\n",
       "      <td>하차</td>\n",
       "      <td>2022-06</td>\n",
       "      <td>217886</td>\n",
       "    </tr>\n",
       "    <tr>\n",
       "      <th>118</th>\n",
       "      <td>2739</td>\n",
       "      <td>1</td>\n",
       "      <td>159</td>\n",
       "      <td>동묘앞</td>\n",
       "      <td>승차</td>\n",
       "      <td>2022-06</td>\n",
       "      <td>123671</td>\n",
       "    </tr>\n",
       "    <tr>\n",
       "      <th>119</th>\n",
       "      <td>2740</td>\n",
       "      <td>1</td>\n",
       "      <td>159</td>\n",
       "      <td>동묘앞</td>\n",
       "      <td>하차</td>\n",
       "      <td>2022-06</td>\n",
       "      <td>125099</td>\n",
       "    </tr>\n",
       "  </tbody>\n",
       "</table>\n",
       "<p>120 rows × 7 columns</p>\n",
       "</div>"
      ],
      "text/plain": [
       "       연번  호선  고유역번호(외부역코드)            역명 승하차구분     수송연월  승하차인원수\n",
       "0       1   1           150           서울역    승차  2022-01  118173\n",
       "1       2   1           150           서울역    하차  2022-01  111415\n",
       "2       3   1           151            시청    승차  2022-01   47686\n",
       "3       4   1           151            시청    하차  2022-01   46713\n",
       "4       5   1           152            종각    승차  2022-01   87092\n",
       "..    ...  ..           ...           ...   ...      ...     ...\n",
       "115  2736   1           157           제기동    하차  2022-06  252785\n",
       "116  2737   1           158  청량리(서울시립대입구)    승차  2022-06  213706\n",
       "117  2738   1           158  청량리(서울시립대입구)    하차  2022-06  217886\n",
       "118  2739   1           159           동묘앞    승차  2022-06  123671\n",
       "119  2740   1           159           동묘앞    하차  2022-06  125099\n",
       "\n",
       "[120 rows x 7 columns]"
      ]
     },
     "execution_count": 249,
     "metadata": {},
     "output_type": "execute_result"
    }
   ],
   "source": [
    "df3_1[m] # 1호선 상반기\n",
    "df3_1[-m] # 1호선 하반기 << 이거 안돼!!!"
   ]
  },
  {
   "cell_type": "code",
   "execution_count": 272,
   "id": "92b8a3ad",
   "metadata": {},
   "outputs": [
    {
     "ename": "TypeError",
     "evalue": "bad operand type for unary -: 'list'",
     "output_type": "error",
     "traceback": [
      "\u001b[1;31m---------------------------------------------------------------------------\u001b[0m",
      "\u001b[1;31mTypeError\u001b[0m                                 Traceback (most recent call last)",
      "\u001b[1;32m~\\AppData\\Local\\Temp\\ipykernel_22232\\478691721.py\u001b[0m in \u001b[0;36m<module>\u001b[1;34m\u001b[0m\n\u001b[1;32m----> 1\u001b[1;33m \u001b[0mdf3_1\u001b[0m\u001b[1;33m[\u001b[0m\u001b[1;33m-\u001b[0m\u001b[0mm\u001b[0m\u001b[1;33m]\u001b[0m\u001b[1;33m\u001b[0m\u001b[1;33m\u001b[0m\u001b[0m\n\u001b[0m",
      "\u001b[1;31mTypeError\u001b[0m: bad operand type for unary -: 'list'"
     ]
    }
   ],
   "source": [
    "df3_1[-m]"
   ]
  },
  {
   "cell_type": "code",
   "execution_count": 255,
   "id": "5ad57b75",
   "metadata": {},
   "outputs": [
    {
     "data": {
      "text/plain": [
       "KstestResult(statistic=0.15, pvalue=0.4888288505602718)"
      ]
     },
     "execution_count": 255,
     "metadata": {},
     "output_type": "execute_result"
    }
   ],
   "source": [
    "ks_2samp(df3_1[m]['승하차인원수'],df3_1[n]['승하차인원수'])"
   ]
  },
  {
   "cell_type": "markdown",
   "id": "176ce405",
   "metadata": {},
   "source": [
    "* 두 집단은 같은 모집단에서 나오지 않은 듯한 모습을 보인다... 그런데 실제로는 같은 곳에서 나온 것이 아닌가?"
   ]
  },
  {
   "cell_type": "code",
   "execution_count": 257,
   "id": "819695b7",
   "metadata": {},
   "outputs": [
    {
     "data": {
      "text/plain": [
       "Ttest_indResult(statistic=-0.8620773802897926, pvalue=0.38995145742612025)"
      ]
     },
     "execution_count": 257,
     "metadata": {},
     "output_type": "execute_result"
    }
   ],
   "source": [
    "stats.ttest_ind(df3_1[m]['승하차인원수'],df3_1[n]['승하차인원수'], equal_var = True)"
   ]
  },
  {
   "cell_type": "code",
   "execution_count": 258,
   "id": "2f2d875b",
   "metadata": {},
   "outputs": [
    {
     "data": {
      "text/plain": [
       "Ttest_indResult(statistic=-0.8588792552984819, pvalue=0.3934936535026049)"
      ]
     },
     "execution_count": 258,
     "metadata": {},
     "output_type": "execute_result"
    }
   ],
   "source": [
    "stats.ttest_ind(df3_1[m]['승하차인원수'],df3_1[n]['승하차인원수'], equal_var = False)"
   ]
  },
  {
   "cell_type": "markdown",
   "id": "be7811b7",
   "metadata": {},
   "source": [
    "* 어찌되었건간에, 1호선 상하반기에서 두 집단 간 유의미한 차이는 없다."
   ]
  },
  {
   "cell_type": "code",
   "execution_count": 259,
   "id": "4ea918ab",
   "metadata": {},
   "outputs": [],
   "source": [
    "m =[True if 1 <= int(df3_2['수송연월'][i].split('-')[1]) <= 6 else False for i in range(len(df3_2))]\n",
    "n = [True if  int(df3_2['수송연월'][i].split('-')[1]) > 6 else False for i in range(len(df3_2))]"
   ]
  },
  {
   "cell_type": "code",
   "execution_count": 260,
   "id": "06a96b5c",
   "metadata": {},
   "outputs": [
    {
     "data": {
      "text/plain": [
       "KstestResult(statistic=0.095, pvalue=0.12920745493965882)"
      ]
     },
     "execution_count": 260,
     "metadata": {},
     "output_type": "execute_result"
    }
   ],
   "source": [
    "ks_2samp(df3_2[m]['승하차인원수'],df3_2[n]['승하차인원수'])"
   ]
  },
  {
   "cell_type": "markdown",
   "id": "2b537884",
   "metadata": {},
   "source": [
    "* 두 집단은 같은 모집단에서 나오지 않은 듯한 모습을 보인다.. 그런데.. 뭐"
   ]
  },
  {
   "cell_type": "code",
   "execution_count": 261,
   "id": "5aa9bc74",
   "metadata": {},
   "outputs": [
    {
     "data": {
      "text/plain": [
       "Ttest_indResult(statistic=-1.8458812839325993, pvalue=0.06527966410338527)"
      ]
     },
     "execution_count": 261,
     "metadata": {},
     "output_type": "execute_result"
    }
   ],
   "source": [
    "stats.ttest_ind(df3_2[m]['승하차인원수'],df3_2[n]['승하차인원수'], equal_var = True)"
   ]
  },
  {
   "cell_type": "code",
   "execution_count": 262,
   "id": "cf8b0518",
   "metadata": {},
   "outputs": [
    {
     "data": {
      "text/plain": [
       "Ttest_indResult(statistic=-1.7955611234801898, pvalue=0.07349070725307108)"
      ]
     },
     "execution_count": 262,
     "metadata": {},
     "output_type": "execute_result"
    }
   ],
   "source": [
    "stats.ttest_ind(df3_2[m]['승하차인원수'],df3_2[n]['승하차인원수'], equal_var = False)"
   ]
  },
  {
   "cell_type": "markdown",
   "id": "8b6a2439",
   "metadata": {},
   "source": [
    "* 어찌되었건간에, 2호선 상하반기에서 두 집단 간 유의미한 차이는 없다.\n",
    "\n",
    "* 어라... 잘못알아들었는데?"
   ]
  },
  {
   "cell_type": "code",
   "execution_count": 273,
   "id": "0c4a6207",
   "metadata": {},
   "outputs": [
    {
     "ename": "ValueError",
     "evalue": "Item wrong length 800 instead of 160.",
     "output_type": "error",
     "traceback": [
      "\u001b[1;31m---------------------------------------------------------------------------\u001b[0m",
      "\u001b[1;31mValueError\u001b[0m                                Traceback (most recent call last)",
      "\u001b[1;32m~\\AppData\\Local\\Temp\\ipykernel_22232\\2585096043.py\u001b[0m in \u001b[0;36m<module>\u001b[1;34m\u001b[0m\n\u001b[1;32m----> 1\u001b[1;33m \u001b[0mks_2samp\u001b[0m\u001b[1;33m(\u001b[0m\u001b[0mdf3_1\u001b[0m\u001b[1;33m[\u001b[0m\u001b[0mm\u001b[0m\u001b[1;33m]\u001b[0m\u001b[1;33m[\u001b[0m\u001b[1;34m'승하차인원수'\u001b[0m\u001b[1;33m]\u001b[0m\u001b[1;33m,\u001b[0m\u001b[0mdf3_2\u001b[0m\u001b[1;33m[\u001b[0m\u001b[0mm\u001b[0m\u001b[1;33m]\u001b[0m\u001b[1;33m[\u001b[0m\u001b[1;34m'승하차인원수'\u001b[0m\u001b[1;33m]\u001b[0m\u001b[1;33m)\u001b[0m\u001b[1;33m\u001b[0m\u001b[1;33m\u001b[0m\u001b[0m\n\u001b[0m",
      "\u001b[1;32mC:\\ProgramData\\Anaconda3\\lib\\site-packages\\pandas\\core\\frame.py\u001b[0m in \u001b[0;36m__getitem__\u001b[1;34m(self, key)\u001b[0m\n\u001b[0;32m   3494\u001b[0m         \u001b[1;31m# Do we have a (boolean) 1d indexer?\u001b[0m\u001b[1;33m\u001b[0m\u001b[1;33m\u001b[0m\u001b[0m\n\u001b[0;32m   3495\u001b[0m         \u001b[1;32mif\u001b[0m \u001b[0mcom\u001b[0m\u001b[1;33m.\u001b[0m\u001b[0mis_bool_indexer\u001b[0m\u001b[1;33m(\u001b[0m\u001b[0mkey\u001b[0m\u001b[1;33m)\u001b[0m\u001b[1;33m:\u001b[0m\u001b[1;33m\u001b[0m\u001b[1;33m\u001b[0m\u001b[0m\n\u001b[1;32m-> 3496\u001b[1;33m             \u001b[1;32mreturn\u001b[0m \u001b[0mself\u001b[0m\u001b[1;33m.\u001b[0m\u001b[0m_getitem_bool_array\u001b[0m\u001b[1;33m(\u001b[0m\u001b[0mkey\u001b[0m\u001b[1;33m)\u001b[0m\u001b[1;33m\u001b[0m\u001b[1;33m\u001b[0m\u001b[0m\n\u001b[0m\u001b[0;32m   3497\u001b[0m \u001b[1;33m\u001b[0m\u001b[0m\n\u001b[0;32m   3498\u001b[0m         \u001b[1;31m# We are left with two options: a single key, and a collection of keys,\u001b[0m\u001b[1;33m\u001b[0m\u001b[1;33m\u001b[0m\u001b[0m\n",
      "\u001b[1;32mC:\\ProgramData\\Anaconda3\\lib\\site-packages\\pandas\\core\\frame.py\u001b[0m in \u001b[0;36m_getitem_bool_array\u001b[1;34m(self, key)\u001b[0m\n\u001b[0;32m   3541\u001b[0m             )\n\u001b[0;32m   3542\u001b[0m         \u001b[1;32melif\u001b[0m \u001b[0mlen\u001b[0m\u001b[1;33m(\u001b[0m\u001b[0mkey\u001b[0m\u001b[1;33m)\u001b[0m \u001b[1;33m!=\u001b[0m \u001b[0mlen\u001b[0m\u001b[1;33m(\u001b[0m\u001b[0mself\u001b[0m\u001b[1;33m.\u001b[0m\u001b[0mindex\u001b[0m\u001b[1;33m)\u001b[0m\u001b[1;33m:\u001b[0m\u001b[1;33m\u001b[0m\u001b[1;33m\u001b[0m\u001b[0m\n\u001b[1;32m-> 3543\u001b[1;33m             raise ValueError(\n\u001b[0m\u001b[0;32m   3544\u001b[0m                 \u001b[1;34mf\"Item wrong length {len(key)} instead of {len(self.index)}.\"\u001b[0m\u001b[1;33m\u001b[0m\u001b[1;33m\u001b[0m\u001b[0m\n\u001b[0;32m   3545\u001b[0m             )\n",
      "\u001b[1;31mValueError\u001b[0m: Item wrong length 800 instead of 160."
     ]
    }
   ],
   "source": [
    "ks_2samp(df3_1[m]['승하차인원수'],df3_2[m]['승하차인원수'])"
   ]
  },
  {
   "cell_type": "code",
   "execution_count": null,
   "id": "bdeb8346",
   "metadata": {},
   "outputs": [],
   "source": []
  },
  {
   "cell_type": "code",
   "execution_count": null,
   "id": "33912c0b",
   "metadata": {},
   "outputs": [],
   "source": []
  },
  {
   "cell_type": "code",
   "execution_count": null,
   "id": "52580c8f",
   "metadata": {},
   "outputs": [],
   "source": []
  },
  {
   "cell_type": "code",
   "execution_count": 263,
   "id": "30af67e6",
   "metadata": {},
   "outputs": [
    {
     "data": {
      "text/html": [
       "<div>\n",
       "<style scoped>\n",
       "    .dataframe tbody tr th:only-of-type {\n",
       "        vertical-align: middle;\n",
       "    }\n",
       "\n",
       "    .dataframe tbody tr th {\n",
       "        vertical-align: top;\n",
       "    }\n",
       "\n",
       "    .dataframe thead th {\n",
       "        text-align: right;\n",
       "    }\n",
       "</style>\n",
       "<table border=\"1\" class=\"dataframe\">\n",
       "  <thead>\n",
       "    <tr style=\"text-align: right;\">\n",
       "      <th></th>\n",
       "      <th>연번</th>\n",
       "      <th>호선</th>\n",
       "      <th>고유역번호(외부역코드)</th>\n",
       "      <th>역명</th>\n",
       "      <th>승하차구분</th>\n",
       "      <th>수송연월</th>\n",
       "      <th>승하차인원수</th>\n",
       "    </tr>\n",
       "  </thead>\n",
       "  <tbody>\n",
       "    <tr>\n",
       "      <th>0</th>\n",
       "      <td>21</td>\n",
       "      <td>2</td>\n",
       "      <td>201</td>\n",
       "      <td>시청</td>\n",
       "      <td>승차</td>\n",
       "      <td>2022-01</td>\n",
       "      <td>33502</td>\n",
       "    </tr>\n",
       "    <tr>\n",
       "      <th>1</th>\n",
       "      <td>22</td>\n",
       "      <td>2</td>\n",
       "      <td>201</td>\n",
       "      <td>시청</td>\n",
       "      <td>하차</td>\n",
       "      <td>2022-01</td>\n",
       "      <td>29730</td>\n",
       "    </tr>\n",
       "    <tr>\n",
       "      <th>2</th>\n",
       "      <td>23</td>\n",
       "      <td>2</td>\n",
       "      <td>202</td>\n",
       "      <td>을지로입구</td>\n",
       "      <td>승차</td>\n",
       "      <td>2022-01</td>\n",
       "      <td>63013</td>\n",
       "    </tr>\n",
       "    <tr>\n",
       "      <th>3</th>\n",
       "      <td>24</td>\n",
       "      <td>2</td>\n",
       "      <td>202</td>\n",
       "      <td>을지로입구</td>\n",
       "      <td>하차</td>\n",
       "      <td>2022-01</td>\n",
       "      <td>59047</td>\n",
       "    </tr>\n",
       "    <tr>\n",
       "      <th>4</th>\n",
       "      <td>25</td>\n",
       "      <td>2</td>\n",
       "      <td>203</td>\n",
       "      <td>을지로3가</td>\n",
       "      <td>승차</td>\n",
       "      <td>2022-01</td>\n",
       "      <td>52740</td>\n",
       "    </tr>\n",
       "    <tr>\n",
       "      <th>...</th>\n",
       "      <td>...</td>\n",
       "      <td>...</td>\n",
       "      <td>...</td>\n",
       "      <td>...</td>\n",
       "      <td>...</td>\n",
       "      <td>...</td>\n",
       "      <td>...</td>\n",
       "    </tr>\n",
       "    <tr>\n",
       "      <th>595</th>\n",
       "      <td>2836</td>\n",
       "      <td>2</td>\n",
       "      <td>248</td>\n",
       "      <td>양천구청</td>\n",
       "      <td>하차</td>\n",
       "      <td>2022-06</td>\n",
       "      <td>41280</td>\n",
       "    </tr>\n",
       "    <tr>\n",
       "      <th>596</th>\n",
       "      <td>2837</td>\n",
       "      <td>2</td>\n",
       "      <td>249</td>\n",
       "      <td>신정네거리</td>\n",
       "      <td>승차</td>\n",
       "      <td>2022-06</td>\n",
       "      <td>58154</td>\n",
       "    </tr>\n",
       "    <tr>\n",
       "      <th>597</th>\n",
       "      <td>2838</td>\n",
       "      <td>2</td>\n",
       "      <td>249</td>\n",
       "      <td>신정네거리</td>\n",
       "      <td>하차</td>\n",
       "      <td>2022-06</td>\n",
       "      <td>59151</td>\n",
       "    </tr>\n",
       "    <tr>\n",
       "      <th>598</th>\n",
       "      <td>2839</td>\n",
       "      <td>2</td>\n",
       "      <td>250</td>\n",
       "      <td>용두(동대문구청)</td>\n",
       "      <td>승차</td>\n",
       "      <td>2022-06</td>\n",
       "      <td>18222</td>\n",
       "    </tr>\n",
       "    <tr>\n",
       "      <th>599</th>\n",
       "      <td>2840</td>\n",
       "      <td>2</td>\n",
       "      <td>250</td>\n",
       "      <td>용두(동대문구청)</td>\n",
       "      <td>하차</td>\n",
       "      <td>2022-06</td>\n",
       "      <td>19489</td>\n",
       "    </tr>\n",
       "  </tbody>\n",
       "</table>\n",
       "<p>600 rows × 7 columns</p>\n",
       "</div>"
      ],
      "text/plain": [
       "       연번  호선  고유역번호(외부역코드)         역명 승하차구분     수송연월  승하차인원수\n",
       "0      21   2           201         시청    승차  2022-01   33502\n",
       "1      22   2           201         시청    하차  2022-01   29730\n",
       "2      23   2           202      을지로입구    승차  2022-01   63013\n",
       "3      24   2           202      을지로입구    하차  2022-01   59047\n",
       "4      25   2           203      을지로3가    승차  2022-01   52740\n",
       "..    ...  ..           ...        ...   ...      ...     ...\n",
       "595  2836   2           248       양천구청    하차  2022-06   41280\n",
       "596  2837   2           249      신정네거리    승차  2022-06   58154\n",
       "597  2838   2           249      신정네거리    하차  2022-06   59151\n",
       "598  2839   2           250  용두(동대문구청)    승차  2022-06   18222\n",
       "599  2840   2           250  용두(동대문구청)    하차  2022-06   19489\n",
       "\n",
       "[600 rows x 7 columns]"
      ]
     },
     "execution_count": 263,
     "metadata": {},
     "output_type": "execute_result"
    }
   ],
   "source": []
  },
  {
   "cell_type": "code",
   "execution_count": 264,
   "id": "8b560292",
   "metadata": {},
   "outputs": [],
   "source": [
    "#서울역, 강남역 간의 승하차인원수 차이가 나는지 확인해보기"
   ]
  },
  {
   "cell_type": "code",
   "execution_count": 265,
   "id": "d483a103",
   "metadata": {},
   "outputs": [
    {
     "data": {
      "text/html": [
       "<div>\n",
       "<style scoped>\n",
       "    .dataframe tbody tr th:only-of-type {\n",
       "        vertical-align: middle;\n",
       "    }\n",
       "\n",
       "    .dataframe tbody tr th {\n",
       "        vertical-align: top;\n",
       "    }\n",
       "\n",
       "    .dataframe thead th {\n",
       "        text-align: right;\n",
       "    }\n",
       "</style>\n",
       "<table border=\"1\" class=\"dataframe\">\n",
       "  <thead>\n",
       "    <tr style=\"text-align: right;\">\n",
       "      <th></th>\n",
       "      <th>연번</th>\n",
       "      <th>호선</th>\n",
       "      <th>고유역번호(외부역코드)</th>\n",
       "      <th>역명</th>\n",
       "      <th>승하차구분</th>\n",
       "      <th>수송연월</th>\n",
       "      <th>승하차인원수</th>\n",
       "    </tr>\n",
       "  </thead>\n",
       "  <tbody>\n",
       "    <tr>\n",
       "      <th>0</th>\n",
       "      <td>1</td>\n",
       "      <td>1</td>\n",
       "      <td>150</td>\n",
       "      <td>서울역</td>\n",
       "      <td>승차</td>\n",
       "      <td>2022-01</td>\n",
       "      <td>118173</td>\n",
       "    </tr>\n",
       "    <tr>\n",
       "      <th>1</th>\n",
       "      <td>2</td>\n",
       "      <td>1</td>\n",
       "      <td>150</td>\n",
       "      <td>서울역</td>\n",
       "      <td>하차</td>\n",
       "      <td>2022-01</td>\n",
       "      <td>111415</td>\n",
       "    </tr>\n",
       "    <tr>\n",
       "      <th>2</th>\n",
       "      <td>3</td>\n",
       "      <td>1</td>\n",
       "      <td>151</td>\n",
       "      <td>시청</td>\n",
       "      <td>승차</td>\n",
       "      <td>2022-01</td>\n",
       "      <td>47686</td>\n",
       "    </tr>\n",
       "    <tr>\n",
       "      <th>3</th>\n",
       "      <td>4</td>\n",
       "      <td>1</td>\n",
       "      <td>151</td>\n",
       "      <td>시청</td>\n",
       "      <td>하차</td>\n",
       "      <td>2022-01</td>\n",
       "      <td>46713</td>\n",
       "    </tr>\n",
       "    <tr>\n",
       "      <th>4</th>\n",
       "      <td>5</td>\n",
       "      <td>1</td>\n",
       "      <td>152</td>\n",
       "      <td>종각</td>\n",
       "      <td>승차</td>\n",
       "      <td>2022-01</td>\n",
       "      <td>87092</td>\n",
       "    </tr>\n",
       "    <tr>\n",
       "      <th>...</th>\n",
       "      <td>...</td>\n",
       "      <td>...</td>\n",
       "      <td>...</td>\n",
       "      <td>...</td>\n",
       "      <td>...</td>\n",
       "      <td>...</td>\n",
       "      <td>...</td>\n",
       "    </tr>\n",
       "    <tr>\n",
       "      <th>4347</th>\n",
       "      <td>4348</td>\n",
       "      <td>8</td>\n",
       "      <td>2826</td>\n",
       "      <td>수진</td>\n",
       "      <td>하차</td>\n",
       "      <td>2022-08</td>\n",
       "      <td>35429</td>\n",
       "    </tr>\n",
       "    <tr>\n",
       "      <th>4348</th>\n",
       "      <td>4349</td>\n",
       "      <td>8</td>\n",
       "      <td>2827</td>\n",
       "      <td>모란</td>\n",
       "      <td>승차</td>\n",
       "      <td>2022-08</td>\n",
       "      <td>42817</td>\n",
       "    </tr>\n",
       "    <tr>\n",
       "      <th>4349</th>\n",
       "      <td>4350</td>\n",
       "      <td>8</td>\n",
       "      <td>2827</td>\n",
       "      <td>모란</td>\n",
       "      <td>하차</td>\n",
       "      <td>2022-08</td>\n",
       "      <td>33684</td>\n",
       "    </tr>\n",
       "    <tr>\n",
       "      <th>4350</th>\n",
       "      <td>4351</td>\n",
       "      <td>8</td>\n",
       "      <td>2828</td>\n",
       "      <td>남위례</td>\n",
       "      <td>승차</td>\n",
       "      <td>2022-08</td>\n",
       "      <td>20016</td>\n",
       "    </tr>\n",
       "    <tr>\n",
       "      <th>4351</th>\n",
       "      <td>4352</td>\n",
       "      <td>8</td>\n",
       "      <td>2828</td>\n",
       "      <td>남위례</td>\n",
       "      <td>하차</td>\n",
       "      <td>2022-08</td>\n",
       "      <td>20257</td>\n",
       "    </tr>\n",
       "  </tbody>\n",
       "</table>\n",
       "<p>4352 rows × 7 columns</p>\n",
       "</div>"
      ],
      "text/plain": [
       "        연번  호선  고유역번호(외부역코드)   역명 승하차구분     수송연월  승하차인원수\n",
       "0        1   1           150  서울역    승차  2022-01  118173\n",
       "1        2   1           150  서울역    하차  2022-01  111415\n",
       "2        3   1           151   시청    승차  2022-01   47686\n",
       "3        4   1           151   시청    하차  2022-01   46713\n",
       "4        5   1           152   종각    승차  2022-01   87092\n",
       "...    ...  ..           ...  ...   ...      ...     ...\n",
       "4347  4348   8          2826   수진    하차  2022-08   35429\n",
       "4348  4349   8          2827   모란    승차  2022-08   42817\n",
       "4349  4350   8          2827   모란    하차  2022-08   33684\n",
       "4350  4351   8          2828  남위례    승차  2022-08   20016\n",
       "4351  4352   8          2828  남위례    하차  2022-08   20257\n",
       "\n",
       "[4352 rows x 7 columns]"
      ]
     },
     "execution_count": 265,
     "metadata": {},
     "output_type": "execute_result"
    }
   ],
   "source": [
    "df3"
   ]
  },
  {
   "cell_type": "code",
   "execution_count": 267,
   "id": "85c13407",
   "metadata": {},
   "outputs": [],
   "source": [
    "df_서 = df3[df3['역명'] == '서울역']"
   ]
  },
  {
   "cell_type": "code",
   "execution_count": 268,
   "id": "d3f85549",
   "metadata": {},
   "outputs": [],
   "source": [
    "df_강 = df3[df3['역명'] == '강남']"
   ]
  },
  {
   "cell_type": "code",
   "execution_count": 270,
   "id": "d9f94a2a",
   "metadata": {},
   "outputs": [
    {
     "data": {
      "text/plain": [
       "KstestResult(statistic=0.5, pvalue=0.007643004367031386)"
      ]
     },
     "execution_count": 270,
     "metadata": {},
     "output_type": "execute_result"
    }
   ],
   "source": [
    "ks_2samp(df_서['승하차인원수'],df_강['승하차인원수'])"
   ]
  },
  {
   "cell_type": "markdown",
   "id": "9cbcf30f",
   "metadata": {},
   "source": [
    "* 두 집단은 같은 모집단에서 온 것으로 보인다.\n",
    "* 그러면 분산도 같을 것."
   ]
  },
  {
   "cell_type": "code",
   "execution_count": 271,
   "id": "89dbfc1c",
   "metadata": {},
   "outputs": [
    {
     "data": {
      "text/plain": [
       "Ttest_indResult(statistic=-2.4392951234522693, pvalue=0.01863203680121225)"
      ]
     },
     "execution_count": 271,
     "metadata": {},
     "output_type": "execute_result"
    }
   ],
   "source": [
    "stats.ttest_ind(df_서['승하차인원수'],df_강['승하차인원수'], equal_var = True)"
   ]
  },
  {
   "cell_type": "markdown",
   "id": "b7e48920",
   "metadata": {},
   "source": [
    "* 서울역과 강남역에서의 유의미한 차이가 있다!"
   ]
  },
  {
   "cell_type": "code",
   "execution_count": null,
   "id": "3edbed41",
   "metadata": {},
   "outputs": [],
   "source": []
  }
 ],
 "metadata": {
  "kernelspec": {
   "display_name": "Python 3 (ipykernel)",
   "language": "python",
   "name": "python3"
  },
  "language_info": {
   "codemirror_mode": {
    "name": "ipython",
    "version": 3
   },
   "file_extension": ".py",
   "mimetype": "text/x-python",
   "name": "python",
   "nbconvert_exporter": "python",
   "pygments_lexer": "ipython3",
   "version": "3.9.13"
  }
 },
 "nbformat": 4,
 "nbformat_minor": 5
}
